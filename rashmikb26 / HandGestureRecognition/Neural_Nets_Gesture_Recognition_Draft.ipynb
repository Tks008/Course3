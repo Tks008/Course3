{
  "nbformat": 4,
  "nbformat_minor": 0,
  "metadata": {
    "colab": {
      "provenance": [],
      "authorship_tag": "ABX9TyP6TQ8bMftQgr9Ttp1N49Wj",
      "include_colab_link": true
    },
    "kernelspec": {
      "name": "python3",
      "display_name": "Python 3"
    },
    "language_info": {
      "name": "python"
    }
  },
  "cells": [
    {
      "cell_type": "markdown",
      "metadata": {
        "id": "view-in-github",
        "colab_type": "text"
      },
      "source": [
        "<a href=\"https://colab.research.google.com/github/rashmikb26/Course/blob/master/rashmikb26%20/%20HandGestureRecognition/Neural_Nets_Gesture_Recognition_Draft.ipynb\" target=\"_parent\"><img src=\"https://colab.research.google.com/assets/colab-badge.svg\" alt=\"Open In Colab\"/></a>"
      ]
    },
    {
      "cell_type": "code",
      "execution_count": null,
      "metadata": {
        "id": "7E1VMgVUg_56"
      },
      "outputs": [],
      "source": [
        "# Gesture Recognition\n",
        "### In this group project, you are going to build a 3D Conv model that will be able to \n",
        "### predict the 5 gestures correctly. Please import the following libraries to get started."
      ]
    },
    {
      "cell_type": "code",
      "source": [
        "import numpy as np\n",
        "import os\n",
        "from scipy.misc import *  \n",
        "## --imread, imresize\n",
        "import datetime\n",
        "import os"
      ],
      "metadata": {
        "id": "bBN1WYs6jfSk"
      },
      "execution_count": null,
      "outputs": []
    },
    {
      "cell_type": "code",
      "source": [
        "# We set the random seed so that the results don't vary drastically."
      ],
      "metadata": {
        "id": "EnUCyUuIkMae"
      },
      "execution_count": null,
      "outputs": []
    },
    {
      "cell_type": "code",
      "source": [
        "np.random.seed(30)\n",
        "import random as rn\n",
        "rn.seed(30)\n",
        "from keras import backend as K\n",
        "import tensorflow as tf\n",
        "tf.random.set_seed(30)"
      ],
      "metadata": {
        "id": "c-x0caBmkROy"
      },
      "execution_count": null,
      "outputs": []
    }
  ]
}