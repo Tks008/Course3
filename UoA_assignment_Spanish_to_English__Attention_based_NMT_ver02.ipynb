{
  "cells": [
    {
      "cell_type": "markdown",
      "metadata": {
        "id": "view-in-github",
        "colab_type": "text"
      },
      "source": [
        "<a href=\"https://colab.research.google.com/github/anupam1982-bd/Course/blob/master/UoA_assignment_Spanish_to_English__Attention_based_NMT_ver02.ipynb\" target=\"_parent\"><img src=\"https://colab.research.google.com/assets/colab-badge.svg\" alt=\"Open In Colab\"/></a>"
      ]
    },
    {
      "cell_type": "markdown",
      "source": [
        "**Background:**\n",
        "Due to language barriers, a US-based life insurance company is facing a challenge in communicating with the Spanish-speaking community in Mexico. The locals there need help in understanding English, and the company cannot provide translators for all of them. To overcome this challenge and provide coverage to the locals, the company needs a machine translation model that can accurately translate the application request letter from Spanish to English. \n",
        "\n",
        "**Problem Statement:** Your task is to build an **attention-based sequence-to-sequence model** that can effectively understand the context of Spanish sentences and translate them into clear and coherent English sentences. The company aims to use this model to ensure seamless communication and provide coverage to the Spanish-speaking community in Mexico.\n",
        "\n",
        "\n",
        "**Objectives:**\n",
        "To explore the challenges of working with low-resource languages.\n",
        "Implement an encoder-decoder NMT model with attention.\n",
        "\n",
        "**Terminal Objective:**\n",
        "To build and train an NMT model that can accurately translate Spanish sentences to English and vice versa.\n"
      ],
      "metadata": {
        "id": "sSyIIvg6nqkF"
      }
    },
    {
      "cell_type": "markdown",
      "metadata": {
        "id": "KVHQz0V1gCYw"
      },
      "source": [
        "### **Overall objectives:** \n",
        "The objective of this assignment is to build a Sequence to Sequence model for Spanish to English translation. \n",
        "\n",
        "The code is broken down into several pipelines: \n",
        "* Task 1: Load the data\n",
        "* Task 2: Process the data\n",
        "* Task 3: Build the NMT model\n",
        "* Task 4: Train the NMT model\n",
        "* Task 5: Evaluate the NMT model\n",
        "\n",
        "*Note: the details of each of the above task are elaborated in various parts of this stub code.\n",
        "\n"
      ]
    },
    {
      "cell_type": "markdown",
      "source": [
        "### **How to read this stub code file and solve this assignment**\n",
        "\n",
        "*   All the tasks and details around how to perform them are mentioned in detail in this stub code file. \n",
        "\n",
        "*   You need to go through the instructions mentioned as 'comments' in the stub code file and add a code where there is a **---** given or where it would be mentioned as **'fill this'**. \n",
        "\n",
        "*   To understand the complete flow of that particular section and it's sub-tasks, scroll through the table of contents section in the left tab of this stub code file.\n",
        "\n",
        "*   In case, for any existing part of code, or for something already written, you may or may not modify it, as long as you are serving the purpose of the task required in that section."
      ],
      "metadata": {
        "id": "-Qd-2FX7tUFW"
      }
    },
    {
      "cell_type": "markdown",
      "source": [
        "### **Task 1. Load the data**"
      ],
      "metadata": {
        "id": "EfqShvnGbQ3G"
      }
    },
    {
      "cell_type": "markdown",
      "source": [
        "#### 1.0 Importing Libraries"
      ],
      "metadata": {
        "id": "0rmVOQFibqyc"
      }
    },
    {
      "cell_type": "code",
      "execution_count": 2,
      "metadata": {
        "id": "QOpqRjeimzya"
      },
      "outputs": [],
      "source": [
        "import os,io\n",
        "import re\n",
        "import numpy as np\n",
        "import pandas as pd\n",
        "import matplotlib.pyplot as plt\n",
        "import matplotlib.ticker as ticker\n",
        "import tensorflow as tf"
      ]
    },
    {
      "cell_type": "markdown",
      "source": [
        "#### 1.1 Downloading the dataset\n",
        "\n",
        "The dataset used is a paired corpus of **English-Spanish**, provided by [Anki](https://www.manythings.org/anki/).\n",
        "\n",
        "The code starts by downloading a zip file containing the dataset for English to Spanish translation. The dataset is stored in the `spa-eng` folder and can be found in the file named `spa.txt`.\n",
        "\n",
        "Let's take a look at how the data looks like\n",
        "\n",
        "![Spa-Eng Data Set.png](data:image/png;base64,iVBORw0KGgoAAAANSUhEUgAAAJYAAADVCAYAAAC1zQkgAAAAAXNSR0IArs4c6QAAAARnQU1BAACxjwv8YQUAAAAJcEhZcwAADsMAAA7DAcdvqGQAAA/CSURBVHhe7Z2/TuvMFsX3vQ0vEukIRaJJd54AiSJ0dEdKR0eDUlJQRjR0dJZOR0cKpDwBXRokhI6UF6G6d7Y9tseO7ZmxveN/6ydF38cxDjOT5b1nPCvb//n5+fkfAdAy/9X/BaBVICwgAoQFRICwgAgQFhABwgIiQFhABAgLiABhAREgLCAChAVEgLCACBAWEAHCAiJAWEAEN2Ednun32Rmd6dfv54M+0Gd2dFvS1sPzb9WPW/UbQAqrsMIPYb6mi+0P/fxEr7/0RP3X1iVdr4j2r++UbeqB3l/3RKtr9RtACouDlK/6JZES1csQP4XdLZ0tP2nz9UF3M/1vQ+/TQKiOWLs3CmhF15UfwIGef6dpslcp5vJatX5Pr+9GzCro0+7WaP/v51yEA3WoFNbh3yfR4pySi/0IFtWc1hfbJE1+bT5p2RtxHafD3VuQSYMsqiWl7d9erGkOcTXGY1UYTYajK/t3NMc6vNPrfkVbI6fM7h5UPAjorSdh6zJU1rcWyo4iXSWyUj8vaHOftv/yfkOL/SuZQQ74YxdW8qFc0kt4VW+VcDSHb5Vo8szofKH/tw+E6VALPZ8GD//oU/VgPTdSoVqoHPcJ+FIprNnVDS28o8+Bvnv1yUTpMFCdyKfBCBWxvtIVb/QyJ/ugDtURa3ZHD/yhLHXqy6OjwfI2Vd7udknBYkNGdlFai++DdTP3CtNh8EiPasqYpkHF7IpuFipiPVla1XH7h4g1FV6+8IScjHShhKOPcTR44dQYLPUxNRH+3NDXx13FhL8D9Opwr+aD2RXujO4+vmjzmbY/fGHy3hh8ExqI4LEqBMAdCAuIAGEBESAsIAKEBUSAsIAIEBYQwU1YcJACT6zCgoNUjwHuxnthEdaOntZ7WuXclrO7l0Fs0kaWmbwFJtokz+wZgtapFtbEHaRRyjyjubq4aL+medLH7KY8HKjHVApr6g7S2d2H7tNCjcOGvvTvmLYaOFCLcZu8h8BBegwcqGXYhQUHaTlwoJZSKSw4SF2AA7WI6ogFB2nI7NdFwepSAQdqKdZUCAep4vKFtisz5cUXGhyoZcBBCkTwWBUC4A6EBUSAsIAIEBYQAcICIkBYQAQIC4jgJiw4SIEnVmHBQQrqgBqkQITqiDVFB6nR/uKUeZxiy86fMpXCmoKDlMXzdp2m+e0qoGXiIC0wLbIwFxv6q0Ng1flTxmNVOEYHKbf3I5MSw99PSL1cEepCegxocXOVXGzV508Xu7DG7CBlcives2VqCmJCq3HwFkVgfSE9mC4+y/lTpVJY43eQqiisVrxqdp+ksp9tLuKEZr6AHlWIPry/qt+99zt/olRHrLE7SI9QQjmKODO6U4Owf32iJ6Wrm6vyGWfx+Qo4SI8Zt4P0ku43C9qv57r9j3S+KYg4fP4+oODiIedldzx/gsBB6gQvXHDvywcIy4HwS6l9jMQ9xuN2w/SIb3xCVP4gYgERELGACBAWEAHCAiJAWEAEN2FNxEEa/bvqo7GTAOphFVY42BNwkPKthWjbT/URd0EbAwcpEKE6YsFBWtCf4xRrc5Bmj59RPtNmjo/EJFgpLDhImztI+Xh4514f55cZKVlUY6xh6rEqjK7U6MqCgzS+2JwcpKU1Scdbw9QuLDhIGzlIWXgZ25EZjUZcw7RSWHCQKlpwkLK4ouNftCGV6jKTrHHWMK2OWHCQKlpwkCbMiMuZJoy4hqk1FcJBqmjgIM2vCMPxSSZl461hCtuME7xwwb0vHyAsB8JbAjD7eeFxu2F6xGkMovIHEQuIgIgFRICwgAgQFhABwgIiVAsrvONbZBvJ34mPrTM9uzPs3P5yIutMfPNyOHe+uwYRy0Kyz4cqMl60JCzemuDN0xdjgxZMmcbCGn6qaO6Aze4HIl0yDsIKaJkMGr/MTeghpIqq9jd3wNocpFPFQVgr2upBi16G0W8QVLS/BQesk4N0gkx78t6GA9biIJ0q0xZWIT4O2B1qkJZwGmH11QHp6oB1psRBOkAHaFMaCstYUYUDGk+U3W9AdovNAWvrH2qQlgHbDBABcywgAoQFRICwgAgQFhABwgIiQFhABAgLiGARVt5Sol4iO/f673RV+zO339e/Gqsdj08NnCLWItkLK6qWMnC4nOQ8X2P1fTJbL1J4psIZXd0siD7/tRy1clVYToaKBFxITV04pvVldnfXMydsV+NTH09h7ehpvTcq2kUhOhPAOAIk6TI+zl9giFNN+T7i4lzqS+w6leTTeOjHWlhKE+lzk/ZnN5JDBy0PAPdb/46ZSm3HmYwDtWKqITc+7eMkrHSTdUmf6ur+8KwKFiwf6VwXF9uu9rT+0xOHZejHuqBfpd1hUTk4THkT+/E8qjMa1nz6k714Ko6HBUemWoM0mmOp+VXNEpCrbVqhrhuHpf6yh29hD2eHqfqd+L1nv5RU9/SdUUbZ8SnXIE2IK9vlC/IPA05Jxau9T/pX1iFXh2mm/GRUqzVTR6vs+FRrkB5xeR+uCm2VDevAlQN9U6wPhyJbqK70l6kDb6XtGqtuNUilx6dtPCfv0aoweMzOAZJy1Xw/qJbnu2Ry3TL7bH5SpEY9cwFyeH6O5lCtO0xzuNYgPdH4tImnsHgsbtQcYE1/wrSi0uNfLletHZjzb3oYmOc7KpetLpalTkXq9YeudOqSrrGKGqSDJ1l9ZSY/QArviAWACxAWEAFfpgAiIGIBESAsIAKEBUSAsIAIFmHlLSMDvXnXe4doSmizmZa7gfewBugghUO0EzxToZSDVAoVcQfhEB0fnsKSdZC2zkAcoubxuRrfMeAkrME6SAfgEM0f5w3xMeAxxxqyg7SErh2ialHxmDs+FjxS4VAdpH13iFZF1OHiN8cSdJCKMAiHaIXwB4zn5F3IQZrcZ2q7RmfPHaI6bSbCVwuAwsm72PjI4SksHqthOUj77RBVfz+c7OvFES8ARlJ1GbYZIIJ3xALABQgLiABhAREgLCAChAVEgLCACBAWEKFSWKGdI+OJiUisIlRgm/HGsK00e6PaZGwtte5ux32oPjccN+9+dj8+dehBxOK707x/Ft+hPu22RWhb4bvteh8vfPSuQBv470SPNlR/x+tr/t2OT10qhTWreNRo+2ULeQD5sboBPeaMcmLEtpW/6RbO5UvUhqxtxkb84Zc/xZ/LEBWVJ3Kng/FpgD1iaRsyh/HYGXlca8oI10cOUfMYv6quuMiyclxuqAX0Rm7G/fn+SsdGwKgN0cZ61PZMBso4ZPltdXqr6Fsm1WYcpPH7uzpsBcenZaojVlKq90Dvr/tSL1awnNP3Q5xKTIcoD5zPU+Ijy8pJi7guztXHZeJXodj2FP8w1VpqjLo7bDsYn5o4zrFUh1QQXlFaG/PCuMxX29T4lnGIujo0E1vIkoLVVqZy3eyOPtQHZ753YZW/VnGrMWp12J5ifFrGLqz9Nx12b/R5c0/3N5Sz5Frwekq8EiBf1V4TWx843WTTTDiH5P7pnyMO9O+zpajQao1R6fFpl2phzc6JNfBPjTRHKE6NwdtzOPD1KXBohtGkfOLblGiOo652/XNMlOpzDs4wymYjcjNsDlIHhMdHAodUGNB6fUHX3Ct2XAZrWu8X5HRBuzo09VenJG7T8OR6GeirPf+BstWaHZ7GnGb3pCJKrn21HbLONUYtCI6PFJaIxdZZRTLBLUtjZUg7NO2E86ijCXqMXsLv1YS6sH3qeKVD1ljxFj7lnt+/ykE6XkbvIOWINVcRd2tJJeHvfT+gRmlLOK4Kh0u8Cl1aokQ43woedaThSDSMO9x9ZVpVk8PpEc+3iqNXFN30ykIt6xG96oMvUwARRp8KQTdAWEAECAuIAGEBEazCytpCym7wxTcKpZbo+v0Fbj279a9r5PovhVvE4qW3udd1wjvnJ2Hs/euAllKh3UHZjOE9xb1dRv8U+2OyqeQ4FYbHOYQ3qNEZU9/KolOJd4qLzstkoJyDlKlufzxNyL7SMcgfL59ODMHgF9NYWDYHZQhv4o70Ke629u9uTQdtVG6TS29GZj0WlY/Ddji4CctwJ4Qv70nkquOnuOtUXTZ3qt0/W/v5uOp96DliosJ1iWfduQbq8Kg3effdQ+vBU9w5JedTcELd/lnbf0nsNE78XCpC8XcHkpTm5bAdFi1N3pvg5rBs+hR3OX+7Q/uTiBilvep+FNdAHflT7FvmxE9xr/u1qVIHqbX9OlWawjOjoXMN1Hb6f0oaCstY0RQ6KG303WFpc5Da2s/FdbnEqHEsd7xrh60U0/Jj8erNd37YBI5w81e6+TJTI39bqN4TPoZED+ZYI6Zoch5O+Nv8FlA/gbAkuXyJvtmcWzXyI+5OGTi7AA5SIAIiFhABwgIiQFhABAgLiGAV1rgdpMYN3sr+9Yfw82h9/NsfX7eINVqHZWxQ5IJn6se4n3CQNqalVBh/QHCQdkPT8W9/fBsLaxoOUkuN0KTinn7l/k55/9ze3zw//6BM2/gnfa/8nYg2HaqNhTUFB2lljVC+YPTd9LgPZip16V/V++fPzz/lvnr8WVTdOFTdhFXbYRnTcwephaoaobvQIrot2aJx61/p+6tI2Ogp9x06VOtN3n03uvruIK1NVK80tR7naKV/DZ5y36FDtaXJexMcHJiK/jpIuRR+lWDd+ldO20+5P41DtVthDcRBWo7+coQxZ8zQtAapnjZYn3JfRocO1YbCMlYcg3SQpu2Pmq/b4fH3o6fk51yiyflN+2d7yr1t/LtzqMJBCkTowRwLjBEIC4gABykQARELiABhAREgLCAChAVEsAora8vQr6MbfPGNOqldc/3+bTtI83YX9SreT5Tu3+kIP8+yzw8O0jbhR6DEfdvSBd/lblvAE6SlVDgWB2m0hbJIHtYUI92/roGDVP+fLzrUu+zR5TZ+bf1jMu1XrzTgRX836xDN1TRVZM/P/g3v8Stoo3m8ahMbDlJRsn4lW//4gw83dnX7+ZXfjgyWS1L5NjzGDtBgmX74fP7bdXrudhUcPwKvYvxs5+fHN+9AlcJNWMbuePjynoMM20FqxdJe8yn/kYMz9VixcE0hFj7FvnT8LOc3daA2oN7k3dchMCgHabERrowj24xTtE2FwR9+ZmVqVgyMKRs/xnp+AwdqA1qavDehZw7S3RsFqk03V+5/K0mXXG6bVCqviujhxRQ/rF3NvdSFpAYg7XvVlOIIl/PdHKhwkOp/qYPVQcpXv7riF5u/HtZhE/vqKnxK/uqh5P2VUIoiljO583XatDtQ2xlfk4bC0g1KQvDQHKRM3Gb1Ulc/f40rvXLt/cuuyLRDMzdVCJbG8YzZkGuUsrVZO0TPHul84xOxbOfbHKhywEEqCgtzTt8PxyvFsdODORYYIxAWEAEOUiACIhYQAcICIkBYQACi/wP+dMg1HBL/bwAAAABJRU5ErkJggg==)"
      ],
      "metadata": {
        "id": "4YueXBWFoGTg"
      }
    },
    {
      "cell_type": "markdown",
      "source": [
        "- Each line in the `spa.txt` file contains an English word/sentence and their corresponding Spanish translation.\n",
        "\n",
        "- Some words might have multiple translation because of context. \n",
        "\n",
        "- Our first objective is to extract each line, and then separate the  English and Spanish words/sentences into two separate arrays. These will act as our input and target sentences for training the model"
      ],
      "metadata": {
        "id": "s66rBOGHcXmp"
      }
    },
    {
      "cell_type": "code",
      "source": [
        "# Downloading the file \n",
        "zip_file = tf.keras.utils.get_file(\n",
        "    'spa-eng.zip', origin='http://storage.googleapis.com/download.tensorflow.org/data/spa-eng.zip',\n",
        "    extract=True)\n",
        "\n",
        "file_path = os.path.dirname(zip_file)+\"/spa-eng/spa.txt\" "
      ],
      "metadata": {
        "id": "-IeqZZGPHEEI"
      },
      "execution_count": 3,
      "outputs": []
    },
    {
      "cell_type": "markdown",
      "source": [
        "#### 1.2. Load the data\n",
        "\n",
        "Next step is to load the data and split it into two arrays `src_sentences` and `tgt_sentences`. For performing this task, we create a function `load_data` \n",
        "\n",
        "The function **load_data()** should read a file located at `file_path` and returns the text content split into source and target arrays. \n",
        "\n"
      ],
      "metadata": {
        "id": "Hpvhnz8EoK--"
      }
    },
    {
      "cell_type": "code",
      "source": [
        "def load_data(path, size=None):\n",
        "    \"\"\"\n",
        "    This function reads a file located at `path` and returns the text content split into source and target arrays.\n",
        "    The data in the file should be separated by tabs and have source and target text separated by a newline.\n",
        "\n",
        "    Args:\n",
        "    - path: str, the path to the file\n",
        "    - size: int, the number of lines to read from the file. If not provided or None, the function will read all lines.\n",
        "\n",
        "    Returns:\n",
        "    - source: numpy array, the array containing source text.\n",
        "    - target: numpy array, the array containing target text.\n",
        "\n",
        "    \"\"\"\n",
        "    text = io.open(path, encoding='UTF-8').read()\n",
        "\n",
        "    # lines =  # split the text into lines separated by newline # Insert Code Here ----\n",
        "    # pairs =  # split each line into source and target using tabs # Insert Code Here ----\n",
        "    lines =  lines = text.splitlines()\n",
        "    pairs = [line.split('\\t') for line in lines]\n",
        "\n",
        "    source = np.array([source for target, source in pairs])  # extract source text into a numpy array\n",
        "    target = np.array([target for target, source in pairs])  # extract target text into a numpy array\n",
        "\n",
        "    return source, target\n"
      ],
      "metadata": {
        "id": "zDQb8p1woQME"
      },
      "execution_count": 4,
      "outputs": []
    },
    {
      "cell_type": "code",
      "execution_count": 5,
      "metadata": {
        "id": "8tb6MCvyEQNR",
        "colab": {
          "base_uri": "https://localhost:8080/"
        },
        "outputId": "1de099cc-9328-4f75-e72b-096043a5bd92"
      },
      "outputs": [
        {
          "output_type": "stream",
          "name": "stdout",
          "text": [
            "Original Sentence: Yo lo sé.\n",
            "Translated Sentence: I know.\n"
          ]
        }
      ],
      "source": [
        "src_sentences, tgt_sentences = load_data(file_path)\n",
        "print(\"Original Sentence:\",src_sentences[42])\n",
        "print(\"Translated Sentence:\",tgt_sentences[42])"
      ]
    },
    {
      "cell_type": "markdown",
      "source": [
        "#### 1.3 Visualize the data\n",
        "\n",
        "In the next subtask, we'll take a slight detour, and covert the given source and target sentences into a DataFrame and visualize the word/sentence-length distribution. It is important to analyze and visualize the corpus of data so that their sentence length distribution can be understood.\n",
        "\n",
        "Visualizing sentence length distribution helps in understanding data, making decisions about preprocessing, determining appropriate padding/truncation, and batch size for NMT model training."
      ],
      "metadata": {
        "id": "n8WuU90ZoUOu"
      }
    },
    {
      "cell_type": "code",
      "source": [
        "#Create a dataframe \n",
        "df = pd.DataFrame(zip(src_sentences, tgt_sentences), columns=['source_sentence', 'target_sentence'])\n",
        "df"
      ],
      "metadata": {
        "id": "hXBNYoO3tnW8",
        "colab": {
          "base_uri": "https://localhost:8080/",
          "height": 424
        },
        "outputId": "f19ca635-1bd4-4a1c-f51f-b6653a7a53ec"
      },
      "execution_count": 6,
      "outputs": [
        {
          "output_type": "execute_result",
          "data": {
            "text/plain": [
              "                                          source_sentence  \\\n",
              "0                                                     Ve.   \n",
              "1                                                   Vete.   \n",
              "2                                                   Vaya.   \n",
              "3                                                 Váyase.   \n",
              "4                                                   Hola.   \n",
              "...                                                   ...   \n",
              "118959  Hay cuatro causas principales de muertes relac...   \n",
              "118960  Hay madres y padres que se quedan despiertos d...   \n",
              "118961  Una huella de carbono es la cantidad de contam...   \n",
              "118962  Como suele haber varias páginas web sobre cual...   \n",
              "118963  Si quieres sonar como un hablante nativo, debe...   \n",
              "\n",
              "                                          target_sentence  \n",
              "0                                                     Go.  \n",
              "1                                                     Go.  \n",
              "2                                                     Go.  \n",
              "3                                                     Go.  \n",
              "4                                                     Hi.  \n",
              "...                                                   ...  \n",
              "118959  There are four main causes of alcohol-related ...  \n",
              "118960  There are mothers and fathers who will lie awa...  \n",
              "118961  A carbon footprint is the amount of carbon dio...  \n",
              "118962  Since there are usually multiple websites on a...  \n",
              "118963  If you want to sound like a native speaker, yo...  \n",
              "\n",
              "[118964 rows x 2 columns]"
            ],
            "text/html": [
              "\n",
              "  <div id=\"df-9d5310f4-4af4-4046-9568-7574699116c1\">\n",
              "    <div class=\"colab-df-container\">\n",
              "      <div>\n",
              "<style scoped>\n",
              "    .dataframe tbody tr th:only-of-type {\n",
              "        vertical-align: middle;\n",
              "    }\n",
              "\n",
              "    .dataframe tbody tr th {\n",
              "        vertical-align: top;\n",
              "    }\n",
              "\n",
              "    .dataframe thead th {\n",
              "        text-align: right;\n",
              "    }\n",
              "</style>\n",
              "<table border=\"1\" class=\"dataframe\">\n",
              "  <thead>\n",
              "    <tr style=\"text-align: right;\">\n",
              "      <th></th>\n",
              "      <th>source_sentence</th>\n",
              "      <th>target_sentence</th>\n",
              "    </tr>\n",
              "  </thead>\n",
              "  <tbody>\n",
              "    <tr>\n",
              "      <th>0</th>\n",
              "      <td>Ve.</td>\n",
              "      <td>Go.</td>\n",
              "    </tr>\n",
              "    <tr>\n",
              "      <th>1</th>\n",
              "      <td>Vete.</td>\n",
              "      <td>Go.</td>\n",
              "    </tr>\n",
              "    <tr>\n",
              "      <th>2</th>\n",
              "      <td>Vaya.</td>\n",
              "      <td>Go.</td>\n",
              "    </tr>\n",
              "    <tr>\n",
              "      <th>3</th>\n",
              "      <td>Váyase.</td>\n",
              "      <td>Go.</td>\n",
              "    </tr>\n",
              "    <tr>\n",
              "      <th>4</th>\n",
              "      <td>Hola.</td>\n",
              "      <td>Hi.</td>\n",
              "    </tr>\n",
              "    <tr>\n",
              "      <th>...</th>\n",
              "      <td>...</td>\n",
              "      <td>...</td>\n",
              "    </tr>\n",
              "    <tr>\n",
              "      <th>118959</th>\n",
              "      <td>Hay cuatro causas principales de muertes relac...</td>\n",
              "      <td>There are four main causes of alcohol-related ...</td>\n",
              "    </tr>\n",
              "    <tr>\n",
              "      <th>118960</th>\n",
              "      <td>Hay madres y padres que se quedan despiertos d...</td>\n",
              "      <td>There are mothers and fathers who will lie awa...</td>\n",
              "    </tr>\n",
              "    <tr>\n",
              "      <th>118961</th>\n",
              "      <td>Una huella de carbono es la cantidad de contam...</td>\n",
              "      <td>A carbon footprint is the amount of carbon dio...</td>\n",
              "    </tr>\n",
              "    <tr>\n",
              "      <th>118962</th>\n",
              "      <td>Como suele haber varias páginas web sobre cual...</td>\n",
              "      <td>Since there are usually multiple websites on a...</td>\n",
              "    </tr>\n",
              "    <tr>\n",
              "      <th>118963</th>\n",
              "      <td>Si quieres sonar como un hablante nativo, debe...</td>\n",
              "      <td>If you want to sound like a native speaker, yo...</td>\n",
              "    </tr>\n",
              "  </tbody>\n",
              "</table>\n",
              "<p>118964 rows × 2 columns</p>\n",
              "</div>\n",
              "      <button class=\"colab-df-convert\" onclick=\"convertToInteractive('df-9d5310f4-4af4-4046-9568-7574699116c1')\"\n",
              "              title=\"Convert this dataframe to an interactive table.\"\n",
              "              style=\"display:none;\">\n",
              "        \n",
              "  <svg xmlns=\"http://www.w3.org/2000/svg\" height=\"24px\"viewBox=\"0 0 24 24\"\n",
              "       width=\"24px\">\n",
              "    <path d=\"M0 0h24v24H0V0z\" fill=\"none\"/>\n",
              "    <path d=\"M18.56 5.44l.94 2.06.94-2.06 2.06-.94-2.06-.94-.94-2.06-.94 2.06-2.06.94zm-11 1L8.5 8.5l.94-2.06 2.06-.94-2.06-.94L8.5 2.5l-.94 2.06-2.06.94zm10 10l.94 2.06.94-2.06 2.06-.94-2.06-.94-.94-2.06-.94 2.06-2.06.94z\"/><path d=\"M17.41 7.96l-1.37-1.37c-.4-.4-.92-.59-1.43-.59-.52 0-1.04.2-1.43.59L10.3 9.45l-7.72 7.72c-.78.78-.78 2.05 0 2.83L4 21.41c.39.39.9.59 1.41.59.51 0 1.02-.2 1.41-.59l7.78-7.78 2.81-2.81c.8-.78.8-2.07 0-2.86zM5.41 20L4 18.59l7.72-7.72 1.47 1.35L5.41 20z\"/>\n",
              "  </svg>\n",
              "      </button>\n",
              "      \n",
              "  <style>\n",
              "    .colab-df-container {\n",
              "      display:flex;\n",
              "      flex-wrap:wrap;\n",
              "      gap: 12px;\n",
              "    }\n",
              "\n",
              "    .colab-df-convert {\n",
              "      background-color: #E8F0FE;\n",
              "      border: none;\n",
              "      border-radius: 50%;\n",
              "      cursor: pointer;\n",
              "      display: none;\n",
              "      fill: #1967D2;\n",
              "      height: 32px;\n",
              "      padding: 0 0 0 0;\n",
              "      width: 32px;\n",
              "    }\n",
              "\n",
              "    .colab-df-convert:hover {\n",
              "      background-color: #E2EBFA;\n",
              "      box-shadow: 0px 1px 2px rgba(60, 64, 67, 0.3), 0px 1px 3px 1px rgba(60, 64, 67, 0.15);\n",
              "      fill: #174EA6;\n",
              "    }\n",
              "\n",
              "    [theme=dark] .colab-df-convert {\n",
              "      background-color: #3B4455;\n",
              "      fill: #D2E3FC;\n",
              "    }\n",
              "\n",
              "    [theme=dark] .colab-df-convert:hover {\n",
              "      background-color: #434B5C;\n",
              "      box-shadow: 0px 1px 3px 1px rgba(0, 0, 0, 0.15);\n",
              "      filter: drop-shadow(0px 1px 2px rgba(0, 0, 0, 0.3));\n",
              "      fill: #FFFFFF;\n",
              "    }\n",
              "  </style>\n",
              "\n",
              "      <script>\n",
              "        const buttonEl =\n",
              "          document.querySelector('#df-9d5310f4-4af4-4046-9568-7574699116c1 button.colab-df-convert');\n",
              "        buttonEl.style.display =\n",
              "          google.colab.kernel.accessAllowed ? 'block' : 'none';\n",
              "\n",
              "        async function convertToInteractive(key) {\n",
              "          const element = document.querySelector('#df-9d5310f4-4af4-4046-9568-7574699116c1');\n",
              "          const dataTable =\n",
              "            await google.colab.kernel.invokeFunction('convertToInteractive',\n",
              "                                                     [key], {});\n",
              "          if (!dataTable) return;\n",
              "\n",
              "          const docLinkHtml = 'Like what you see? Visit the ' +\n",
              "            '<a target=\"_blank\" href=https://colab.research.google.com/notebooks/data_table.ipynb>data table notebook</a>'\n",
              "            + ' to learn more about interactive tables.';\n",
              "          element.innerHTML = '';\n",
              "          dataTable['output_type'] = 'display_data';\n",
              "          await google.colab.output.renderOutput(dataTable, element);\n",
              "          const docLink = document.createElement('div');\n",
              "          docLink.innerHTML = docLinkHtml;\n",
              "          element.appendChild(docLink);\n",
              "        }\n",
              "      </script>\n",
              "    </div>\n",
              "  </div>\n",
              "  "
            ]
          },
          "metadata": {},
          "execution_count": 6
        }
      ]
    },
    {
      "cell_type": "code",
      "execution_count": 8,
      "metadata": {
        "id": "TBNWdBTkDIqw",
        "colab": {
          "base_uri": "https://localhost:8080/",
          "height": 281
        },
        "outputId": "f3b31c26-12d4-4785-b4b4-57a14ce6681f"
      },
      "outputs": [
        {
          "output_type": "display_data",
          "data": {
            "text/plain": [
              "<Figure size 432x288 with 2 Axes>"
            ],
            "image/png": "[encoded data removed]"
          },
          "metadata": {
            "needs_background": "light"
          }
        }
      ],
      "source": [
        "eng_len = []\n",
        "span_len = []\n",
        "\n",
        "# populate the lists with sentence lengths\n",
        "for i in src_sentences:\n",
        "      eng_len.append(len(i.split()))  \n",
        "\n",
        "for i in tgt_sentences:\n",
        "      span_len.append(len(i.split()))\n",
        "\n",
        "length_df = pd.DataFrame({'english':eng_len, 'spanish':span_len})\n",
        "\n",
        "length_df.hist(bins = 20)\n",
        "plt.show()"
      ]
    },
    {
      "cell_type": "markdown",
      "source": [
        "### **Task 2: Process the data**\n",
        "\n",
        "Once we have loaded the dataset, and obtained the source and target sentences, we process the data with the following steps:\n",
        "\n",
        "* Apply basic text preprocessing techniques to clean the data.\n",
        "* Tokenize each sentence to their vector representation, add <*start*> & <*end*> tokens & *pad* each sentence to a maximum length. \n",
        "* Split the source & target sentences to train & validation data\n",
        "* Create a `tf.dataset` from the `tf.data` [API](https://www.tensorflow.org/guide/data). This API helps you build & work with complex input pipelines which allows you to handle large amounts of data and perform complex transformations on them."
      ],
      "metadata": {
        "id": "kEHV13DLoXH7"
      }
    },
    {
      "cell_type": "markdown",
      "source": [
        "##### 2.1 Clean the data\n"
      ],
      "metadata": {
        "id": "s92ISsw6ga4T"
      }
    },
    {
      "cell_type": "code",
      "source": [
        "import re, itertools\n",
        "from collections import Counter\n",
        "import tensorflow as tf\n",
        "from tensorflow.keras.preprocessing.text import Tokenizer\n",
        "from tensorflow.keras.preprocessing.sequence import pad_sequences\n",
        "from sklearn.model_selection import train_test_split"
      ],
      "metadata": {
        "id": "BJWCbDfRgeA1"
      },
      "execution_count": 9,
      "outputs": []
    },
    {
      "cell_type": "markdown",
      "source": [
        "###### 2.1.1 Text Standardization\n",
        "\n",
        "The model is dealing with multilingual text with a limited vocabulary. So it will be important to standardize the input text. The first step is Unicode normalization to split accented characters and replace compatibility characters with their ASCII equivalents.\n",
        "\n",
        "For example \n",
        "\n",
        "- Input: Yo lo sé.\n",
        "- Output: <*sos*> yo lo se . <*eos*>"
      ],
      "metadata": {
        "id": "4B2UImjiob3q"
      }
    },
    {
      "cell_type": "code",
      "source": [
        "def replace_multiple_spaces_with_single_space(text):\n",
        "    pattern = '\\s+'\n",
        "    replace = ' '\n",
        "    return tf.strings.regex_replace(text, pattern, replace)"
      ],
      "metadata": {
        "id": "uyyQS83LwZC1"
      },
      "execution_count": 10,
      "outputs": []
    },
    {
      "cell_type": "code",
      "source": [
        "import unicodedata\n",
        "\n",
        "def unicode_to_ascii(s):\n",
        "    # Normalize the input string `s` to its decomposed form\n",
        "    normalized = unicodedata.normalize('NFD', s)\n",
        "    # Return a new string that only contains ASCII characters\n",
        "    # Exclude characters with the category \"Mark, Nonspacing\"\n",
        "    return ''.join(c for c in normalized if unicodedata.category(c) != 'Mn')\n",
        "     \n",
        "def preprocess_text(text):\n",
        "  \"\"\"\n",
        "  Preprocess the input text data by removing special characters, lowercasing it and adding start and end tokens\n",
        "\n",
        "  Arguments:\n",
        "    text (str): Input text string\n",
        "\n",
        "  Returns:\n",
        "    preprocessed_text (str): Preprocessed text string with added start and end tokens\n",
        "  \"\"\"\n",
        "  # Lowercase all the text using unicode to ascii conversion. You can call the unicode_to_ascii function defined earlier\n",
        "  text = tf.strings.lower(text)\n",
        "\n",
        "  # Replacing special characters with space except (a-z, A-Z, \".\", \"?\", \"!\", \",\")\n",
        "  text = tf.strings.regex_replace(text, '[^ a-z.?!,¿]', '')\n",
        "\n",
        "  # Search for (?, ., !, ,, or ¿)and insert a space before and after each match.\n",
        "  text = tf.strings.regex_replace(text, '[.?!,¿]', r' \\0 ')\n",
        "\n",
        "  # Search for one or more consecutive spaces and replace them with a single space. \n",
        "  text = replace_multiple_spaces_with_single_space(text)\n",
        "\n",
        "  # Strip whitespace.\n",
        "  text = tf.strings.strip(text)\n",
        "\n",
        "  # Add the <start> & <end> tokens\n",
        "  text = tf.strings.join(['<sos>', text, '<eos>'], separator=' ')\n",
        "\n",
        "  return text\n"
      ],
      "metadata": {
        "id": "GK_-O2T4lcim"
      },
      "execution_count": 12,
      "outputs": []
    },
    {
      "cell_type": "code",
      "source": [
        "# Write a Code below for cleaning the source and target sentences. You can call the 'preprocess_text' function defined earlier\n",
        "\n",
        "src_sentences_pre = preprocess_text(src_sentences)\n",
        "tgt_sentences_pre = preprocess_text(tgt_sentences)\n",
        "\n",
        "# Also now write a code for checking a sample of an orginal sentence and the processed sentence\n",
        "# For example: the output could be as original text: Yo lo sé. Text after pre-processing: <sos> yo lo se . <eos>\n",
        "\n",
        "print(src_sentences_pre[50].numpy().decode('utf8'))\n",
        "print(tgt_sentences_pre[50].numpy().decode('utf8'))\n"
      ],
      "metadata": {
        "id": "w6lmcUtWg4dL",
        "colab": {
          "base_uri": "https://localhost:8080/"
        },
        "outputId": "b5a5a536-8581-4c2d-f8e2-6a16943ee990"
      },
      "execution_count": 13,
      "outputs": [
        {
          "output_type": "stream",
          "name": "stdout",
          "text": [
            "<sos> estoy levantado . <eos>\n",
            "<sos> im up . <eos>\n"
          ]
        }
      ]
    },
    {
      "cell_type": "code",
      "source": [
        "# Write a Code below for cleaning the source and target sentences. You can call the 'preprocess_text' function defined earlier\n",
        "\n",
        "df1 = df.apply(preprocess_text)\n",
        "\n",
        "# Also now write a code for checking a sample of an orginal sentence and the processed sentence\n",
        "# For example: the output could be as original text: Yo lo sé. Text after pre-processing: <sos> yo lo se . <eos>\n",
        "\n",
        "df1.head()"
      ],
      "metadata": {
        "colab": {
          "base_uri": "https://localhost:8080/",
          "height": 206
        },
        "id": "LaCcUAtSJUF3",
        "outputId": "56f4583b-1cfd-4e2e-9f6a-e62a1a7a45ca"
      },
      "execution_count": 14,
      "outputs": [
        {
          "output_type": "execute_result",
          "data": {
            "text/plain": [
              "          source_sentence      target_sentence\n",
              "0     b'<sos> ve . <eos>'  b'<sos> go . <eos>'\n",
              "1   b'<sos> vete . <eos>'  b'<sos> go . <eos>'\n",
              "2   b'<sos> vaya . <eos>'  b'<sos> go . <eos>'\n",
              "3  b'<sos> vyase . <eos>'  b'<sos> go . <eos>'\n",
              "4   b'<sos> hola . <eos>'  b'<sos> hi . <eos>'"
            ],
            "text/html": [
              "\n",
              "  <div id=\"df-011c8cbc-9ad2-4c0b-adbf-91b4a69d9da5\">\n",
              "    <div class=\"colab-df-container\">\n",
              "      <div>\n",
              "<style scoped>\n",
              "    .dataframe tbody tr th:only-of-type {\n",
              "        vertical-align: middle;\n",
              "    }\n",
              "\n",
              "    .dataframe tbody tr th {\n",
              "        vertical-align: top;\n",
              "    }\n",
              "\n",
              "    .dataframe thead th {\n",
              "        text-align: right;\n",
              "    }\n",
              "</style>\n",
              "<table border=\"1\" class=\"dataframe\">\n",
              "  <thead>\n",
              "    <tr style=\"text-align: right;\">\n",
              "      <th></th>\n",
              "      <th>source_sentence</th>\n",
              "      <th>target_sentence</th>\n",
              "    </tr>\n",
              "  </thead>\n",
              "  <tbody>\n",
              "    <tr>\n",
              "      <th>0</th>\n",
              "      <td>b'&lt;sos&gt; ve . &lt;eos&gt;'</td>\n",
              "      <td>b'&lt;sos&gt; go . &lt;eos&gt;'</td>\n",
              "    </tr>\n",
              "    <tr>\n",
              "      <th>1</th>\n",
              "      <td>b'&lt;sos&gt; vete . &lt;eos&gt;'</td>\n",
              "      <td>b'&lt;sos&gt; go . &lt;eos&gt;'</td>\n",
              "    </tr>\n",
              "    <tr>\n",
              "      <th>2</th>\n",
              "      <td>b'&lt;sos&gt; vaya . &lt;eos&gt;'</td>\n",
              "      <td>b'&lt;sos&gt; go . &lt;eos&gt;'</td>\n",
              "    </tr>\n",
              "    <tr>\n",
              "      <th>3</th>\n",
              "      <td>b'&lt;sos&gt; vyase . &lt;eos&gt;'</td>\n",
              "      <td>b'&lt;sos&gt; go . &lt;eos&gt;'</td>\n",
              "    </tr>\n",
              "    <tr>\n",
              "      <th>4</th>\n",
              "      <td>b'&lt;sos&gt; hola . &lt;eos&gt;'</td>\n",
              "      <td>b'&lt;sos&gt; hi . &lt;eos&gt;'</td>\n",
              "    </tr>\n",
              "  </tbody>\n",
              "</table>\n",
              "</div>\n",
              "      <button class=\"colab-df-convert\" onclick=\"convertToInteractive('df-011c8cbc-9ad2-4c0b-adbf-91b4a69d9da5')\"\n",
              "              title=\"Convert this dataframe to an interactive table.\"\n",
              "              style=\"display:none;\">\n",
              "        \n",
              "  <svg xmlns=\"http://www.w3.org/2000/svg\" height=\"24px\"viewBox=\"0 0 24 24\"\n",
              "       width=\"24px\">\n",
              "    <path d=\"M0 0h24v24H0V0z\" fill=\"none\"/>\n",
              "    <path d=\"M18.56 5.44l.94 2.06.94-2.06 2.06-.94-2.06-.94-.94-2.06-.94 2.06-2.06.94zm-11 1L8.5 8.5l.94-2.06 2.06-.94-2.06-.94L8.5 2.5l-.94 2.06-2.06.94zm10 10l.94 2.06.94-2.06 2.06-.94-2.06-.94-.94-2.06-.94 2.06-2.06.94z\"/><path d=\"M17.41 7.96l-1.37-1.37c-.4-.4-.92-.59-1.43-.59-.52 0-1.04.2-1.43.59L10.3 9.45l-7.72 7.72c-.78.78-.78 2.05 0 2.83L4 21.41c.39.39.9.59 1.41.59.51 0 1.02-.2 1.41-.59l7.78-7.78 2.81-2.81c.8-.78.8-2.07 0-2.86zM5.41 20L4 18.59l7.72-7.72 1.47 1.35L5.41 20z\"/>\n",
              "  </svg>\n",
              "      </button>\n",
              "      \n",
              "  <style>\n",
              "    .colab-df-container {\n",
              "      display:flex;\n",
              "      flex-wrap:wrap;\n",
              "      gap: 12px;\n",
              "    }\n",
              "\n",
              "    .colab-df-convert {\n",
              "      background-color: #E8F0FE;\n",
              "      border: none;\n",
              "      border-radius: 50%;\n",
              "      cursor: pointer;\n",
              "      display: none;\n",
              "      fill: #1967D2;\n",
              "      height: 32px;\n",
              "      padding: 0 0 0 0;\n",
              "      width: 32px;\n",
              "    }\n",
              "\n",
              "    .colab-df-convert:hover {\n",
              "      background-color: #E2EBFA;\n",
              "      box-shadow: 0px 1px 2px rgba(60, 64, 67, 0.3), 0px 1px 3px 1px rgba(60, 64, 67, 0.15);\n",
              "      fill: #174EA6;\n",
              "    }\n",
              "\n",
              "    [theme=dark] .colab-df-convert {\n",
              "      background-color: #3B4455;\n",
              "      fill: #D2E3FC;\n",
              "    }\n",
              "\n",
              "    [theme=dark] .colab-df-convert:hover {\n",
              "      background-color: #434B5C;\n",
              "      box-shadow: 0px 1px 3px 1px rgba(0, 0, 0, 0.15);\n",
              "      filter: drop-shadow(0px 1px 2px rgba(0, 0, 0, 0.3));\n",
              "      fill: #FFFFFF;\n",
              "    }\n",
              "  </style>\n",
              "\n",
              "      <script>\n",
              "        const buttonEl =\n",
              "          document.querySelector('#df-011c8cbc-9ad2-4c0b-adbf-91b4a69d9da5 button.colab-df-convert');\n",
              "        buttonEl.style.display =\n",
              "          google.colab.kernel.accessAllowed ? 'block' : 'none';\n",
              "\n",
              "        async function convertToInteractive(key) {\n",
              "          const element = document.querySelector('#df-011c8cbc-9ad2-4c0b-adbf-91b4a69d9da5');\n",
              "          const dataTable =\n",
              "            await google.colab.kernel.invokeFunction('convertToInteractive',\n",
              "                                                     [key], {});\n",
              "          if (!dataTable) return;\n",
              "\n",
              "          const docLinkHtml = 'Like what you see? Visit the ' +\n",
              "            '<a target=\"_blank\" href=https://colab.research.google.com/notebooks/data_table.ipynb>data table notebook</a>'\n",
              "            + ' to learn more about interactive tables.';\n",
              "          element.innerHTML = '';\n",
              "          dataTable['output_type'] = 'display_data';\n",
              "          await google.colab.output.renderOutput(dataTable, element);\n",
              "          const docLink = document.createElement('div');\n",
              "          docLink.innerHTML = docLinkHtml;\n",
              "          element.appendChild(docLink);\n",
              "        }\n",
              "      </script>\n",
              "    </div>\n",
              "  </div>\n",
              "  "
            ]
          },
          "metadata": {},
          "execution_count": 14
        }
      ]
    },
    {
      "cell_type": "markdown",
      "source": [
        "#### 2.2 Tokenize the data\n",
        "\n",
        "Once, the sentences are splitted and special tokens are added, the process of tokenization is carried out using the **Tokenizer** class from the **tensorflow.keras.preprocessing.text** module. \n",
        "\n",
        "Steps:\n",
        "\n",
        "* The Tokenizer object is initialized and fit to the text data. \n",
        "* The texts are then tokenized, meaning that each word is assigned a unique number. \n",
        "* The resulting sequences are then padded and truncated to make all of them of equal length.\n",
        "\n",
        "We'll create a function named `tokenize` to perform all the above steps together. Here's an example of how the function will transform an input sentence:\n",
        "\n",
        "- Input: <*sos*> yo lo se . <*eos*>\n",
        "- Output:  [ 1 26 18 17  3  2  0  0  0  0  0  0  0  0  0  0]"
      ],
      "metadata": {
        "id": "A9OI6bI1ogdr"
      }
    },
    {
      "cell_type": "code",
      "execution_count": 15,
      "metadata": {
        "id": "JBLydqdcPaFr"
      },
      "outputs": [],
      "source": [
        "def tokenize(sentences): \n",
        "    \"\"\"\n",
        "    Tokenizes the input sentences and returns the tokenized sequences, tokenizer object, and the max length of the sequences.\n",
        "\n",
        "    Parameters:\n",
        "    sentences (list): A list of sentences to be tokenized.\n",
        "\n",
        "    Returns:\n",
        "    sequences (numpy array): The tokenized sequences.\n",
        "    lang_tokenizer (Tokenizer object): Tokenizer object fit on the input sentences.\n",
        "    max_length (int): Maximum length of the sequences.\n",
        "    \n",
        "    \"\"\"\n",
        "    # Initialize the tokenizer object\n",
        "    lang_tokenizer = Tokenizer( filters='')\n",
        "    # Fit the tokenizer on the input sentences\n",
        "    lang_tokenizer.fit_on_texts(sentences)\n",
        "    # Tokenize the sentences\n",
        "    sequences = lang_tokenizer.texts_to_sequences(sentences)\n",
        "    # Find the max length of the sequences\n",
        "    max_length = max(len(s) for s in sequences)\n",
        "    # Pad and truncate the sequences\n",
        "    sequences = pad_sequences(sequences, maxlen=max_length, padding='post', truncating='post')\n",
        "\n",
        "    return sequences, lang_tokenizer, max_length\n"
      ]
    },
    {
      "cell_type": "markdown",
      "source": [
        "###### 2.2.1 Create source and target sequences using tokenize()\n",
        "\n",
        "Before we apply the **tokenize()** function, we need to make an important consideration. We won't be able to apply the processing and tokenization function to the entire dataset as it will exhaust all the available RAM. Hence, it is recommended to limit the data. Training on the complete dataset of >100,000 sentences will take a long time. \n",
        "\n",
        "To train faster, we can limit the size of the dataset to `40,000` sentences \n",
        "\n",
        "(***Note***: *Translation quality degrades with less data, however for demonstration purposes, we have gone for a faster training process*).\n",
        "\n",
        "To filter the data, process & tokenize them, we can build a function `load_sequences` that perform all the three tasks inside it. This function will return the source, target sequences,  their maximum length & the tokenisers used for them."
      ],
      "metadata": {
        "id": "XERZmyOyos0c"
      }
    },
    {
      "cell_type": "code",
      "source": [
        "import string\n",
        "from string import digits"
      ],
      "metadata": {
        "id": "l5PmKgZELpV0"
      },
      "execution_count": 16,
      "outputs": []
    },
    {
      "cell_type": "code",
      "source": [
        "def preprocess_sentence(sentence):\n",
        "    \n",
        "    num_digits= str.maketrans('','', digits)\n",
        "    \n",
        "    sentence= sentence.lower()\n",
        "    sentence= re.sub(\" +\", \" \", sentence)\n",
        "    sentence= re.sub(\"'\", '', sentence)\n",
        "    sentence= sentence.translate(num_digits)\n",
        "    sentence= re.sub(r\"([?.!,¿])\", r\" \\1 \", sentence)\n",
        "    sentence = sentence.rstrip().strip()\n",
        "    sentence=  '<sos> ' + sentence + ' <eos>'\n",
        "    \n",
        "    return sentence"
      ],
      "metadata": {
        "id": "2Tjqgr9qLgfQ"
      },
      "execution_count": 17,
      "outputs": []
    },
    {
      "cell_type": "code",
      "source": [
        "def create_dataset(path, num_examples):\n",
        "  \n",
        "  lines = io.open(path, encoding='UTF-8').read().strip().split('\\n')\n",
        "  \n",
        "  word_pairs = [[preprocess_sentence(w) for w in l.split('\\t')]  for l in lines[:num_examples]]\n",
        "  \n",
        "  return zip(*word_pairs)"
      ],
      "metadata": {
        "id": "t7RmqDrPADC3"
      },
      "execution_count": 18,
      "outputs": []
    },
    {
      "cell_type": "code",
      "source": [
        "def load_sequences(path, size=None):\n",
        "    \"\"\"\n",
        "    Loads and preprocesses the dataset.\n",
        "\n",
        "    Parameters:\n",
        "    - path (str): The path to the dataset file.\n",
        "    - size (int, optional): The number of data points to load. Default is None which loads all the data.\n",
        "\n",
        "    Returns:\n",
        "    - src_sequences (np.array): Array of preprocessed and tokenized source sentences.\n",
        "    - tgt_sequences (np.array): Array of preprocessed and tokenized target sentences.\n",
        "    - src_lang_tokenizer (Tokenizer): Tokenizer object fit on source sentences.\n",
        "    - tgt_lang_tokenizer (Tokenizer): Tokenizer object fit on target sentences.\n",
        "    - max_length_src (int): Maximum length of source sequences.\n",
        "    - max_length_trg (int): Maximum length of target sequences.\n",
        "    \"\"\"\n",
        "    # Load the data again using the load_data function with the size argument\n",
        "    #src_sentences, tgt_sentences = load_data(file_path,40000)\n",
        "\n",
        "    # Preprocess the source and target sentences\n",
        "    sample_size=40000\n",
        "    tgt_cln_sentences, src_cln_sentences = create_dataset(file_path, sample_size)\n",
        "\n",
        "    # Tokenize the source and target sentences\n",
        "    tgt_sequences,tgt_lang_tokenizer,max_length_trg= tokenize(tgt_cln_sentences)\n",
        "    src_sequences,src_lang_tokenizer,max_length_src = tokenize(src_cln_sentences)\n",
        "\n",
        "    \n",
        "\n",
        "    return src_sequences, tgt_sequences, src_lang_tokenizer, tgt_lang_tokenizer, max_length_src, max_length_trg,tgt_cln_sentences, src_cln_sentences\n"
      ],
      "metadata": {
        "id": "1I1kFyACg-h9"
      },
      "execution_count": 22,
      "outputs": []
    },
    {
      "cell_type": "code",
      "execution_count": 23,
      "metadata": {
        "id": "sRLJiJobV-E_"
      },
      "outputs": [],
      "source": [
        "#Write a code below to print the src sequences and tgt sequences shape\n",
        "\n",
        "src_sequences, tgt_sequences, src_lang_tokenizer, tgt_lang_tokenizer, max_length_src, max_length_trg,tgt_cln_sentences, src_cln_sentences  = load_sequences(file_path)"
      ]
    },
    {
      "cell_type": "code",
      "source": [
        "print(\"Original sentence:\", src_sentences[42])\n",
        "print(\"Clean Sentence:\",src_cln_sentences[42])\n",
        "print(\"Text after tokenization:\", src_sequences[42])"
      ],
      "metadata": {
        "id": "Y4voaKoFhTbw",
        "colab": {
          "base_uri": "https://localhost:8080/"
        },
        "outputId": "7974aafe-245d-4f55-81e2-3372225717e7"
      },
      "execution_count": 24,
      "outputs": [
        {
          "output_type": "stream",
          "name": "stdout",
          "text": [
            "Original sentence: Yo lo sé.\n",
            "Clean Sentence: <sos> yo lo sé . <eos>\n",
            "Text after tokenization: [ 1 28 19 70  3  2  0  0  0  0  0  0  0  0  0  0]\n"
          ]
        }
      ]
    },
    {
      "cell_type": "code",
      "source": [
        "print(src_lang_tokenizer)"
      ],
      "metadata": {
        "colab": {
          "base_uri": "https://localhost:8080/"
        },
        "id": "r4C838xbyGBp",
        "outputId": "aff17e5a-eae5-4ef0-de2b-560a81867882"
      },
      "execution_count": 25,
      "outputs": [
        {
          "output_type": "stream",
          "name": "stdout",
          "text": [
            "<keras.preprocessing.text.Tokenizer object at 0x7f7ff718d460>\n"
          ]
        }
      ]
    },
    {
      "cell_type": "markdown",
      "source": [
        "###### 2.2.2 Understanding what's happening inside\n",
        "\n",
        "We're taking another detour here, to understand how the tokenisation layer converts a batch of strings into a batch of token IDs. \n",
        "\n",
        "Using the **.index_word()** method, we can convert the token IDs back to words for understanding the mapping and what's under the hood.\n",
        "\n",
        "**Note**: This is not required for the final model building process, and is only shown for your understanding"
      ],
      "metadata": {
        "id": "H0UrZJHso0qX"
      }
    },
    {
      "cell_type": "code",
      "execution_count": 27,
      "metadata": {
        "id": "fkVGrmeJoutL",
        "colab": {
          "base_uri": "https://localhost:8080/"
        },
        "outputId": "186757fd-a5f6-44d8-cda6-6137c73080cd"
      },
      "outputs": [
        {
          "output_type": "stream",
          "name": "stdout",
          "text": [
            "Input Language; index to word mapping\n",
            "1 ----> <sos>\n",
            "46 ----> soy\n",
            "844 ----> tímido\n",
            "3 ----> .\n",
            "2 ----> <eos>\n",
            "\n",
            "Target Language; index to word mapping\n",
            "1 ----> <sos>\n",
            "18 ----> im\n",
            "660 ----> shy\n",
            "3 ----> .\n",
            "2 ----> <eos>\n"
          ]
        }
      ],
      "source": [
        "#Testing if the word to index / index to word mappings have been obtained correctly. \n",
        "def convert(lang, tensor):\n",
        "  for t in tensor:\n",
        "    if t!=0:\n",
        "      print (\"%d ----> %s\" % (t, lang.index_word[t]))\n",
        "\n",
        "print (\"Input Language; index to word mapping\")\n",
        "convert(src_lang_tokenizer, src_sequences[150])\n",
        "print ()\n",
        "print (\"Target Language; index to word mapping\")\n",
        "convert(tgt_lang_tokenizer, tgt_sequences[150])"
      ]
    },
    {
      "cell_type": "code",
      "execution_count": 29,
      "metadata": {
        "id": "YStmxYzh89LP",
        "colab": {
          "base_uri": "https://localhost:8080/"
        },
        "outputId": "02a9e955-481f-46c5-8a23-2fde08f0c0dc"
      },
      "outputs": [
        {
          "output_type": "stream",
          "name": "stdout",
          "text": [
            "11980\n",
            "6083\n"
          ]
        }
      ],
      "source": [
        "# getting the size of the input and output vocabularies.\n",
        "src_vocab_size = len(src_lang_tokenizer.word_index)+1\n",
        "tgt_vocab_size = len(tgt_lang_tokenizer.word_index)+1\n",
        "print(src_vocab_size)\n",
        "print(tgt_vocab_size)"
      ]
    },
    {
      "cell_type": "markdown",
      "source": [
        "#### 2.4 Train-Test Split\n",
        "Now that we have processed the data, it's time to split it into train and test datasets. This way, we can use the train data to train our model and evaluate the model performance on the test data.\n",
        "\n",
        "The ***train_test_split()*** function from the sklearn library is used to split the data. `src_sequences` and `tgt_sequences` are the input and target sequences respectively. The test_size parameter specifies the proportion of the data that should be used for testing, and random_state is used to set the random seed for reproducibility."
      ],
      "metadata": {
        "id": "bEB_S__Ehkmk"
      }
    },
    {
      "cell_type": "code",
      "source": [
        "# Write a code below to extract & print the source and target sentences length for train and validation data\n",
        "\n",
        "from sklearn.model_selection import train_test_split\n",
        "\n",
        "source_sequences_train, source_sequences_val, tgt_sequences_train, tgt_sequences_val = train_test_split(src_sequences, tgt_sequences, test_size=0.2)\n",
        "\n",
        "# Show length\n",
        "len(source_sequences_train), len(source_sequences_val), len(tgt_sequences_train), len(tgt_sequences_val)"
      ],
      "metadata": {
        "id": "IdY1FLnXhoi9",
        "colab": {
          "base_uri": "https://localhost:8080/"
        },
        "outputId": "c0d91fb6-9610-4bb6-843f-c2bdd105f76e"
      },
      "execution_count": 30,
      "outputs": [
        {
          "output_type": "execute_result",
          "data": {
            "text/plain": [
              "(32000, 8000, 32000, 8000)"
            ]
          },
          "metadata": {},
          "execution_count": 30
        }
      ]
    },
    {
      "cell_type": "markdown",
      "metadata": {
        "id": "rRtqeShj36Ge"
      },
      "source": [
        "#### 2.5 Create a ***tf.dataset***\n",
        "\n",
        "The input pipeline starts from importing the data and creating a dataset from the data stored in the memory. For this, you can use `tf.data.Dataset.from_tensor_slices()`, which creates a **tf.data.Dataset** the object whose elements are slices of the passed tensors. Once you have created the object, you can transform it by applying different operations to the dataset object. (for example, Dataset.map() orDataset.batch()).\n",
        "\n",
        "From the arrays of sequences created ater tokenisation, you can create a tf.data.Dataset of strings that shuffles and batches them efficiently"
      ]
    },
    {
      "cell_type": "markdown",
      "source": [
        "###### 2.5.1 Defining Hyperparameters\n",
        "The following hyperparameters for the creating the **tf.dataset** (and later for model building purposes as well) are specified:\n",
        "- `buffer_size`: This represents the buffer size for the training data. It is calculated by taking the length of the `source_sequences_train` array.\n",
        "- `val_buffer_size`: This represents the buffer size for the validation data. It is calculated by taking the length of the `source_sequences_val` array.\n",
        "- `BATCH_SIZE`: This represents the batch size for the training process. It is set to 64.\n",
        "- `embedding_dim`: This represents the embedding dimension for the input data. It is set to 128.\n",
        "- `units`: This represents the number of units in the recurrent neural network (RNN) used for the model. It is set to 1024.\n",
        "- `steps_per_epoch`: This represents the number of steps to take during each epoch of training. It is calculated as the `buffer_size` divided by the `BATCH_SIZE`.\n",
        "- `val_steps_per_epoch`: This represents the number of validation steps to take during each epoch of training. It is calculated as the `val_buffer_size` divided by the `BATCH_SIZE`.\n",
        "It is important to note that these hyperparameters have been selected based on heuristics and may need to be fine-tuned for different problems or data sets."
      ],
      "metadata": {
        "id": "5hrKGHrHkOFF"
      }
    },
    {
      "cell_type": "code",
      "source": [
        "#Defining hyperparameters\n",
        "buffer_size=len(source_sequences_train)\n",
        "val_buffer_size = len(source_sequences_val)\n",
        "BATCH_SIZE = 64\n",
        "embedding_dim = 128\n",
        "units = 1024 \n",
        "steps_per_epoch = buffer_size//BATCH_SIZE\n",
        "val_steps_per_epoch = val_buffer_size//BATCH_SIZE"
      ],
      "metadata": {
        "id": "0Klt6y-7kR5V"
      },
      "execution_count": 31,
      "outputs": []
    },
    {
      "cell_type": "code",
      "source": [
        "# Create a dataset object for the training set\n",
        "train_dataset = tf.data.Dataset.from_tensor_slices((source_sequences_train, tgt_sequences_train))\n",
        "\n",
        "# Shuffle and batch the training set\n",
        "train_dataset = train_dataset.shuffle(buffer_size=buffer_size).batch(BATCH_SIZE)\n",
        "\n",
        "# Create a dataset object for the validation set\n",
        "val_dataset = tf.data.Dataset.from_tensor_slices((source_sequences_val, tgt_sequences_val))\n",
        "\n",
        "# Batch the validation set\n",
        "val_dataset = val_dataset.batch(BATCH_SIZE)"
      ],
      "metadata": {
        "id": "JLixC-5tkab1"
      },
      "execution_count": 32,
      "outputs": []
    },
    {
      "cell_type": "code",
      "source": [
        "# Printing the shape of an input batch\n",
        "example_input_batch, example_target_batch = next(iter(train_dataset))\n",
        "example_input_batch.shape, example_target_batch.shape"
      ],
      "metadata": {
        "id": "KWVzH0jJkem-",
        "colab": {
          "base_uri": "https://localhost:8080/"
        },
        "outputId": "45deb62f-eb21-4528-bc70-fe200c1fe71d"
      },
      "execution_count": 33,
      "outputs": [
        {
          "output_type": "execute_result",
          "data": {
            "text/plain": [
              "(TensorShape([64, 16]), TensorShape([64, 12]))"
            ]
          },
          "metadata": {},
          "execution_count": 33
        }
      ]
    },
    {
      "cell_type": "markdown",
      "source": [
        "### **Task 3: Build the NMT model**\n",
        "\n",
        "Let's take a recap of what we have done so far and what we have to do further.\n",
        "\n",
        "![picture](https://drive.google.com/uc?id=1TxuSn45YlitOoPI63MfLIMJUGMWiuPt0)\n",
        "\n",
        "Once we have preprocessed the model, the next task is to pass it to the NMT model so that it can perform the task of machine translation:\n",
        "\n",
        "> #### Encoder-Decoder model with attention\n",
        "\n",
        "The encoder model consists of an embedding layer, a GRU layer with 1024 units.\n",
        "\n",
        "The decoder model consists of an attention layer, a embedding layer, a GRU layer and a dense layer.\n",
        "\n",
        "The attention model consists of three dense layers (BahdanauAttention Model) .\n",
        "\n",
        "\n",
        "---\n",
        "![picture](https://drive.google.com/uc?id=1AnbdmNzOi9WyEZ8RiMWL3MsndVliggs7)"
      ],
      "metadata": {
        "id": "OyfKKzO6kjTO"
      }
    },
    {
      "cell_type": "markdown",
      "source": [
        "#### 3.1 Build the Encoder\n",
        "The goal of the encoder is to process the context sequence into a sequence of vectors that are useful for the decoder as it attempts to predict the next output for each timestep.\n",
        "\n",
        "---\n",
        "\n",
        "\n",
        "The **Encoder** class is defined as a subclass of tf.keras.Model. It takes the following parameters as inputs:\n",
        "\n",
        "> **Class constructor:**\n",
        "\n",
        "* **vocab_size:** Integer representing the size of the vocabulary in the input language.\n",
        "* **emb_dim:** Integer representing the dimension of the embedding space.\n",
        "* **enc_units:** Integer representing the number of encoding GRU units.\n",
        "* **batch_sz:** Integer representing the batch size used during training.\n",
        "\n",
        "\n",
        "> It also initializes the following layers:\n",
        "\n",
        "* An **Embedding layer**, which maps the input language word indices to dense vectors in the embedding space. mask_zero argument is set to True to mask the padding in the input sequence.\n",
        "* A **GRU layer**, which performs the encoding of the input sequences.\n",
        "\n",
        "> The **call** method is defined to perform the forward pass of the Encoder. It takes two inputs:\n",
        "\n",
        "* x: Input sequences of shape (batch_size, sequence_length).\n",
        "* hidden: The initial hidden state, with shape **(batch_size, enc_units)**.\n",
        "\n",
        "> It does the following operations:\n",
        "1. The method first maps the input sequences to the embedding space using the Embedding layer. The resulting output has shape (batch_size, sequence_length, emb_dim).\n",
        "2. Then, the encoded sequence and the final hidden state are obtained by passing the embedded input through the GRU layer. The shape of the encoded sequence is **(batch_size, sequence_length, enc_units)** and the shape of the final hidden state is **(batch_size, enc_units).**\n",
        "3. The initialize_hidden_state method is used to initialize the hidden state of the GRU layer to all zeros, with shape **(batch_size, enc_units).**\n"
      ],
      "metadata": {
        "id": "z8EIkR3CuSkP"
      }
    },
    {
      "cell_type": "code",
      "execution_count": 34,
      "metadata": {
        "id": "cCxzpM5ioMQ0"
      },
      "outputs": [],
      "source": [
        "# Define the Encoder model\n",
        "class Encoder(tf.keras.Model):\n",
        "    \"\"\"\n",
        "    The Encoder model for the Seq2Seq model\n",
        "\n",
        "    \"\"\"\n",
        "    def __init__(self, vocab_size, emb_dim, enc_units, batch_sz):\n",
        "        super(Encoder, self).__init__()\n",
        "        # Store the number of GRU units in the encoder\n",
        "        self.enc_units = enc_units \n",
        "        # Store the batch size\n",
        "        self.batch_sz = batch_sz \n",
        "        # Define the embedding layer for the input sequence\n",
        "        self.embedding = tf.keras.layers.Embedding(vocab_size, emb_dim,mask_zero=True)\n",
        "        # Define the GRU layer for encoding the input sequence\n",
        "        self.gru = tf.keras.layers.GRU(self.enc_units,\n",
        "                                       return_sequences=True,\n",
        "                                       return_state=True,\n",
        "                                       recurrent_initializer='glorot_uniform') \n",
        "\n",
        "#we have initialized the encoder above, follow the instructions given in the comments below and complete the call function\n",
        "    def call(self, x, hidden):\n",
        "        \"\"\"\n",
        "        Forward pass for the Encoder model\n",
        "\n",
        "        \"\"\"\n",
        "        # Pass the input sequence through the embedding layer\n",
        "        x= self.embedding(x)\n",
        "\n",
        "        # Embed the input sequence, resulting in shape (batch_size, sequence_length, emb_dim)\n",
        "        \n",
        "        # Pass the embedded input sequence and initial hidden state through the GRU layer to return the output & hidden state.\n",
        "        output, state = self.gru(x, initial_state=hidden) \n",
        "        \n",
        "        # The output shape is (batch_size, sequence_length, enc_units)\n",
        "        # The state shape is (batch_size, enc_units)\n",
        "        return output, state \n",
        "\n",
        "    def initialize_hidden_state(self):\n",
        "        \"\"\"\n",
        "        Initialize the hidden state of the GRU to all zeros\n",
        "\n",
        "        \"\"\"\n",
        "        # Initialize the hidden state of the GRU to all zeros\n",
        "        return tf.zeros((self.batch_sz, self.enc_units))\n"
      ]
    },
    {
      "cell_type": "code",
      "execution_count": 35,
      "metadata": {
        "id": "8csB4tFeoQgV",
        "colab": {
          "base_uri": "https://localhost:8080/"
        },
        "outputId": "0f928ac5-78b0-4db9-ddb5-cb8f5cd45479"
      },
      "outputs": [
        {
          "output_type": "stream",
          "name": "stdout",
          "text": [
            "Encoder output shape: (batch size, sequence length, units) (64, 16, 1024)\n",
            "Encoder Hidden state shape: (batch size, units) (64, 1024)\n"
          ]
        }
      ],
      "source": [
        "#Create an Encoder class object\n",
        "encoder = Encoder(src_vocab_size, embedding_dim, units, BATCH_SIZE) \n",
        "\n",
        "# sample input to get a sense of the shapes.\n",
        "sample_hidden = encoder.initialize_hidden_state()\n",
        "sample_output, sample_hidden = encoder(example_input_batch, sample_hidden)\n",
        "print ('Encoder output shape: (batch size, sequence length, units) {}'.format(sample_output.shape))\n",
        "print ('Encoder Hidden state shape: (batch size, units) {}'.format(sample_hidden.shape))"
      ]
    },
    {
      "cell_type": "markdown",
      "source": [
        "#### 3.2 Bahdanau Attention Layer\n",
        "This class implements the Bahdanau Attention mechanism in TensorFlow as a custom layer. The class extends the **tf.keras.layers.Layer** class and overrides the call method to implement the Bahdanau attention mechanism.\n",
        "\n",
        "We will use the subclassing approach again for building the Attention layer as we have done for the Encoder. This will help us in training all of the sub-layers inside it together during the end-to-end training process of the NMT model.\n",
        "\n",
        ">**Architecture**\n",
        "The Bahdanau Attention layer consists of three fully-connected dense layers:\n",
        "1. **W1**: the first dense layer with units number of units.\n",
        "2. **W2**: the second dense layer with units number of units.\n",
        "3. **V**: the third dense layer with 1 unit.\n",
        "\n",
        "> **Inputs:**\n",
        "The input to the call method are two tensors:\n",
        "1. **Query**: a tensor with shape (batch_size, hidden size) representing the hidden state.\n",
        "2. **Values**: a tensor with shape (batch_size, max_len, hidden size) representing the values to attend over.\n",
        "\n",
        "> **Outputs:**\n",
        "The outputs of the call method are:\n",
        "1. **Context_vector**: a tensor with shape (batch_size, hidden_size) representing the context vector.\n",
        "2. **Attention_weights**: a tensor with shape (batch_size, max_length, 1) representing the attention weights.\n",
        "\n",
        ">**Algorithm**\n",
        "* The query tensor is expanded along the time axis to broadcast addition with the values tensor.\n",
        "* The score is calculated by applying the tanh activation on the result of the addition of W1(query_with_time_axis) and W2(values).\n",
        "* The attention weights are obtained by applying the softmax activation on the score.\n",
        "* The context vector is obtained by multiplying the attention weights with the values tensor and summing over the max length axis.\n",
        "* Finally, both the context vector and the attention weights are returned."
      ],
      "metadata": {
        "id": "allCYsI1Itvt"
      }
    },
    {
      "cell_type": "code",
      "source": [
        "# a class defined for the attention layer\n",
        "# returns attention weights and context vector.\n",
        "\n",
        "class BahdanauAttention(tf.keras.layers.Layer):\n",
        "  \"\"\"\n",
        "    Attention model for the Seq2Seq model\n",
        "\n",
        "  \"\"\"\n",
        "  def __init__(self, units):\n",
        "    super(BahdanauAttention, self).__init__()\n",
        "    self.W1 = tf.keras.layers.Dense(units) # fully-connected dense layer-1\n",
        "    self.W2 = tf.keras.layers.Dense(units) # fully-connected dense layer-2\n",
        "    self.V = tf.keras.layers.Dense(1) # fully-connected dense layer-3\n",
        "\n",
        "  def call(self, query, values):\n",
        "    \"\"\"\n",
        "        Forward pass for the Attention model\n",
        "\n",
        "    \"\"\"\n",
        "    # query hidden state shape == (batch_size, hidden size)\n",
        "    # query_with_time_axis shape == (batch_size, 1, hidden size)\n",
        "    # values shape == (batch_size, max_len, hidden size)\n",
        "    # we are doing this to broadcast addition along the time axis to calculate the score\n",
        "\n",
        "    #write a code below to expand the dimension of query by 1 dimension. You can use tf.expand_dims() to execute this.\n",
        "   \n",
        "    query_with_time_axis = tf.expand_dims(query, 1)\n",
        "\n",
        "    # score shape == (batch_size, max_length, 1)\n",
        "    # we get 1 at the last axis because we are applying score to self.V\n",
        "    # the shape of the tensor before applying self.V is (batch_size, max_length, units)\n",
        "    score = self.V(tf.nn.tanh(self.W1(query_with_time_axis) + self.W2(values)))\n",
        "\n",
        "    # write code to calculate the attention weights using the softmax and score\n",
        "    # attention_weights shape == (batch_size, max_length, 1)\n",
        "   \n",
        "    attention_weights = tf.nn.softmax(score, axis=1)\n",
        "\n",
        "    context_vector = attention_weights * values\n",
        "\n",
        "    # context_vector shape after sum == (batch_size, hidden_size)\n",
        "    context_vector = tf.reduce_sum(context_vector, axis=1)\n",
        "\n",
        "    return context_vector, attention_weights"
      ],
      "metadata": {
        "id": "8KF4I_RkmiFW"
      },
      "execution_count": 36,
      "outputs": []
    },
    {
      "cell_type": "code",
      "source": [
        "attention_layer = BahdanauAttention(20) # create an attention layer object\n",
        "attention_result, attention_weights = attention_layer(sample_hidden, sample_output) # pass sample encoder output and hidden layer to get a sense of the shape of the output of the attention layer.\n",
        "\n",
        "print(\"Attention result shape (context vector): (batch size, units) {}\".format(attention_result.shape))\n",
        "print(\"Attention weights shape: (batch_size, sequence_length, 1) {}\".format(attention_weights.shape))"
      ],
      "metadata": {
        "id": "X2swoaxOmkhI",
        "colab": {
          "base_uri": "https://localhost:8080/"
        },
        "outputId": "28a8f0d9-44af-4052-ae5f-c01a01114dc6"
      },
      "execution_count": 37,
      "outputs": [
        {
          "output_type": "stream",
          "name": "stdout",
          "text": [
            "Attention result shape (context vector): (batch size, units) (64, 1024)\n",
            "Attention weights shape: (batch_size, sequence_length, 1) (64, 16, 1)\n"
          ]
        }
      ]
    },
    {
      "cell_type": "markdown",
      "source": [
        "#### 3.3: Build the decoder\n",
        "The decoder's job is to generate predictions for the next token at each location in the target sequence.\n",
        "\n",
        "---\n",
        "\n",
        "\n",
        "This code defines a Decoder class that implements a decoder model for a sequence-to-sequence architecture. The decoder model will take in an input sequence and the hidden state from the encoder and generate the target sequence.\n",
        "\n",
        "> **Class constructor**:The __init__ method initializes the class variables:\n",
        "\n",
        "* **vocab_size**: The size of the target vocabulary.\n",
        "*embedding_dim: The size of the embedding layer that converts the target sequence into dense vectors.\n",
        "* **dec_units:** The number of GRU units in the decoder.\n",
        "* **batch_sz:** The batch size of the input data.\n",
        "\n",
        "> It also initializes the following layers:\n",
        "* **attention**: An instance of the BahdanauAttention class.\n",
        "* **Embedding**: An embedding layer to convert the target sequences into dense vectors.\n",
        "* **GRU**: A GRU layer to perform the decoding.\n",
        "* **FC**: A dense layer to generate the final target sequence.\n",
        "\n",
        ">**call** method: The call method implements the forward pass of the decoder. It  takes in 3 inputs: x, hidden, and enc_output.\n",
        "\n",
        "* x: Input sequences of shape (batch_size, sequence_length).\n",
        "* hidden:  hidden state from the encoder hidden.  **(batch_size, dec_units)\n",
        "* enc_output: The output of the encoder (shape: (batch_size, max_length, hidden_size)).\n",
        "\n",
        ">It does the following operations:\n",
        "1. Computes the context vector and the attention weights from the attention layer,\n",
        "2. Embeds the input x using the embedding layer.\n",
        "3. Concatenates the context vector with the embedded target sequence\n",
        "4. Passes the concatenated sequence and the hidden state from the encoder to the GRU layer. This generates the output and the new hidden state.\n",
        "3. Reshapes the output to a 2D tensor.\n",
        "4. Passes the reshaped output through the dense layer to generate the final target sequence.\n",
        "5. It returns the final target sequence and the new hidden state."
      ],
      "metadata": {
        "id": "6lPmkwHDJ9RH"
      }
    },
    {
      "cell_type": "code",
      "execution_count": 38,
      "metadata": {
        "id": "JizsQfXQumf0"
      },
      "outputs": [],
      "source": [
        "# Define the Decoder model\n",
        "class Decoder(tf.keras.Model):\n",
        "  def __init__(self, vocab_size, emb_dim, dec_units, batch_sz):\n",
        "    super(Decoder, self).__init__()\n",
        "    \n",
        "    # initialize the batch size\n",
        "    self.batch_sz = batch_sz \n",
        "    \n",
        "    # initialize the number of decoder units\n",
        "    self.dec_units = dec_units \n",
        "    \n",
        "    # initialize the attention layer\n",
        "    self.attention = BahdanauAttention(self.dec_units)\n",
        "    \n",
        "    # initialize the embedding layer\n",
        "    self.embedding = tf.keras.layers.Embedding(vocab_size, emb_dim) \n",
        "    \n",
        "    # initialize the GRU layer with the number of decoder units, return sequences and state set to True\n",
        "    # and the recurrent initializer set to 'glorot_uniform'\n",
        "    self.gru = tf.keras.layers.GRU(self.dec_units,\n",
        "                                   return_sequences=True,\n",
        "                                   return_state=True,\n",
        "                                   recurrent_initializer='glorot_uniform') \n",
        "    # initialize a fully connected layer with the number of output units equal to the vocabulary size\n",
        "    self.fc = tf.keras.layers.Dense(vocab_size)\n",
        "\n",
        "#we have initialized the decoder above, follow the instructions given in the comments below and complete the call function\n",
        "  def call(self, x, hidden, enc_output):\n",
        "\n",
        "     # enc_output shape == (batch_size, max_length, hidden_size)\n",
        "    # get the context vector and attention weights from the attention layer\n",
        "    context_vector, attention_weights = self.attention(hidden,enc_output)\n",
        "\n",
        "    # pass the input sequence through the embedding layer\n",
        "    # x shape after passing through embedding == (batch_size, 1, embedding_dim)\n",
        "    x= self.embedding(x)\n",
        "\n",
        "    # concatenate the context vector and the embedded input sequence\n",
        "    # x shape after concatenation == (batch_size, 1, embedding_dim + hidden_size)\n",
        "    x= tf.concat([tf.expand_dims( context_vector, 1), x],axis=-1)\n",
        "\n",
        "    # pass the concatenated sequence and the initial state to the GRU as the hidden state\n",
        "    output, state = self.gru(x)\n",
        "\n",
        "    # reshape the GRU output to be of shape (batch_size * 1, hidden_size)\n",
        "    output= tf.reshape(output, (-1, output.shape[2]))\n",
        "\n",
        "    # pass the reshaped output through the fully connected layer to get the final output of shape (batch_size, vocab)\n",
        "    x= self.fc(output)\n",
        "    \n",
        "    # return the decoder output, decoder state and attention weights\n",
        "    return x, state , attention_weights\n"
      ]
    },
    {
      "cell_type": "code",
      "execution_count": 39,
      "metadata": {
        "id": "c0lzlKGOurCm",
        "colab": {
          "base_uri": "https://localhost:8080/"
        },
        "outputId": "d6b59050-521b-4b89-efea-c39944a2c805"
      },
      "outputs": [
        {
          "output_type": "stream",
          "name": "stdout",
          "text": [
            "Decoder output shape: (batch_size, vocab size) (64, 6083)\n"
          ]
        }
      ],
      "source": [
        "#Create an Decoder class object\n",
        "decoder = Decoder(tgt_vocab_size, embedding_dim, units, BATCH_SIZE)\n",
        "# sample input to get a sense of the shapes.\n",
        "sample_decoder_output, _, _ = decoder(tf.random.uniform((BATCH_SIZE, 1)),\n",
        "                                      sample_hidden, sample_output)\n",
        "\n",
        "print ('Decoder output shape: (batch_size, vocab size) {}'.format(sample_decoder_output.shape))"
      ]
    },
    {
      "cell_type": "markdown",
      "source": [
        "### **Task 4: Train the NMT model**\n",
        "\n"
      ],
      "metadata": {
        "id": "FfmOfx3VMbiF"
      }
    },
    {
      "cell_type": "markdown",
      "source": [
        "#### 4.1 Configure the model.\n",
        "To train the model you'll need several additional components:\n",
        "\n",
        "* **The Loss function**: The loss_function method calculates the loss between the target data and the model's prediction. The real argument is the target data, and the pred argument is the model's prediction.\n",
        "\n",
        "> The method first creates a binary mask to indicate which target data points are not padding (not equal to 0). The loss is calculated using the loss_object and the masked loss is returned by taking the mean of the masked loss values.\n",
        "\n",
        "* **The Optimizer** : Defines the optimizer and the loss function used to train the model. The optimizer used is Adam and the loss function used is SparseCategoricalCrossentropy.\n",
        "\n",
        "> SparseCategoricalCrossentropy is used because the target data is a categorical variable, but not one-hot encoded, so we use this form of categorical crossentropy loss. The from_logits argument is set to True because the model produces logits rather than probabilistic outputs, and the reduction argument is set to none because the loss values need to be calculated for each time step and then masked.\n",
        "\n",
        "* **Checkpoints**: The code defines the checkpoint and its directory. The checkpoint is a mechanism to save the model's state after each training epoch, so that we can resume training from the saved state if needed. \n",
        "\n",
        ">The checkpoint_dir is set to ./training_checkpoints and the checkpoint_prefix is set to ckpt inside the checkpoint_dir. The checkpoint is then defined using the tf.train.Checkpoint method, and includes the optimizer, the encoder and the decoder as its attributes.\n",
        "\n",
        "Here's an implementation of a masked loss and accuracy:"
      ],
      "metadata": {
        "id": "36m5MSKCVGk8"
      }
    },
    {
      "cell_type": "code",
      "execution_count": 40,
      "metadata": {
        "id": "DewBBiw8wnCG"
      },
      "outputs": [],
      "source": [
        "# Define the loss function and the optimizer\n",
        "# Use the Adam optimizer\n",
        "optimizer = tf.keras.optimizers.Adam()\n",
        "\n",
        "# Loss function is sparse categorical cross entropy\n",
        "loss_object = tf.keras.losses.SparseCategoricalCrossentropy(from_logits=True, reduction='none')\n",
        "\n",
        "\n",
        "\n",
        "# Define the loss function to calculate the difference between the real and predicted outputs\n",
        "def loss_function(real, pred):\n",
        "  mask = tf.math.logical_not(tf.math.equal(real, 0))  # Create a mask to ignore the padding values in the target sequence\n",
        "  loss_ = loss_object(real, pred)  # Calculate the loss using the loss function\n",
        "\n",
        "  # Multiply the loss by the mask to ignore the padding values\n",
        "  mask = tf.cast(mask, dtype=loss_.dtype)  # Cast the mask to the same data type as the loss\n",
        "  loss_ *= mask\n",
        "\n",
        "  # Calculate the mean loss across the batch size\n",
        "  return tf.reduce_mean(loss_)\n",
        "\n",
        "\n",
        "\n",
        "# Define the checkpoint path to save the training progress\n",
        "checkpoint_dir = './training_checkpoints'  # Directory to store the checkpoints\n",
        "checkpoint_prefix = os.path.join(checkpoint_dir, \"ckpt\")  # File prefix for the checkpoints\n",
        "checkpoint = tf.train.Checkpoint(optimizer=optimizer,  # Create a checkpoint object to save the optimizer and the models\n",
        "                                 encoder=encoder,\n",
        "                                 decoder=decoder)\n"
      ]
    },
    {
      "cell_type": "markdown",
      "source": [
        "#### 4.2 Configure the training step:\n",
        "A custom training loop (instead of Model.Fit etc.) is used for which further reference is available from Tensorflow [here](https://www.tensorflow.org/guide/keras/writing_a_training_loop_from_scratch)\n",
        "\n",
        "NOTE: While training the model, make sure your instance is GPU based.\n",
        "\n",
        "---\n",
        "\n",
        "\n",
        "\n",
        "The code is annotated with \"@tf.function\", which tells TensorFlow to compile this function for performance optimization. \n",
        "This is a TensorFlow function for a single training step of a sequence-to-sequence model. The input to the function includes:\n",
        "- `inp`: The input sequence to be encoded\n",
        "- `targ`: The target sequence to be decoded\n",
        "- `enc_hidden`: The initial hidden state of the encoder\n",
        "\n",
        "> The function performs the following operations:\n",
        "1. Encode the input sequence to get the encoded output and the final hidden state of the encoder.\n",
        "2. Set the initial hidden state of the decoder to the final hidden state of the encoder.\n",
        "3. Loop over the time steps of the target sequence to be passed as current input along with the hidden state and encoder output to get the predicted output and the next hidden state.\n",
        "4. Computing the loss between the target and the predicted output for each time step.\n",
        "5. Comparing the gradients of the loss with respect to the trainable variables of the encoder and decoder.\n",
        "6. Update the variables based on the computed gradients using an optimiser.\n",
        "\n",
        "---\n",
        "![picture](https://drive.google.com/uc?id=1siOhKcS8fYD_q71yarQE-uIofPV_CI81)"
      ],
      "metadata": {
        "id": "V1RCSNp2MiKp"
      }
    },
    {
      "cell_type": "code",
      "execution_count": 42,
      "metadata": {
        "id": "3Sx5blrnz-Wn"
      },
      "outputs": [],
      "source": [
        "@tf.function\n",
        "def train_step(inp, targ, enc_hidden):\n",
        "  # Initialize loss to 0\n",
        "  loss = 0\n",
        "\n",
        "  # Start recording operations for automatic differentiation\n",
        "  with tf.GradientTape() as tape:\n",
        "    # Encode the input with the hidden state and get the encoded output and the hidden state\n",
        "    enc_output, enc_hidden = encoder(inp, enc_hidden)\n",
        "\n",
        "    # Set the initial hidden state of the decoder to be the final hidden state of the encoder\n",
        "    dec_hidden = enc_hidden\n",
        "\n",
        "    # Set the initial input of the decoder to the start-of-sequence token\n",
        "    dec_input = tf.expand_dims([tgt_lang_tokenizer.word_index['<sos>']] * BATCH_SIZE, 1)\n",
        "\n",
        "    # Loop over the time steps of the target sequence\n",
        "    for t in range(1, targ.shape[1]):\n",
        "      # Pass the current input and hidden state to the decoder, along with the encoder output\n",
        "      predictions, dec_hidden, _ = decoder(dec_input, dec_hidden, enc_output)\n",
        "      # Compute the loss between the target and the predicted output\n",
        "      loss += tf.keras.losses.sparse_categorical_crossentropy(targ[:, t], predictions)\n",
        "\n",
        "      # Use teacher forcing - set the next input to be the target\n",
        "      dec_input =tf.expand_dims(targ[:, t], 1)\n",
        "\n",
        "  # Compute the average loss over all time steps\n",
        "  batch_loss = (loss / int(targ.shape[1]))\n",
        "\n",
        "  # Get a list of all trainable variables in the encoder and decoder\n",
        "  variables = encoder.trainable_variables + decoder.trainable_variables\n",
        "\n",
        "  # Compute the gradients of the loss with respect to the variables\n",
        "  gradients = tape.gradient(loss, variables)\n",
        "\n",
        "  # Use the optimizer to update the variables based on the computed gradients\n",
        "  optimizer.apply_gradients(zip(gradients, variables))\n",
        "\n",
        "  # Return the average loss for this batch\n",
        "  return batch_loss"
      ]
    },
    {
      "cell_type": "markdown",
      "source": [
        "#### 4.3 Configure the validation step:\n",
        "The purpose of the validation step is to evaluate the model's performance on a validation dataset and to monitor the training process.\n",
        "\n",
        "---\n",
        "This is a TensorFlow function for a single validation step of a sequence-to-sequence model. The input to the function includes:\n",
        "- `inp`: The input sequence to be encoded\n",
        "- `targ`: The target sequence to be decoded\n",
        "- `enc_hidden`: The initial hidden state of the encoder\n",
        "\n",
        ">The function performs the following operations:\n",
        "1. Encoding the input sequence to get the encoded output and the final hidden state of the encoder\n",
        "2. Setting the initial hidden state of the decoder to be the final hidden state of the encoder\n",
        "3. Looping over the time steps of the target sequence, passing the current input and hidden state to the decoder, along with the encoder output, to get the predicted output\n",
        "4. Computing the loss between the target and the predicted output for each time step\n",
        "5. Computing the average loss over all time steps\n",
        "6. Returning the average loss for this batch"
      ],
      "metadata": {
        "id": "FSsM1rU_NyyH"
      }
    },
    {
      "cell_type": "code",
      "execution_count": 43,
      "metadata": {
        "id": "9FnspQbMRGRM"
      },
      "outputs": [],
      "source": [
        "# Define the validation step\n",
        "@tf.function\n",
        "def val_step(inp, targ, enc_hidden):\n",
        "    loss = 0 # Initialize the total loss for this batch\n",
        "    \n",
        "    # Encoding the input sequence to get the encoded output and the final hidden state of the encoder\n",
        "    enc_output, enc_hidden = encoder(inp, enc_hidden)\n",
        "\n",
        "    # Setting the initial hidden state of the decoder to be the final hidden state of the encoder\n",
        "    dec_hidden = enc_hidden \n",
        "    \n",
        "    # Setting the input to the decoder to be the start-of-sequence token\n",
        "    dec_input =tf.expand_dims([tgt_lang_tokenizer.word_index['<sos>']] * BATCH_SIZE, 1)  \n",
        "\n",
        "    for t in range(1, targ.shape[1]): # Looping over the time steps of the target sequence\n",
        "\n",
        "    # Getting the predicted output and the next hidden state by passing the current input, hidden state, and encoder output to the decoder\n",
        "        predictions, dec_hidden, _ = decoder(dec_input, dec_hidden, enc_output)\n",
        "        loss += tf.keras.losses.sparse_categorical_crossentropy(targ[:, t], predictions)\n",
        "        dec_input = tf.expand_dims(targ[:, t], 1)\n",
        "\n",
        "    batch_loss = (loss / int(targ.shape[1]))\n",
        "\n",
        "    return batch_loss # Returning the average loss for this batch\n"
      ]
    },
    {
      "cell_type": "markdown",
      "source": [
        "#### 4.4 Initiate the model training:\n",
        "\n",
        "The following code trains a sequence to sequence model using the training and validation datasets. The model will be trained for 10 epochs.\n",
        "\n",
        "*NOTE: It is recommended that you train it for more number of epochs to evaluate whether the model's performance is increasing or not.*\n",
        "\n",
        "> At each epoch:\n",
        "* Step 1: Initialise Encoder’s hidden state\n",
        "* Step 2: Invoke train_step function\n",
        "* Step 3: Generate loss for each batch of the training dataset \n",
        "* Step 4: Accumulate loss to calculate the total training loss.\n",
        "* Step 5: Invoke train_step function\n",
        "* Step 6: Generate loss for each batch of the validation dataset \n",
        "* Step 7: Accumulate loss to calculate the total validation loss\n",
        "* Step 8: Store model after every 2 epochs\n",
        "* Step 9: Print metrics score\n",
        "\n",
        "---\n",
        "![picture](https://drive.google.com/uc?id=11FigkC_xa_cMfXcIF12U8DxYrjgqJKBK)"
      ],
      "metadata": {
        "id": "RNLsQg0lOwjo"
      }
    },
    {
      "cell_type": "code",
      "execution_count": 44,
      "metadata": {
        "id": "YrsM8VZC0Ars"
      },
      "outputs": [],
      "source": [
        "import time\n",
        "\n",
        "def train_and_validate(train_dataset, val_dataset, EPOCHS=10):\n",
        "    for epoch in range(EPOCHS):\n",
        "        start = time.time()\n",
        "\n",
        "        #Step1: \n",
        "        enc_hidden = encoder.initialize_hidden_state()\n",
        "        total_train_loss = 0\n",
        "        total_val_loss = 0\n",
        "        for (batch, (inp, targ)) in enumerate(train_dataset.take(steps_per_epoch)):\n",
        "\n",
        "            #Step 2 & 3: \n",
        "            # Call the train_step function by passing the input, target & encoder hidden state\n",
        "            batch_loss = train_step(inp, targ, enc_hidden)\n",
        "            #Step 4: \n",
        "            total_train_loss +=  batch_loss\n",
        "\n",
        "            # Print the loss every 100 batches\n",
        "            if batch % 100 == 0:\n",
        "                print('Epoch {} Batch {} Loss {}'.format(epoch + 1,\n",
        "                                                            batch,\n",
        "                                                            batch_loss.numpy()))\n",
        "       \n",
        "        # Calculate the loss for each batch of validation data\n",
        "        for (batch, (inp, targ)) in enumerate(val_dataset.take(val_steps_per_epoch)):    \n",
        "            #Step 5 & 6\n",
        "            # Call the val_step function by passing the input, target & encoder hidden state\n",
        "            val_batch_loss = val_step(inp, targ, enc_hidden)\n",
        "            #Step 7\n",
        "            total_val_loss += val_batch_loss\n",
        "\n",
        "        #Step 8\n",
        "        if (epoch + 1) % 2 == 0:\n",
        "            checkpoint.save(file_prefix = checkpoint_prefix)\n",
        "        \n",
        "        #Step 9\n",
        "        # Print the average training loss for the epoch\n",
        "        print('Total training loss is {}'.format(total_train_loss / steps_per_epoch))\n",
        "\n",
        "        # Print the average validation loss for the epoch\n",
        "        print('Total validation loss is {}'.format( total_val_loss / val_steps_per_epoch))\n",
        "\n",
        "        #Print the total time taken for each batch\n",
        "        print('Time taken for 1 epoch {} sec\\n'.format(time.time() - start))\n"
      ]
    },
    {
      "cell_type": "code",
      "source": [
        "train_and_validate(train_dataset,val_dataset)"
      ],
      "metadata": {
        "colab": {
          "base_uri": "https://localhost:8080/"
        },
        "id": "DOEc_wkCTDKY",
        "outputId": "55859998-b2f6-4a09-9254-456bbee7e2a7"
      },
      "execution_count": 45,
      "outputs": [
        {
          "output_type": "stream",
          "name": "stdout",
          "text": [
            "Epoch 1 Batch 0 Loss [14.013088  12.958342  12.314585  12.037495  12.317575  14.515247\n",
            " 13.004139  13.927547  12.355801  13.82382   14.207698  12.635252\n",
            " 12.244629  14.771525  13.168253  15.428471  12.857969  12.135931\n",
            " 11.634832  12.690234  12.071821  12.776367  14.547015  14.220481\n",
            " 13.724667  14.5646925 13.792685  11.458517  13.147746  13.886363\n",
            " 13.834766  13.154144  14.159335  13.14576   12.400198  13.814952\n",
            " 14.712086  14.1193695 12.437419  13.836626  12.203194  14.715259\n",
            " 13.785542  14.770492  12.844337  13.945727  13.991026  11.400364\n",
            " 12.905592  13.774398  15.432922  14.585925  10.013086  15.430034\n",
            " 13.79801   13.037872  11.751188  12.623836  13.824779  13.965579\n",
            " 13.283088  14.634148  14.607498  12.021019 ]\n",
            "Epoch 1 Batch 100 Loss [2.8085709 1.831796  2.6835985 3.734433  2.6334763 3.1255984 5.5184593\n",
            " 3.1397076 3.8820195 3.924853  2.7769747 4.933769  5.1596165 2.9196174\n",
            " 5.315832  3.8285918 2.726933  3.6527271 2.8596458 2.6823251 3.7448535\n",
            " 4.175714  3.1083038 3.8619382 2.8287158 3.8797107 3.8264673 3.8897376\n",
            " 4.3340406 6.124883  5.009329  1.6702161 4.006527  3.7589233 3.7834435\n",
            " 3.9359717 5.1233377 4.234409  3.0377402 4.2258596 2.7642875 2.6334848\n",
            " 2.7039297 3.9310615 5.0481415 2.6747434 3.84024   4.0916166 5.1470966\n",
            " 4.1498814 2.9283013 3.8798318 3.7737179 4.015316  4.040157  4.02145\n",
            " 4.3343115 4.3062797 2.7047663 3.9780064 5.1047783 3.7383933 4.290849\n",
            " 4.9756355]\n",
            "Epoch 1 Batch 200 Loss [4.577041  4.2903953 3.870606  2.9438667 3.6605353 2.573919  3.0174303\n",
            " 3.1244602 4.598085  3.8747108 4.1330867 4.736324  5.379862  2.7261207\n",
            " 2.7241864 3.1108673 3.232726  1.8526735 3.8184144 4.1216373 1.5877967\n",
            " 2.6774824 3.5822334 2.6613114 3.297862  2.8059995 3.0548086 1.9406137\n",
            " 2.2967324 2.2369397 2.5164428 2.9884057 3.40742   5.150421  4.4525685\n",
            " 2.9859676 1.9190938 4.357362  3.6624165 2.5587866 2.5613647 2.5729704\n",
            " 3.5825858 3.0089111 1.8429565 2.9010568 3.3253422 3.6822994 2.3144145\n",
            " 3.7919497 3.732684  2.9452932 3.5638027 3.1426942 3.8054352 4.102909\n",
            " 2.5663548 3.224904  3.881588  1.9010055 1.9545314 3.6990018 3.1367974\n",
            " 4.1899414]\n",
            "Epoch 1 Batch 300 Loss [3.5448225 4.414235  4.2704616 3.5484722 2.7294655 3.8931742 3.7972362\n",
            " 3.5448205 2.9283314 4.52277   2.673843  1.6617879 3.5448337 3.5449283\n",
            " 2.8203304 1.8062608 4.593751  3.1106782 4.995941  2.8192744 3.1582742\n",
            " 2.7508473 2.5142946 3.6136107 3.797236  3.2615304 1.0257246 3.5448341\n",
            " 3.5448108 3.4166887 3.1582747 1.7417917 2.0958438 2.3470588 4.3778296\n",
            " 3.123142  3.1582565 3.6558902 1.6633466 4.2703533 4.409026  3.646285\n",
            " 3.8931746 1.8044345 3.2246895 2.6645966 4.331134  3.9728503 3.3736458\n",
            " 3.9307556 2.3854043 3.1717288 3.7972484 3.071703  3.2772655 1.6206119\n",
            " 4.618715  3.5448196 2.1793966 3.0738132 4.9960184 1.7217748 3.159449\n",
            " 4.9959407]\n",
            "Epoch 1 Batch 400 Loss [3.0949597 1.8922272 4.9555182 3.0964017 4.546055  1.6861885 3.77419\n",
            " 4.403195  3.2383056 4.230024  2.860509  3.4434986 4.2300253 3.3392496\n",
            " 1.7280483 2.5536835 2.803126  3.1740823 4.499896  3.774231  2.0547874\n",
            " 2.7788563 3.9039378 3.7742057 3.2806568 2.4539802 2.780067  3.0510283\n",
            " 4.2138944 4.778389  1.6728433 3.7087345 3.7756824 5.18291   1.6683233\n",
            " 3.5043883 4.4997754 4.499894  2.3230941 5.232014  4.2653885 1.6728609\n",
            " 4.2299933 3.504422  3.0949597 4.9556837 3.5045161 3.174111  3.0994945\n",
            " 2.4733338 3.2423227 3.9078293 4.9556427 3.0863245 3.5044239 3.903637\n",
            " 5.680141  4.9555726 4.277894  4.955518  3.5043888 4.085989  2.455846\n",
            " 3.5059152]\n",
            "Total training loss is [3.549739  3.4842687 3.47186   3.4669611 3.6127355 3.5307443 3.457597\n",
            " 3.526796  3.510419  3.5768352 3.4546123 3.4158058 3.5687249 3.551441\n",
            " 3.510858  3.5290627 3.5161216 3.4978116 3.5964506 3.5565603 3.519083\n",
            " 3.4487305 3.4642727 3.5357578 3.5192647 3.5499759 3.4873717 3.514938\n",
            " 3.4665856 3.5245924 3.4545028 3.551919  3.5389814 3.4837995 3.5188482\n",
            " 3.547953  3.5093997 3.586006  3.532854  3.5216682 3.5194533 3.4888887\n",
            " 3.3903055 3.4908552 3.566882  3.5858674 3.5326567 3.5445473 3.520403\n",
            " 3.5222456 3.4888594 3.4597025 3.5546207 3.4624798 3.5164979 3.4597697\n",
            " 3.5516872 3.4269564 3.5342433 3.4895453 3.5884023 3.5372016 3.507274\n",
            " 3.53597  ]\n",
            "Total validation loss is [3.2285354 3.4768453 3.4427655 3.4379191 3.3661218 3.3993459 3.2847939\n",
            " 3.291308  3.370098  3.444769  3.2739913 3.2276194 3.4522815 3.3414881\n",
            " 3.185398  3.34622   3.369604  3.3701212 3.4492943 3.5300665 3.4877687\n",
            " 3.375651  3.4566007 3.368763  3.3872676 3.3840292 3.4393692 3.448691\n",
            " 3.2661552 3.4207985 3.3267221 3.4209468 3.2888758 3.408987  3.4265728\n",
            " 3.3063855 3.405343  3.3215065 3.4939415 3.4036922 3.2589288 3.3764906\n",
            " 3.4613118 3.3829699 3.2486713 3.3703597 3.3959756 3.241499  3.405607\n",
            " 3.4791756 3.3714583 3.4461324 3.4097145 3.4219337 3.38429   3.3945959\n",
            " 3.2936468 3.2928321 3.298836  3.5213351 3.3829386 3.3802776 3.343508\n",
            " 3.4455016]\n",
            "Time taken for 1 epoch 74.28104877471924 sec\n",
            "\n",
            "Epoch 2 Batch 0 Loss [3.1052608  3.0486126  4.9078712  2.4656925  4.183436   3.0914123\n",
            " 1.719913   4.708829   2.47904    3.091041   3.0486112  2.522546\n",
            " 4.1821876  1.639872   3.1912372  0.99502695 1.9954981  3.4566073\n",
            " 3.4566321  1.7534039  3.0485854  4.182229   3.2846134  4.182233\n",
            " 0.8996667  4.270179   3.1883016  4.182249   5.6334486  4.182247\n",
            " 4.1822352  3.1883025  2.219282   3.0819168  3.8439374  3.5078015\n",
            " 4.182186   4.9078245  4.6841455  2.5629945  2.5140114  3.7741868\n",
            " 3.8167295  3.8871124  4.2530518  3.7741628  3.456602   3.9754004\n",
            " 4.182232   4.1821833  2.8041344  2.8669887  2.326183   1.9308509\n",
            " 2.682817   3.8967032  3.887208   3.975211   3.1912093  4.182188\n",
            " 4.9077864  4.9080734  3.0910823  3.4565685 ]\n",
            "Epoch 2 Batch 100 Loss [3.6397958 3.0666957 4.8139553 1.8768356 2.636912  4.088337  4.81456\n",
            " 4.0882773 3.0103147 1.6623421 2.6369164 3.3625906 5.5395713 4.0882797\n",
            " 2.637592  4.0514817 4.0890675 3.7923598 5.5395136 4.635638  3.9084413\n",
            " 4.0514812 3.3627727 3.3625865 2.6379528 3.3625941 2.3642843 3.362587\n",
            " 3.9444346 2.537836  1.91235   4.0882792 5.9340434 4.635703  3.328324\n",
            " 3.4061007 3.3625884 3.325808  2.343555  4.088264  3.1843557 3.821902\n",
            " 3.7271793 5.5399323 4.053051  5.5395985 4.2576666 4.0885034 4.088283\n",
            " 4.088285  4.088513  4.5179253 4.8141756 2.4602466 2.6749973 3.0666685\n",
            " 3.0672777 4.088371  3.5912864 4.088203  3.3630493 3.8391137 3.11353\n",
            " 2.4601529]\n",
            "Epoch 2 Batch 200 Loss [3.6333816 2.9970913 3.8594031 4.359026  3.6359453 2.230726  4.3590274\n",
            " 3.6333823 3.6333823 5.08467   4.4438787 4.3590255 2.2342396 2.9077387\n",
            " 3.9403417 2.9077377 3.6478412 2.9077377 3.6333842 4.359026  3.6333816\n",
            " 3.6334224 4.359027  4.359026  2.9187648 2.9077384 5.08471   3.6333816\n",
            " 2.9077377 2.1820939 2.9077377 2.9083965 4.3590274 4.359026  4.359026\n",
            " 3.0415378 4.359026  4.359026  3.6333816 3.6333833 4.359066  4.0620384\n",
            " 2.9077377 3.6333823 3.6333823 3.635945  2.908288  4.359066  3.6333823\n",
            " 3.6334217 4.359068  5.08467   2.9077365 2.1828117 3.8356204 2.9077373\n",
            " 2.9077785 5.0846705 4.3590274 2.1820931 2.307217  2.9077775 2.9084508\n",
            " 3.6333823]\n",
            "Epoch 2 Batch 300 Loss [2.9089868 4.986893  4.3603187 2.1847448 2.9089866 4.36032   4.4675574\n",
            " 3.6346536 3.634653  2.9089851 2.1844418 2.978805  3.634653  2.9089866\n",
            " 4.36032   3.6346512 2.2397637 2.910293  3.6346614 3.634653  2.9089947\n",
            " 2.9089866 4.36032   3.634653  2.9089866 2.18332   3.634653  3.6356475\n",
            " 4.360328  4.360321  2.9089866 2.1818643 2.9089866 2.9096184 4.36032\n",
            " 2.9089866 2.1891994 3.6346526 4.360317  4.36032   2.18332   4.36032\n",
            " 5.0859947 2.9099615 3.634653  2.185042  4.36032   4.3588676 4.360328\n",
            " 2.18332   3.634653  2.1833196 3.634653  1.4587493 3.6346538 3.634653\n",
            " 2.1833198 4.36032   2.9104507 3.634653  2.9089866 2.9089859 2.454783\n",
            " 3.6346526]\n",
            "Epoch 2 Batch 400 Loss [2.9074352 4.359008  3.6331272 2.909087  4.358819  2.9157693 4.3588195\n",
            " 4.358819  3.6331272 2.9074352 3.6331267 2.182303  3.6331272 4.358819\n",
            " 4.3588843 5.0845103 4.358819  4.358883  4.358883  3.6331267 2.9074352\n",
            " 4.358819  3.6331267 2.907436  3.6331272 3.6331272 4.9814363 3.6331272\n",
            " 1.5019225 3.6955361 2.9225738 3.6331272 2.908137  3.6331272 4.358819\n",
            " 5.0845103 2.1844995 2.1827397 3.6331272 2.9080036 4.3588195 3.6331272\n",
            " 2.9075003 4.358819  3.6331916 4.358819  3.6331272 3.6331272 3.6331272\n",
            " 4.358819  3.6331272 3.6331267 4.35882   3.6331272 4.3588204 3.6331282\n",
            " 3.6331282 4.847078  4.35882   3.6331267 2.9668462 4.358819  3.6331267\n",
            " 4.358819 ]\n",
            "Total training loss is [3.4361508 3.5583527 3.5141366 3.5349584 3.4869957 3.4171948 3.519832\n",
            " 3.4954758 3.5112824 3.5013316 3.4697092 3.4669602 3.4512694 3.4460473\n",
            " 3.5807922 3.4441068 3.5063245 3.473907  3.4456325 3.4680636 3.496084\n",
            " 3.529612  3.545561  3.462528  3.4793124 3.4448364 3.496766  3.533878\n",
            " 3.5154252 3.4700072 3.4579873 3.459158  3.429994  3.5052376 3.5104687\n",
            " 3.4916184 3.5124485 3.4447124 3.5128934 3.4416065 3.4655948 3.5208285\n",
            " 3.5333877 3.4798868 3.4242177 3.4506555 3.4883225 3.487915  3.4806454\n",
            " 3.4485705 3.4877632 3.4627798 3.4502864 3.4698923 3.4941964 3.4580815\n",
            " 3.5132346 3.4858027 3.4805105 3.5452611 3.4847856 3.501195  3.5506403\n",
            " 3.4480479]\n",
            "Total validation loss is [3.4652004 3.6462965 3.5891669 3.556151  3.5756323 3.5364687 3.4480586\n",
            " 3.4317997 3.581853  3.6668937 3.4843197 3.3921242 3.6337361 3.4731498\n",
            " 3.3430934 3.6147213 3.5295582 3.4751892 3.5847104 3.657145  3.6298203\n",
            " 3.4812458 3.5708406 3.629487  3.5563815 3.5571756 3.5492916 3.629956\n",
            " 3.4395382 3.5409641 3.4714315 3.533372  3.473245  3.5514152 3.560024\n",
            " 3.4123275 3.5717835 3.5080502 3.6312191 3.500722  3.5305283 3.532676\n",
            " 3.565238  3.5553966 3.3797472 3.5661736 3.5839202 3.4805841 3.5386055\n",
            " 3.5758324 3.4964492 3.6053731 3.506281  3.5431917 3.5236645 3.5436673\n",
            " 3.435924  3.4459836 3.5440857 3.5243878 3.458474  3.589466  3.3971734\n",
            " 3.544595 ]\n",
            "Time taken for 1 epoch 44.007832050323486 sec\n",
            "\n",
            "Epoch 3 Batch 0 Loss [3.6329029 2.9071815 2.9071815 2.948419  2.9071815 3.6329029 3.6329412\n",
            " 3.6329021 4.3586226 3.6329029 5.084382  4.3586226 4.3586235 2.9071834\n",
            " 2.970741  5.084344  2.181729  2.9071815 2.9627447 4.3586235 2.9071815\n",
            " 2.1814609 2.9072208 4.358661  2.1814609 2.1814609 4.538759  2.6925616\n",
            " 3.6329029 3.633353  2.9078531 2.9072204 3.6329021 2.1830287 4.3586226\n",
            " 4.3586645 4.3586226 3.6329029 3.6335168 4.3586226 2.1816955 3.6329021\n",
            " 4.3586235 3.6329021 2.9072204 4.3586235 5.0843816 2.9071827 2.9071827\n",
            " 2.181733  4.358663  3.6329029 2.2285519 2.9080944 1.4563936 3.6329036\n",
            " 2.9071815 3.6329029 2.908042  1.5805324 3.675686  3.6329021 4.3586235\n",
            " 2.1814613]\n",
            "Epoch 3 Batch 100 Loss [4.3583927 3.632625  4.3584204 3.3728213 3.641243  2.91882   4.3584204\n",
            " 2.908063  2.907453  2.9068565 4.3583927 3.632625  2.3666396 2.9068573\n",
            " 2.9068565 2.9472625 4.3583927 1.475898  2.181089  4.7293515 2.1816082\n",
            " 3.2956085 3.632625  4.3584204 3.632625  3.632625  2.9068565 3.6326246\n",
            " 2.1811013 2.1826527 2.943322  3.1280246 3.632625  3.632625  3.6326246\n",
            " 4.3583927 2.9973152 2.9074237 3.6397605 4.3583927 3.345248  2.181089\n",
            " 2.9068565 3.6326244 3.632625  3.410822  2.9109056 3.0356176 4.3583922\n",
            " 3.632625  5.08416   2.9068565 2.9068573 2.6328514 2.9068565 4.3583922\n",
            " 2.9092607 3.6329317 2.9068573 2.9068856 3.3087263 5.4874854 3.6326244\n",
            " 2.9070413]\n",
            "Epoch 3 Batch 200 Loss [3.8541744 2.9068267 3.6327808 2.9076424 3.6325977 5.8099356 4.3583694\n",
            " 4.3583694 2.9068267 2.9072654 2.907318  4.528637  3.632598  2.906827\n",
            " 4.3583937 2.9951801 2.9084258 5.08414   3.6325977 4.3583694 3.632598\n",
            " 4.3583937 2.9068527 3.6325989 3.6325977 2.9490561 2.906827  4.3583694\n",
            " 3.632598  3.6325977 2.1810486 3.6326227 2.906827  4.358369  2.906827\n",
            " 2.907641  3.6325977 2.1931674 2.9072647 4.358369  3.006044  2.907104\n",
            " 2.906827  4.358369  4.0229216 4.412462  4.358368  3.9592762 2.9068515\n",
            " 2.9068267 4.358368  4.3583694 4.132721  3.632598  2.1823242 2.9069476\n",
            " 3.6325977 3.0171967 4.774521  3.632598  4.9533024 3.6326492 2.9072685\n",
            " 2.9068515]\n",
            "Epoch 3 Batch 300 Loss [2.181005  3.0524235 2.1832418 2.1886044 3.7197826 1.474155  4.358288\n",
            " 3.63251   2.906732  4.3582907 4.358288  3.184177  5.0840664 3.295385\n",
            " 3.63251   2.1809542 3.63251   4.7295628 2.1809735 3.6325102 5.084067\n",
            " 4.358288  3.632511  2.9075165 2.1811016 3.63251   3.6325107 2.1809459\n",
            " 4.358307  2.906732  3.632511  4.3785067 3.6325107 1.4551228 3.6325102\n",
            " 4.1310496 3.6325107 1.455302  2.1810532 2.9068165 2.1811721 3.63251\n",
            " 1.4552193 2.906732  2.1809545 3.9147403 3.8178232 3.632511  4.3582883\n",
            " 3.6325107 3.632511  3.63251   3.8904457 5.0840855 3.6325102 2.906732\n",
            " 2.1811016 2.9067326 3.6325111 4.358308  2.1926055 2.1813931 3.6325102\n",
            " 5.084085 ]\n",
            "Epoch 3 Batch 400 Loss [3.6323638 2.9065597 3.6323638 2.180757  1.4551811 4.358167  2.1809726\n",
            " 2.1807566 4.3581667 2.1819317 2.9067893 3.6323853 3.6324973 2.180757\n",
            " 2.9069939 5.08397   2.9065607 3.6323638 3.632364  2.9065604 2.9065607\n",
            " 5.08397   3.9443328 2.9065604 2.2097986 3.6323853 2.1818628 3.694531\n",
            " 4.4940653 5.08397   3.7999263 2.9065828 2.1807566 3.6323638 3.9453998\n",
            " 3.6323638 3.6323638 3.6323638 3.6325507 2.1858566 2.9067466 4.358188\n",
            " 4.3581667 4.3581667 2.907379  2.1809137 2.9131153 2.9065597 6.294454\n",
            " 3.6323638 4.6942267 2.906652  4.3581667 4.217458  2.9065597 2.9065597\n",
            " 3.6323638 4.358167  2.1807566 2.910709  4.785968  4.3581676 2.9065597\n",
            " 3.6325507]\n",
            "Total training loss is [3.4093363 3.466756  3.4427416 3.4507315 3.4568794 3.4221735 3.4611933\n",
            " 3.4466045 3.4637308 3.4037447 3.4653015 3.4335814 3.4874625 3.456155\n",
            " 3.4894881 3.5201197 3.4312532 3.4579866 3.4835887 3.4887674 3.4751043\n",
            " 3.4081461 3.4915543 3.4995656 3.41047   3.4758286 3.4764595 3.4714622\n",
            " 3.4779005 3.416406  3.4920573 3.5020673 3.4411907 3.5040035 3.4887896\n",
            " 3.4418483 3.4090474 3.3887436 3.469723  3.5165527 3.4282312 3.4717321\n",
            " 3.4421442 3.4585474 3.4111812 3.4685495 3.4931731 3.497347  3.4756055\n",
            " 3.4278946 3.4791148 3.4492369 3.4114325 3.5018773 3.5154498 3.485282\n",
            " 3.4579015 3.4885216 3.4260292 3.4194853 3.4130538 3.428046  3.4040287\n",
            " 3.4622288]\n",
            "Total validation loss is [3.425537  3.6039822 3.544426  3.5197148 3.415024  3.5141106 3.414094\n",
            " 3.4428089 3.5677187 3.603886  3.4665093 3.364551  3.6193674 3.436957\n",
            " 3.3316    3.5737114 3.4809344 3.437663  3.5238955 3.6389143 3.606259\n",
            " 3.4426792 3.5186837 3.5757413 3.4820788 3.5442412 3.492482  3.5767949\n",
            " 3.4197142 3.4987504 3.4588048 3.501267  3.4735868 3.5355506 3.5308938\n",
            " 3.3635993 3.5163128 3.4811502 3.5856924 3.4289598 3.4786694 3.492371\n",
            " 3.5138645 3.5087209 3.3380935 3.5117145 3.5458758 3.4413655 3.496071\n",
            " 3.5461385 3.4256856 3.560868  3.4135735 3.5075605 3.5047312 3.5117588\n",
            " 3.4060287 3.3966515 3.5068102 3.5155976 3.3965726 3.5292177 3.3892298\n",
            " 3.5099635]\n",
            "Time taken for 1 epoch 43.42772579193115 sec\n",
            "\n",
            "Epoch 4 Batch 0 Loss [2.948879  2.1806257 3.6323195 4.3580823 3.6323328 4.3580823 3.905522\n",
            " 3.6322632 3.6517696 4.3580823 2.6981468 1.4548266 2.9064445 3.7261696\n",
            " 3.6322632 3.6322632 4.3580823 5.0839205 3.6322632 2.9064445 4.146639\n",
            " 1.4563701 3.6324854 4.4332113 2.1806257 3.6322632 4.3580823 3.6322632\n",
            " 2.1806254 3.6322632 2.9064445 2.1806905 3.068999  3.3421524 2.9067588\n",
            " 2.180645  3.6322632 4.3580823 4.3580823 2.935453  2.9064643 4.3580823\n",
            " 4.358083  2.1806254 3.6324854 3.6322632 5.083901  4.3580823 3.6322632\n",
            " 4.3580823 2.9064445 3.632283  3.6322632 2.906557  4.3580823 2.1806254\n",
            " 2.9064445 1.4549011 2.906444  4.3580823 3.632264  3.6606593 3.6322632\n",
            " 3.632283 ]\n",
            "Epoch 4 Batch 100 Loss [3.632175  2.9063404 2.9067535 4.3580093 4.35801   2.9073074 3.632175\n",
            " 4.921831  3.6326938 4.35801   3.632175  2.2669866 4.358026  4.35801\n",
            " 2.9063404 2.1807518 3.6321912 2.9063592 2.9063404 3.6321754 4.3580093\n",
            " 3.6697662 4.358026  3.6331177 3.6321754 4.35801   2.1805062 2.9063413\n",
            " 3.632175  2.9063404 2.1805062 3.632175  2.9063404 3.632175  1.4741949\n",
            " 2.1809194 2.9063404 3.632175  4.825254  4.35801   3.632175  4.3580103\n",
            " 3.632175  2.180674  2.1809497 2.9063404 3.632175  3.6321754 2.9063575\n",
            " 3.632175  3.632175  3.6321921 3.6321754 2.185207  2.9063404 2.9063404\n",
            " 2.9068847 4.358026  3.6321754 4.35801   5.083844  2.907153  3.632175\n",
            " 2.942723 ]\n",
            "Epoch 4 Batch 200 Loss [2.9065108 3.6321006 4.3579464 2.9065425 2.945076  4.3579464 3.6321006\n",
            " 2.9062552 3.6321006 4.3579464 2.9062552 4.3579464 3.6321006 2.9062552\n",
            " 5.083809  4.3579464 2.9062552 2.1804094 2.1996076 2.2230659 2.9062552\n",
            " 3.6321006 3.1131802 3.6321006 2.9067018 4.358403  2.9062552 2.9087706\n",
            " 4.3579464 3.6321006 4.8063602 2.1804094 4.3579464 2.9062552 3.6321006\n",
            " 3.6321008 2.9069786 2.181331  2.180638  2.9062552 2.9062552 2.9067116\n",
            " 2.1804094 4.3579626 2.9067116 2.9069786 2.1811967 2.1804094 4.9170823\n",
            " 2.2764761 2.9062552 3.6321006 2.907607  3.6321034 2.9062552 2.1808662\n",
            " 2.1804094 2.9062552 3.6321006 4.3579464 3.6321006 4.3579464 2.9066932\n",
            " 4.3579464]\n",
            "Epoch 4 Batch 300 Loss [6.310749  6.392538  7.562542  7.5958343 6.420348  5.139932  7.619045\n",
            " 6.368955  5.242446  3.9820037 6.344901  6.320337  5.152302  6.3288054\n",
            " 6.401535  6.3450394 6.389179  6.3588924 5.1722326 6.3990173 5.1201744\n",
            " 6.52108   7.602997  3.9044082 7.545699  5.152855  6.3744698 4.0184436\n",
            " 5.1029162 6.317421  7.6152663 6.3611565 6.3431754 6.313758  5.1447906\n",
            " 6.38331   6.3482475 6.3325996 6.3680487 6.335943  7.545472  3.9060378\n",
            " 6.39151   5.16494   6.3998976 7.558875  7.59795   5.1429443 6.3679247\n",
            " 7.6332874 5.159778  6.3398356 6.4655647 6.3676243 6.353208  6.4323115\n",
            " 6.3918457 2.6956882 6.3687925 5.09708   2.7812707 3.8911972 5.1013556\n",
            " 6.325323 ]\n",
            "Epoch 4 Batch 400 Loss [3.3137653 3.631866  3.6318655 2.907515  4.835604  5.48989   2.9061992\n",
            " 3.6318989 3.354034  4.3577895 4.838962  2.905976  2.9063098 3.2497077\n",
            " 4.3577566 5.083647  3.631866  5.0836806 3.6318665 2.1806428 2.9059768\n",
            " 4.3577895 2.905973  2.9067848 4.357756  3.631866  4.3577566 2.1800866\n",
            " 2.9069698 2.180507  3.985732  1.4545641 4.357756  4.204521  3.995077\n",
            " 4.3577566 4.357756  4.357756  2.9063034 4.35779   3.631866  2.1800866\n",
            " 3.6318665 3.6437817 2.9062533 2.9064994 3.6322093 3.6319003 3.6318665\n",
            " 2.9059753 4.3577566 2.1848137 3.6318665 5.0836463 5.083647  3.6550941\n",
            " 3.6318662 3.9846714 3.2181668 3.6318665 3.7881618 2.9062839 4.3577566\n",
            " 2.9064794]\n",
            "Total training loss is [3.574634  3.629778  3.6064546 3.5973804 3.6298962 3.5990584 3.6709187\n",
            " 3.6301477 3.5885823 3.5834234 3.6828687 3.6197188 3.6588113 3.6998305\n",
            " 3.650569  3.6156826 3.6494691 3.5888438 3.6423542 3.6293416 3.5384068\n",
            " 3.5970855 3.56708   3.6301835 3.640877  3.6496243 3.5597148 3.6488233\n",
            " 3.623449  3.5864842 3.620309  3.6483483 3.6373818 3.6403742 3.6272936\n",
            " 3.630938  3.5592284 3.5794432 3.634091  3.639515  3.5963218 3.5984702\n",
            " 3.6590796 3.5947917 3.5989745 3.6421041 3.6998568 3.6933281 3.6568263\n",
            " 3.6457248 3.5934434 3.5545473 3.6740215 3.5844302 3.6701808 3.6260824\n",
            " 3.5903888 3.5951138 3.5855336 3.5923448 3.6051033 3.6014993 3.6221635\n",
            " 3.630444 ]\n",
            "Total validation loss is [3.4454136 3.6357129 3.5170069 3.5222707 3.457254  3.5283964 3.4411519\n",
            " 3.4376228 3.5996091 3.5945268 3.4585547 3.373893  3.6534379 3.4536073\n",
            " 3.3269188 3.6078346 3.5335686 3.459497  3.5420928 3.6487975 3.581465\n",
            " 3.43696   3.5257738 3.6121871 3.483367  3.5471077 3.4902813 3.6098242\n",
            " 3.4293313 3.494028  3.4478786 3.4623654 3.4660728 3.536161  3.5313416\n",
            " 3.4231586 3.507802  3.4975665 3.5670464 3.4915354 3.4771197 3.507964\n",
            " 3.497448  3.5246491 3.3847568 3.5124412 3.5755897 3.4419432 3.4951892\n",
            " 3.5620637 3.4181433 3.5442672 3.4789064 3.4755483 3.5325825 3.5266328\n",
            " 3.4304163 3.4560885 3.5137892 3.5223968 3.4311645 3.5075152 3.4060977\n",
            " 3.532596 ]\n",
            "Time taken for 1 epoch 43.938926219940186 sec\n",
            "\n",
            "Epoch 5 Batch 0 Loss [3.6317585 3.6322334 3.6322803 2.9058633 3.6923375 3.6317744 3.6317585\n",
            " 5.083549  4.3576694 2.907358  3.6317585 3.6320999 3.8393312 3.631774\n",
            " 4.357654  2.1799679 2.1803095 3.6317585 3.6317585 2.9058633 2.188242\n",
            " 2.9062488 4.1698027 5.083549  3.6317585 2.9129534 3.6317585 2.9058633\n",
            " 3.6317585 5.083549  4.357654  2.1799679 3.6317585 3.0003486 2.1799679\n",
            " 3.6317585 2.9058633 4.357654  3.6317585 3.6709423 2.1799679 3.6317585\n",
            " 3.631774  3.631774  2.9058633 4.357654  3.6921127 3.6317585 1.4547675\n",
            " 4.357654  2.9058788 5.083549  2.1799679 2.9058633 3.6317585 2.1877441\n",
            " 2.1803608 3.673523  5.809444  2.1803994 4.077613  5.083549  4.357654\n",
            " 2.1962786]\n",
            "Epoch 5 Batch 100 Loss [3.6317394 4.357639  5.083526  4.357639  2.905828  2.1799278 2.9058456\n",
            " 4.357627  3.6317272 2.9058273 2.9058273 3.632136  3.6317267 3.6317267\n",
            " 2.9058273 4.357627  2.9058273 4.357627  3.0699224 3.6317267 2.9661422\n",
            " 2.1799278 3.6317267 2.969789  3.6317267 4.357627  4.357627  4.357627\n",
            " 2.1799278 3.6317387 4.7232494 3.6326427 3.6317267 3.6317267 2.9058273\n",
            " 4.357627  5.083526  3.6317267 3.6317267 2.9058273 2.9062076 2.906166\n",
            " 2.1799278 2.9058273 3.6317267 2.9058273 4.357627  2.9069805 2.9058273\n",
            " 3.6319454 5.083538  4.357627  4.357639  4.357627  3.6317267 3.4396389\n",
            " 3.6317267 2.9058273 5.5157013 3.1246004 3.6317267 4.357627  4.357627\n",
            " 2.1989686]\n",
            "Epoch 5 Batch 200 Loss [4.3575816 2.9057598 3.026343  4.3575816 3.6316707 4.3575816 3.9798408\n",
            " 2.1798484 3.6316707 3.6316707 3.6316707 4.3575816 4.357581  4.357581\n",
            " 2.9060268 2.9057596 3.6316705 3.6316707 3.6316707 2.3000617 2.9057598\n",
            " 3.3857517 3.6316707 5.0834923 5.0834923 4.357581  4.3575816 4.357581\n",
            " 5.0834923 3.6316707 3.6316707 2.9057596 2.9057598 4.357581  3.7757988\n",
            " 4.357581  3.6316707 2.9057598 3.6316707 2.9057596 3.6316707 2.9057665\n",
            " 1.4546204 2.9057596 3.6316707 2.9059486 2.9057598 2.9057167 2.9057596\n",
            " 3.6316707 3.6316707 3.6316707 4.357581  4.357581  3.6316776 5.0834994\n",
            " 2.9057598 3.6335769 4.357581  4.3575816 1.4543151 3.995884  3.6316707\n",
            " 4.3575816]\n",
            "Epoch 5 Batch 300 Loss [2.1797476 4.3575277 4.3575225 3.631598  4.3575225 4.3575277 2.9056728\n",
            " 3.631598  4.3575225 4.357523  4.3575225 3.631598  3.6316032 2.9056728\n",
            " 4.3575225 3.6316032 4.3575225 2.9056728 2.9056728 4.3575225 4.3575225\n",
            " 2.9063776 2.9056783 4.358489  3.6316032 2.9056728 3.631598  3.6617866\n",
            " 2.9056728 3.631598  3.631598  3.6316032 3.631598  4.3575225 2.1797476\n",
            " 2.9056728 2.1797476 3.6316032 3.631598  3.631598  4.3575225 4.3575277\n",
            " 3.631598  2.9056728 4.3575277 4.3575225 4.3575225 2.9056728 4.3575277\n",
            " 3.631598  5.0834475 4.3575225 2.9056728 3.631598  4.3575225 4.3575225\n",
            " 4.3575225 4.3575277 4.3575225 4.3575225 4.357807  3.631598  2.9056728\n",
            " 4.3575225]\n",
            "Epoch 5 Batch 400 Loss [2.906097  3.6316586 4.357565  2.9057052 3.6316352 4.357565  1.4579921\n",
            " 2.9057052 4.357565  3.6316993 3.6316352 2.9057052 2.905848  1.4756273\n",
            " 4.357565  3.6316352 3.6316352 3.6316352 3.6316352 4.357644  2.9057052\n",
            " 5.083574  3.8884826 3.7277331 3.6316352 3.6328893 2.9057052 2.1800756\n",
            " 2.9057846 3.6317143 4.357565  2.9181345 3.6316352 2.9057846 3.6317184\n",
            " 3.6316352 2.9057055 2.9057052 3.6316352 3.6316352 2.179817  2.9057052\n",
            " 2.9057846 3.6317139 2.920228  2.9057052 4.357565  2.9057052 2.1802976\n",
            " 3.6316352 5.0835733 3.6317708 3.328406  1.4542947 3.6316352 3.6316352\n",
            " 4.357565  4.3596325 3.6316352 4.3635607 2.9057052 3.6317768 3.6316352\n",
            " 4.357644 ]\n",
            "Total training loss is [3.5326111 3.4970508 3.4476242 3.477241  3.480211  3.527374  3.4653528\n",
            " 3.4882302 3.5559494 3.4607599 3.4780257 3.4754896 3.5274334 3.4587672\n",
            " 3.4540668 3.5089529 3.48543   3.4168608 3.5068097 3.4673247 3.5370212\n",
            " 3.5294275 3.4462276 3.5120053 3.4966211 3.4925878 3.5757623 3.5003955\n",
            " 3.4463153 3.5399444 3.5549357 3.4968138 3.5686126 3.5391908 3.505314\n",
            " 3.5091481 3.4730976 3.446515  3.4773107 3.4285042 3.4303675 3.5735602\n",
            " 3.5038593 3.4563746 3.5388465 3.4879112 3.559489  3.4619956 3.5292115\n",
            " 3.4626505 3.4804711 3.5778236 3.4966404 3.4647372 3.567317  3.4639246\n",
            " 3.5302577 3.503036  3.5069442 3.5011206 3.5146184 3.4753501 3.5447848\n",
            " 3.4046235]\n",
            "Total validation loss is [3.4741914 3.6679335 3.5946918 3.5254202 3.4808729 3.5842204 3.4246297\n",
            " 3.4342752 3.5475678 3.6184478 3.5040715 3.4080412 3.6270883 3.4597208\n",
            " 3.3053133 3.6179595 3.5413034 3.4375293 3.5691223 3.6498468 3.56486\n",
            " 3.4405603 3.5945137 3.629322  3.50114   3.5812156 3.519737  3.6155717\n",
            " 3.4328074 3.4889338 3.467054  3.484679  3.483865  3.5392253 3.567151\n",
            " 3.4263492 3.530315  3.5418375 3.6051536 3.504929  3.4946008 3.5118196\n",
            " 3.5131006 3.5545456 3.378733  3.5420167 3.566059  3.4564254 3.4892607\n",
            " 3.6010993 3.443984  3.5524926 3.4914122 3.5075464 3.550692  3.5100975\n",
            " 3.4548228 3.4337392 3.5075352 3.518563  3.45156   3.5473654 3.413679\n",
            " 3.52641  ]\n",
            "Time taken for 1 epoch 43.08195161819458 sec\n",
            "\n",
            "Epoch 6 Batch 0 Loss [2.905685  2.905692  3.7455013 4.357546  4.357546  2.9056852 4.357546\n",
            " 3.6316154 3.6316154 4.357546  2.1797547 2.1797547 4.357546  3.6316154\n",
            " 2.1801107 2.179755  2.1804714 3.6316223 3.6316223 2.9069934 3.63167\n",
            " 5.4934783 4.3575525 3.6316154 5.083476  1.4539126 2.9056852 2.1797547\n",
            " 3.6316154 4.3575525 2.9122655 3.6316154 2.9056919 1.4541693 2.1798093\n",
            " 2.905685  2.179755  2.9056852 2.9056852 4.357546  2.9057236 2.179755\n",
            " 2.1799784 3.6316154 4.357546  3.6316154 3.6316154 2.9056852 4.117964\n",
            " 2.905685  4.3575525 4.0851684 3.6316154 2.9056852 1.4540695 2.9056852\n",
            " 3.6316154 2.905685  3.6316154 4.357546  3.6316223 2.905685  3.6316223\n",
            " 2.9176807]\n",
            "Epoch 6 Batch 100 Loss [2.905592  2.1797483 4.3574777 2.905592  3.6315322 2.905592  2.905592\n",
            " 2.905592  3.6315322 2.905592  4.357478  2.1796489 5.0834208 3.6315346\n",
            " 3.6315346 3.6315346 2.905589  4.357478  4.3574753 3.6315346 3.6315346\n",
            " 3.6315346 2.905592  3.6315322 1.4538711 2.1801968 2.9059858 3.6315346\n",
            " 3.9525268 2.905592  2.905592  3.6315346 3.6315346 2.906737  2.905592\n",
            " 2.1796489 4.3574777 5.809364  4.3574777 3.6315346 3.6317801 2.1802273\n",
            " 3.6315322 3.795693  3.6315322 2.905589  3.6315346 4.357478  4.3574777\n",
            " 2.905592  2.1801524 4.357478  2.905592  3.6337504 3.6315346 2.1799924\n",
            " 4.1475463 5.0834208 3.6315322 2.9067364 2.9059634 4.3574753 4.3574753\n",
            " 3.6315346]\n",
            "Epoch 6 Batch 200 Loss [2.9056182 3.631477  2.905525  4.3574295 3.6323428 5.0833793 4.3574295\n",
            " 2.9057188 3.631477  4.3574295 3.631748  4.3574295 3.631477  5.809334\n",
            " 2.9055228 3.6822631 4.357427  2.905525  2.1795728 2.360274  3.6825233\n",
            " 3.631475  2.1835713 4.3574295 3.631477  2.1795728 3.631475  3.631477\n",
            " 3.631475  4.357427  2.905525  4.357427  2.905525  2.2441955 3.874746\n",
            " 2.905525  4.357427  2.905525  3.631477  3.631477  3.6314774 3.631477\n",
            " 2.905525  2.905525  3.631477  2.905525  4.3574295 2.905525  2.1795728\n",
            " 2.1795728 2.9055228 3.631475  2.1803255 5.0833793 2.1795728 2.1795728\n",
            " 3.631475  2.9056053 3.631477  3.631475  2.905525  2.905525  4.3574295\n",
            " 4.3574295]\n",
            "Epoch 6 Batch 300 Loss [3.6314282 5.08335   2.1795068 3.6314182 2.9056482 3.6314282 2.1797557\n",
            " 3.6314285 2.1878543 4.3573895 4.3573895 5.08335   4.357379  3.6314282\n",
            " 4.357379  4.357379  5.08335   3.6314182 3.6314282 4.3573895 2.9054675\n",
            " 3.6314282 3.6314285 3.6314282 1.4536958 4.3573895 3.6314282 4.357379\n",
            " 2.907628  3.6314282 2.9057198 1.4586561 3.6314285 4.357379  2.9062443\n",
            " 2.9060848 4.3573895 2.1831193 3.6314285 2.1795068 2.179835  3.6314282\n",
            " 4.3576417 5.0833397 3.6314282 3.6314285 3.6314285 2.9060693 2.9054675\n",
            " 2.905564  2.9054675 3.6314282 5.08335   2.1795068 4.3573895 2.9054675\n",
            " 3.6314282 4.3573895 5.08335   5.08335   4.3573895 3.6314282 2.9054675\n",
            " 2.9054675]\n",
            "Epoch 6 Batch 400 Loss [2.905456  3.6314178 3.6314178 2.1796143 2.905456  2.905456  3.6314178\n",
            " 3.6314178 2.179658  3.6314178 3.6322887 2.905456  4.3573704 4.3573704\n",
            " 3.6315637 2.905446  2.9059331 3.6314178 3.6314082 3.631418  4.35738\n",
            " 2.905456  4.35738   2.9056556 2.1794934 2.906304  3.6314178 3.6314178\n",
            " 3.6314178 3.6314178 3.6314178 3.6314178 3.6314082 5.083342  2.905456\n",
            " 4.35738   2.9058995 3.6314178 4.3573704 4.35738   2.1794934 2.9056072\n",
            " 2.9061604 2.180152  2.1799402 3.6314178 3.6314178 4.35738   3.6314178\n",
            " 2.924071  2.9062805 4.35738   3.6314178 2.9079883 4.8464046 2.1796575\n",
            " 2.905456  2.1795774 3.6314178 4.35738   2.905629  2.905456  2.9057016\n",
            " 2.1794934]\n",
            "Total training loss is [3.445958  3.4646006 3.483865  3.437752  3.517911  3.481457  3.551953\n",
            " 3.4675117 3.5092306 3.4863293 3.52361   3.4813547 3.5258114 3.531392\n",
            " 3.562011  3.5636134 3.5444984 3.5279326 3.533458  3.5198421 3.592929\n",
            " 3.525642  3.5064874 3.4920695 3.508461  3.5275111 3.5301225 3.4699745\n",
            " 3.5364523 3.5395083 3.4849944 3.4843369 3.493107  3.5406244 3.524759\n",
            " 3.504934  3.4740863 3.5153878 3.5243602 3.5490065 3.5133543 3.4900794\n",
            " 3.5007737 3.4934123 3.5046158 3.3915832 3.5179625 3.5089743 3.5104692\n",
            " 3.5070875 3.4759762 3.508496  3.4912102 3.4820433 3.4927468 3.5388873\n",
            " 3.4562402 3.5178921 3.5414162 3.529837  3.4426017 3.4359288 3.4679544\n",
            " 3.4854226]\n",
            "Total validation loss is [3.5108492 3.6329496 3.593368  3.54563   3.488587  3.6112816 3.4421477\n",
            " 3.474306  3.5671675 3.6401696 3.5536163 3.413491  3.664116  3.485948\n",
            " 3.3426387 3.6307216 3.543706  3.4582603 3.6036913 3.659505  3.6288862\n",
            " 3.4798512 3.5723526 3.6422794 3.505702  3.5864646 3.5564132 3.6419206\n",
            " 3.4346738 3.5259306 3.4653027 3.5502763 3.479183  3.564572  3.5745375\n",
            " 3.4453487 3.557848  3.5405958 3.605256  3.517934  3.5303328 3.5188925\n",
            " 3.511995  3.5663896 3.3800173 3.5576718 3.5971808 3.483876  3.547963\n",
            " 3.587829  3.4759467 3.5837593 3.504997  3.5453472 3.576117  3.5488691\n",
            " 3.475951  3.4615006 3.538033  3.5340412 3.4384298 3.5603874 3.410381\n",
            " 3.532477 ]\n",
            "Time taken for 1 epoch 43.705387115478516 sec\n",
            "\n",
            "Epoch 7 Batch 0 Loss [3.633772  3.6337757 3.6339722 2.9077997 2.9054122 3.3842857 3.6337724\n",
            " 4.3597403 3.6313808 3.6337738 4.360038  4.3597426 3.6337745 3.6337714\n",
            " 4.359749  2.907804  4.359743  4.3597426 2.9934738 4.359746  4.357349\n",
            " 3.6337738 2.907806  3.6313806 4.357349  3.6337705 3.6337714 3.6345978\n",
            " 2.1818337 4.359743  3.633772  3.85027   3.633784  3.6337745 3.6313808\n",
            " 3.6337714 2.9077976 4.359743  3.6339927 3.6337757 5.0833178 3.6337738\n",
            " 2.1819277 2.9054122 3.6337738 2.9080398 3.633779  3.6337838 2.907892\n",
            " 4.359747  3.6337714 4.1299086 4.359749  3.633779  5.0857363 4.3597507\n",
            " 3.6337726 2.9672725 3.6337771 3.6313808 4.3597393 4.357349  4.359754\n",
            " 2.9078026]\n",
            "Epoch 7 Batch 100 Loss [2.905517  2.9057841 2.179554  2.905517  2.905517  3.631431  2.905517\n",
            " 4.357442  3.6314793 4.357441  4.357442  5.083404  3.6314793 4.357393\n",
            " 3.6314793 2.9054685 4.357441  2.905517  3.6314793 2.179554  3.6314793\n",
            " 3.0041842 3.6314793 2.905517  2.1800342 4.357522  4.357442  3.6314793\n",
            " 2.905517  3.6314793 2.905517  2.905517  3.631431  1.4537392 3.6320026\n",
            " 2.905517  3.6314793 3.6320844 3.6314793 2.179554  3.6314793 3.6314793\n",
            " 2.179554  2.1797264 2.179554  3.6314793 2.905517  3.6314793 3.6314793\n",
            " 3.6314793 2.905517  2.905517  2.905517  2.905468  2.9055886 3.6314793\n",
            " 3.6314793 4.357442  2.905517  3.6314793 2.905517  2.179839  2.905517\n",
            " 4.357393 ]\n",
            "Epoch 7 Batch 200 Loss [5.083337  1.4536335 3.631396  5.0833054 2.9054255 3.6313648 3.6313648\n",
            " 3.6313958 3.6313958 3.631396  3.631396  5.083337  3.6313648 2.1798093\n",
            " 3.631396  2.9054258 2.9054255 3.6313958 5.083337  2.9054255 4.3573666\n",
            " 5.083337  2.905395  4.3573666 4.3573666 4.3573666 4.3573666 2.179456\n",
            " 4.3573666 5.083337  2.9056137 3.6313958 3.6313958 2.9055765 2.9054258\n",
            " 4.3573666 3.631396  2.179456  5.083337  3.6313958 4.3573666 4.3573356\n",
            " 2.9753282 3.6316113 3.6313958 4.3573666 2.9054255 3.6313958 4.3573666\n",
            " 2.9054255 5.083337  4.358672  2.9054258 2.9056327 2.179456  2.1794562\n",
            " 5.083337  4.3573666 3.6313958 2.905395  4.3573666 3.6313958 2.9054258\n",
            " 3.3458974]\n",
            "Epoch 7 Batch 300 Loss [2.9053304 4.3572874 4.3572874 2.1796036 4.3572874 4.357272  4.3572874\n",
            " 2.9053304 2.9055948 3.6313086 3.6313086 3.1544251 2.9410362 3.6313086\n",
            " 2.9704509 4.3572874 4.357272  3.631309  2.9053304 4.8231835 3.631309\n",
            " 4.3572874 4.3572874 1.4535697 5.0832653 3.631309  4.3572874 2.9053304\n",
            " 2.9053307 2.244481  3.631309  2.1801753 2.3308625 2.1793528 3.6312938\n",
            " 3.631309  5.0832505 2.9053307 2.1797607 2.9053307 3.664993  2.9393897\n",
            " 4.3572874 4.012388  3.631309  3.6312938 5.0832653 2.9054027 2.905662\n",
            " 1.7338618 4.3572874 3.6313086 2.9053159 4.3572874 3.631309  2.9053307\n",
            " 3.631294  3.631309  2.9053304 3.631309  2.9053307 2.9053307 2.1793528\n",
            " 3.6313086]\n",
            "Epoch 7 Batch 400 Loss [4.3572574 3.631258  2.1796172 4.3572574 3.6312723 3.6312723 3.6315346\n",
            " 4.3573456 3.631272  2.9052875 5.083228  3.6312723 2.9056396 5.0832424\n",
            " 2.1793022 4.3572435 2.1793022 4.3572435 2.1803339 2.2695308 3.6312723\n",
            " 4.3572435 4.357258  2.9052873 4.3572435 3.6312723 3.6312723 2.9052873\n",
            " 4.3572435 4.3572574 2.9052875 2.9053755 2.905528  5.0832424 2.1797068\n",
            " 2.9052873 3.6312723 2.1812665 2.9052873 2.9052875 3.6312723 3.6312723\n",
            " 4.3572574 4.3572574 4.3572574 3.6312723 2.9052875 4.3572574 3.631272\n",
            " 5.0832424 1.4535854 3.6312723 3.6312723 4.3572574 2.9052873 3.6312723\n",
            " 2.9052873 2.9052873 2.9056168 4.3572574 5.0832424 2.9052875 3.631515\n",
            " 2.9052873]\n",
            "Total training loss is [3.4881258 3.5153906 3.4930334 3.5213685 3.500867  3.4905176 3.5564747\n",
            " 3.4652216 3.582455  3.5461497 3.569513  3.5640578 3.5183184 3.5124269\n",
            " 3.5298386 3.5645568 3.5344377 3.515823  3.5588453 3.489085  3.5315864\n",
            " 3.43317   3.490147  3.4571977 3.4664726 3.5244815 3.5253592 3.5193968\n",
            " 3.4931087 3.5731304 3.516082  3.5018172 3.545695  3.490671  3.4813976\n",
            " 3.5319846 3.52604   3.513482  3.5454056 3.5090308 3.5254498 3.4843452\n",
            " 3.4580827 3.5090652 3.4880717 3.547895  3.5428832 3.4669623 3.578103\n",
            " 3.5220373 3.5352142 3.4815214 3.5585806 3.5510366 3.486588  3.5220826\n",
            " 3.5491495 3.5589612 3.4881043 3.4711902 3.4932826 3.458057  3.4962995\n",
            " 3.5024643]\n",
            "Total validation loss is [3.5070496 3.6674917 3.5986052 3.5524192 3.4919968 3.6379225 3.4494565\n",
            " 3.45723   3.6107883 3.6807914 3.5725336 3.442183  3.663357  3.4729407\n",
            " 3.3590446 3.6297538 3.552093  3.487088  3.6459613 3.6727684 3.6360788\n",
            " 3.4840317 3.6035905 3.651377  3.5555785 3.609214  3.5704532 3.6511497\n",
            " 3.455478  3.5268176 3.483601  3.5737488 3.490431  3.5927794 3.5829575\n",
            " 3.461763  3.5939622 3.5745296 3.6131845 3.5167804 3.5385733 3.5408978\n",
            " 3.546301  3.5963926 3.401805  3.5834577 3.637053  3.5267856 3.5689988\n",
            " 3.6388767 3.5198867 3.6044617 3.511312  3.5495582 3.5774083 3.5500195\n",
            " 3.4748342 3.4802265 3.557409  3.5564036 3.4810047 3.5990992 3.415787\n",
            " 3.5698617]\n",
            "Time taken for 1 epoch 43.452237606048584 sec\n",
            "\n",
            "Epoch 8 Batch 0 Loss [2.1797833 4.357238  3.6312473 3.6312187 3.6312473 3.6312473 3.6312473\n",
            " 3.631487  4.357238  3.6312473 4.357238  2.905397  3.6312473 5.0832005\n",
            " 2.9053922 2.9052563 3.6312473 4.357238  2.9053314 3.6312473 4.3572097\n",
            " 3.6315765 3.6312473 2.9052563 3.6312473 2.9052563 2.9052563 3.6312473\n",
            " 3.6312473 3.6312473 3.6312473 2.9052281 4.357238  1.4536424 1.4533229\n",
            " 5.0832286 3.6312473 2.9056776 2.1792657 4.357238  3.6312187 3.6312473\n",
            " 4.357238  2.9052563 2.9053314 3.6312473 3.6312473 4.357238  4.357238\n",
            " 3.6312473 2.9052563 3.6312473 3.6312473 4.357238  3.6312473 4.3572097\n",
            " 4.357238  4.357238  5.4812655 2.9055662 2.9052563 2.9054217 2.9052563\n",
            " 3.6312473]\n",
            "Epoch 8 Batch 100 Loss [3.6316001 3.6316001 5.083415  4.357517  4.3575163 3.6316726 2.9058414\n",
            " 3.6316001 2.179767  4.357498  3.6316001 3.6316001 2.9056835 2.180007\n",
            " 5.083433  4.3575163 2.9056835 4.3575163 3.6316001 2.9056835 3.6316001\n",
            " 3.6316001 2.9056654 3.6316001 4.357517  2.905744  3.6316001 3.6316001\n",
            " 2.179767  3.631582  2.9056652 2.9057765 2.9056835 3.6315818 2.179797\n",
            " 4.3575163 4.3575163 2.9056835 3.6316001 3.6315818 4.357498  2.9058232\n",
            " 3.6315818 2.179767  4.357517  3.6316001 4.8363924 3.6317136 3.6316001\n",
            " 4.357517  1.4539074 2.9056835 3.6316001 3.6316001 2.9056835 4.3575163\n",
            " 2.179767  4.357517  2.9056835 1.453955  3.6316001 2.9056835 3.6316001\n",
            " 3.6316001]\n",
            "Epoch 8 Batch 200 Loss [4.3573923 2.9054954 3.6314437 2.9054954 3.6316667 3.6314445 2.9056091\n",
            " 5.0833406 4.357375  2.9054954 4.3573923 3.6314437 4.3573923 3.6314437\n",
            " 2.1795473 4.3573756 2.9054961 2.9054954 2.17978   2.9054954 5.0833406\n",
            " 2.9054961 3.6314273 2.9054954 2.940229  2.1797159 3.6314437 4.3573923\n",
            " 4.8058834 2.1795473 2.905479  5.083324  4.3573923 3.6314437 2.9059122\n",
            " 3.6314437 3.6314437 3.6314437 3.6314437 2.9054956 3.6314437 2.1795473\n",
            " 3.631444  4.3573923 2.9060345 3.6314437 3.6314437 2.1797771 3.6314437\n",
            " 3.6314437 2.9054954 4.2429357 3.6314273 2.9061906 2.1795473 3.6314437\n",
            " 2.9054954 2.9054954 2.9054954 4.3573756 2.9057326 3.6314437 2.9054956\n",
            " 1.4544268]\n",
            "Epoch 8 Batch 300 Loss [3.6313434 3.6313434 1.4536241 2.9053752 3.6313434 2.9053752 3.6313262\n",
            " 3.6313434 3.6313262 3.6313434 2.9053752 4.3572936 3.6313434 3.6313434\n",
            " 2.9053752 4.3573112 2.9053752 4.3572936 4.3572936 3.6313434 2.1795478\n",
            " 3.6313434 2.1794078 2.9053752 2.1796176 5.0832787 2.179408  4.357294\n",
            " 3.6313434 2.179408  3.6314616 2.905358  4.357294  2.1794078 4.3573112\n",
            " 2.179408  4.3573112 2.9053752 4.3573112 2.9053752 2.9053752 2.9053752\n",
            " 4.3572936 3.6313262 2.9053752 2.9054458 3.6313434 4.3573112 5.0832615\n",
            " 3.6313434 2.179408  2.905559  5.0832787 4.357607  2.9053752 2.1795375\n",
            " 3.6313262 3.6313434 3.6313434 2.9053752 4.357311  2.905587  2.9053752\n",
            " 2.179408 ]\n",
            "Epoch 8 Batch 400 Loss [2.179339  2.179339  4.357275  3.6312962 2.9053173 2.9055355 4.357275\n",
            " 4.357275  2.9835327 4.357275  2.9053173 2.2129607 4.3572555 4.3572555\n",
            " 4.3572555 4.357275  2.9053173 4.357275  3.6312962 2.9052978 3.6312962\n",
            " 3.7209606 2.179339  2.1794603 2.9057846 5.083254  3.6312766 3.631501\n",
            " 2.9053173 2.9053173 4.357275  3.6312962 4.357275  2.9053173 2.9053173\n",
            " 3.6312962 2.1795564 2.9052978 3.6312962 1.4534254 4.3572555 2.9053178\n",
            " 3.6312962 3.6312962 2.9053173 3.6312962 4.3572555 2.9052978 1.4535015\n",
            " 2.9053178 2.9053178 2.9053178 1.6349769 2.9053178 2.9053173 3.6312962\n",
            " 3.6312962 2.181837  3.6312962 2.9052978 5.083254  2.9052978 3.6312766\n",
            " 2.9056633]\n",
            "Total training loss is [3.517058  3.5759048 3.505717  3.5545137 3.5579531 3.5218627 3.6033244\n",
            " 3.457788  3.5160928 3.4263384 3.5203373 3.5394778 3.5188425 3.5102963\n",
            " 3.5738637 3.5091257 3.5112064 3.5931818 3.555283  3.5358794 3.5605986\n",
            " 3.5269191 3.4680614 3.5160005 3.541156  3.507766  3.4640515 3.592322\n",
            " 3.520843  3.558134  3.6087506 3.4807596 3.5116165 3.474923  3.549037\n",
            " 3.531204  3.5258555 3.4873047 3.5248938 3.5087984 3.5518792 3.507545\n",
            " 3.4793568 3.5011382 3.4820685 3.522785  3.4874399 3.5236137 3.5287514\n",
            " 3.5275943 3.498122  3.5577533 3.5897295 3.523144  3.516086  3.5244882\n",
            " 3.5650308 3.5252247 3.465616  3.4731069 3.4703934 3.5387552 3.5346265\n",
            " 3.502891 ]\n",
            "Total validation loss is [3.5129018 3.6714876 3.6055114 3.55178   3.5013812 3.6355886 3.4716616\n",
            " 3.4609056 3.6141794 3.6793487 3.5696108 3.4280717 3.6767852 3.4748719\n",
            " 3.3637013 3.63441   3.5561147 3.4849155 3.6471097 3.6765008 3.6352813\n",
            " 3.4803002 3.6011815 3.6527221 3.5583212 3.6089904 3.5754645 3.643071\n",
            " 3.4554949 3.5377843 3.4884331 3.5706198 3.5102663 3.5717623 3.5911088\n",
            " 3.4490738 3.596107  3.575321  3.6164114 3.5261848 3.5473855 3.5425668\n",
            " 3.5444326 3.604817  3.4174695 3.59577   3.6386595 3.5318713 3.5670438\n",
            " 3.6364346 3.5293915 3.6090913 3.522681  3.5481315 3.5864563 3.5571334\n",
            " 3.4986472 3.4840333 3.5609577 3.5595336 3.485748  3.5962112 3.4273176\n",
            " 3.580063 ]\n",
            "Time taken for 1 epoch 43.658844232559204 sec\n",
            "\n",
            "Epoch 9 Batch 0 Loss [3.63125   3.63125   3.63125   3.753417  2.9058347 4.357239  4.357239\n",
            " 3.63125   2.905237  3.63125   2.1801126 3.6312263 4.357239  2.9052608\n",
            " 3.6312263 4.357239  2.179634  3.6312263 2.179271  3.6312263 3.6312263\n",
            " 2.9052608 2.1794207 2.9052608 3.6312263 3.63125   3.63125   4.357239\n",
            " 3.63125   3.63125   4.357239  1.4537823 3.63125   4.357239  2.9053473\n",
            " 3.63125   2.9052606 3.63125   4.357239  3.63125   3.63125   3.63125\n",
            " 3.6312263 5.083228  4.357239  2.9052608 2.179271  4.357239  3.63125\n",
            " 3.63125   2.9052608 4.3572154 3.63125   5.0832043 4.357239  2.1794968\n",
            " 3.63125   4.3572154 5.083228  5.083228  2.905237  3.6312263 3.7244244\n",
            " 5.083228 ]\n",
            "Epoch 9 Batch 100 Loss [4.3572    2.9052048 3.6816015 5.0831976 3.631178  3.631178  5.0831976\n",
            " 2.1792068 3.6312025 3.6312025 3.6312025 3.6312025 5.0831976 2.9052048\n",
            " 3.6312025 4.3572    3.6311777 2.9053855 5.0831976 2.1800904 3.6312025\n",
            " 2.9052048 2.9052048 4.3572    4.3572    4.3571754 2.9052048 2.9052048\n",
            " 2.9052048 3.6312025 4.3572    2.1792068 3.6312025 2.179703  5.0831976\n",
            " 3.6312025 2.1792068 4.3572    2.9052048 2.1794553 3.6312025 2.9052048\n",
            " 3.63144   2.9052048 3.6312025 2.90518   3.6314125 3.6780803 3.6312025\n",
            " 5.0831976 2.9052048 3.6313324 3.6312025 2.9052048 4.3572    2.9052048\n",
            " 4.3572    2.9052048 4.3572    2.9052048 3.6312025 3.6311777 2.9052048\n",
            " 5.0831976]\n",
            "Epoch 9 Batch 200 Loss [4.35717   2.9051366 4.35717   2.179325  4.35717   3.631166  2.9496188\n",
            " 2.9056907 2.9051616 3.3770797 3.631166  5.0831747 2.9051616 4.35717\n",
            " 2.905136  2.1791568 2.1793308 4.35717   2.9051616 3.631166  2.9051616\n",
            " 2.905357  4.35717   2.9051366 2.9056118 2.9051616 4.35717   2.9051616\n",
            " 4.35717   3.631166  2.9051616 3.631166  2.9051616 2.9051616 3.631166\n",
            " 2.9051616 3.631166  4.35717   2.1791568 3.631166  4.35717   3.6311412\n",
            " 4.35717   2.9051616 3.631166  3.631166  3.6311412 3.6311412 4.35717\n",
            " 1.4533873 3.631166  3.631166  3.631166  3.6311412 3.6311407 3.6313255\n",
            " 2.1791568 3.631166  2.9051616 3.631166  2.9051616 3.631166  2.9051616\n",
            " 3.6311412]\n",
            "Epoch 9 Batch 300 Loss [2.9053454 2.9051127 3.631123  4.3571334 2.9052463 3.6311042 2.1793647\n",
            " 2.9051127 4.357115  2.1791027 4.3571334 2.9051127 4.3571334 2.9051127\n",
            " 3.631123  2.9051127 5.083143  3.631123  3.631515  2.1791027 4.357134\n",
            " 2.9051127 2.9051127 4.357134  3.631123  2.9058437 5.083125  2.9051127\n",
            " 2.1791027 2.9051127 4.357134  4.192543  2.9051127 1.4532242 5.8091536\n",
            " 4.3571334 4.3571334 4.3571334 2.9053383 5.083144  5.083143  2.1793075\n",
            " 4.357134  3.631123  5.083125  4.357134  2.9057655 5.083125  4.3571334\n",
            " 4.3571334 3.6313171 4.357134  4.3571334 4.3571334 2.9051127 3.631123\n",
            " 2.9057784 2.9051127 3.631123  3.631123  3.631123  5.083125  5.083144\n",
            " 2.9051127]\n",
            "Epoch 9 Batch 400 Loss [3.6310897 3.6310897 4.357105  3.6310897 3.6310897 2.9050741 3.6310897\n",
            " 2.9053483 2.905074  3.6310737 3.6310897 2.905074  3.6310897 4.357089\n",
            " 2.905074  3.6310897 2.905074  3.6310897 3.6310897 4.357105  2.905074\n",
            " 4.357105  4.357105  2.1793551 3.6310897 4.357089  3.6310897 2.905058\n",
            " 2.905074  4.357105  2.1790586 2.9052582 3.6310897 4.357105  3.6310897\n",
            " 2.1790426 2.3336582 3.6310897 3.6310897 2.905058  3.6310897 3.6310897\n",
            " 2.9050741 3.6310897 4.357105  4.357105  4.357105  3.6310897 4.357105\n",
            " 2.1794925 2.905074  3.6310897 1.4533548 2.905058  3.6310897 4.357105\n",
            " 4.357105  2.905074  4.357105  3.6310897 2.905178  3.6310897 2.9054236\n",
            " 4.357105 ]\n",
            "Total training loss is [3.5475204 3.536114  3.4886794 3.4764004 3.5482268 3.514105  3.5850635\n",
            " 3.5284977 3.4963818 3.5511906 3.5752187 3.5449762 3.5116613 3.502421\n",
            " 3.4727259 3.585065  3.4708712 3.5302105 3.4836688 3.5751426 3.5624032\n",
            " 3.467347  3.533162  3.506319  3.4410367 3.5251224 3.5432808 3.529399\n",
            " 3.510045  3.5622437 3.5045724 3.4665565 3.525942  3.54001   3.5839574\n",
            " 3.5723262 3.498421  3.5439525 3.5965157 3.5040815 3.5941832 3.516421\n",
            " 3.542873  3.552768  3.5665371 3.5328255 3.5045457 3.5468109 3.544029\n",
            " 3.511041  3.5799043 3.5059638 3.5071435 3.5643632 3.5390308 3.5831742\n",
            " 3.5572538 3.4534504 3.5267828 3.5120924 3.5245926 3.5105085 3.5037541\n",
            " 3.5758638]\n",
            "Total validation loss is [3.531074  3.6790717 3.6286447 3.564976  3.5173078 3.6558616 3.5056381\n",
            " 3.4843354 3.6265361 3.687034  3.571755  3.4438288 3.6975238 3.4844794\n",
            " 3.3829694 3.638112  3.563189  3.4944267 3.6574748 3.67977   3.6611242\n",
            " 3.5109327 3.6087153 3.6898227 3.5798233 3.615196  3.5887895 3.6577036\n",
            " 3.483791  3.5475416 3.5019124 3.5804832 3.5320106 3.5900426 3.603183\n",
            " 3.4949646 3.60974   3.5895271 3.626888  3.5680559 3.566014  3.5604281\n",
            " 3.5684013 3.6104472 3.4255419 3.611825  3.650094  3.5613074 3.56891\n",
            " 3.6603584 3.5446186 3.6250489 3.5415814 3.5767145 3.6004963 3.5684667\n",
            " 3.5189183 3.5011518 3.5853052 3.6001267 3.4938924 3.6051767 3.4483743\n",
            " 3.593822 ]\n",
            "Time taken for 1 epoch 42.75845718383789 sec\n",
            "\n",
            "Epoch 10 Batch 0 Loss [3.6310868 2.9054086 3.6310868 3.6310868 3.6310868 5.0831017 3.6310868\n",
            " 3.6310868 3.6310868 2.905067  2.9050422 4.357082  4.357082  3.6310868\n",
            " 2.905067  2.9050422 3.6310868 3.6310616 4.1184425 5.0831265 3.6310868\n",
            " 3.6310868 2.1790473 3.6310868 3.6310868 2.9050422 3.6310868 4.3571067\n",
            " 2.979725  4.3571067 4.3571067 3.6310868 4.357082  3.6310868 2.905067\n",
            " 2.179214  5.0831265 4.3571067 2.9050024 2.9051719 4.3571067 2.905067\n",
            " 2.1790473 3.6310868 4.3573303 2.905067  3.6310868 3.6310868 2.905067\n",
            " 2.1790473 5.0831265 3.6310868 3.6310868 4.3571067 4.357082  2.905067\n",
            " 2.905067  1.5519392 2.905067  3.6310616 3.6310868 4.3571067 4.3571067\n",
            " 5.0831265]\n",
            "Epoch 10 Batch 100 Loss [3.6310573 2.9050338 2.929711  3.6310573 3.6310477 2.1790006 3.6310573\n",
            " 4.357071  3.6310573 2.1793063 3.6317081 3.6310573 1.4532427 3.6310573\n",
            " 2.905464  2.9055343 3.6310477 2.9050338 5.0830946 4.357071  2.179269\n",
            " 4.3570805 3.6310573 3.6310573 2.9053326 4.357071  5.0831037 4.3570805\n",
            " 2.1792092 2.1794927 3.6312933 2.9055119 2.1792555 4.357398  3.631321\n",
            " 4.357071  5.0831037 4.357071  2.9050338 2.9049778 4.3570247 4.3570805\n",
            " 2.9050338 2.1792517 2.9050338 2.9055681 2.17901   2.17901   4.3570805\n",
            " 5.0831037 2.2542305 4.3570805 4.3570805 4.3570805 3.6310573 4.3570805\n",
            " 2.9050243 2.9050338 2.9050338 3.6310477 3.6310477 1.4532126 2.17901\n",
            " 4.3570805]\n",
            "Epoch 10 Batch 200 Loss [2.905025  4.3570766 2.905025  5.08309   4.3570766 2.905025  3.6312234\n",
            " 3.631051  3.631051  2.9050117 2.905025  2.9059818 3.631051  4.3570766\n",
            " 2.905025  3.6312766 2.905025  3.6311703 5.08309   3.6310515 2.905025\n",
            " 3.6310375 1.4532645 4.3570766 3.631051  2.905025  4.052713  2.905025\n",
            " 2.905025  5.083103  2.178999  4.3570633 2.905025  1.4530854 3.6322055\n",
            " 3.631051  4.3570633 3.631051  2.905025  2.9050117 2.9050117 2.905025\n",
            " 5.083103  3.631051  3.631051  2.905025  3.631051  4.3570766 2.905025\n",
            " 2.905025  4.3570766 3.6310377 3.6310377 3.631051  2.905025  4.3570633\n",
            " 3.6310375 3.6310515 3.631051  2.1789992 3.631051  4.3570766 2.1791475\n",
            " 3.6310377]\n",
            "Epoch 10 Batch 300 Loss [3.631031  2.9050026 4.35706   5.0830736 4.3570604 2.9050026 4.35706\n",
            " 4.3570604 5.083089  3.631031  4.35706   3.6310158 3.631031  3.631031\n",
            " 3.63134   2.9050026 3.6310158 4.3570604 4.3570447 3.631031  2.9050026\n",
            " 4.3570604 4.895056  3.631031  2.9051266 4.3570604 3.6310158 2.9050026\n",
            " 3.631031  3.631031  4.357045  2.1789732 4.35706   5.083089  3.6310158\n",
            " 2.9050026 2.9050026 3.631031  3.631031  2.1789732 5.083089  2.9050026\n",
            " 2.9050026 3.6310158 2.904941  3.6311786 2.1789732 2.9050026 2.1792169\n",
            " 4.3570604 4.3570447 2.9050026 4.357045  3.631031  2.9050026 4.35706\n",
            " 2.1789732 4.35706   3.631031  2.9050026 3.631355  3.6310163 3.631031\n",
            " 2.9050026]\n",
            "Epoch 10 Batch 400 Loss [3.6309905 3.6310062 2.904974  2.9051998 2.904974  2.904974  2.1789417\n",
            " 2.9055724 4.3570385 5.0830708 2.1791608 2.9053168 3.6311224 4.3570385\n",
            " 5.809103  2.1789417 5.0830708 3.6310062 2.904974  5.0830708 4.3570385\n",
            " 3.6310062 3.6310062 2.904974  3.6310062 3.6310062 4.357023  2.1789417\n",
            " 2.1791263 4.3570385 2.904974  2.904974  4.3570385 3.6986637 3.6310062\n",
            " 2.1791952 2.904974  3.6309905 2.9051523 3.6310062 5.0830708 4.3569818\n",
            " 3.6310062 4.3570385 2.904974  4.357023  5.809103  3.6310062 3.6311634\n",
            " 2.9051692 3.6310062 2.9049582 3.6312606 3.6310062 3.630949  2.904974\n",
            " 2.904974  4.3570385 3.6310062 2.178926  2.9049582 3.6309905 3.6310062\n",
            " 2.1789417]\n",
            "Total training loss is [3.5731208 3.5194826 3.5686166 3.5616364 3.5695224 3.4828234 3.5704324\n",
            " 3.4763567 3.5426736 3.5311291 3.5697696 3.500355  3.5531173 3.4997582\n",
            " 3.5075238 3.5675652 3.5459385 3.4807773 3.504562  3.5519786 3.5681682\n",
            " 3.597333  3.534013  3.4890513 3.5667343 3.5898137 3.5069735 3.4877954\n",
            " 3.5465019 3.5419762 3.5489948 3.4841793 3.5252578 3.5764513 3.562508\n",
            " 3.5869954 3.537116  3.6210258 3.4816387 3.5214684 3.5857124 3.502114\n",
            " 3.5429485 3.5945039 3.530085  3.546446  3.5413444 3.5796397 3.5525458\n",
            " 3.5330615 3.5375428 3.5517235 3.5643427 3.5681603 3.509626  3.5598104\n",
            " 3.505733  3.5897377 3.5037863 3.4678323 3.5367012 3.624724  3.6022334\n",
            " 3.5604   ]\n",
            "Total validation loss is [3.5142152 3.6747718 3.6250675 3.5653908 3.5133812 3.6534522 3.4913354\n",
            " 3.4771912 3.6018982 3.688008  3.5705614 3.440511  3.7004426 3.48027\n",
            " 3.378424  3.6277735 3.5667489 3.4928954 3.6623874 3.6686265 3.6404262\n",
            " 3.520097  3.6151156 3.675707  3.5830808 3.6034386 3.5888143 3.6498117\n",
            " 3.4693344 3.5455167 3.4960606 3.5797365 3.5171514 3.5887015 3.603823\n",
            " 3.4770842 3.6123075 3.590392  3.6244044 3.5569124 3.5594547 3.5589354\n",
            " 3.5759678 3.6080413 3.4123216 3.6012151 3.6476176 3.567152  3.5683417\n",
            " 3.6546662 3.541211  3.6291673 3.5259001 3.5817146 3.591908  3.5607295\n",
            " 3.5073812 3.49137   3.5957289 3.5761645 3.5042405 3.6040204 3.4449022\n",
            " 3.6000044]\n",
            "Time taken for 1 epoch 43.49316930770874 sec\n",
            "\n"
          ]
        }
      ]
    },
    {
      "cell_type": "markdown",
      "source": [
        "# **Prediction using Greedy Search**\n",
        "\n",
        "During inference i.e during testing, we change the prediction process slightly.\n",
        "The code evaluate(sentence) defines a function that takes a sentence as input and returns the translated result along with the original sentence and an attention plot. Here's how the code performs these steps:\n",
        "\n",
        "1. Initialize the attention plot with zeros, with shape (max_length_tgt, max_length_src).\n",
        "2. Preprocess the input sentence by splitting it into words and converting each word into its corresponding index in the source tokenizer vocabulary.\n",
        "3. Pad the input sequence with zeros to a fixed length max_length_src.\n",
        "4. Convert the input sequence into a tensor.\n",
        "5. Initialize the hidden state of the encoder with zeros.\n",
        "6. Pass the input sequence through the encoder and get the output and the final hidden state.\n",
        "7. Initialize the hidden state of the decoder with the final hidden state of the encoder.\n",
        "8. Initialize the decoder input with the index of the special symbol <sos>.\n",
        "9. For t in range(max_length_tgt):\n",
        ">* Pass the decoder input, hidden state and the encoder output through the decoder and get the predictions and attention weights.\n",
        ">* Add the attention weights to the attention plot.\n",
        ">* Get the index of the word with the highest predicted probability and add it to the result string.\n",
        ">* If the word is the special symbol <eos>, return the result, the original sentence, and the attention plot.\n",
        ">* Set the decoder input to be the index of the word with the highest predicted probability.\n",
        "10. Return the result, the original sentence, and the attention plot."
      ],
      "metadata": {
        "id": "ckOQkP8-PSDO"
      }
    },
    {
      "cell_type": "markdown",
      "source": [
        "##### Attention plot\n",
        "\n",
        "The function for plotting the attention weights that takes three arguments: **attention, sentence, and predicted_sentence.**\n",
        "* Create a figure and set its size to 10 x 10 using plt.figure(figsize=(10, 10)).\n",
        "* Add a subplot of 1 x 1 grid and select the first subplot using fig.add_subplot(1, 1, 1).\n",
        "* Display the attention weights with a heatmap using ax.matshow(attention, cmap='viridis').\n",
        "* Create a font dictionary to set the font size of the tick labels to 14.\n",
        "* Set the x-axis tick labels to sentence and the y-axis tick labels to predicted_sentence with a font size of 14.\n",
        "* Set the x-axis major locator to tick every 1 and the y-axis major locator to tick every 1 using ax.xaxis.set_major_locator(ticker.MultipleLocator(1)) and ax.yaxis.set_major_locator(ticker.MultipleLocator(1)).\n",
        "* Display the plot using plt.show()."
      ],
      "metadata": {
        "id": "XtHI6-c3Qtjj"
      }
    },
    {
      "cell_type": "code",
      "source": [
        "def plot_attention(attention, sentence, predicted_sentence):\n",
        "  # create a figure and set the figsize to 10 x 10\n",
        "  fig = plt.figure(figsize=(10, 10))\n",
        "\n",
        "  # add a subplot of 1x1 grid, and select the first subplot\n",
        "  ax = fig.add_subplot(1, 1, 1)\n",
        "\n",
        "  # display the attention weights with a heatmap using matshow\n",
        "  ax.matshow(attention, cmap='viridis')\n",
        "\n",
        "  # create a fontdict to set font size\n",
        "  fontdict = {'fontsize': 14}\n",
        "\n",
        "  # set the x axis tick labels to the sentence, with a font size of 14\n",
        "  ax.set_xticklabels([''] + sentence, fontdict=fontdict, rotation=90)\n",
        "\n",
        "  # set the y axis tick labels to the predicted sentence, with a font size of 14\n",
        "  ax.set_yticklabels([''] + predicted_sentence, fontdict=fontdict)\n",
        "\n",
        "  # set the x axis major locator to tick every 1\n",
        "  ax.xaxis.set_major_locator(ticker.MultipleLocator(1))\n",
        "\n",
        "  # set the y axis major locator to tick every 1\n",
        "  ax.yaxis.set_major_locator(ticker.MultipleLocator(1))\n",
        "\n",
        "  # display the plot\n",
        "  plt.show()\n"
      ],
      "metadata": {
        "id": "FSUOoyM0jcU8"
      },
      "execution_count": 46,
      "outputs": []
    },
    {
      "cell_type": "code",
      "source": [
        "# Define the evaluate function\n",
        "def evaluate(sentence):\n",
        "    #Initialize the attention plot with zeros\n",
        "    attention_plot = np.zeros((max_length_trg, max_length_src))\n",
        "    # Preprocess the input sentence\n",
        "    sentence = preprocess_sentence(sentence)\n",
        "    # Convert the sentence into a list of word indices\n",
        "    inputs = [src_lang_tokenizer.word_index[i] for i in sentence.split(' ')]\n",
        "    # Pad the list of word indices to make it equal to max_length_src\n",
        "    inputs = pad_sequences([inputs],\n",
        "                          maxlen=max_length_src,\n",
        "                          padding='post')\n",
        "    # Convert the inputs to a tensor\n",
        "    inputs = tf.convert_to_tensor(inputs)\n",
        "\n",
        "    result = ''\n",
        "    # Initialize the hidden state of the encoder\n",
        "    hidden = [tf.zeros((1, units))]\n",
        "    # Pass the inputs and hidden state through the encoder\n",
        "    enc_out, enc_hidden = encoder(inputs, hidden)\n",
        "    # Set the decoder's hidden state to the encoder's hidden state\n",
        "    dec_hidden = enc_hidden\n",
        "    # Initialize the input to the decoder as the start-of-sentence token\n",
        "    dec_input = tf.expand_dims([tgt_lang_tokenizer.word_index['<sos>']], 0)\n",
        "\n",
        "    # Loop for max_length_tgt steps\n",
        "    for t in range(max_length_trg):\n",
        "        # Pass the decoder input, hidden state, and encoder output through the decoder\n",
        "        predictions, dec_hidden, attention_weights = decoder(dec_input,\n",
        "                                                         dec_hidden,\n",
        "                                                         enc_out)\n",
        "        # Reshape the attention weights\n",
        "        attention_weights = tf.reshape(attention_weights, (-1, ))\n",
        "        # Store the attention weights for plotting\n",
        "        attention_plot[t] = attention_weights.numpy()\n",
        "        # Get the index of the predicted word\n",
        "        predicted_id = tf.argmax(predictions[0]).numpy()\n",
        "        # Concatenate the predicted word to the result string\n",
        "        result += tgt_lang_tokenizer.index_word[predicted_id] + ' '\n",
        "\n",
        "        # If the predicted word is the end-of-sentence token, return the result\n",
        "        if tgt_lang_tokenizer.index_word[predicted_id] == '<eos>':\n",
        "            return result, sentence, attention_plot\n",
        "        # Set the input to the decoder to be the predicted word\n",
        "        dec_input = tf.expand_dims([predicted_id], 0)\n",
        "\n",
        "    return result, sentence, attention_plot\n"
      ],
      "metadata": {
        "id": "oK7DGhMw-ils"
      },
      "execution_count": 64,
      "outputs": []
    },
    {
      "cell_type": "code",
      "source": [
        " src_sentences[42]"
      ],
      "metadata": {
        "colab": {
          "base_uri": "https://localhost:8080/",
          "height": 36
        },
        "id": "xb0Ryx-xsAWQ",
        "outputId": "f5d4b20c-e918-405a-d955-20606f05c79f"
      },
      "execution_count": 58,
      "outputs": [
        {
          "output_type": "execute_result",
          "data": {
            "text/plain": [
              "'Yo lo sé.'"
            ],
            "application/vnd.google.colaboratory.intrinsic+json": {
              "type": "string"
            }
          },
          "metadata": {},
          "execution_count": 58
        }
      ]
    },
    {
      "cell_type": "code",
      "source": [
        "sentence_1 = preprocess_sentence(src_sentences[42])\n",
        "print(sentence_1)"
      ],
      "metadata": {
        "colab": {
          "base_uri": "https://localhost:8080/"
        },
        "id": "s4337D9FsUXz",
        "outputId": "9a3b978e-7b70-4d8e-d0ec-4f4cd615c01d"
      },
      "execution_count": 49,
      "outputs": [
        {
          "output_type": "stream",
          "name": "stdout",
          "text": [
            "<sos> yo lo sé . <eos>\n"
          ]
        }
      ]
    },
    {
      "cell_type": "code",
      "source": [
        "sentence_1.split(' ')"
      ],
      "metadata": {
        "colab": {
          "base_uri": "https://localhost:8080/"
        },
        "id": "NvAXi4KqxYzZ",
        "outputId": "2edc9772-fdf0-46c9-9368-cc38a93bb7c4"
      },
      "execution_count": 50,
      "outputs": [
        {
          "output_type": "execute_result",
          "data": {
            "text/plain": [
              "['<sos>', 'yo', 'lo', 'sé', '.', '<eos>']"
            ]
          },
          "metadata": {},
          "execution_count": 50
        }
      ]
    },
    {
      "cell_type": "code",
      "source": [
        "src_lang_tokenizer.word_index['sé']"
      ],
      "metadata": {
        "colab": {
          "base_uri": "https://localhost:8080/"
        },
        "id": "7g2W9BxpxjC9",
        "outputId": "ec098e67-6b3a-463b-fded-52a5be79be69"
      },
      "execution_count": 51,
      "outputs": [
        {
          "output_type": "execute_result",
          "data": {
            "text/plain": [
              "70"
            ]
          },
          "metadata": {},
          "execution_count": 51
        }
      ]
    },
    {
      "cell_type": "code",
      "source": [
        "inputs = [src_lang_tokenizer.word_index[i] for i in sentence_1.split(' ')]"
      ],
      "metadata": {
        "id": "6CL7FLVKslgp"
      },
      "execution_count": 52,
      "outputs": []
    },
    {
      "cell_type": "code",
      "source": [
        "inputs = tf.convert_to_tensor(inputs)"
      ],
      "metadata": {
        "id": "SFXDTQGI5seg"
      },
      "execution_count": 74,
      "outputs": []
    },
    {
      "cell_type": "code",
      "source": [
        "hidden = [tf.zeros((1, units))]"
      ],
      "metadata": {
        "id": "I4K7R5gK_W5n"
      },
      "execution_count": 76,
      "outputs": []
    },
    {
      "cell_type": "code",
      "source": [
        "inputs"
      ],
      "metadata": {
        "colab": {
          "base_uri": "https://localhost:8080/"
        },
        "id": "dgcpx1z6_MnY",
        "outputId": "5875131f-7dd8-4ed1-948d-8ca667824631"
      },
      "execution_count": 75,
      "outputs": [
        {
          "output_type": "execute_result",
          "data": {
            "text/plain": [
              "<tf.Tensor: shape=(1, 16), dtype=int32, numpy=\n",
              "array([[ 1, 28, 19, 70,  3,  2,  0,  0,  0,  0,  0,  0,  0,  0,  0,  0]],\n",
              "      dtype=int32)>"
            ]
          },
          "metadata": {},
          "execution_count": 75
        }
      ]
    },
    {
      "cell_type": "code",
      "source": [
        "inputs = pad_sequences([inputs],\n",
        "                          maxlen=max_length_src,\n",
        "                          padding='post')"
      ],
      "metadata": {
        "id": "uq_nYojo-6xi"
      },
      "execution_count": 72,
      "outputs": []
    },
    {
      "cell_type": "code",
      "source": [
        "hidden"
      ],
      "metadata": {
        "colab": {
          "base_uri": "https://localhost:8080/"
        },
        "id": "MAJn2ubZ-6nl",
        "outputId": "38db5b77-2734-4fc3-bbde-674eb5a795a8"
      },
      "execution_count": 77,
      "outputs": [
        {
          "output_type": "execute_result",
          "data": {
            "text/plain": [
              "[<tf.Tensor: shape=(1, 1024), dtype=float32, numpy=array([[0., 0., 0., ..., 0., 0., 0.]], dtype=float32)>]"
            ]
          },
          "metadata": {},
          "execution_count": 77
        }
      ]
    },
    {
      "cell_type": "code",
      "source": [
        "enc_out, enc_hidden = encoder(inputs, hidden)"
      ],
      "metadata": {
        "id": "EzBKLTMC-6cW"
      },
      "execution_count": 78,
      "outputs": []
    },
    {
      "cell_type": "code",
      "source": [
        "enc_hidden"
      ],
      "metadata": {
        "colab": {
          "base_uri": "https://localhost:8080/"
        },
        "id": "d7aPS_m--6Qg",
        "outputId": "b1872f64-cb81-4338-c1c4-5dfc0e0e7f76"
      },
      "execution_count": 80,
      "outputs": [
        {
          "output_type": "execute_result",
          "data": {
            "text/plain": [
              "<tf.Tensor: shape=(1, 1024), dtype=float32, numpy=\n",
              "array([[ 0.04222065,  0.02108098,  0.02237956, ...,  0.04488623,\n",
              "         0.05927055, -0.056295  ]], dtype=float32)>"
            ]
          },
          "metadata": {},
          "execution_count": 80
        }
      ]
    },
    {
      "cell_type": "code",
      "source": [
        "dec_input = tf.expand_dims([tgt_lang_tokenizer.word_index['<sos>']], 0)"
      ],
      "metadata": {
        "id": "Bflc8jJK_zg6"
      },
      "execution_count": 82,
      "outputs": []
    },
    {
      "cell_type": "code",
      "source": [
        "attention_plot = np.zeros((max_length_trg, max_length_src))"
      ],
      "metadata": {
        "id": "GMu02NbkAzhS"
      },
      "execution_count": 87,
      "outputs": []
    },
    {
      "cell_type": "code",
      "source": [
        "result = ' ' \n",
        "for t in range(max_length_trg):\n",
        "  # Pass the decoder input, hidden state, and encoder output through the decoder\n",
        "  predictions, dec_hidden, attention_weights = decoder(dec_input,\n",
        "                                                         dec_hidden,\n",
        "                                                         enc_out)\n",
        "  # Reshape the attention weights\n",
        "  attention_weights = tf.reshape(attention_weights, (-1, ))\n",
        "  # Store the attention weights for plotting\n",
        "  attention_plot[t] = attention_weights.numpy()\n",
        "  # Get the index of the predicted word\n",
        "  predicted_id = tf.argmax(predictions[0]).numpy()\n",
        "  # Concatenate the predicted word to the result string\n",
        "  result += tgt_lang_tokenizer.index_word[predicted_id] + ' '\n",
        "  # If the predicted word is the end-of-sentence token, return the result\n",
        "  if tgt_lang_tokenizer.index_word[predicted_id] == '<eos>':\n",
        "  # Set the input to the decoder to be the predicted word\n",
        "    dec_input = tf.expand_dims([predicted_id], 0)"
      ],
      "metadata": {
        "id": "STo-DTsi_zc9"
      },
      "execution_count": 88,
      "outputs": []
    },
    {
      "cell_type": "code",
      "source": [
        "print(result)"
      ],
      "metadata": {
        "colab": {
          "base_uri": "https://localhost:8080/"
        },
        "id": "DtobzdYT_zY1",
        "outputId": "db247a02-a236-4ce5-fdf0-2911ab143168"
      },
      "execution_count": 89,
      "outputs": [
        {
          "output_type": "stream",
          "name": "stdout",
          "text": [
            " thief thief thief thief thief thief thief thief thief thief thief thief \n"
          ]
        }
      ]
    },
    {
      "cell_type": "code",
      "source": [],
      "metadata": {
        "id": "Z2j402un_zVJ"
      },
      "execution_count": null,
      "outputs": []
    },
    {
      "cell_type": "code",
      "source": [],
      "metadata": {
        "id": "-UJIjORH_zGp"
      },
      "execution_count": null,
      "outputs": []
    },
    {
      "cell_type": "code",
      "source": [
        "dec_hidden = enc_hidden"
      ],
      "metadata": {
        "id": "WMgJH4OX-6DF"
      },
      "execution_count": 81,
      "outputs": []
    },
    {
      "cell_type": "code",
      "source": [],
      "metadata": {
        "id": "jUlIZckh_yCN"
      },
      "execution_count": null,
      "outputs": []
    },
    {
      "cell_type": "code",
      "source": [],
      "metadata": {
        "id": "TfYchxrf_x-E"
      },
      "execution_count": null,
      "outputs": []
    },
    {
      "cell_type": "code",
      "source": [],
      "metadata": {
        "id": "VozWxhKf_x6E"
      },
      "execution_count": null,
      "outputs": []
    },
    {
      "cell_type": "code",
      "source": [],
      "metadata": {
        "id": "NK14huf__x1i"
      },
      "execution_count": null,
      "outputs": []
    },
    {
      "cell_type": "code",
      "source": [],
      "metadata": {
        "id": "6U1eDdnH_xwm"
      },
      "execution_count": null,
      "outputs": []
    },
    {
      "cell_type": "code",
      "source": [],
      "metadata": {
        "id": "1X2w2RWp_xs3"
      },
      "execution_count": null,
      "outputs": []
    },
    {
      "cell_type": "code",
      "source": [],
      "metadata": {
        "id": "wL-yKk_a_xpm"
      },
      "execution_count": null,
      "outputs": []
    },
    {
      "cell_type": "code",
      "source": [],
      "metadata": {
        "id": "9HozgwdC_xnE"
      },
      "execution_count": null,
      "outputs": []
    },
    {
      "cell_type": "code",
      "source": [],
      "metadata": {
        "id": "XjrGRudf_xjb"
      },
      "execution_count": null,
      "outputs": []
    },
    {
      "cell_type": "code",
      "source": [],
      "metadata": {
        "id": "RJ86Gt1N_xeA"
      },
      "execution_count": null,
      "outputs": []
    },
    {
      "cell_type": "code",
      "source": [
        "evaluate( src_sentences[100])"
      ],
      "metadata": {
        "colab": {
          "base_uri": "https://localhost:8080/"
        },
        "id": "OumsxeJPZPr4",
        "outputId": "adc30126-2977-4810-be3c-476baecf4c23"
      },
      "execution_count": 66,
      "outputs": [
        {
          "output_type": "execute_result",
          "data": {
            "text/plain": [
              "('thief thief thief thief thief thief thief thief thief thief thief thief ',\n",
              " '<sos> ¡salga de aquí ! <eos>',\n",
              " array([[2.21966673e-02, 8.84915527e-04, 1.20007709e-04, 9.14594857e-05,\n",
              "         9.01912572e-05, 9.00475497e-05, 9.76526663e-02, 9.76526663e-02,\n",
              "         9.76526663e-02, 9.76526663e-02, 9.76526663e-02, 9.76526663e-02,\n",
              "         9.76526663e-02, 9.76526663e-02, 9.76526663e-02, 9.76526663e-02],\n",
              "        [1.68096344e-03, 6.21082836e-06, 2.84187195e-07, 4.36184813e-08,\n",
              "         1.75698247e-08, 9.43008249e-09, 9.98312458e-02, 9.98312458e-02,\n",
              "         9.98312458e-02, 9.98312458e-02, 9.98312458e-02, 9.98312458e-02,\n",
              "         9.98312458e-02, 9.98312458e-02, 9.98312458e-02, 9.98312458e-02],\n",
              "        [1.78088085e-03, 6.48683636e-06, 2.95616388e-07, 4.43528805e-08,\n",
              "         1.74393797e-08, 9.16783893e-09, 9.98212323e-02, 9.98212323e-02,\n",
              "         9.98212323e-02, 9.98212323e-02, 9.98212323e-02, 9.98212323e-02,\n",
              "         9.98212323e-02, 9.98212323e-02, 9.98212323e-02, 9.98212323e-02],\n",
              "        [1.78089261e-03, 6.48703372e-06, 2.95627359e-07, 4.43544437e-08,\n",
              "         1.74399588e-08, 9.16813558e-09, 9.98212174e-02, 9.98212174e-02,\n",
              "         9.98212174e-02, 9.98212174e-02, 9.98212174e-02, 9.98212174e-02,\n",
              "         9.98212174e-02, 9.98212174e-02, 9.98212174e-02, 9.98212174e-02],\n",
              "        [1.78089261e-03, 6.48703372e-06, 2.95627359e-07, 4.43544437e-08,\n",
              "         1.74399588e-08, 9.16813558e-09, 9.98212174e-02, 9.98212174e-02,\n",
              "         9.98212174e-02, 9.98212174e-02, 9.98212174e-02, 9.98212174e-02,\n",
              "         9.98212174e-02, 9.98212174e-02, 9.98212174e-02, 9.98212174e-02],\n",
              "        [1.78089261e-03, 6.48703372e-06, 2.95627359e-07, 4.43544437e-08,\n",
              "         1.74399588e-08, 9.16813558e-09, 9.98212174e-02, 9.98212174e-02,\n",
              "         9.98212174e-02, 9.98212174e-02, 9.98212174e-02, 9.98212174e-02,\n",
              "         9.98212174e-02, 9.98212174e-02, 9.98212174e-02, 9.98212174e-02],\n",
              "        [1.78089261e-03, 6.48703372e-06, 2.95627359e-07, 4.43544437e-08,\n",
              "         1.74399588e-08, 9.16813558e-09, 9.98212174e-02, 9.98212174e-02,\n",
              "         9.98212174e-02, 9.98212174e-02, 9.98212174e-02, 9.98212174e-02,\n",
              "         9.98212174e-02, 9.98212174e-02, 9.98212174e-02, 9.98212174e-02],\n",
              "        [1.78089261e-03, 6.48703372e-06, 2.95627359e-07, 4.43544437e-08,\n",
              "         1.74399588e-08, 9.16813558e-09, 9.98212174e-02, 9.98212174e-02,\n",
              "         9.98212174e-02, 9.98212174e-02, 9.98212174e-02, 9.98212174e-02,\n",
              "         9.98212174e-02, 9.98212174e-02, 9.98212174e-02, 9.98212174e-02],\n",
              "        [1.78089261e-03, 6.48703372e-06, 2.95627359e-07, 4.43544437e-08,\n",
              "         1.74399588e-08, 9.16813558e-09, 9.98212174e-02, 9.98212174e-02,\n",
              "         9.98212174e-02, 9.98212174e-02, 9.98212174e-02, 9.98212174e-02,\n",
              "         9.98212174e-02, 9.98212174e-02, 9.98212174e-02, 9.98212174e-02],\n",
              "        [1.78089261e-03, 6.48703372e-06, 2.95627359e-07, 4.43544437e-08,\n",
              "         1.74399588e-08, 9.16813558e-09, 9.98212174e-02, 9.98212174e-02,\n",
              "         9.98212174e-02, 9.98212174e-02, 9.98212174e-02, 9.98212174e-02,\n",
              "         9.98212174e-02, 9.98212174e-02, 9.98212174e-02, 9.98212174e-02],\n",
              "        [1.78089261e-03, 6.48703372e-06, 2.95627359e-07, 4.43544437e-08,\n",
              "         1.74399588e-08, 9.16813558e-09, 9.98212174e-02, 9.98212174e-02,\n",
              "         9.98212174e-02, 9.98212174e-02, 9.98212174e-02, 9.98212174e-02,\n",
              "         9.98212174e-02, 9.98212174e-02, 9.98212174e-02, 9.98212174e-02],\n",
              "        [1.78089261e-03, 6.48703372e-06, 2.95627359e-07, 4.43544437e-08,\n",
              "         1.74399588e-08, 9.16813558e-09, 9.98212174e-02, 9.98212174e-02,\n",
              "         9.98212174e-02, 9.98212174e-02, 9.98212174e-02, 9.98212174e-02,\n",
              "         9.98212174e-02, 9.98212174e-02, 9.98212174e-02, 9.98212174e-02]]))"
            ]
          },
          "metadata": {},
          "execution_count": 66
        }
      ]
    },
    {
      "cell_type": "code",
      "source": [
        "def translate(sentence):\n",
        "  result, sentence, attention_plot = evaluate(sentence)\n",
        "\n",
        "  print('Input:', sentence)\n",
        "  print('Predicted Translation:', result)\n",
        "\n",
        "  attention_plot = attention_plot[:len(result.split(' ')),\n",
        "                                  :len(sentence.split(' '))]\n",
        "  plot_attention(attention_plot, sentence.split(' '), result.split(' '))"
      ],
      "metadata": {
        "id": "OEhNSRtDjeYd"
      },
      "execution_count": 67,
      "outputs": []
    },
    {
      "cell_type": "code",
      "source": [
        "checkpoint.restore(tf.train.latest_checkpoint(checkpoint_dir))"
      ],
      "metadata": {
        "id": "q3yIIN-Qjhoh",
        "colab": {
          "base_uri": "https://localhost:8080/"
        },
        "outputId": "1775f5ae-15ff-4c25-fc63-92a0c442634f"
      },
      "execution_count": 68,
      "outputs": [
        {
          "output_type": "execute_result",
          "data": {
            "text/plain": [
              "<tensorflow.python.checkpoint.checkpoint.CheckpointLoadStatus at 0x7f7f5b8f0c10>"
            ]
          },
          "metadata": {},
          "execution_count": 68
        }
      ]
    },
    {
      "cell_type": "code",
      "source": [
        "translate(u'hace mucho frío aquí.')"
      ],
      "metadata": {
        "id": "4EFg5iVOjjZy",
        "colab": {
          "base_uri": "https://localhost:8080/",
          "height": 737
        },
        "outputId": "cd0dfd55-1722-41e3-9bb8-e4c562daf02a"
      },
      "execution_count": 69,
      "outputs": [
        {
          "output_type": "stream",
          "name": "stdout",
          "text": [
            "Input: <sos> hace mucho frío aquí . <eos>\n",
            "Predicted Translation: thief thief thief thief thief thief thief thief thief thief thief thief \n"
          ]
        },
        {
          "output_type": "stream",
          "name": "stderr",
          "text": [
            "<ipython-input-46-195a7c32b7e5>:15: UserWarning: FixedFormatter should only be used together with FixedLocator\n",
            "  ax.set_xticklabels([''] + sentence, fontdict=fontdict, rotation=90)\n",
            "<ipython-input-46-195a7c32b7e5>:18: UserWarning: FixedFormatter should only be used together with FixedLocator\n",
            "  ax.set_yticklabels([''] + predicted_sentence, fontdict=fontdict)\n"
          ]
        },
        {
          "output_type": "display_data",
          "data": {
            "text/plain": [
              "<Figure size 720x720 with 1 Axes>"
            ],
            "image/png": "[encoded data removed]"
          },
          "metadata": {
            "needs_background": "light"
          }
        }
      ]
    },
    {
      "cell_type": "code",
      "source": [
        "translate(u'trata de averiguarlo.')"
      ],
      "metadata": {
        "id": "ypJCFWmFPevu",
        "colab": {
          "base_uri": "https://localhost:8080/",
          "height": 769
        },
        "outputId": "38f16304-7811-42f1-bf8e-69863dccd7e7"
      },
      "execution_count": 70,
      "outputs": [
        {
          "output_type": "stream",
          "name": "stdout",
          "text": [
            "Input: <sos> trata de averiguarlo . <eos>\n",
            "Predicted Translation: thief thief thief thief thief thief thief thief thief thief thief thief \n"
          ]
        },
        {
          "output_type": "stream",
          "name": "stderr",
          "text": [
            "<ipython-input-46-195a7c32b7e5>:15: UserWarning: FixedFormatter should only be used together with FixedLocator\n",
            "  ax.set_xticklabels([''] + sentence, fontdict=fontdict, rotation=90)\n",
            "<ipython-input-46-195a7c32b7e5>:18: UserWarning: FixedFormatter should only be used together with FixedLocator\n",
            "  ax.set_yticklabels([''] + predicted_sentence, fontdict=fontdict)\n"
          ]
        },
        {
          "output_type": "display_data",
          "data": {
            "text/plain": [
              "<Figure size 720x720 with 1 Axes>"
            ],
            "image/png": "[encoded data removed]"
          },
          "metadata": {
            "needs_background": "light"
          }
        }
      ]
    },
    {
      "cell_type": "code",
      "source": [
        "translate(u'¿todavía están en casa?')"
      ],
      "metadata": {
        "id": "b7NQO77Tm0B6",
        "colab": {
          "base_uri": "https://localhost:8080/",
          "height": 741
        },
        "outputId": "800588ed-7b22-4785-fe3b-c752e3aa1715"
      },
      "execution_count": 71,
      "outputs": [
        {
          "output_type": "stream",
          "name": "stdout",
          "text": [
            "Input: <sos> ¿ todavía están en casa ? <eos>\n",
            "Predicted Translation: thief thief thief thief thief thief thief thief thief thief thief thief \n"
          ]
        },
        {
          "output_type": "stream",
          "name": "stderr",
          "text": [
            "<ipython-input-46-195a7c32b7e5>:15: UserWarning: FixedFormatter should only be used together with FixedLocator\n",
            "  ax.set_xticklabels([''] + sentence, fontdict=fontdict, rotation=90)\n",
            "<ipython-input-46-195a7c32b7e5>:18: UserWarning: FixedFormatter should only be used together with FixedLocator\n",
            "  ax.set_yticklabels([''] + predicted_sentence, fontdict=fontdict)\n"
          ]
        },
        {
          "output_type": "display_data",
          "data": {
            "text/plain": [
              "<Figure size 720x720 with 1 Axes>"
            ],
            "image/png": "[encoded data removed]"
          },
          "metadata": {
            "needs_background": "light"
          }
        }
      ]
    }
  ],
  "metadata": {
    "accelerator": "GPU",
    "colab": {
      "provenance": [],
      "toc_visible": true,
      "include_colab_link": true
    },
    "gpuClass": "standard",
    "kernelspec": {
      "display_name": "Python 3",
      "name": "python3"
    },
    "language_info": {
      "name": "python"
    }
  },
  "nbformat": 4,
  "nbformat_minor": 0
}