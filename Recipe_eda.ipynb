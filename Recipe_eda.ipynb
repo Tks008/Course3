{
  "cells": [
    {
      "cell_type": "code",
      "execution_count": 1,
      "metadata": {
        "colab": {
          "base_uri": "https://localhost:8080/"
        },
        "id": "YS8uiesnQjCE",
        "outputId": "d0538f58-0747-4402-acaf-7a7db581e25f"
      },
      "outputs": [
        {
          "output_type": "stream",
          "name": "stdout",
          "text": [
            "Looking in indexes: https://pypi.org/simple, https://us-python.pkg.dev/colab-wheels/public/simple/\n",
            "Collecting pyspark\n",
            "  Downloading pyspark-3.3.0.tar.gz (281.3 MB)\n",
            "\u001b[K     |████████████████████████████████| 281.3 MB 48 kB/s \n",
            "\u001b[?25hCollecting py4j==0.10.9.5\n",
            "  Downloading py4j-0.10.9.5-py2.py3-none-any.whl (199 kB)\n",
            "\u001b[K     |████████████████████████████████| 199 kB 61.2 MB/s \n",
            "\u001b[?25hBuilding wheels for collected packages: pyspark\n",
            "  Building wheel for pyspark (setup.py) ... \u001b[?25l\u001b[?25hdone\n",
            "  Created wheel for pyspark: filename=pyspark-3.3.0-py2.py3-none-any.whl size=281764026 sha256=7978882117dcabf0f0aba58b41c02de097bd12c123c21bb55c8f3d62a84c5268\n",
            "  Stored in directory: /root/.cache/pip/wheels/7a/8e/1b/f73a52650d2e5f337708d9f6a1750d451a7349a867f928b885\n",
            "Successfully built pyspark\n",
            "Installing collected packages: py4j, pyspark\n",
            "Successfully installed py4j-0.10.9.5 pyspark-3.3.0\n"
          ]
        }
      ],
      "source": [
        "!pip install pyspark"
      ]
    },
    {
      "cell_type": "code",
      "execution_count": 2,
      "metadata": {
        "id": "T4nkgULfQ3MD"
      },
      "outputs": [],
      "source": [
        "from pyspark.sql import SparkSession\n",
        "spark = SparkSession.builder\\\n",
        "        .master(\"local\")\\\n",
        "        .appName(\"Colab\")\\\n",
        "        .config('spark.ui.port', '4050')\\\n",
        "        .getOrCreate()"
      ]
    },
    {
      "cell_type": "code",
      "execution_count": 3,
      "metadata": {
        "id": "Pim342tEh1kv"
      },
      "outputs": [],
      "source": [
        "# Add all import commands to this cell. \n",
        "# Add all import commands to this cell. \n",
        "from pyspark import SparkConf, SparkContext\n",
        "from pyspark.sql import SQLContext, types\n",
        "from pyspark.sql.functions import col, regexp_replace, lit, split\n",
        "#import sys\n",
        "#import string\n",
        "from pyspark.sql.types import StructType, FloatType, ArrayType, StringType\n",
        "# Add all import commands to this cell. \n",
        "import os\n",
        "import sys\n",
        "# Here you need to have same Python version on your local machine and on worker node i.e. EC2. here both should have python3.\n",
        "os.environ[\"PYSPARK_PYTHON\"] = \"/bin/python3\"\n",
        "os.environ[\"JAVA_HOME\"] = \"/usr/java/jdk1.8.0_161/jre\"\n",
        "os.environ[\"SPARK_HOME\"] = \"/home/ec2-user/spark-2.4.4-bin-hadoop2.7\"\n",
        "os.environ[\"PYLIB\"] = os.environ[\"SPARK_HOME\"] + \"/python/lib\"\n",
        "sys.path.insert(0, os.environ[\"PYLIB\"] + \"/py4j-0.10.7-src.zip\")\n",
        "sys.path.insert(0, os.environ[\"PYLIB\"] + \"/pyspark.zip\")\n"
      ]
    },
    {
      "cell_type": "code",
      "execution_count": 4,
      "metadata": {
        "colab": {
          "base_uri": "https://localhost:8080/",
          "height": 222
        },
        "id": "_LCu9KstRCyX",
        "outputId": "5acd4e86-418c-4a33-da05-51eb0058fddc"
      },
      "outputs": [
        {
          "output_type": "execute_result",
          "data": {
            "text/plain": [
              "<pyspark.sql.session.SparkSession at 0x7f0fda67fdd0>"
            ],
            "text/html": [
              "\n",
              "            <div>\n",
              "                <p><b>SparkSession - in-memory</b></p>\n",
              "                \n",
              "        <div>\n",
              "            <p><b>SparkContext</b></p>\n",
              "\n",
              "            <p><a href=\"http://49bdab731e0c:4050\">Spark UI</a></p>\n",
              "\n",
              "            <dl>\n",
              "              <dt>Version</dt>\n",
              "                <dd><code>v3.3.0</code></dd>\n",
              "              <dt>Master</dt>\n",
              "                <dd><code>local</code></dd>\n",
              "              <dt>AppName</dt>\n",
              "                <dd><code>Colab</code></dd>\n",
              "            </dl>\n",
              "        </div>\n",
              "        \n",
              "            </div>\n",
              "        "
            ]
          },
          "metadata": {},
          "execution_count": 4
        }
      ],
      "source": [
        "spark"
      ]
    },
    {
      "cell_type": "code",
      "execution_count": 5,
      "metadata": {
        "colab": {
          "base_uri": "https://localhost:8080/"
        },
        "id": "jWTQNJj6V95D",
        "outputId": "122149eb-6988-46d4-b20e-4071061791a1"
      },
      "outputs": [
        {
          "output_type": "stream",
          "name": "stdout",
          "text": [
            "Drive already mounted at /content/drive; to attempt to forcibly remount, call drive.mount(\"/content/drive\", force_remount=True).\n"
          ]
        }
      ],
      "source": [
        "from google.colab import drive\n",
        "drive.mount('/content/drive')"
      ]
    },
    {
      "cell_type": "code",
      "execution_count": 6,
      "metadata": {
        "id": "Q3hv1Kx-RisW"
      },
      "outputs": [],
      "source": [
        "raw_recipes_df = spark.read.csv('/content/drive/MyDrive/Colab Notebooks/RAW_recipes_cleaned.csv', header=True, inferSchema=True)"
      ]
    },
    {
      "cell_type": "code",
      "execution_count": 7,
      "metadata": {
        "colab": {
          "base_uri": "https://localhost:8080/"
        },
        "id": "BEYq4_TngPXO",
        "outputId": "d8043453-c85c-410a-9c78-7b309315aa8d"
      },
      "outputs": [
        {
          "output_type": "stream",
          "name": "stdout",
          "text": [
            "+--------------------+------+-------+--------------+-------------------+--------------------+--------------------+-------+--------------------+--------------------+--------------------+-------------+\n",
            "|                name|    id|minutes|contributor_id|          submitted|                tags|           nutrition|n_steps|               steps|         description|         ingredients|n_ingredients|\n",
            "+--------------------+------+-------+--------------+-------------------+--------------------+--------------------+-------+--------------------+--------------------+--------------------+-------------+\n",
            "|arriba   baked wi...|137739|     55|         47892|2005-09-16 00:00:00|['60-minutes-or-l...|[51.5, 0.0, 13.0,...|     11|['make a choice a...|autumn is my favo...|['winter squash',...|            7|\n",
            "|a bit different  ...| 31490|     30|         26278|2002-06-17 00:00:00|['30-minutes-or-l...|[173.4, 18.0, 0.0...|      9|['preheat oven to...|this recipe calls...|['prepared pizza ...|            6|\n",
            "|all in the kitche...|112140|    130|        196586|2005-02-25 00:00:00|['time-to-make', ...|[269.8, 22.0, 32....|      6|['brown ground be...|this modified ver...|['ground beef', '...|           13|\n",
            "|  alouette  potatoes| 59389|     45|         68585|2003-04-14 00:00:00|['60-minutes-or-l...|[368.1, 17.0, 10....|     11|['place potatoes ...|this is a super e...|['spreadable chee...|           11|\n",
            "|amish  tomato ket...| 44061|    190|         41706|2002-10-25 00:00:00|['weeknight', 'ti...|[352.9, 1.0, 337....|      5|['mix all ingredi...|my dh's amish mot...|['tomato juice', ...|            8|\n",
            "+--------------------+------+-------+--------------+-------------------+--------------------+--------------------+-------+--------------------+--------------------+--------------------+-------------+\n",
            "only showing top 5 rows\n",
            "\n"
          ]
        }
      ],
      "source": [
        "raw_recipes_df.show(5)"
      ]
    },
    {
      "cell_type": "code",
      "execution_count": 8,
      "metadata": {
        "id": "9OhUXpuOgcbQ"
      },
      "outputs": [],
      "source": [
        "# Code check cell\n",
        "# Do not edit cells with assert commands\n",
        "# If an error is shown after running this cell, please recheck your code.  \n",
        "\n",
        "assert raw_recipes_df.count() == 231637, \"There is a mistake in reading the data.\"\n",
        "assert len(raw_recipes_df.columns) == 12, \"There is a mistake in reading the data.\""
      ]
    },
    {
      "cell_type": "markdown",
      "metadata": {
        "id": "h0cekqHXgxu5"
      },
      "source": [
        "## Extract ```nutrition``` values "
      ]
    },
    {
      "cell_type": "code",
      "execution_count": 9,
      "metadata": {
        "colab": {
          "base_uri": "https://localhost:8080/"
        },
        "id": "aAHjQPAJg0w5",
        "outputId": "fab007ff-6319-489d-ac6b-37a02b6cc468"
      },
      "outputs": [
        {
          "output_type": "stream",
          "name": "stdout",
          "text": [
            "+------------------------------------------+\n",
            "|nutrition                                 |\n",
            "+------------------------------------------+\n",
            "|[51.5, 0.0, 13.0, 0.0, 2.0, 0.0, 4.0]     |\n",
            "|[173.4, 18.0, 0.0, 17.0, 22.0, 35.0, 1.0] |\n",
            "|[269.8, 22.0, 32.0, 48.0, 39.0, 27.0, 5.0]|\n",
            "|[368.1, 17.0, 10.0, 2.0, 14.0, 8.0, 20.0] |\n",
            "|[352.9, 1.0, 337.0, 23.0, 3.0, 0.0, 28.0] |\n",
            "+------------------------------------------+\n",
            "only showing top 5 rows\n",
            "\n"
          ]
        }
      ],
      "source": [
        "raw_recipes_df.select('nutrition').show(5, truncate=False)"
      ]
    },
    {
      "cell_type": "code",
      "execution_count": 10,
      "metadata": {
        "id": "BDE1NuidhJ3f"
      },
      "outputs": [],
      "source": [
        "# List of nutrition columns\n",
        "\n",
        "nutrition_column_names = ['calories',\n",
        "                          'total_fat_PDV',\n",
        "                          'sugar_PDV',\n",
        "                          'sodium_PDV',\n",
        "                          'protein_PDV',\n",
        "                          'saturated_fat_PDV',\n",
        "                          'carbohydrates_PDV']"
      ]
    },
    {
      "cell_type": "code",
      "execution_count": 11,
      "metadata": {
        "id": "d_ceThm_hSuY"
      },
      "outputs": [],
      "source": [
        "# STEP 1 - string operations to convert nutrition to an array \n",
        "\n",
        "from pyspark.sql import functions as F\n",
        "raw_recipes_df=raw_recipes_df.withColumn(\"nutrition\", F.regexp_replace(F.regexp_replace(F.regexp_replace(\"nutrition\", \"\\\\]\\\\[\", \"\"), \"\\\\[\", \"\"), \"\\\\]\", \"\"))\n"
      ]
    },
    {
      "cell_type": "code",
      "execution_count": 12,
      "metadata": {
        "id": "Js0Y0TRQhYNi"
      },
      "outputs": [],
      "source": [
        "#split the text \n",
        "\n",
        "raw_recipes_df = (raw_recipes_df.withColumn('calories', split(raw_recipes_df['nutrition'], ',').getItem(0).cast('float')) \\\n",
        "                    .withColumn('total_fat_PDV', split(raw_recipes_df['nutrition'], ',').getItem(1).cast('float')) \\\n",
        "                    .withColumn('sugar_PDV', split(raw_recipes_df['nutrition'], ',').getItem(2).cast('float')) \\\n",
        "                    .withColumn('sodium_PDV', split(raw_recipes_df['nutrition'], ',').getItem(3).cast('float')) \\\n",
        "                    .withColumn('protein_PDV', split(raw_recipes_df['nutrition'], ',').getItem(4).cast('float')) \\\n",
        "                    .withColumn('saturated_fat_PDV', split(raw_recipes_df['nutrition'], ',').getItem(5).cast('float')) \\\n",
        "                    .withColumn('carbohydrates_PDV', split(raw_recipes_df['nutrition'], ',').getItem(6).cast('float'))# add command(s) to modify the string\n",
        "                  )"
      ]
    },
    {
      "cell_type": "code",
      "execution_count": 13,
      "metadata": {
        "colab": {
          "base_uri": "https://localhost:8080/"
        },
        "id": "siTn5IGuh6Kg",
        "outputId": "b7c00af9-c4ee-42d2-9c40-55684d71d899"
      },
      "outputs": [
        {
          "output_type": "stream",
          "name": "stdout",
          "text": [
            "root\n",
            " |-- name: string (nullable = true)\n",
            " |-- id: integer (nullable = true)\n",
            " |-- minutes: integer (nullable = true)\n",
            " |-- contributor_id: integer (nullable = true)\n",
            " |-- submitted: timestamp (nullable = true)\n",
            " |-- tags: string (nullable = true)\n",
            " |-- nutrition: string (nullable = true)\n",
            " |-- n_steps: integer (nullable = true)\n",
            " |-- steps: string (nullable = true)\n",
            " |-- description: string (nullable = true)\n",
            " |-- ingredients: string (nullable = true)\n",
            " |-- n_ingredients: integer (nullable = true)\n",
            " |-- calories: float (nullable = true)\n",
            " |-- total_fat_PDV: float (nullable = true)\n",
            " |-- sugar_PDV: float (nullable = true)\n",
            " |-- sodium_PDV: float (nullable = true)\n",
            " |-- protein_PDV: float (nullable = true)\n",
            " |-- saturated_fat_PDV: float (nullable = true)\n",
            " |-- carbohydrates_PDV: float (nullable = true)\n",
            "\n"
          ]
        }
      ],
      "source": [
        "#Printing Schema\n",
        "raw_recipes_df.printSchema()"
      ]
    },
    {
      "cell_type": "code",
      "execution_count": 14,
      "metadata": {
        "id": "ffkPopUFiRhT"
      },
      "outputs": [],
      "source": [
        "# Code check cell\n",
        "# Do not edit cells with assert commands\n",
        "# If an error is shown after running this cell, please recheck your code.  \n",
        "\n",
        "assert raw_recipes_df.schema[\"carbohydrates_PDV\"].dataType == FloatType(), \"Recheck your typecasting\"\n",
        "assert raw_recipes_df.collect()[123432][14] == 62.0, \"The columns have not been split correctly.\"\n",
        "assert raw_recipes_df.collect()[10000][12] == 60.400001525878906, \"The columns have not been split correctly.\""
      ]
    },
    {
      "cell_type": "code",
      "execution_count": 15,
      "metadata": {
        "colab": {
          "base_uri": "https://localhost:8080/"
        },
        "id": "iTzNtt_C1Ntz",
        "outputId": "3aa7a7e8-56c5-4d60-ba74-6edc8c062c06"
      },
      "outputs": [
        {
          "output_type": "execute_result",
          "data": {
            "text/plain": [
              "['calories',\n",
              " 'total_fat_PDV',\n",
              " 'sugar_PDV',\n",
              " 'sodium_PDV',\n",
              " 'protein_PDV',\n",
              " 'saturated_fat_PDV',\n",
              " 'carbohydrates_PDV']"
            ]
          },
          "metadata": {},
          "execution_count": 15
        }
      ],
      "source": [
        "for nutrition_col in nutrition_column_names:\n",
        "    if nutrition_col != 'calories':\n",
        "        nutrition_per_100_cal_col = (nutrition_col\n",
        "                                 .replace('_PDV','')\n",
        "                                 +'_per_100_cal')\n",
        "        # Write code to create nutrition columns per 100 calories \n",
        "nutrition_column_names"
      ]
    },
    {
      "cell_type": "code",
      "execution_count": 16,
      "metadata": {
        "id": "-D2y4R5S81se"
      },
      "outputs": [],
      "source": [
        "cols = list(set(raw_recipes_df.columns) - {'submitted'})\n",
        "\n",
        "raw_recipes_df1 = raw_recipes_df.select(cols)"
      ]
    },
    {
      "cell_type": "code",
      "execution_count": 17,
      "metadata": {
        "colab": {
          "base_uri": "https://localhost:8080/"
        },
        "id": "Rf58ATvU93Wr",
        "outputId": "be4261ba-b97b-4270-f763-9d00effbc617"
      },
      "outputs": [
        {
          "output_type": "stream",
          "name": "stdout",
          "text": [
            "+-----------------+---------+-----------+-----+---+-------------+-----------+--------+-------+-------+---------+----+----------+-----------+-------------+-----------------+--------------+----+\n",
            "|saturated_fat_PDV|nutrition|ingredients|steps| id|total_fat_PDV|description|calories|minutes|n_steps|sugar_PDV|tags|sodium_PDV|protein_PDV|n_ingredients|carbohydrates_PDV|contributor_id|name|\n",
            "+-----------------+---------+-----------+-----+---+-------------+-----------+--------+-------+-------+---------+----+----------+-----------+-------------+-----------------+--------------+----+\n",
            "|                0|        0|          0|    0|  0|            0|          0|       0|      0|      0|        0|   0|         0|          0|            0|                0|             0|   0|\n",
            "+-----------------+---------+-----------+-----+---+-------------+-----------+--------+-------+-------+---------+----+----------+-----------+-------------+-----------------+--------------+----+\n",
            "\n"
          ]
        }
      ],
      "source": [
        "# Finding null values for all the columns\n",
        "from pyspark.sql.functions import isnan, when, count, col\n",
        "raw_recipes_df1.select([count(when(isnan(c), c)).alias(c) for c in raw_recipes_df1.columns]).show()"
      ]
    },
    {
      "cell_type": "code",
      "execution_count": 18,
      "metadata": {
        "id": "QZUAOkeQ2ekQ"
      },
      "outputs": [],
      "source": [
        "df1 = raw_recipes_df.filter(\"id == 112140\")\n"
      ]
    },
    {
      "cell_type": "code",
      "execution_count": 19,
      "metadata": {
        "colab": {
          "base_uri": "https://localhost:8080/"
        },
        "id": "ESsqBcKx21-Q",
        "outputId": "501a04f5-38e6-4d51-ffce-b5026fc41ee0"
      },
      "outputs": [
        {
          "output_type": "stream",
          "name": "stdout",
          "text": [
            "+--------------------+------+-------+--------------+-------------------+--------------------+--------------------+-------+--------------------+--------------------+--------------------+-------------+--------+-------------+---------+----------+-----------+-----------------+-----------------+\n",
            "|                name|    id|minutes|contributor_id|          submitted|                tags|           nutrition|n_steps|               steps|         description|         ingredients|n_ingredients|calories|total_fat_PDV|sugar_PDV|sodium_PDV|protein_PDV|saturated_fat_PDV|carbohydrates_PDV|\n",
            "+--------------------+------+-------+--------------+-------------------+--------------------+--------------------+-------+--------------------+--------------------+--------------------+-------------+--------+-------------+---------+----------+-----------+-----------------+-----------------+\n",
            "|all in the kitche...|112140|    130|        196586|2005-02-25 00:00:00|['time-to-make', ...|269.8, 22.0, 32.0...|      6|['brown ground be...|this modified ver...|['ground beef', '...|           13|   269.8|         22.0|     32.0|      48.0|       39.0|             27.0|              5.0|\n",
            "+--------------------+------+-------+--------------+-------------------+--------------------+--------------------+-------+--------------------+--------------------+--------------------+-------------+--------+-------------+---------+----------+-----------+-----------------+-----------------+\n",
            "\n"
          ]
        }
      ],
      "source": [
        "df1.show()"
      ]
    },
    {
      "cell_type": "code",
      "execution_count": 20,
      "metadata": {
        "id": "QTSdKQn6_h4Z"
      },
      "outputs": [],
      "source": [
        "from pyspark.sql.functions import udf\n",
        "#https://stackoverflow.com/questions/48282321/valueerror-cannot-convert-column-into-bool\n",
        "\n",
        "@udf(\"double\")    \n",
        "def nutritonPercent(x,y):\n",
        "    if y <= 0.0:\n",
        "        return 0.0\n",
        "    return ((x / y) * 100)\n",
        "\n",
        "raw_recipes_df = (raw_recipes_df\n",
        "                  .withColumn('total_fat_per_100_cal', nutritonPercent(raw_recipes_df.total_fat_PDV, raw_recipes_df.calories))\n",
        "                  .withColumn('sugar_per_100_cal', nutritonPercent(raw_recipes_df.sugar_PDV, raw_recipes_df.calories))\n",
        "                  .withColumn('sodium_per_100_cal',  nutritonPercent(raw_recipes_df.sodium_PDV, raw_recipes_df.calories))\n",
        "                  .withColumn('protein_per_100_cal',  nutritonPercent(raw_recipes_df.protein_PDV, raw_recipes_df.calories))\n",
        "                  .withColumn('saturated_fat_per_100_cal',  nutritonPercent(raw_recipes_df.saturated_fat_PDV, raw_recipes_df.calories))\n",
        "                  .withColumn('carbohydrates_per_100_cal',  nutritonPercent(raw_recipes_df.carbohydrates_PDV, raw_recipes_df.calories))\n",
        "                 )"
      ]
    },
    {
      "cell_type": "code",
      "execution_count": 21,
      "metadata": {
        "id": "lD95Lbw93QQ6"
      },
      "outputs": [],
      "source": [
        "df2 = raw_recipes_df.filter(\"id == 112140\")"
      ]
    },
    {
      "cell_type": "code",
      "execution_count": 22,
      "metadata": {
        "colab": {
          "base_uri": "https://localhost:8080/"
        },
        "id": "3_dxhwe03U1l",
        "outputId": "9d9b9e69-0a93-4e81-920a-4cc57b94c0f7"
      },
      "outputs": [
        {
          "output_type": "stream",
          "name": "stdout",
          "text": [
            "+--------------------+------+-------+--------------+-------------------+--------------------+--------------------+-------+--------------------+--------------------+--------------------+-------------+--------+-------------+---------+----------+-----------+-----------------+-----------------+---------------------+------------------+------------------+-------------------+-------------------------+-------------------------+\n",
            "|                name|    id|minutes|contributor_id|          submitted|                tags|           nutrition|n_steps|               steps|         description|         ingredients|n_ingredients|calories|total_fat_PDV|sugar_PDV|sodium_PDV|protein_PDV|saturated_fat_PDV|carbohydrates_PDV|total_fat_per_100_cal| sugar_per_100_cal|sodium_per_100_cal|protein_per_100_cal|saturated_fat_per_100_cal|carbohydrates_per_100_cal|\n",
            "+--------------------+------+-------+--------------+-------------------+--------------------+--------------------+-------+--------------------+--------------------+--------------------+-------------+--------+-------------+---------+----------+-----------+-----------------+-----------------+---------------------+------------------+------------------+-------------------+-------------------------+-------------------------+\n",
            "|all in the kitche...|112140|    130|        196586|2005-02-25 00:00:00|['time-to-make', ...|269.8, 22.0, 32.0...|      6|['brown ground be...|this modified ver...|['ground beef', '...|           13|   269.8|         22.0|     32.0|      48.0|       39.0|             27.0|              5.0|    8.154188656554616|11.860638045897625| 17.79095706884644| 14.455152618437731|       10.007413351226122|       1.8532246946715039|\n",
            "+--------------------+------+-------+--------------+-------------------+--------------------+--------------------+-------+--------------------+--------------------+--------------------+-------------+--------+-------------+---------+----------+-----------+-----------------+-----------------+---------------------+------------------+------------------+-------------------+-------------------------+-------------------------+\n",
            "\n"
          ]
        }
      ],
      "source": [
        "df2.show()"
      ]
    },
    {
      "cell_type": "code",
      "execution_count": 23,
      "metadata": {
        "colab": {
          "base_uri": "https://localhost:8080/"
        },
        "id": "3znC6wMKi5L_",
        "outputId": "990f6ed2-842a-4d6c-fe3e-314f0d2042ab"
      },
      "outputs": [
        {
          "output_type": "stream",
          "name": "stdout",
          "text": [
            "root\n",
            " |-- name: string (nullable = true)\n",
            " |-- id: integer (nullable = true)\n",
            " |-- minutes: integer (nullable = true)\n",
            " |-- contributor_id: integer (nullable = true)\n",
            " |-- submitted: timestamp (nullable = true)\n",
            " |-- tags: string (nullable = true)\n",
            " |-- nutrition: string (nullable = true)\n",
            " |-- n_steps: integer (nullable = true)\n",
            " |-- steps: string (nullable = true)\n",
            " |-- description: string (nullable = true)\n",
            " |-- ingredients: string (nullable = true)\n",
            " |-- n_ingredients: integer (nullable = true)\n",
            " |-- calories: float (nullable = true)\n",
            " |-- total_fat_PDV: float (nullable = true)\n",
            " |-- sugar_PDV: float (nullable = true)\n",
            " |-- sodium_PDV: float (nullable = true)\n",
            " |-- protein_PDV: float (nullable = true)\n",
            " |-- saturated_fat_PDV: float (nullable = true)\n",
            " |-- carbohydrates_PDV: float (nullable = true)\n",
            " |-- total_fat_per_100_cal: double (nullable = true)\n",
            " |-- sugar_per_100_cal: double (nullable = true)\n",
            " |-- sodium_per_100_cal: double (nullable = true)\n",
            " |-- protein_per_100_cal: double (nullable = true)\n",
            " |-- saturated_fat_per_100_cal: double (nullable = true)\n",
            " |-- carbohydrates_per_100_cal: double (nullable = true)\n",
            "\n"
          ]
        }
      ],
      "source": [
        "#Printing Schema\n",
        "raw_recipes_df.printSchema()"
      ]
    },
    {
      "cell_type": "code",
      "execution_count": 24,
      "metadata": {
        "id": "YNvOBnuqktN0"
      },
      "outputs": [],
      "source": [
        "# total fat check for id 28881\n",
        "assert raw_recipes_df.filter(\"id == 28881\").select('total_fat_per_100_cal').first()[0] == 0, \"total_fat_per_100_cal for recipe 28881 should be 0\"\n",
        "\n",
        "# total fat check for id 112140\n",
        "assert round(raw_recipes_df.filter(\"id == 112140\").select('total_fat_per_100_cal').first()[0]) == 8, \"total_fat_per_100_cal for recipe 112140 should b\""
      ]
    },
    {
      "cell_type": "code",
      "execution_count": 25,
      "metadata": {
        "id": "RG9bCvQAwKBR"
      },
      "outputs": [],
      "source": [
        "import pyspark.sql.functions\n",
        "\n",
        "#pyspark.sql.functions.encode(raw_recipes_df.tags, 'ISO-8859–1')\n"
      ]
    },
    {
      "cell_type": "code",
      "execution_count": 26,
      "metadata": {
        "id": "RHGP21yDlDbg"
      },
      "outputs": [],
      "source": [
        "#from pyspark.sql import functions as F\n",
        "#raw_recipes_df=raw_recipes_df.withColumn(\"tags\", F.regexp_replace(F.regexp_replace(F.regexp_replace(\"tags\", \"\\\\]\\\\[\", \"\"), \"\\\\[\", \"\"), \"\\\\]\", \"\"))"
      ]
    },
    {
      "cell_type": "code",
      "execution_count": 27,
      "metadata": {
        "id": "jYMNarg4lQg6"
      },
      "outputs": [],
      "source": [
        "#raw_recipes_df.select('tags').show(5, truncate=False)"
      ]
    },
    {
      "cell_type": "code",
      "execution_count": 28,
      "metadata": {
        "id": "b5FhnIFO2q8Z"
      },
      "outputs": [],
      "source": [
        "from pyspark.sql.functions import regexp_replace,col\n",
        "raw_recipes_df = raw_recipes_df.withColumn('tags', regexp_replace('tags',\"\\'\",\"\"))"
      ]
    },
    {
      "cell_type": "code",
      "execution_count": 29,
      "metadata": {
        "colab": {
          "base_uri": "https://localhost:8080/"
        },
        "id": "8dboYRI326Sy",
        "outputId": "c3edf1aa-f406-4b58-b72a-d795559fb065"
      },
      "outputs": [
        {
          "output_type": "stream",
          "name": "stdout",
          "text": [
            "+--------------------------------------------------------------------------------------------------------------------------------------------------------------------------------------------------------------------------------------------------------------------------------------------------------------------------------------------------------------------------+\n",
            "|tags                                                                                                                                                                                                                                                                                                                                                                      |\n",
            "+--------------------------------------------------------------------------------------------------------------------------------------------------------------------------------------------------------------------------------------------------------------------------------------------------------------------------------------------------------------------------+\n",
            "|[60-minutes-or-less, time-to-make, course, main-ingredient, cuisine, preparation, occasion, north-american, side-dishes, vegetables, mexican, easy, fall, holiday-event, vegetarian, winter, dietary, christmas, seasonal, squash]                                                                                                                                        |\n",
            "|[30-minutes-or-less, time-to-make, course, main-ingredient, cuisine, preparation, occasion, north-american, breakfast, main-dish, pork, american, oven, easy, kid-friendly, pizza, dietary, northeastern-united-states, meat, equipment]                                                                                                                                  |\n",
            "|[time-to-make, course, preparation, main-dish, chili, crock-pot-slow-cooker, dietary, equipment, 4-hours-or-less]                                                                                                                                                                                                                                                         |\n",
            "|[60-minutes-or-less, time-to-make, course, main-ingredient, preparation, occasion, side-dishes, eggs-dairy, potatoes, vegetables, oven, easy, dinner-party, holiday-event, easter, cheese, stove-top, dietary, christmas, new-years, thanksgiving, independence-day, st-patricks-day, valentines-day, inexpensive, brunch, superbowl, equipment, presentation, served-hot]|\n",
            "|[weeknight, time-to-make, course, main-ingredient, cuisine, preparation, occasion, north-american, canning, condiments-etc, vegetables, american, heirloom-historical, holiday-event, vegetarian, dietary, amish-mennonite, northeastern-united-states, number-of-servings, technique, 4-hours-or-less]                                                                   |\n",
            "|[15-minutes-or-less, time-to-make, course, main-ingredient, cuisine, preparation, occasion, north-american, low-protein, 5-ingredients-or-less, beverages, fruit, american, easy, kid-friendly, dietary, low-sodium, shakes, low-calorie, low-in-something, apples, number-of-servings, presentation, served-cold, 3-steps-or-less]                                       |\n",
            "|[15-minutes-or-less, time-to-make, course, main-ingredient, cuisine, preparation, occasion, north-american, appetizers, fruit, canadian, dinner-party, vegan, vegetarian, freezer, dietary, equipment, number-of-servings]                                                                                                                                                |\n",
            "|[weeknight, time-to-make, course, main-ingredient, cuisine, preparation, occasion, north-american, south-west-pacific, main-dish, pork, oven, holiday-event, stove-top, hawaiian, spicy, copycat, independence-day, meat, pork-ribs, super-bowl, novelty, taste-mood, savory, sweet, equipment, 4-hours-or-less]                                                          |\n",
            "|[weeknight, time-to-make, course, main-ingredient, preparation, pies-and-tarts, desserts, lunch, snacks, no-cook, refrigerator, kid-friendly, frozen-desserts, pies, chocolate, dietary, inexpensive, equipment, number-of-servings, technique, 4-hours-or-less]                                                                                                          |\n",
            "|[weeknight, time-to-make, course, main-ingredient, preparation, occasion, breads, breakfast, fruit, oven, dietary, oamc-freezer-make-ahead, quick-breads, tropical-fruit, bananas, brunch, equipment, number-of-servings, 4-hours-or-less]                                                                                                                                |\n",
            "|[15-minutes-or-less, time-to-make, course, preparation, low-protein, healthy, 5-ingredients-or-less, condiments-etc, easy, dietary, low-sodium, low-in-something, 3-steps-or-less]                                                                                                                                                                                        |\n",
            "|[weeknight, time-to-make, course, main-ingredient, preparation, occasion, low-protein, pies-and-tarts, desserts, fruit, 1-day-or-more, pies, dietary, low-sodium, comfort-food, low-in-something, berries, strawberries, taste-mood]                                                                                                                                      |\n",
            "|[weeknight, time-to-make, course, main-ingredient, cuisine, preparation, occasion, north-american, side-dishes, beans, american, 1-day-or-more, oven, potluck, to-go, equipment]                                                                                                                                                                                          |\n",
            "|[time-to-make, main-ingredient, preparation, vegetables, dietary, greens, collard-greens]                                                                                                                                                                                                                                                                                 |\n",
            "|[15-minutes-or-less, time-to-make, preparation, easy, number-of-servings]                                                                                                                                                                                                                                                                                                 |\n",
            "|[weeknight, time-to-make, course, main-ingredient, preparation, main-dish, pork, crock-pot-slow-cooker, dietary, meat, pork-chops, equipment]                                                                                                                                                                                                                             |\n",
            "|[60-minutes-or-less, time-to-make, course, main-ingredient, cuisine, preparation, north-american, 5-ingredients-or-less, appetizers, side-dishes, eggs-dairy, american, southwestern-united-states, easy, vegetarian, cheese, deep-fry, dietary, oamc-freezer-make-ahead, number-of-servings, technique]                                                                  |\n",
            "|[15-minutes-or-less, time-to-make, course, preparation, occasion, 5-ingredients-or-less, desserts, easy, kid-friendly, candy, dietary, number-of-servings]                                                                                                                                                                                                                |\n",
            "|[weeknight, time-to-make, course, main-ingredient, cuisine, preparation, occasion, north-american, main-dish, beef, pork, vegetables, american, potluck, dinner-party, heirloom-historical, holiday-event, kid-friendly, winter, stove-top, dietary, one-dish-meal, seasonal, meat, to-go, equipment, 4-hours-or-less]                                                    |\n",
            "|[lactose, weeknight, time-to-make, course, main-ingredient, cuisine, preparation, occasion, north-american, bisques-cream-soups, soups-stews, potatoes, vegetables, american, spring, vegan, vegetarian, food-processor-blender, stove-top, dietary, seasonal, free-of-something, cauliflower, equipment, small-appliance, 4-hours-or-less]                               |\n",
            "+--------------------------------------------------------------------------------------------------------------------------------------------------------------------------------------------------------------------------------------------------------------------------------------------------------------------------------------------------------------------------+\n",
            "only showing top 20 rows\n",
            "\n"
          ]
        }
      ],
      "source": [
        "raw_recipes_df.select('tags').show(20, truncate=False)"
      ]
    },
    {
      "cell_type": "code",
      "execution_count": 30,
      "metadata": {
        "colab": {
          "base_uri": "https://localhost:8080/"
        },
        "id": "ZxEVockrcxpQ",
        "outputId": "0f25d2a4-0bc3-4a19-cb9e-9c781b513e92"
      },
      "outputs": [
        {
          "output_type": "execute_result",
          "data": {
            "text/plain": [
              "231429"
            ]
          },
          "metadata": {},
          "execution_count": 30
        }
      ],
      "source": [
        "raw_recipes_df1.filter(raw_recipes_df1['tags'].rlike('[\\!\\@\\$\\^\\&\\-\\_\\;\\:\\?\\.\\%\\#\\&&\\+\\\\*]')).count()"
      ]
    },
    {
      "cell_type": "code",
      "execution_count": 35,
      "metadata": {
        "id": "yQz8k5V347L5"
      },
      "outputs": [],
      "source": [
        "from pyspark.sql.functions import split, regexp_replace\n",
        "\n",
        "raw_recipes_df = (raw_recipes_df.withColumn('tags',regexp_replace('tags','\\[',''))\n",
        "                               .withColumn('tags',regexp_replace('tags','\\]',''))\n",
        "                               .withColumn('tags',regexp_replace('tags','\\\\s',''))\n",
        "                               .withColumn('tags',regexp_replace('tags','\\'',''))\n",
        "                               .withColumn('tags',split(col('tags'),\",\")))"
      ]
    },
    {
      "cell_type": "code",
      "execution_count": 36,
      "metadata": {
        "colab": {
          "base_uri": "https://localhost:8080/"
        },
        "id": "V8MoeRaTJQPu",
        "outputId": "f674e3e7-b64c-4620-b208-1e360f5abbc1"
      },
      "outputs": [
        {
          "output_type": "stream",
          "name": "stdout",
          "text": [
            "root\n",
            " |-- name: string (nullable = true)\n",
            " |-- id: integer (nullable = true)\n",
            " |-- minutes: integer (nullable = true)\n",
            " |-- contributor_id: integer (nullable = true)\n",
            " |-- submitted: timestamp (nullable = true)\n",
            " |-- tags: array (nullable = true)\n",
            " |    |-- element: string (containsNull = false)\n",
            " |-- nutrition: string (nullable = true)\n",
            " |-- n_steps: integer (nullable = true)\n",
            " |-- steps: string (nullable = true)\n",
            " |-- description: string (nullable = true)\n",
            " |-- ingredients: string (nullable = true)\n",
            " |-- n_ingredients: integer (nullable = true)\n",
            " |-- calories: float (nullable = true)\n",
            " |-- total_fat_PDV: float (nullable = true)\n",
            " |-- sugar_PDV: float (nullable = true)\n",
            " |-- sodium_PDV: float (nullable = true)\n",
            " |-- protein_PDV: float (nullable = true)\n",
            " |-- saturated_fat_PDV: float (nullable = true)\n",
            " |-- carbohydrates_PDV: float (nullable = true)\n",
            " |-- total_fat_per_100_cal: double (nullable = true)\n",
            " |-- sugar_per_100_cal: double (nullable = true)\n",
            " |-- sodium_per_100_cal: double (nullable = true)\n",
            " |-- protein_per_100_cal: double (nullable = true)\n",
            " |-- saturated_fat_per_100_cal: double (nullable = true)\n",
            " |-- carbohydrates_per_100_cal: double (nullable = true)\n",
            "\n"
          ]
        }
      ],
      "source": [
        "raw_recipes_df.printSchema()"
      ]
    },
    {
      "cell_type": "code",
      "execution_count": 37,
      "metadata": {
        "id": "GQQtLsA4YO8-"
      },
      "outputs": [],
      "source": [
        "\n",
        "# Do not edit cells with assert commands\n",
        "# If an error is shown after running this cell, please recheck your code.  \n",
        "\n",
        "#assert raw_recipes_df.schema[\"tags\"].dataType == ArrayType(StringType(), True), \"You have not split the string into an array.\"\n",
        "assert raw_recipes_df.collect()[2][5] == ['time-to-make','course', 'preparation', 'main-dish', 'chili', 'crock-pot-slow-cooker', 'dietary', 'equipment', '4-hours-or-less'], \"Recheck your string cleaning and splitting operations.\""
      ]
    },
    {
      "cell_type": "code",
      "source": [
        "# Reading the second data set. \n",
        "# keep this cell unedited\n",
        "\n",
        "raw_ratings_df = (spark.read.csv('/content/drive/MyDrive/Colab Notebooks/RAW_interactions_cleaned.csv', header=True, inferSchema=True)\n",
        "                  .withColumn(\"review_date\",  F.col(\"date\"))\n",
        "                  .drop(F.col(\"date\"))\n",
        "                  )"
      ],
      "metadata": {
        "id": "p7sdHY7pV84W"
      },
      "execution_count": 39,
      "outputs": []
    },
    {
      "cell_type": "code",
      "source": [
        "# Code check cell\n",
        "# Do not edit cells with assert commands\n",
        "# If an error is shown after running this cell, please recheck your code.  \n",
        "\n",
        "assert raw_ratings_df.count() == 1132367, \"There is a mistake in reading the data.\"\n",
        "assert len(raw_ratings_df.columns) == 5, \"There is a mistake in reading the data.\""
      ],
      "metadata": {
        "id": "2rGiSDsMWh76"
      },
      "execution_count": 40,
      "outputs": []
    },
    {
      "cell_type": "code",
      "source": [
        "interaction_level_df = raw_ratings_df.join(raw_recipes_df,raw_ratings_df.recipe_id ==  raw_recipes_df.id,\"left\")"
      ],
      "metadata": {
        "id": "nxgCqXIhWk0y"
      },
      "execution_count": 41,
      "outputs": []
    },
    {
      "cell_type": "code",
      "source": [
        "# Code check cell\n",
        "# Do not edit cells with assert commands\n",
        "# If an error is shown after running this cell, please recheck your code.  \n",
        "\n",
        "list1 = raw_ratings_df.select('recipe_id').collect()\n",
        "list2 = raw_recipes_df.select('id').collect()\n",
        "exclusive_set = set(list1)-set(list2)\n",
        "\n",
        "assert len(exclusive_set) == 0, \"There is a mistake in reading one of the two data files.\""
      ],
      "metadata": {
        "id": "NZ5wLza2XVRG"
      },
      "execution_count": 42,
      "outputs": []
    },
    {
      "cell_type": "code",
      "source": [
        "interaction_level_df = (interaction_level_df\n",
        "                        .withColumn('submitted',col('submitted').cast('date') \n",
        "                                   ))"
      ],
      "metadata": {
        "id": "IHcxCJ-zXeyM"
      },
      "execution_count": 43,
      "outputs": []
    },
    {
      "cell_type": "code",
      "source": [
        "interaction_level_df = (interaction_level_df\n",
        "                        .withColumn('review_date',col('review_date').cast('date') \n",
        "                                   ))"
      ],
      "metadata": {
        "id": "-X16zznbYk5-"
      },
      "execution_count": 44,
      "outputs": []
    },
    {
      "cell_type": "code",
      "source": [
        "from pyspark.sql.functions import datediff,col\n",
        "from pyspark.sql.functions import months_between,col\n",
        "interaction_level_df = (interaction_level_df\n",
        "                        .withColumn('days_since_submission_on_review_date',\n",
        "                                    datediff(col('review_date'),col('submitted'))\n",
        "                                   )\n",
        "                        .withColumn('months_since_submission_on_review_date',\n",
        "                                    months_between(col('review_date'),col('submitted'))          \n",
        "                                   )\n",
        "                        .withColumn('years_since_submission_on_review_date',\n",
        "                                    months_between(col('review_date'),col('submitted'))/lit(12)       \n",
        "                                   ))"
      ],
      "metadata": {
        "id": "zi1r-ALFY2Yc"
      },
      "execution_count": 49,
      "outputs": []
    },
    {
      "cell_type": "code",
      "source": [
        "interaction_level_df.select('review_date','submitted','days_since_submission_on_review_date','months_since_submission_on_review_date','years_since_submission_on_review_date').show(5, truncate=False)"
      ],
      "metadata": {
        "colab": {
          "base_uri": "https://localhost:8080/"
        },
        "id": "d3JV42JucBIV",
        "outputId": "3a29acec-48c1-4af3-f982-54ebc64db59e"
      },
      "execution_count": 50,
      "outputs": [
        {
          "output_type": "stream",
          "name": "stdout",
          "text": [
            "+-----------+----------+------------------------------------+--------------------------------------+-------------------------------------+\n",
            "|review_date|submitted |days_since_submission_on_review_date|months_since_submission_on_review_date|years_since_submission_on_review_date|\n",
            "+-----------+----------+------------------------------------+--------------------------------------+-------------------------------------+\n",
            "|2009-01-12 |2008-12-17|26                                  |0.83870968                            |0.06989247333333333                  |\n",
            "|2009-02-06 |2008-12-17|51                                  |1.64516129                            |0.13709677416666669                  |\n",
            "|2009-05-04 |2008-12-17|138                                 |4.58064516                            |0.38172043000000005                  |\n",
            "|2009-07-16 |2008-12-17|211                                 |6.96774194                            |0.5806451616666667                   |\n",
            "|2009-10-20 |2008-12-17|307                                 |10.09677419                           |0.8413978491666666                   |\n",
            "+-----------+----------+------------------------------------+--------------------------------------+-------------------------------------+\n",
            "only showing top 5 rows\n",
            "\n"
          ]
        }
      ]
    },
    {
      "cell_type": "code",
      "source": [
        "## Write the raw_recipes_df\n",
        "## Write data to the S3 bucket which will be your working directory \n",
        "\n",
        "interaction_level_df.write.mode('overwrite').parquet('/content/drive/MyDrive/Colab Notebooks/interaction_level_df')\n",
        "\n",
        "raw_recipes_df.write.mode('overwrite').parquet('/content/drive/MyDrive/Colab Notebooks/raw_recipes_df')"
      ],
      "metadata": {
        "id": "WaM8f3pdclsi"
      },
      "execution_count": 51,
      "outputs": []
    }
  ],
  "metadata": {
    "colab": {
      "collapsed_sections": [],
      "provenance": [],
      "mount_file_id": "1-nt45XzVdehSZ3Cbzo78hm3h0TKG1Rrz",
      "authorship_tag": "ABX9TyMvr68QnNNAf+YIB1OW52np"
    },
    "kernelspec": {
      "display_name": "Python 3",
      "name": "python3"
    },
    "language_info": {
      "name": "python"
    }
  },
  "nbformat": 4,
  "nbformat_minor": 0
}