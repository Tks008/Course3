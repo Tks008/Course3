{
  "cells": [
    {
      "cell_type": "markdown",
      "metadata": {
        "id": "view-in-github",
        "colab_type": "text"
      },
      "source": [
        "<a href=\"https://colab.research.google.com/github/anupam1982-bd/Course/blob/master/UoA_assignment_Spanish_to_English__Attention_based_NMT_ver01.ipynb\" target=\"_parent\"><img src=\"https://colab.research.google.com/assets/colab-badge.svg\" alt=\"Open In Colab\"/></a>"
      ]
    },
    {
      "cell_type": "markdown",
      "source": [
        "**Background:**\n",
        "Due to language barriers, a US-based life insurance company is facing a challenge in communicating with the Spanish-speaking community in Mexico. The locals there need help in understanding English, and the company cannot provide translators for all of them. To overcome this challenge and provide coverage to the locals, the company needs a machine translation model that can accurately translate the application request letter from Spanish to English. \n",
        "\n",
        "**Problem Statement:** Your task is to build an **attention-based sequence-to-sequence model** that can effectively understand the context of Spanish sentences and translate them into clear and coherent English sentences. The company aims to use this model to ensure seamless communication and provide coverage to the Spanish-speaking community in Mexico.\n",
        "\n",
        "\n",
        "**Objectives:**\n",
        "To explore the challenges of working with low-resource languages.\n",
        "Implement an encoder-decoder NMT model with attention.\n",
        "\n",
        "**Terminal Objective:**\n",
        "To build and train an NMT model that can accurately translate Spanish sentences to English and vice versa.\n"
      ],
      "metadata": {
        "id": "sSyIIvg6nqkF"
      }
    },
    {
      "cell_type": "markdown",
      "metadata": {
        "id": "KVHQz0V1gCYw"
      },
      "source": [
        "### **Overall objectives:** \n",
        "The objective of this assignment is to build a Sequence to Sequence model for Spanish to English translation. \n",
        "\n",
        "The code is broken down into several pipelines: \n",
        "* Task 1: Load the data\n",
        "* Task 2: Process the data\n",
        "* Task 3: Build the NMT model\n",
        "* Task 4: Train the NMT model\n",
        "* Task 5: Evaluate the NMT model\n",
        "\n",
        "*Note: the details of each of the above task are elaborated in various parts of this stub code.\n",
        "\n"
      ]
    },
    {
      "cell_type": "markdown",
      "source": [
        "### **How to read this stub code file and solve this assignment**\n",
        "\n",
        "*   All the tasks and details around how to perform them are mentioned in detail in this stub code file. \n",
        "\n",
        "*   You need to go through the instructions mentioned as 'comments' in the stub code file and add a code where there is a **---** given or where it would be mentioned as **'fill this'**. \n",
        "\n",
        "*   To understand the complete flow of that particular section and it's sub-tasks, scroll through the table of contents section in the left tab of this stub code file.\n",
        "\n",
        "*   In case, for any existing part of code, or for something already written, you may or may not modify it, as long as you are serving the purpose of the task required in that section."
      ],
      "metadata": {
        "id": "-Qd-2FX7tUFW"
      }
    },
    {
      "cell_type": "markdown",
      "source": [
        "### **Task 1. Load the data**"
      ],
      "metadata": {
        "id": "EfqShvnGbQ3G"
      }
    },
    {
      "cell_type": "markdown",
      "source": [
        "#### 1.0 Importing Libraries"
      ],
      "metadata": {
        "id": "0rmVOQFibqyc"
      }
    },
    {
      "cell_type": "code",
      "execution_count": 84,
      "metadata": {
        "id": "QOpqRjeimzya"
      },
      "outputs": [],
      "source": [
        "import os,io\n",
        "import re\n",
        "import numpy as np\n",
        "import pandas as pd\n",
        "import matplotlib.pyplot as plt\n",
        "import matplotlib.ticker as ticker\n",
        "import tensorflow as tf"
      ]
    },
    {
      "cell_type": "markdown",
      "source": [
        "#### 1.1 Downloading the dataset\n",
        "\n",
        "The dataset used is a paired corpus of **English-Spanish**, provided by [Anki](https://www.manythings.org/anki/).\n",
        "\n",
        "The code starts by downloading a zip file containing the dataset for English to Spanish translation. The dataset is stored in the `spa-eng` folder and can be found in the file named `spa.txt`.\n",
        "\n",
        "Let's take a look at how the data looks like\n",
        "\n",
        "![Spa-Eng Data Set.png](data:image/png;base64,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)"
      ],
      "metadata": {
        "id": "4YueXBWFoGTg"
      }
    },
    {
      "cell_type": "markdown",
      "source": [
        "- Each line in the `spa.txt` file contains an English word/sentence and their corresponding Spanish translation.\n",
        "\n",
        "- Some words might have multiple translation because of context. \n",
        "\n",
        "- Our first objective is to extract each line, and then separate the  English and Spanish words/sentences into two separate arrays. These will act as our input and target sentences for training the model"
      ],
      "metadata": {
        "id": "s66rBOGHcXmp"
      }
    },
    {
      "cell_type": "code",
      "source": [
        "# Downloading the file \n",
        "zip_file = tf.keras.utils.get_file(\n",
        "    'spa-eng.zip', origin='http://storage.googleapis.com/download.tensorflow.org/data/spa-eng.zip',\n",
        "    extract=True)\n",
        "\n",
        "file_path = os.path.dirname(zip_file)+\"/spa-eng/spa.txt\" "
      ],
      "metadata": {
        "id": "-IeqZZGPHEEI"
      },
      "execution_count": 85,
      "outputs": []
    },
    {
      "cell_type": "markdown",
      "source": [
        "#### 1.2. Load the data\n",
        "\n",
        "Next step is to load the data and split it into two arrays `src_sentences` and `tgt_sentences`. For performing this task, we create a function `load_data` \n",
        "\n",
        "The function **load_data()** should read a file located at `file_path` and returns the text content split into source and target arrays. \n",
        "\n"
      ],
      "metadata": {
        "id": "Hpvhnz8EoK--"
      }
    },
    {
      "cell_type": "code",
      "source": [
        "def load_data(path, size=None):\n",
        "    \"\"\"\n",
        "    This function reads a file located at `path` and returns the text content split into source and target arrays.\n",
        "    The data in the file should be separated by tabs and have source and target text separated by a newline.\n",
        "\n",
        "    Args:\n",
        "    - path: str, the path to the file\n",
        "    - size: int, the number of lines to read from the file. If not provided or None, the function will read all lines.\n",
        "\n",
        "    Returns:\n",
        "    - source: numpy array, the array containing source text.\n",
        "    - target: numpy array, the array containing target text.\n",
        "\n",
        "    \"\"\"\n",
        "    text = io.open(path, encoding='UTF-8').read()\n",
        "\n",
        "    # lines =  # split the text into lines separated by newline # Insert Code Here ----\n",
        "    # pairs =  # split each line into source and target using tabs # Insert Code Here ----\n",
        "    lines =  lines = text.splitlines()\n",
        "    pairs = [line.split('\\t') for line in lines]\n",
        "\n",
        "    source = np.array([source for target, source in pairs])  # extract source text into a numpy array\n",
        "    target = np.array([target for target, source in pairs])  # extract target text into a numpy array\n",
        "\n",
        "    return source, target\n"
      ],
      "metadata": {
        "id": "zDQb8p1woQME"
      },
      "execution_count": 86,
      "outputs": []
    },
    {
      "cell_type": "code",
      "execution_count": 87,
      "metadata": {
        "id": "8tb6MCvyEQNR",
        "colab": {
          "base_uri": "https://localhost:8080/"
        },
        "outputId": "c5ef603e-005f-49ce-92ec-c17eff4768d4"
      },
      "outputs": [
        {
          "output_type": "stream",
          "name": "stdout",
          "text": [
            "Original Sentence: Yo lo sé.\n",
            "Translated Sentence: I know.\n"
          ]
        }
      ],
      "source": [
        "src_sentences, tgt_sentences = load_data(file_path)\n",
        "print(\"Original Sentence:\",src_sentences[42])\n",
        "print(\"Translated Sentence:\",tgt_sentences[42])"
      ]
    },
    {
      "cell_type": "markdown",
      "source": [
        "#### 1.3 Visualize the data\n",
        "\n",
        "In the next subtask, we'll take a slight detour, and covert the given source and target sentences into a DataFrame and visualize the word/sentence-length distribution. It is important to analyze and visualize the corpus of data so that their sentence length distribution can be understood.\n",
        "\n",
        "Visualizing sentence length distribution helps in understanding data, making decisions about preprocessing, determining appropriate padding/truncation, and batch size for NMT model training."
      ],
      "metadata": {
        "id": "n8WuU90ZoUOu"
      }
    },
    {
      "cell_type": "code",
      "source": [
        "#Create a dataframe \n",
        "df = pd.DataFrame(zip(src_sentences, tgt_sentences), columns=['source_sentence', 'target_sentence'])\n",
        "df"
      ],
      "metadata": {
        "id": "hXBNYoO3tnW8",
        "colab": {
          "base_uri": "https://localhost:8080/",
          "height": 424
        },
        "outputId": "4f486a71-3a90-439b-88c7-f43f492fa9ec"
      },
      "execution_count": 88,
      "outputs": [
        {
          "output_type": "execute_result",
          "data": {
            "text/plain": [
              "                                          source_sentence  \\\n",
              "0                                                     Ve.   \n",
              "1                                                   Vete.   \n",
              "2                                                   Vaya.   \n",
              "3                                                 Váyase.   \n",
              "4                                                   Hola.   \n",
              "...                                                   ...   \n",
              "118959  Hay cuatro causas principales de muertes relac...   \n",
              "118960  Hay madres y padres que se quedan despiertos d...   \n",
              "118961  Una huella de carbono es la cantidad de contam...   \n",
              "118962  Como suele haber varias páginas web sobre cual...   \n",
              "118963  Si quieres sonar como un hablante nativo, debe...   \n",
              "\n",
              "                                          target_sentence  \n",
              "0                                                     Go.  \n",
              "1                                                     Go.  \n",
              "2                                                     Go.  \n",
              "3                                                     Go.  \n",
              "4                                                     Hi.  \n",
              "...                                                   ...  \n",
              "118959  There are four main causes of alcohol-related ...  \n",
              "118960  There are mothers and fathers who will lie awa...  \n",
              "118961  A carbon footprint is the amount of carbon dio...  \n",
              "118962  Since there are usually multiple websites on a...  \n",
              "118963  If you want to sound like a native speaker, yo...  \n",
              "\n",
              "[118964 rows x 2 columns]"
            ],
            "text/html": [
              "\n",
              "  <div id=\"df-9cc95aae-2923-4924-a549-d7c1df3a6f33\">\n",
              "    <div class=\"colab-df-container\">\n",
              "      <div>\n",
              "<style scoped>\n",
              "    .dataframe tbody tr th:only-of-type {\n",
              "        vertical-align: middle;\n",
              "    }\n",
              "\n",
              "    .dataframe tbody tr th {\n",
              "        vertical-align: top;\n",
              "    }\n",
              "\n",
              "    .dataframe thead th {\n",
              "        text-align: right;\n",
              "    }\n",
              "</style>\n",
              "<table border=\"1\" class=\"dataframe\">\n",
              "  <thead>\n",
              "    <tr style=\"text-align: right;\">\n",
              "      <th></th>\n",
              "      <th>source_sentence</th>\n",
              "      <th>target_sentence</th>\n",
              "    </tr>\n",
              "  </thead>\n",
              "  <tbody>\n",
              "    <tr>\n",
              "      <th>0</th>\n",
              "      <td>Ve.</td>\n",
              "      <td>Go.</td>\n",
              "    </tr>\n",
              "    <tr>\n",
              "      <th>1</th>\n",
              "      <td>Vete.</td>\n",
              "      <td>Go.</td>\n",
              "    </tr>\n",
              "    <tr>\n",
              "      <th>2</th>\n",
              "      <td>Vaya.</td>\n",
              "      <td>Go.</td>\n",
              "    </tr>\n",
              "    <tr>\n",
              "      <th>3</th>\n",
              "      <td>Váyase.</td>\n",
              "      <td>Go.</td>\n",
              "    </tr>\n",
              "    <tr>\n",
              "      <th>4</th>\n",
              "      <td>Hola.</td>\n",
              "      <td>Hi.</td>\n",
              "    </tr>\n",
              "    <tr>\n",
              "      <th>...</th>\n",
              "      <td>...</td>\n",
              "      <td>...</td>\n",
              "    </tr>\n",
              "    <tr>\n",
              "      <th>118959</th>\n",
              "      <td>Hay cuatro causas principales de muertes relac...</td>\n",
              "      <td>There are four main causes of alcohol-related ...</td>\n",
              "    </tr>\n",
              "    <tr>\n",
              "      <th>118960</th>\n",
              "      <td>Hay madres y padres que se quedan despiertos d...</td>\n",
              "      <td>There are mothers and fathers who will lie awa...</td>\n",
              "    </tr>\n",
              "    <tr>\n",
              "      <th>118961</th>\n",
              "      <td>Una huella de carbono es la cantidad de contam...</td>\n",
              "      <td>A carbon footprint is the amount of carbon dio...</td>\n",
              "    </tr>\n",
              "    <tr>\n",
              "      <th>118962</th>\n",
              "      <td>Como suele haber varias páginas web sobre cual...</td>\n",
              "      <td>Since there are usually multiple websites on a...</td>\n",
              "    </tr>\n",
              "    <tr>\n",
              "      <th>118963</th>\n",
              "      <td>Si quieres sonar como un hablante nativo, debe...</td>\n",
              "      <td>If you want to sound like a native speaker, yo...</td>\n",
              "    </tr>\n",
              "  </tbody>\n",
              "</table>\n",
              "<p>118964 rows × 2 columns</p>\n",
              "</div>\n",
              "      <button class=\"colab-df-convert\" onclick=\"convertToInteractive('df-9cc95aae-2923-4924-a549-d7c1df3a6f33')\"\n",
              "              title=\"Convert this dataframe to an interactive table.\"\n",
              "              style=\"display:none;\">\n",
              "        \n",
              "  <svg xmlns=\"http://www.w3.org/2000/svg\" height=\"24px\"viewBox=\"0 0 24 24\"\n",
              "       width=\"24px\">\n",
              "    <path d=\"M0 0h24v24H0V0z\" fill=\"none\"/>\n",
              "    <path d=\"M18.56 5.44l.94 2.06.94-2.06 2.06-.94-2.06-.94-.94-2.06-.94 2.06-2.06.94zm-11 1L8.5 8.5l.94-2.06 2.06-.94-2.06-.94L8.5 2.5l-.94 2.06-2.06.94zm10 10l.94 2.06.94-2.06 2.06-.94-2.06-.94-.94-2.06-.94 2.06-2.06.94z\"/><path d=\"M17.41 7.96l-1.37-1.37c-.4-.4-.92-.59-1.43-.59-.52 0-1.04.2-1.43.59L10.3 9.45l-7.72 7.72c-.78.78-.78 2.05 0 2.83L4 21.41c.39.39.9.59 1.41.59.51 0 1.02-.2 1.41-.59l7.78-7.78 2.81-2.81c.8-.78.8-2.07 0-2.86zM5.41 20L4 18.59l7.72-7.72 1.47 1.35L5.41 20z\"/>\n",
              "  </svg>\n",
              "      </button>\n",
              "      \n",
              "  <style>\n",
              "    .colab-df-container {\n",
              "      display:flex;\n",
              "      flex-wrap:wrap;\n",
              "      gap: 12px;\n",
              "    }\n",
              "\n",
              "    .colab-df-convert {\n",
              "      background-color: #E8F0FE;\n",
              "      border: none;\n",
              "      border-radius: 50%;\n",
              "      cursor: pointer;\n",
              "      display: none;\n",
              "      fill: #1967D2;\n",
              "      height: 32px;\n",
              "      padding: 0 0 0 0;\n",
              "      width: 32px;\n",
              "    }\n",
              "\n",
              "    .colab-df-convert:hover {\n",
              "      background-color: #E2EBFA;\n",
              "      box-shadow: 0px 1px 2px rgba(60, 64, 67, 0.3), 0px 1px 3px 1px rgba(60, 64, 67, 0.15);\n",
              "      fill: #174EA6;\n",
              "    }\n",
              "\n",
              "    [theme=dark] .colab-df-convert {\n",
              "      background-color: #3B4455;\n",
              "      fill: #D2E3FC;\n",
              "    }\n",
              "\n",
              "    [theme=dark] .colab-df-convert:hover {\n",
              "      background-color: #434B5C;\n",
              "      box-shadow: 0px 1px 3px 1px rgba(0, 0, 0, 0.15);\n",
              "      filter: drop-shadow(0px 1px 2px rgba(0, 0, 0, 0.3));\n",
              "      fill: #FFFFFF;\n",
              "    }\n",
              "  </style>\n",
              "\n",
              "      <script>\n",
              "        const buttonEl =\n",
              "          document.querySelector('#df-9cc95aae-2923-4924-a549-d7c1df3a6f33 button.colab-df-convert');\n",
              "        buttonEl.style.display =\n",
              "          google.colab.kernel.accessAllowed ? 'block' : 'none';\n",
              "\n",
              "        async function convertToInteractive(key) {\n",
              "          const element = document.querySelector('#df-9cc95aae-2923-4924-a549-d7c1df3a6f33');\n",
              "          const dataTable =\n",
              "            await google.colab.kernel.invokeFunction('convertToInteractive',\n",
              "                                                     [key], {});\n",
              "          if (!dataTable) return;\n",
              "\n",
              "          const docLinkHtml = 'Like what you see? Visit the ' +\n",
              "            '<a target=\"_blank\" href=https://colab.research.google.com/notebooks/data_table.ipynb>data table notebook</a>'\n",
              "            + ' to learn more about interactive tables.';\n",
              "          element.innerHTML = '';\n",
              "          dataTable['output_type'] = 'display_data';\n",
              "          await google.colab.output.renderOutput(dataTable, element);\n",
              "          const docLink = document.createElement('div');\n",
              "          docLink.innerHTML = docLinkHtml;\n",
              "          element.appendChild(docLink);\n",
              "        }\n",
              "      </script>\n",
              "    </div>\n",
              "  </div>\n",
              "  "
            ]
          },
          "metadata": {},
          "execution_count": 88
        }
      ]
    },
    {
      "cell_type": "code",
      "execution_count": 89,
      "metadata": {
        "id": "TBNWdBTkDIqw",
        "colab": {
          "base_uri": "https://localhost:8080/",
          "height": 281
        },
        "outputId": "4d737b01-3b68-4618-8be4-f6fd60afab27"
      },
      "outputs": [
        {
          "output_type": "display_data",
          "data": {
            "text/plain": [
              "<Figure size 432x288 with 2 Axes>"
            ],
            "image/png": "[encoded data removed]"
          },
          "metadata": {
            "needs_background": "light"
          }
        }
      ],
      "source": [
        "eng_len = []\n",
        "span_len = []\n",
        "\n",
        "# populate the lists with sentence lengths\n",
        "for i in src_sentences:\n",
        "      eng_len.append(len(i.split()))  \n",
        "\n",
        "for i in tgt_sentences:\n",
        "      span_len.append(len(i.split()))\n",
        "\n",
        "length_df = pd.DataFrame({'english':eng_len, 'spanish':span_len})\n",
        "\n",
        "length_df.hist(bins = 20)\n",
        "plt.show()"
      ]
    },
    {
      "cell_type": "markdown",
      "source": [
        "### **Task 2: Process the data**\n",
        "\n",
        "Once we have loaded the dataset, and obtained the source and target sentences, we process the data with the following steps:\n",
        "\n",
        "* Apply basic text preprocessing techniques to clean the data.\n",
        "* Tokenize each sentence to their vector representation, add <*start*> & <*end*> tokens & *pad* each sentence to a maximum length. \n",
        "* Split the source & target sentences to train & validation data\n",
        "* Create a `tf.dataset` from the `tf.data` [API](https://www.tensorflow.org/guide/data). This API helps you build & work with complex input pipelines which allows you to handle large amounts of data and perform complex transformations on them."
      ],
      "metadata": {
        "id": "kEHV13DLoXH7"
      }
    },
    {
      "cell_type": "markdown",
      "source": [
        "##### 2.1 Clean the data\n"
      ],
      "metadata": {
        "id": "s92ISsw6ga4T"
      }
    },
    {
      "cell_type": "code",
      "source": [
        "import re, itertools\n",
        "from collections import Counter\n",
        "import tensorflow as tf\n",
        "from tensorflow.keras.preprocessing.text import Tokenizer\n",
        "from tensorflow.keras.preprocessing.sequence import pad_sequences\n",
        "from sklearn.model_selection import train_test_split"
      ],
      "metadata": {
        "id": "BJWCbDfRgeA1"
      },
      "execution_count": 90,
      "outputs": []
    },
    {
      "cell_type": "markdown",
      "source": [
        "###### 2.1.1 Text Standardization\n",
        "\n",
        "The model is dealing with multilingual text with a limited vocabulary. So it will be important to standardize the input text. The first step is Unicode normalization to split accented characters and replace compatibility characters with their ASCII equivalents.\n",
        "\n",
        "For example \n",
        "\n",
        "- Input: Yo lo sé.\n",
        "- Output: <*sos*> yo lo se . <*eos*>"
      ],
      "metadata": {
        "id": "4B2UImjiob3q"
      }
    },
    {
      "cell_type": "code",
      "source": [
        "def replace_multiple_spaces_with_single_space(text):\n",
        "    pattern = '\\s+'\n",
        "    replace = ' '\n",
        "    return tf.strings.regex_replace(text, pattern, replace)"
      ],
      "metadata": {
        "id": "uyyQS83LwZC1"
      },
      "execution_count": 91,
      "outputs": []
    },
    {
      "cell_type": "code",
      "source": [
        "import unicodedata\n",
        "\n",
        "def unicode_to_ascii(s):\n",
        "    # Normalize the input string `s` to its decomposed form\n",
        "    normalized = unicodedata.normalize('NFD', s)\n",
        "    # Return a new string that only contains ASCII characters\n",
        "    # Exclude characters with the category \"Mark, Nonspacing\"\n",
        "    return ''.join(c for c in normalized if unicodedata.category(c) != 'Mn')\n",
        "     \n",
        "def preprocess_text(text):\n",
        "  \"\"\"\n",
        "  Preprocess the input text data by removing special characters, lowercasing it and adding start and end tokens\n",
        "\n",
        "  Arguments:\n",
        "    text (str): Input text string\n",
        "\n",
        "  Returns:\n",
        "    preprocessed_text (str): Preprocessed text string with added start and end tokens\n",
        "  \"\"\"\n",
        "  # Lowercase all the text using unicode to ascii conversion. You can call the unicode_to_ascii function defined earlier\n",
        "  text = tf.strings.lower(text)\n",
        "\n",
        "  # Replacing special characters with space except (a-z, A-Z, \".\", \"?\", \"!\", \",\")\n",
        "  text = tf.strings.regex_replace(text, '[^ a-z.?!,¿]', '')\n",
        "\n",
        "  # Search for (?, ., !, ,, or ¿)and insert a space before and after each match.\n",
        "  text = tf.strings.regex_replace(text, '[.?!,¿]', r' \\0 ')\n",
        "\n",
        "  # Search for one or more consecutive spaces and replace them with a single space. \n",
        "  text = replace_multiple_spaces_with_single_space(text)\n",
        "\n",
        "  # Strip whitespace.\n",
        "  text = tf.strings.strip(text)\n",
        "\n",
        "  # Add the <start> & <end> tokens\n",
        "  text = tf.strings.join(['<sos>', text, '<eos>'], separator=' ')\n",
        "\n",
        "  return text\n"
      ],
      "metadata": {
        "id": "GK_-O2T4lcim"
      },
      "execution_count": 92,
      "outputs": []
    },
    {
      "cell_type": "code",
      "source": [
        "# Write a Code below for cleaning the source and target sentences. You can call the 'preprocess_text' function defined earlier\n",
        "\n",
        "src_sentences_pre = preprocess_text(src_sentences)\n",
        "tgt_sentences_pre = preprocess_text(tgt_sentences)\n",
        "\n",
        "# Also now write a code for checking a sample of an orginal sentence and the processed sentence\n",
        "# For example: the output could be as original text: Yo lo sé. Text after pre-processing: <sos> yo lo se . <eos>\n",
        "\n",
        "print(src_sentences_pre[50].numpy().decode('utf8'))\n",
        "print(tgt_sentences_pre[50].numpy().decode('utf8'))\n"
      ],
      "metadata": {
        "id": "w6lmcUtWg4dL",
        "colab": {
          "base_uri": "https://localhost:8080/"
        },
        "outputId": "7ae8b712-bec4-4e55-8e88-39c53fd35671"
      },
      "execution_count": 93,
      "outputs": [
        {
          "output_type": "stream",
          "name": "stdout",
          "text": [
            "<sos> estoy levantado . <eos>\n",
            "<sos> im up . <eos>\n"
          ]
        }
      ]
    },
    {
      "cell_type": "code",
      "source": [
        "# Write a Code below for cleaning the source and target sentences. You can call the 'preprocess_text' function defined earlier\n",
        "\n",
        "df1 = df.apply(preprocess_text)\n",
        "\n",
        "# Also now write a code for checking a sample of an orginal sentence and the processed sentence\n",
        "# For example: the output could be as original text: Yo lo sé. Text after pre-processing: <sos> yo lo se . <eos>\n",
        "\n",
        "df1.head()"
      ],
      "metadata": {
        "colab": {
          "base_uri": "https://localhost:8080/",
          "height": 206
        },
        "id": "LaCcUAtSJUF3",
        "outputId": "65cded8d-4e27-446f-8809-ea54891970a2"
      },
      "execution_count": 95,
      "outputs": [
        {
          "output_type": "execute_result",
          "data": {
            "text/plain": [
              "          source_sentence      target_sentence\n",
              "0     b'<sos> ve . <eos>'  b'<sos> go . <eos>'\n",
              "1   b'<sos> vete . <eos>'  b'<sos> go . <eos>'\n",
              "2   b'<sos> vaya . <eos>'  b'<sos> go . <eos>'\n",
              "3  b'<sos> vyase . <eos>'  b'<sos> go . <eos>'\n",
              "4   b'<sos> hola . <eos>'  b'<sos> hi . <eos>'"
            ],
            "text/html": [
              "\n",
              "  <div id=\"df-fd6ed39b-d8e0-4aba-9319-fab32f880402\">\n",
              "    <div class=\"colab-df-container\">\n",
              "      <div>\n",
              "<style scoped>\n",
              "    .dataframe tbody tr th:only-of-type {\n",
              "        vertical-align: middle;\n",
              "    }\n",
              "\n",
              "    .dataframe tbody tr th {\n",
              "        vertical-align: top;\n",
              "    }\n",
              "\n",
              "    .dataframe thead th {\n",
              "        text-align: right;\n",
              "    }\n",
              "</style>\n",
              "<table border=\"1\" class=\"dataframe\">\n",
              "  <thead>\n",
              "    <tr style=\"text-align: right;\">\n",
              "      <th></th>\n",
              "      <th>source_sentence</th>\n",
              "      <th>target_sentence</th>\n",
              "    </tr>\n",
              "  </thead>\n",
              "  <tbody>\n",
              "    <tr>\n",
              "      <th>0</th>\n",
              "      <td>b'&lt;sos&gt; ve . &lt;eos&gt;'</td>\n",
              "      <td>b'&lt;sos&gt; go . &lt;eos&gt;'</td>\n",
              "    </tr>\n",
              "    <tr>\n",
              "      <th>1</th>\n",
              "      <td>b'&lt;sos&gt; vete . &lt;eos&gt;'</td>\n",
              "      <td>b'&lt;sos&gt; go . &lt;eos&gt;'</td>\n",
              "    </tr>\n",
              "    <tr>\n",
              "      <th>2</th>\n",
              "      <td>b'&lt;sos&gt; vaya . &lt;eos&gt;'</td>\n",
              "      <td>b'&lt;sos&gt; go . &lt;eos&gt;'</td>\n",
              "    </tr>\n",
              "    <tr>\n",
              "      <th>3</th>\n",
              "      <td>b'&lt;sos&gt; vyase . &lt;eos&gt;'</td>\n",
              "      <td>b'&lt;sos&gt; go . &lt;eos&gt;'</td>\n",
              "    </tr>\n",
              "    <tr>\n",
              "      <th>4</th>\n",
              "      <td>b'&lt;sos&gt; hola . &lt;eos&gt;'</td>\n",
              "      <td>b'&lt;sos&gt; hi . &lt;eos&gt;'</td>\n",
              "    </tr>\n",
              "  </tbody>\n",
              "</table>\n",
              "</div>\n",
              "      <button class=\"colab-df-convert\" onclick=\"convertToInteractive('df-fd6ed39b-d8e0-4aba-9319-fab32f880402')\"\n",
              "              title=\"Convert this dataframe to an interactive table.\"\n",
              "              style=\"display:none;\">\n",
              "        \n",
              "  <svg xmlns=\"http://www.w3.org/2000/svg\" height=\"24px\"viewBox=\"0 0 24 24\"\n",
              "       width=\"24px\">\n",
              "    <path d=\"M0 0h24v24H0V0z\" fill=\"none\"/>\n",
              "    <path d=\"M18.56 5.44l.94 2.06.94-2.06 2.06-.94-2.06-.94-.94-2.06-.94 2.06-2.06.94zm-11 1L8.5 8.5l.94-2.06 2.06-.94-2.06-.94L8.5 2.5l-.94 2.06-2.06.94zm10 10l.94 2.06.94-2.06 2.06-.94-2.06-.94-.94-2.06-.94 2.06-2.06.94z\"/><path d=\"M17.41 7.96l-1.37-1.37c-.4-.4-.92-.59-1.43-.59-.52 0-1.04.2-1.43.59L10.3 9.45l-7.72 7.72c-.78.78-.78 2.05 0 2.83L4 21.41c.39.39.9.59 1.41.59.51 0 1.02-.2 1.41-.59l7.78-7.78 2.81-2.81c.8-.78.8-2.07 0-2.86zM5.41 20L4 18.59l7.72-7.72 1.47 1.35L5.41 20z\"/>\n",
              "  </svg>\n",
              "      </button>\n",
              "      \n",
              "  <style>\n",
              "    .colab-df-container {\n",
              "      display:flex;\n",
              "      flex-wrap:wrap;\n",
              "      gap: 12px;\n",
              "    }\n",
              "\n",
              "    .colab-df-convert {\n",
              "      background-color: #E8F0FE;\n",
              "      border: none;\n",
              "      border-radius: 50%;\n",
              "      cursor: pointer;\n",
              "      display: none;\n",
              "      fill: #1967D2;\n",
              "      height: 32px;\n",
              "      padding: 0 0 0 0;\n",
              "      width: 32px;\n",
              "    }\n",
              "\n",
              "    .colab-df-convert:hover {\n",
              "      background-color: #E2EBFA;\n",
              "      box-shadow: 0px 1px 2px rgba(60, 64, 67, 0.3), 0px 1px 3px 1px rgba(60, 64, 67, 0.15);\n",
              "      fill: #174EA6;\n",
              "    }\n",
              "\n",
              "    [theme=dark] .colab-df-convert {\n",
              "      background-color: #3B4455;\n",
              "      fill: #D2E3FC;\n",
              "    }\n",
              "\n",
              "    [theme=dark] .colab-df-convert:hover {\n",
              "      background-color: #434B5C;\n",
              "      box-shadow: 0px 1px 3px 1px rgba(0, 0, 0, 0.15);\n",
              "      filter: drop-shadow(0px 1px 2px rgba(0, 0, 0, 0.3));\n",
              "      fill: #FFFFFF;\n",
              "    }\n",
              "  </style>\n",
              "\n",
              "      <script>\n",
              "        const buttonEl =\n",
              "          document.querySelector('#df-fd6ed39b-d8e0-4aba-9319-fab32f880402 button.colab-df-convert');\n",
              "        buttonEl.style.display =\n",
              "          google.colab.kernel.accessAllowed ? 'block' : 'none';\n",
              "\n",
              "        async function convertToInteractive(key) {\n",
              "          const element = document.querySelector('#df-fd6ed39b-d8e0-4aba-9319-fab32f880402');\n",
              "          const dataTable =\n",
              "            await google.colab.kernel.invokeFunction('convertToInteractive',\n",
              "                                                     [key], {});\n",
              "          if (!dataTable) return;\n",
              "\n",
              "          const docLinkHtml = 'Like what you see? Visit the ' +\n",
              "            '<a target=\"_blank\" href=https://colab.research.google.com/notebooks/data_table.ipynb>data table notebook</a>'\n",
              "            + ' to learn more about interactive tables.';\n",
              "          element.innerHTML = '';\n",
              "          dataTable['output_type'] = 'display_data';\n",
              "          await google.colab.output.renderOutput(dataTable, element);\n",
              "          const docLink = document.createElement('div');\n",
              "          docLink.innerHTML = docLinkHtml;\n",
              "          element.appendChild(docLink);\n",
              "        }\n",
              "      </script>\n",
              "    </div>\n",
              "  </div>\n",
              "  "
            ]
          },
          "metadata": {},
          "execution_count": 95
        }
      ]
    },
    {
      "cell_type": "markdown",
      "source": [
        "#### 2.2 Tokenize the data\n",
        "\n",
        "Once, the sentences are splitted and special tokens are added, the process of tokenization is carried out using the **Tokenizer** class from the **tensorflow.keras.preprocessing.text** module. \n",
        "\n",
        "Steps:\n",
        "\n",
        "* The Tokenizer object is initialized and fit to the text data. \n",
        "* The texts are then tokenized, meaning that each word is assigned a unique number. \n",
        "* The resulting sequences are then padded and truncated to make all of them of equal length.\n",
        "\n",
        "We'll create a function named `tokenize` to perform all the above steps together. Here's an example of how the function will transform an input sentence:\n",
        "\n",
        "- Input: <*sos*> yo lo se . <*eos*>\n",
        "- Output:  [ 1 26 18 17  3  2  0  0  0  0  0  0  0  0  0  0]"
      ],
      "metadata": {
        "id": "A9OI6bI1ogdr"
      }
    },
    {
      "cell_type": "code",
      "execution_count": 96,
      "metadata": {
        "id": "JBLydqdcPaFr"
      },
      "outputs": [],
      "source": [
        "def tokenize(sentences): \n",
        "    \"\"\"\n",
        "    Tokenizes the input sentences and returns the tokenized sequences, tokenizer object, and the max length of the sequences.\n",
        "\n",
        "    Parameters:\n",
        "    sentences (list): A list of sentences to be tokenized.\n",
        "\n",
        "    Returns:\n",
        "    sequences (numpy array): The tokenized sequences.\n",
        "    lang_tokenizer (Tokenizer object): Tokenizer object fit on the input sentences.\n",
        "    max_length (int): Maximum length of the sequences.\n",
        "    \n",
        "    \"\"\"\n",
        "    # Initialize the tokenizer object\n",
        "    lang_tokenizer = Tokenizer( filters='')\n",
        "    # Fit the tokenizer on the input sentences\n",
        "    lang_tokenizer.fit_on_texts(sentences)\n",
        "    # Tokenize the sentences\n",
        "    sequences = lang_tokenizer.texts_to_sequences(sentences)\n",
        "    # Find the max length of the sequences\n",
        "    max_length = max(len(s) for s in sequences)\n",
        "    # Pad and truncate the sequences\n",
        "    sequences = pad_sequences(sequences, maxlen=max_length, padding='post', truncating='post')\n",
        "\n",
        "    return sequences, lang_tokenizer, max_length\n"
      ]
    },
    {
      "cell_type": "markdown",
      "source": [
        "###### 2.2.1 Create source and target sequences using tokenize()\n",
        "\n",
        "Before we apply the **tokenize()** function, we need to make an important consideration. We won't be able to apply the processing and tokenization function to the entire dataset as it will exhaust all the available RAM. Hence, it is recommended to limit the data. Training on the complete dataset of >100,000 sentences will take a long time. \n",
        "\n",
        "To train faster, we can limit the size of the dataset to `40,000` sentences \n",
        "\n",
        "(***Note***: *Translation quality degrades with less data, however for demonstration purposes, we have gone for a faster training process*).\n",
        "\n",
        "To filter the data, process & tokenize them, we can build a function `load_sequences` that perform all the three tasks inside it. This function will return the source, target sequences,  their maximum length & the tokenisers used for them."
      ],
      "metadata": {
        "id": "XERZmyOyos0c"
      }
    },
    {
      "cell_type": "code",
      "source": [
        "import string\n",
        "from string import digits"
      ],
      "metadata": {
        "id": "l5PmKgZELpV0"
      },
      "execution_count": 97,
      "outputs": []
    },
    {
      "cell_type": "code",
      "source": [
        "def preprocess_sentence(sentence):\n",
        "    \n",
        "    num_digits= str.maketrans('','', digits)\n",
        "    \n",
        "    sentence= sentence.lower()\n",
        "    sentence= re.sub(\" +\", \" \", sentence)\n",
        "    sentence= re.sub(\"'\", '', sentence)\n",
        "    sentence= sentence.translate(num_digits)\n",
        "    sentence= re.sub(r\"([?.!,¿])\", r\" \\1 \", sentence)\n",
        "    sentence = sentence.rstrip().strip()\n",
        "    sentence=  '<sos> ' + sentence + ' <eos>'\n",
        "    \n",
        "    return sentence"
      ],
      "metadata": {
        "id": "2Tjqgr9qLgfQ"
      },
      "execution_count": 98,
      "outputs": []
    },
    {
      "cell_type": "code",
      "source": [
        "def create_dataset(path, num_examples):\n",
        "  \n",
        "  lines = io.open(path, encoding='UTF-8').read().strip().split('\\n')\n",
        "  \n",
        "  word_pairs = [[preprocess_sentence(w) for w in l.split('\\t')]  for l in lines[:num_examples]]\n",
        "  \n",
        "  return zip(*word_pairs)"
      ],
      "metadata": {
        "id": "t7RmqDrPADC3"
      },
      "execution_count": 99,
      "outputs": []
    },
    {
      "cell_type": "code",
      "source": [
        "def load_sequences(path, size=None):\n",
        "    \"\"\"\n",
        "    Loads and preprocesses the dataset.\n",
        "\n",
        "    Parameters:\n",
        "    - path (str): The path to the dataset file.\n",
        "    - size (int, optional): The number of data points to load. Default is None which loads all the data.\n",
        "\n",
        "    Returns:\n",
        "    - src_sequences (np.array): Array of preprocessed and tokenized source sentences.\n",
        "    - tgt_sequences (np.array): Array of preprocessed and tokenized target sentences.\n",
        "    - src_lang_tokenizer (Tokenizer): Tokenizer object fit on source sentences.\n",
        "    - tgt_lang_tokenizer (Tokenizer): Tokenizer object fit on target sentences.\n",
        "    - max_length_src (int): Maximum length of source sequences.\n",
        "    - max_length_trg (int): Maximum length of target sequences.\n",
        "    \"\"\"\n",
        "    # Load the data again using the load_data function with the size argument\n",
        "    #src_sentences, tgt_sentences = load_data(file_path,40000)\n",
        "\n",
        "    # Preprocess the source and target sentences\n",
        "    sample_size=40000\n",
        "    tgt_cln_sentences, src_cln_sentences = create_dataset(file_path, sample_size)\n",
        "\n",
        "    # Tokenize the source and target sentences\n",
        "    src_sequences,src_lang_tokenizer,max_length_src = tokenize(tgt_cln_sentences)\n",
        "    tgt_sequences,tgt_lang_tokenizer,max_length_trg = tokenize(src_cln_sentences)\n",
        "\n",
        "    return src_sequences, tgt_sequences, src_lang_tokenizer, tgt_lang_tokenizer, max_length_src, max_length_trg,tgt_cln_sentences, src_cln_sentences\n"
      ],
      "metadata": {
        "id": "1I1kFyACg-h9"
      },
      "execution_count": 107,
      "outputs": []
    },
    {
      "cell_type": "code",
      "execution_count": 108,
      "metadata": {
        "id": "sRLJiJobV-E_"
      },
      "outputs": [],
      "source": [
        "#Write a code below to print the src sequences and tgt sequences shape\n",
        "\n",
        "src_sequences, tgt_sequences, src_lang_tokenizer, tgt_lang_tokenizer, max_length_src, max_length_trg,tgt_cln_sentences, src_cln_sentences  = load_sequences(file_path)"
      ]
    },
    {
      "cell_type": "code",
      "source": [
        "print(\"Original sentence:\", src_sentences[42])\n",
        "print(\"Clean Sentence:\",src_cln_sentences[42])\n",
        "print(\"Text after tokenization:\", src_sequences[42])"
      ],
      "metadata": {
        "id": "Y4voaKoFhTbw",
        "colab": {
          "base_uri": "https://localhost:8080/"
        },
        "outputId": "020c21e5-7e8d-49ec-8dbf-2c47c9bed3ba"
      },
      "execution_count": 109,
      "outputs": [
        {
          "output_type": "stream",
          "name": "stdout",
          "text": [
            "Original sentence: Yo lo sé.\n",
            "Clean Sentence: <sos> yo lo sé . <eos>\n",
            "Text after tokenization: [ 1  4 40  3  2  0  0  0  0  0  0  0]\n"
          ]
        }
      ]
    },
    {
      "cell_type": "markdown",
      "source": [
        "###### 2.2.2 Understanding what's happening inside\n",
        "\n",
        "We're taking another detour here, to understand how the tokenisation layer converts a batch of strings into a batch of token IDs. \n",
        "\n",
        "Using the **.index_word()** method, we can convert the token IDs back to words for understanding the mapping and what's under the hood.\n",
        "\n",
        "**Note**: This is not required for the final model building process, and is only shown for your understanding"
      ],
      "metadata": {
        "id": "H0UrZJHso0qX"
      }
    },
    {
      "cell_type": "code",
      "execution_count": 110,
      "metadata": {
        "id": "fkVGrmeJoutL",
        "colab": {
          "base_uri": "https://localhost:8080/"
        },
        "outputId": "0d1e4248-ca13-4400-8cee-1148973b3575"
      },
      "outputs": [
        {
          "output_type": "stream",
          "name": "stdout",
          "text": [
            "Input Language; index to word mapping\n",
            "1 ----> <sos>\n",
            "4 ----> i\n",
            "40 ----> know\n",
            "3 ----> .\n",
            "2 ----> <eos>\n",
            "\n",
            "Target Language; index to word mapping\n",
            "1 ----> <sos>\n",
            "28 ----> yo\n",
            "19 ----> lo\n",
            "70 ----> sé\n",
            "3 ----> .\n",
            "2 ----> <eos>\n"
          ]
        }
      ],
      "source": [
        "#Testing if the word to index / index to word mappings have been obtained correctly. \n",
        "def convert(lang, tensor):\n",
        "  for t in tensor:\n",
        "    if t!=0:\n",
        "      print (\"%d ----> %s\" % (t, lang.index_word[t]))\n",
        "\n",
        "print (\"Input Language; index to word mapping\")\n",
        "convert(src_lang_tokenizer, src_sequences[42])\n",
        "print ()\n",
        "print (\"Target Language; index to word mapping\")\n",
        "convert(tgt_lang_tokenizer, tgt_sequences[42])"
      ]
    },
    {
      "cell_type": "code",
      "execution_count": 111,
      "metadata": {
        "id": "YStmxYzh89LP",
        "colab": {
          "base_uri": "https://localhost:8080/"
        },
        "outputId": "cd064846-fcd5-4552-c16c-3dab970bc1b2"
      },
      "outputs": [
        {
          "output_type": "stream",
          "name": "stdout",
          "text": [
            "6083\n",
            "11980\n"
          ]
        }
      ],
      "source": [
        "# getting the size of the input and output vocabularies.\n",
        "src_vocab_size = len(src_lang_tokenizer.word_index)+1\n",
        "tgt_vocab_size = len(tgt_lang_tokenizer.word_index)+1\n",
        "print(src_vocab_size)\n",
        "print(tgt_vocab_size)"
      ]
    },
    {
      "cell_type": "markdown",
      "source": [
        "#### 2.4 Train-Test Split\n",
        "Now that we have processed the data, it's time to split it into train and test datasets. This way, we can use the train data to train our model and evaluate the model performance on the test data.\n",
        "\n",
        "The ***train_test_split()*** function from the sklearn library is used to split the data. `src_sequences` and `tgt_sequences` are the input and target sequences respectively. The test_size parameter specifies the proportion of the data that should be used for testing, and random_state is used to set the random seed for reproducibility."
      ],
      "metadata": {
        "id": "bEB_S__Ehkmk"
      }
    },
    {
      "cell_type": "code",
      "source": [
        "# Write a code below to extract & print the source and target sentences length for train and validation data\n",
        "\n",
        "from sklearn.model_selection import train_test_split\n",
        "\n",
        "source_sequences_train, source_sequences_val, tgt_sequences_train, tgt_sequences_val = train_test_split(src_sequences, tgt_sequences, test_size=0.2)\n",
        "\n",
        "# Show length\n",
        "len(source_sequences_train), len(source_sequences_val), len(tgt_sequences_train), len(tgt_sequences_val)"
      ],
      "metadata": {
        "id": "IdY1FLnXhoi9",
        "colab": {
          "base_uri": "https://localhost:8080/"
        },
        "outputId": "2a4c686d-7b5e-42b6-acd5-72ec162ed026"
      },
      "execution_count": 112,
      "outputs": [
        {
          "output_type": "execute_result",
          "data": {
            "text/plain": [
              "(32000, 8000, 32000, 8000)"
            ]
          },
          "metadata": {},
          "execution_count": 112
        }
      ]
    },
    {
      "cell_type": "markdown",
      "metadata": {
        "id": "rRtqeShj36Ge"
      },
      "source": [
        "#### 2.5 Create a ***tf.dataset***\n",
        "\n",
        "The input pipeline starts from importing the data and creating a dataset from the data stored in the memory. For this, you can use `tf.data.Dataset.from_tensor_slices()`, which creates a **tf.data.Dataset** the object whose elements are slices of the passed tensors. Once you have created the object, you can transform it by applying different operations to the dataset object. (for example, Dataset.map() orDataset.batch()).\n",
        "\n",
        "From the arrays of sequences created ater tokenisation, you can create a tf.data.Dataset of strings that shuffles and batches them efficiently"
      ]
    },
    {
      "cell_type": "markdown",
      "source": [
        "###### 2.5.1 Defining Hyperparameters\n",
        "The following hyperparameters for the creating the **tf.dataset** (and later for model building purposes as well) are specified:\n",
        "- `buffer_size`: This represents the buffer size for the training data. It is calculated by taking the length of the `source_sequences_train` array.\n",
        "- `val_buffer_size`: This represents the buffer size for the validation data. It is calculated by taking the length of the `source_sequences_val` array.\n",
        "- `BATCH_SIZE`: This represents the batch size for the training process. It is set to 64.\n",
        "- `embedding_dim`: This represents the embedding dimension for the input data. It is set to 128.\n",
        "- `units`: This represents the number of units in the recurrent neural network (RNN) used for the model. It is set to 1024.\n",
        "- `steps_per_epoch`: This represents the number of steps to take during each epoch of training. It is calculated as the `buffer_size` divided by the `BATCH_SIZE`.\n",
        "- `val_steps_per_epoch`: This represents the number of validation steps to take during each epoch of training. It is calculated as the `val_buffer_size` divided by the `BATCH_SIZE`.\n",
        "It is important to note that these hyperparameters have been selected based on heuristics and may need to be fine-tuned for different problems or data sets."
      ],
      "metadata": {
        "id": "5hrKGHrHkOFF"
      }
    },
    {
      "cell_type": "code",
      "source": [
        "#Defining hyperparameters\n",
        "buffer_size=len(source_sequences_train)\n",
        "val_buffer_size = len(source_sequences_val)\n",
        "BATCH_SIZE = 64\n",
        "embedding_dim = 128\n",
        "units = 1024 \n",
        "steps_per_epoch = buffer_size//BATCH_SIZE\n",
        "val_steps_per_epoch = val_buffer_size//BATCH_SIZE"
      ],
      "metadata": {
        "id": "0Klt6y-7kR5V"
      },
      "execution_count": 113,
      "outputs": []
    },
    {
      "cell_type": "code",
      "source": [
        "# Create a dataset object for the training set\n",
        "train_dataset = tf.data.Dataset.from_tensor_slices((source_sequences_train, tgt_sequences_train))\n",
        "\n",
        "# Shuffle and batch the training set\n",
        "train_dataset = train_dataset.shuffle(buffer_size=buffer_size).batch(BATCH_SIZE)\n",
        "\n",
        "# Create a dataset object for the validation set\n",
        "val_dataset = tf.data.Dataset.from_tensor_slices((source_sequences_val, tgt_sequences_val))\n",
        "\n",
        "# Batch the validation set\n",
        "val_dataset = val_dataset.batch(BATCH_SIZE)"
      ],
      "metadata": {
        "id": "JLixC-5tkab1"
      },
      "execution_count": 114,
      "outputs": []
    },
    {
      "cell_type": "code",
      "source": [
        "# Printing the shape of an input batch\n",
        "example_input_batch, example_target_batch = next(iter(train_dataset))\n",
        "example_input_batch.shape, example_target_batch.shape"
      ],
      "metadata": {
        "id": "KWVzH0jJkem-",
        "colab": {
          "base_uri": "https://localhost:8080/"
        },
        "outputId": "d58fe92c-2568-4fac-db46-bf19eb633046"
      },
      "execution_count": 115,
      "outputs": [
        {
          "output_type": "execute_result",
          "data": {
            "text/plain": [
              "(TensorShape([64, 12]), TensorShape([64, 16]))"
            ]
          },
          "metadata": {},
          "execution_count": 115
        }
      ]
    },
    {
      "cell_type": "markdown",
      "source": [
        "### **Task 3: Build the NMT model**\n",
        "\n",
        "Let's take a recap of what we have done so far and what we have to do further.\n",
        "\n",
        "![picture](https://drive.google.com/uc?id=1TxuSn45YlitOoPI63MfLIMJUGMWiuPt0)\n",
        "\n",
        "Once we have preprocessed the model, the next task is to pass it to the NMT model so that it can perform the task of machine translation:\n",
        "\n",
        "> #### Encoder-Decoder model with attention\n",
        "\n",
        "The encoder model consists of an embedding layer, a GRU layer with 1024 units.\n",
        "\n",
        "The decoder model consists of an attention layer, a embedding layer, a GRU layer and a dense layer.\n",
        "\n",
        "The attention model consists of three dense layers (BahdanauAttention Model) .\n",
        "\n",
        "\n",
        "---\n",
        "![picture](https://drive.google.com/uc?id=1AnbdmNzOi9WyEZ8RiMWL3MsndVliggs7)"
      ],
      "metadata": {
        "id": "OyfKKzO6kjTO"
      }
    },
    {
      "cell_type": "markdown",
      "source": [
        "#### 3.1 Build the Encoder\n",
        "The goal of the encoder is to process the context sequence into a sequence of vectors that are useful for the decoder as it attempts to predict the next output for each timestep.\n",
        "\n",
        "---\n",
        "\n",
        "\n",
        "The **Encoder** class is defined as a subclass of tf.keras.Model. It takes the following parameters as inputs:\n",
        "\n",
        "> **Class constructor:**\n",
        "\n",
        "* **vocab_size:** Integer representing the size of the vocabulary in the input language.\n",
        "* **emb_dim:** Integer representing the dimension of the embedding space.\n",
        "* **enc_units:** Integer representing the number of encoding GRU units.\n",
        "* **batch_sz:** Integer representing the batch size used during training.\n",
        "\n",
        "\n",
        "> It also initializes the following layers:\n",
        "\n",
        "* An **Embedding layer**, which maps the input language word indices to dense vectors in the embedding space. mask_zero argument is set to True to mask the padding in the input sequence.\n",
        "* A **GRU layer**, which performs the encoding of the input sequences.\n",
        "\n",
        "> The **call** method is defined to perform the forward pass of the Encoder. It takes two inputs:\n",
        "\n",
        "* x: Input sequences of shape (batch_size, sequence_length).\n",
        "* hidden: The initial hidden state, with shape **(batch_size, enc_units)**.\n",
        "\n",
        "> It does the following operations:\n",
        "1. The method first maps the input sequences to the embedding space using the Embedding layer. The resulting output has shape (batch_size, sequence_length, emb_dim).\n",
        "2. Then, the encoded sequence and the final hidden state are obtained by passing the embedded input through the GRU layer. The shape of the encoded sequence is **(batch_size, sequence_length, enc_units)** and the shape of the final hidden state is **(batch_size, enc_units).**\n",
        "3. The initialize_hidden_state method is used to initialize the hidden state of the GRU layer to all zeros, with shape **(batch_size, enc_units).**\n"
      ],
      "metadata": {
        "id": "z8EIkR3CuSkP"
      }
    },
    {
      "cell_type": "code",
      "execution_count": 29,
      "metadata": {
        "id": "cCxzpM5ioMQ0"
      },
      "outputs": [],
      "source": [
        "# Define the Encoder model\n",
        "class Encoder(tf.keras.Model):\n",
        "    \"\"\"\n",
        "    The Encoder model for the Seq2Seq model\n",
        "\n",
        "    \"\"\"\n",
        "    def __init__(self, vocab_size, emb_dim, enc_units, batch_sz):\n",
        "        super(Encoder, self).__init__()\n",
        "        # Store the number of GRU units in the encoder\n",
        "        self.enc_units = enc_units \n",
        "        # Store the batch size\n",
        "        self.batch_sz = batch_sz \n",
        "        # Define the embedding layer for the input sequence\n",
        "        self.embedding = tf.keras.layers.Embedding(vocab_size, emb_dim,mask_zero=True)\n",
        "        # Define the GRU layer for encoding the input sequence\n",
        "        self.gru = tf.keras.layers.GRU(self.enc_units,\n",
        "                                       return_sequences=True,\n",
        "                                       return_state=True,\n",
        "                                       recurrent_initializer='glorot_uniform') \n",
        "\n",
        "#we have initialized the encoder above, follow the instructions given in the comments below and complete the call function\n",
        "    def call(self, x, hidden):\n",
        "        \"\"\"\n",
        "        Forward pass for the Encoder model\n",
        "\n",
        "        \"\"\"\n",
        "        # Pass the input sequence through the embedding layer\n",
        "        x= self.embedding(x)\n",
        "\n",
        "        # Embed the input sequence, resulting in shape (batch_size, sequence_length, emb_dim)\n",
        "        \n",
        "        # Pass the embedded input sequence and initial hidden state through the GRU layer to return the output & hidden state.\n",
        "        output, state = self.gru(x, initial_state=hidden) \n",
        "        \n",
        "        # The output shape is (batch_size, sequence_length, enc_units)\n",
        "        # The state shape is (batch_size, enc_units)\n",
        "        return output, state \n",
        "\n",
        "    def initialize_hidden_state(self):\n",
        "        \"\"\"\n",
        "        Initialize the hidden state of the GRU to all zeros\n",
        "\n",
        "        \"\"\"\n",
        "        # Initialize the hidden state of the GRU to all zeros\n",
        "        return tf.zeros((self.batch_sz, self.enc_units))\n"
      ]
    },
    {
      "cell_type": "code",
      "execution_count": 30,
      "metadata": {
        "id": "8csB4tFeoQgV",
        "colab": {
          "base_uri": "https://localhost:8080/"
        },
        "outputId": "c7b3155c-1901-491c-c2e4-2c209373e41f"
      },
      "outputs": [
        {
          "output_type": "stream",
          "name": "stdout",
          "text": [
            "Encoder output shape: (batch size, sequence length, units) (64, 16, 1024)\n",
            "Encoder Hidden state shape: (batch size, units) (64, 1024)\n"
          ]
        }
      ],
      "source": [
        "#Create an Encoder class object\n",
        "encoder = Encoder(src_vocab_size, embedding_dim, units, BATCH_SIZE) \n",
        "\n",
        "# sample input to get a sense of the shapes.\n",
        "sample_hidden = encoder.initialize_hidden_state()\n",
        "sample_output, sample_hidden = encoder(example_input_batch, sample_hidden)\n",
        "print ('Encoder output shape: (batch size, sequence length, units) {}'.format(sample_output.shape))\n",
        "print ('Encoder Hidden state shape: (batch size, units) {}'.format(sample_hidden.shape))"
      ]
    },
    {
      "cell_type": "markdown",
      "source": [
        "#### 3.2 Bahdanau Attention Layer\n",
        "This class implements the Bahdanau Attention mechanism in TensorFlow as a custom layer. The class extends the **tf.keras.layers.Layer** class and overrides the call method to implement the Bahdanau attention mechanism.\n",
        "\n",
        "We will use the subclassing approach again for building the Attention layer as we have done for the Encoder. This will help us in training all of the sub-layers inside it together during the end-to-end training process of the NMT model.\n",
        "\n",
        ">**Architecture**\n",
        "The Bahdanau Attention layer consists of three fully-connected dense layers:\n",
        "1. **W1**: the first dense layer with units number of units.\n",
        "2. **W2**: the second dense layer with units number of units.\n",
        "3. **V**: the third dense layer with 1 unit.\n",
        "\n",
        "> **Inputs:**\n",
        "The input to the call method are two tensors:\n",
        "1. **Query**: a tensor with shape (batch_size, hidden size) representing the hidden state.\n",
        "2. **Values**: a tensor with shape (batch_size, max_len, hidden size) representing the values to attend over.\n",
        "\n",
        "> **Outputs:**\n",
        "The outputs of the call method are:\n",
        "1. **Context_vector**: a tensor with shape (batch_size, hidden_size) representing the context vector.\n",
        "2. **Attention_weights**: a tensor with shape (batch_size, max_length, 1) representing the attention weights.\n",
        "\n",
        ">**Algorithm**\n",
        "* The query tensor is expanded along the time axis to broadcast addition with the values tensor.\n",
        "* The score is calculated by applying the tanh activation on the result of the addition of W1(query_with_time_axis) and W2(values).\n",
        "* The attention weights are obtained by applying the softmax activation on the score.\n",
        "* The context vector is obtained by multiplying the attention weights with the values tensor and summing over the max length axis.\n",
        "* Finally, both the context vector and the attention weights are returned."
      ],
      "metadata": {
        "id": "allCYsI1Itvt"
      }
    },
    {
      "cell_type": "code",
      "source": [
        "# a class defined for the attention layer\n",
        "# returns attention weights and context vector.\n",
        "\n",
        "class BahdanauAttention(tf.keras.layers.Layer):\n",
        "  \"\"\"\n",
        "    Attention model for the Seq2Seq model\n",
        "\n",
        "  \"\"\"\n",
        "  def __init__(self, units):\n",
        "    super(BahdanauAttention, self).__init__()\n",
        "    self.W1 = tf.keras.layers.Dense(units) # fully-connected dense layer-1\n",
        "    self.W2 = tf.keras.layers.Dense(units) # fully-connected dense layer-2\n",
        "    self.V = tf.keras.layers.Dense(1) # fully-connected dense layer-3\n",
        "\n",
        "  def call(self, query, values):\n",
        "    \"\"\"\n",
        "        Forward pass for the Attention model\n",
        "\n",
        "    \"\"\"\n",
        "    # query hidden state shape == (batch_size, hidden size)\n",
        "    # query_with_time_axis shape == (batch_size, 1, hidden size)\n",
        "    # values shape == (batch_size, max_len, hidden size)\n",
        "    # we are doing this to broadcast addition along the time axis to calculate the score\n",
        "\n",
        "    #write a code below to expand the dimension of query by 1 dimension. You can use tf.expand_dims() to execute this.\n",
        "   \n",
        "    query_with_time_axis = tf.expand_dims(query, 1)\n",
        "\n",
        "    # score shape == (batch_size, max_length, 1)\n",
        "    # we get 1 at the last axis because we are applying score to self.V\n",
        "    # the shape of the tensor before applying self.V is (batch_size, max_length, units)\n",
        "    score = self.V(tf.nn.tanh(self.W1(query_with_time_axis) + self.W2(values)))\n",
        "\n",
        "    # write code to calculate the attention weights using the softmax and score\n",
        "    # attention_weights shape == (batch_size, max_length, 1)\n",
        "   \n",
        "    attention_weights = tf.nn.softmax(score, axis=1)\n",
        "\n",
        "    context_vector = attention_weights * values\n",
        "\n",
        "    # context_vector shape after sum == (batch_size, hidden_size)\n",
        "    context_vector = tf.reduce_sum(context_vector, axis=1)\n",
        "\n",
        "    return context_vector, attention_weights"
      ],
      "metadata": {
        "id": "8KF4I_RkmiFW"
      },
      "execution_count": 31,
      "outputs": []
    },
    {
      "cell_type": "code",
      "source": [
        "attention_layer = BahdanauAttention(20) # create an attention layer object\n",
        "attention_result, attention_weights = attention_layer(sample_hidden, sample_output) # pass sample encoder output and hidden layer to get a sense of the shape of the output of the attention layer.\n",
        "\n",
        "print(\"Attention result shape (context vector): (batch size, units) {}\".format(attention_result.shape))\n",
        "print(\"Attention weights shape: (batch_size, sequence_length, 1) {}\".format(attention_weights.shape))"
      ],
      "metadata": {
        "id": "X2swoaxOmkhI",
        "colab": {
          "base_uri": "https://localhost:8080/"
        },
        "outputId": "65ff8584-b77d-47f5-c5e8-9aeb67303e08"
      },
      "execution_count": 32,
      "outputs": [
        {
          "output_type": "stream",
          "name": "stdout",
          "text": [
            "Attention result shape (context vector): (batch size, units) (64, 1024)\n",
            "Attention weights shape: (batch_size, sequence_length, 1) (64, 16, 1)\n"
          ]
        }
      ]
    },
    {
      "cell_type": "markdown",
      "source": [
        "#### 3.3: Build the decoder\n",
        "The decoder's job is to generate predictions for the next token at each location in the target sequence.\n",
        "\n",
        "---\n",
        "\n",
        "\n",
        "This code defines a Decoder class that implements a decoder model for a sequence-to-sequence architecture. The decoder model will take in an input sequence and the hidden state from the encoder and generate the target sequence.\n",
        "\n",
        "> **Class constructor**:The __init__ method initializes the class variables:\n",
        "\n",
        "* **vocab_size**: The size of the target vocabulary.\n",
        "*embedding_dim: The size of the embedding layer that converts the target sequence into dense vectors.\n",
        "* **dec_units:** The number of GRU units in the decoder.\n",
        "* **batch_sz:** The batch size of the input data.\n",
        "\n",
        "> It also initializes the following layers:\n",
        "* **attention**: An instance of the BahdanauAttention class.\n",
        "* **Embedding**: An embedding layer to convert the target sequences into dense vectors.\n",
        "* **GRU**: A GRU layer to perform the decoding.\n",
        "* **FC**: A dense layer to generate the final target sequence.\n",
        "\n",
        ">**call** method: The call method implements the forward pass of the decoder. It  takes in 3 inputs: x, hidden, and enc_output.\n",
        "\n",
        "* x: Input sequences of shape (batch_size, sequence_length).\n",
        "* hidden:  hidden state from the encoder hidden.  **(batch_size, dec_units)\n",
        "* enc_output: The output of the encoder (shape: (batch_size, max_length, hidden_size)).\n",
        "\n",
        ">It does the following operations:\n",
        "1. Computes the context vector and the attention weights from the attention layer,\n",
        "2. Embeds the input x using the embedding layer.\n",
        "3. Concatenates the context vector with the embedded target sequence\n",
        "4. Passes the concatenated sequence and the hidden state from the encoder to the GRU layer. This generates the output and the new hidden state.\n",
        "3. Reshapes the output to a 2D tensor.\n",
        "4. Passes the reshaped output through the dense layer to generate the final target sequence.\n",
        "5. It returns the final target sequence and the new hidden state."
      ],
      "metadata": {
        "id": "6lPmkwHDJ9RH"
      }
    },
    {
      "cell_type": "code",
      "execution_count": 33,
      "metadata": {
        "id": "JizsQfXQumf0"
      },
      "outputs": [],
      "source": [
        "# Define the Decoder model\n",
        "class Decoder(tf.keras.Model):\n",
        "  def __init__(self, vocab_size, emb_dim, dec_units, batch_sz):\n",
        "    super(Decoder, self).__init__()\n",
        "    \n",
        "    # initialize the batch size\n",
        "    self.batch_sz = batch_sz \n",
        "    \n",
        "    # initialize the number of decoder units\n",
        "    self.dec_units = dec_units \n",
        "    \n",
        "    # initialize the attention layer\n",
        "    self.attention = BahdanauAttention(self.dec_units)\n",
        "    \n",
        "    # initialize the embedding layer\n",
        "    self.embedding = tf.keras.layers.Embedding(vocab_size, emb_dim) \n",
        "    \n",
        "    # initialize the GRU layer with the number of decoder units, return sequences and state set to True\n",
        "    # and the recurrent initializer set to 'glorot_uniform'\n",
        "    self.gru = tf.keras.layers.GRU(self.dec_units,\n",
        "                                   return_sequences=True,\n",
        "                                   return_state=True,\n",
        "                                   recurrent_initializer='glorot_uniform') \n",
        "    # initialize a fully connected layer with the number of output units equal to the vocabulary size\n",
        "    self.fc = tf.keras.layers.Dense(vocab_size)\n",
        "\n",
        "#we have initialized the decoder above, follow the instructions given in the comments below and complete the call function\n",
        "  def call(self, x, hidden, enc_output):\n",
        "\n",
        "     # enc_output shape == (batch_size, max_length, hidden_size)\n",
        "    # get the context vector and attention weights from the attention layer\n",
        "    context_vector, attention_weights = self.attention(hidden,enc_output)\n",
        "\n",
        "    # pass the input sequence through the embedding layer\n",
        "    # x shape after passing through embedding == (batch_size, 1, embedding_dim)\n",
        "    x= self.embedding(x)\n",
        "\n",
        "    # concatenate the context vector and the embedded input sequence\n",
        "    # x shape after concatenation == (batch_size, 1, embedding_dim + hidden_size)\n",
        "    x= tf.concat([tf.expand_dims( context_vector, 1), x],axis=-1)\n",
        "\n",
        "    # pass the concatenated sequence and the initial state to the GRU as the hidden state\n",
        "    output, state = self.gru(x)\n",
        "\n",
        "    # reshape the GRU output to be of shape (batch_size * 1, hidden_size)\n",
        "    output= tf.reshape(output, (-1, output.shape[2]))\n",
        "\n",
        "    # pass the reshaped output through the fully connected layer to get the final output of shape (batch_size, vocab)\n",
        "    x= self.fc(output)\n",
        "    \n",
        "    # return the decoder output, decoder state and attention weights\n",
        "    return x, state , attention_weights\n"
      ]
    },
    {
      "cell_type": "code",
      "execution_count": 34,
      "metadata": {
        "id": "c0lzlKGOurCm",
        "colab": {
          "base_uri": "https://localhost:8080/"
        },
        "outputId": "155a6e60-cd00-4e84-9274-97f134fc294e"
      },
      "outputs": [
        {
          "output_type": "stream",
          "name": "stdout",
          "text": [
            "Decoder output shape: (batch_size, vocab size) (64, 6083)\n"
          ]
        }
      ],
      "source": [
        "#Create an Decoder class object\n",
        "decoder = Decoder(tgt_vocab_size, embedding_dim, units, BATCH_SIZE)\n",
        "# sample input to get a sense of the shapes.\n",
        "sample_decoder_output, _, _ = decoder(tf.random.uniform((BATCH_SIZE, 1)),\n",
        "                                      sample_hidden, sample_output)\n",
        "\n",
        "print ('Decoder output shape: (batch_size, vocab size) {}'.format(sample_decoder_output.shape))"
      ]
    },
    {
      "cell_type": "markdown",
      "source": [
        "### **Task 4: Train the NMT model**\n",
        "\n"
      ],
      "metadata": {
        "id": "FfmOfx3VMbiF"
      }
    },
    {
      "cell_type": "markdown",
      "source": [
        "#### 4.1 Configure the model.\n",
        "To train the model you'll need several additional components:\n",
        "\n",
        "* **The Loss function**: The loss_function method calculates the loss between the target data and the model's prediction. The real argument is the target data, and the pred argument is the model's prediction.\n",
        "\n",
        "> The method first creates a binary mask to indicate which target data points are not padding (not equal to 0). The loss is calculated using the loss_object and the masked loss is returned by taking the mean of the masked loss values.\n",
        "\n",
        "* **The Optimizer** : Defines the optimizer and the loss function used to train the model. The optimizer used is Adam and the loss function used is SparseCategoricalCrossentropy.\n",
        "\n",
        "> SparseCategoricalCrossentropy is used because the target data is a categorical variable, but not one-hot encoded, so we use this form of categorical crossentropy loss. The from_logits argument is set to True because the model produces logits rather than probabilistic outputs, and the reduction argument is set to none because the loss values need to be calculated for each time step and then masked.\n",
        "\n",
        "* **Checkpoints**: The code defines the checkpoint and its directory. The checkpoint is a mechanism to save the model's state after each training epoch, so that we can resume training from the saved state if needed. \n",
        "\n",
        ">The checkpoint_dir is set to ./training_checkpoints and the checkpoint_prefix is set to ckpt inside the checkpoint_dir. The checkpoint is then defined using the tf.train.Checkpoint method, and includes the optimizer, the encoder and the decoder as its attributes.\n",
        "\n",
        "Here's an implementation of a masked loss and accuracy:"
      ],
      "metadata": {
        "id": "36m5MSKCVGk8"
      }
    },
    {
      "cell_type": "code",
      "execution_count": 35,
      "metadata": {
        "id": "DewBBiw8wnCG"
      },
      "outputs": [],
      "source": [
        "# Define the loss function and the optimizer\n",
        "# Use the Adam optimizer\n",
        "optimizer = tf.keras.optimizers.Adam()\n",
        "\n",
        "# Loss function is sparse categorical cross entropy\n",
        "loss_object = tf.keras.losses.SparseCategoricalCrossentropy(from_logits=True, reduction='none')\n",
        "\n",
        "\n",
        "\n",
        "# Define the loss function to calculate the difference between the real and predicted outputs\n",
        "def loss_function(real, pred):\n",
        "  mask = tf.math.logical_not(tf.math.equal(real, 0))  # Create a mask to ignore the padding values in the target sequence\n",
        "  loss_ = loss_object(real, pred)  # Calculate the loss using the loss function\n",
        "\n",
        "  # Multiply the loss by the mask to ignore the padding values\n",
        "  mask = tf.cast(mask, dtype=loss_.dtype)  # Cast the mask to the same data type as the loss\n",
        "  loss_ *= mask\n",
        "\n",
        "  # Calculate the mean loss across the batch size\n",
        "  return tf.reduce_mean(loss_)\n",
        "\n",
        "\n",
        "\n",
        "# Define the checkpoint path to save the training progress\n",
        "checkpoint_dir = './training_checkpoints'  # Directory to store the checkpoints\n",
        "checkpoint_prefix = os.path.join(checkpoint_dir, \"ckpt\")  # File prefix for the checkpoints\n",
        "checkpoint = tf.train.Checkpoint(optimizer=optimizer,  # Create a checkpoint object to save the optimizer and the models\n",
        "                                 encoder=encoder,\n",
        "                                 decoder=decoder)\n"
      ]
    },
    {
      "cell_type": "markdown",
      "source": [
        "#### 4.2 Configure the training step:\n",
        "A custom training loop (instead of Model.Fit etc.) is used for which further reference is available from Tensorflow [here](https://www.tensorflow.org/guide/keras/writing_a_training_loop_from_scratch)\n",
        "\n",
        "NOTE: While training the model, make sure your instance is GPU based.\n",
        "\n",
        "---\n",
        "\n",
        "\n",
        "\n",
        "The code is annotated with \"@tf.function\", which tells TensorFlow to compile this function for performance optimization. \n",
        "This is a TensorFlow function for a single training step of a sequence-to-sequence model. The input to the function includes:\n",
        "- `inp`: The input sequence to be encoded\n",
        "- `targ`: The target sequence to be decoded\n",
        "- `enc_hidden`: The initial hidden state of the encoder\n",
        "\n",
        "> The function performs the following operations:\n",
        "1. Encode the input sequence to get the encoded output and the final hidden state of the encoder.\n",
        "2. Set the initial hidden state of the decoder to the final hidden state of the encoder.\n",
        "3. Loop over the time steps of the target sequence to be passed as current input along with the hidden state and encoder output to get the predicted output and the next hidden state.\n",
        "4. Computing the loss between the target and the predicted output for each time step.\n",
        "5. Comparing the gradients of the loss with respect to the trainable variables of the encoder and decoder.\n",
        "6. Update the variables based on the computed gradients using an optimiser.\n",
        "\n",
        "---\n",
        "![picture](https://drive.google.com/uc?id=1siOhKcS8fYD_q71yarQE-uIofPV_CI81)"
      ],
      "metadata": {
        "id": "V1RCSNp2MiKp"
      }
    },
    {
      "cell_type": "code",
      "execution_count": 36,
      "metadata": {
        "id": "3Sx5blrnz-Wn"
      },
      "outputs": [],
      "source": [
        "@tf.function\n",
        "def train_step(inp, targ, enc_hidden):\n",
        "  # Initialize loss to 0\n",
        "  loss = 0\n",
        "\n",
        "  # Start recording operations for automatic differentiation\n",
        "  with tf.GradientTape() as tape:\n",
        "    # Encode the input with the hidden state and get the encoded output and the hidden state\n",
        "    enc_output, enc_hidden = encoder(inp, enc_hidden)\n",
        "\n",
        "    # Set the initial hidden state of the decoder to be the final hidden state of the encoder\n",
        "    dec_hidden = enc_hidden\n",
        "\n",
        "    # Set the initial input of the decoder to the start-of-sequence token\n",
        "    dec_input = tf.expand_dims([tgt_lang_tokenizer.word_index['<sos>']] * BATCH_SIZE, 1)\n",
        "\n",
        "    # Loop over the time steps of the target sequence\n",
        "    for t in range(1, targ.shape[1]):\n",
        "      # Pass the current input and hidden state to the decoder, along with the encoder output\n",
        "      predictions, dec_hidden, _ = decoder(dec_input, dec_hidden, enc_output)\n",
        "      # Compute the loss between the target and the predicted output\n",
        "      loss += tf.keras.losses.sparse_categorical_crossentropy(targ[:, t], predictions)\n",
        "\n",
        "      # Use teacher forcing - set the next input to be the target\n",
        "      dec_input =tf.expand_dims(targ[:, t], 1)\n",
        "\n",
        "  # Compute the average loss over all time steps\n",
        "  batch_loss = (loss / int(targ.shape[1]))\n",
        "\n",
        "  # Get a list of all trainable variables in the encoder and decoder\n",
        "  variables = encoder.trainable_variables + decoder.trainable_variables\n",
        "\n",
        "  # Compute the gradients of the loss with respect to the variables\n",
        "  gradients = tape.gradient(loss, variables)\n",
        "\n",
        "  # Use the optimizer to update the variables based on the computed gradients\n",
        "  optimizer.apply_gradients(zip(gradients, variables))\n",
        "\n",
        "  # Return the average loss for this batch\n",
        "  return batch_loss"
      ]
    },
    {
      "cell_type": "markdown",
      "source": [
        "#### 4.3 Configure the validation step:\n",
        "The purpose of the validation step is to evaluate the model's performance on a validation dataset and to monitor the training process.\n",
        "\n",
        "---\n",
        "This is a TensorFlow function for a single validation step of a sequence-to-sequence model. The input to the function includes:\n",
        "- `inp`: The input sequence to be encoded\n",
        "- `targ`: The target sequence to be decoded\n",
        "- `enc_hidden`: The initial hidden state of the encoder\n",
        "\n",
        ">The function performs the following operations:\n",
        "1. Encoding the input sequence to get the encoded output and the final hidden state of the encoder\n",
        "2. Setting the initial hidden state of the decoder to be the final hidden state of the encoder\n",
        "3. Looping over the time steps of the target sequence, passing the current input and hidden state to the decoder, along with the encoder output, to get the predicted output\n",
        "4. Computing the loss between the target and the predicted output for each time step\n",
        "5. Computing the average loss over all time steps\n",
        "6. Returning the average loss for this batch"
      ],
      "metadata": {
        "id": "FSsM1rU_NyyH"
      }
    },
    {
      "cell_type": "code",
      "execution_count": 38,
      "metadata": {
        "id": "9FnspQbMRGRM"
      },
      "outputs": [],
      "source": [
        "# Define the validation step\n",
        "@tf.function\n",
        "def val_step(inp, targ, enc_hidden):\n",
        "    loss = 0 # Initialize the total loss for this batch\n",
        "    \n",
        "    # Encoding the input sequence to get the encoded output and the final hidden state of the encoder\n",
        "    enc_output, enc_hidden = encoder(inp, enc_hidden)\n",
        "\n",
        "    # Setting the initial hidden state of the decoder to be the final hidden state of the encoder\n",
        "    dec_hidden = enc_hidden \n",
        "    \n",
        "    # Setting the input to the decoder to be the start-of-sequence token\n",
        "    dec_input =tf.expand_dims([tgt_lang_tokenizer.word_index['<sos>']] * BATCH_SIZE, 1)  \n",
        "\n",
        "    for t in range(1, targ.shape[1]): # Looping over the time steps of the target sequence\n",
        "\n",
        "    # Getting the predicted output and the next hidden state by passing the current input, hidden state, and encoder output to the decoder\n",
        "        predictions, dec_hidden, _ = decoder(dec_input, dec_hidden, enc_output)\n",
        "        loss += tf.keras.losses.sparse_categorical_crossentropy(targ[:, t], predictions)\n",
        "        dec_input = tf.expand_dims(targ[:, t], 1)\n",
        "\n",
        "    batch_loss = (loss / int(targ.shape[1]))\n",
        "\n",
        "    return batch_loss # Returning the average loss for this batch\n"
      ]
    },
    {
      "cell_type": "markdown",
      "source": [
        "#### 4.4 Initiate the model training:\n",
        "\n",
        "The following code trains a sequence to sequence model using the training and validation datasets. The model will be trained for 10 epochs.\n",
        "\n",
        "*NOTE: It is recommended that you train it for more number of epochs to evaluate whether the model's performance is increasing or not.*\n",
        "\n",
        "> At each epoch:\n",
        "* Step 1: Initialise Encoder’s hidden state\n",
        "* Step 2: Invoke train_step function\n",
        "* Step 3: Generate loss for each batch of the training dataset \n",
        "* Step 4: Accumulate loss to calculate the total training loss.\n",
        "* Step 5: Invoke train_step function\n",
        "* Step 6: Generate loss for each batch of the validation dataset \n",
        "* Step 7: Accumulate loss to calculate the total validation loss\n",
        "* Step 8: Store model after every 2 epochs\n",
        "* Step 9: Print metrics score\n",
        "\n",
        "---\n",
        "![picture](https://drive.google.com/uc?id=11FigkC_xa_cMfXcIF12U8DxYrjgqJKBK)"
      ],
      "metadata": {
        "id": "RNLsQg0lOwjo"
      }
    },
    {
      "cell_type": "code",
      "execution_count": 43,
      "metadata": {
        "id": "YrsM8VZC0Ars"
      },
      "outputs": [],
      "source": [
        "import time\n",
        "\n",
        "def train_and_validate(train_dataset, val_dataset, EPOCHS=10):\n",
        "    for epoch in range(EPOCHS):\n",
        "        start = time.time()\n",
        "\n",
        "        #Step1: \n",
        "        enc_hidden = encoder.initialize_hidden_state()\n",
        "        total_train_loss = 0\n",
        "        total_val_loss = 0\n",
        "        for (batch, (inp, targ)) in enumerate(train_dataset.take(steps_per_epoch)):\n",
        "\n",
        "            #Step 2 & 3: \n",
        "            # Call the train_step function by passing the input, target & encoder hidden state\n",
        "            batch_loss = train_step(inp, targ, enc_hidden)\n",
        "            #Step 4: \n",
        "            total_train_loss +=  batch_loss\n",
        "\n",
        "            # Print the loss every 100 batches\n",
        "            if batch % 100 == 0:\n",
        "                print('Epoch {} Batch {} Loss {}'.format(epoch + 1,\n",
        "                                                            batch,\n",
        "                                                            batch_loss.numpy()))\n",
        "       \n",
        "        # Calculate the loss for each batch of validation data\n",
        "        for (batch, (inp, targ)) in enumerate(val_dataset.take(val_steps_per_epoch)):    \n",
        "            #Step 5 & 6\n",
        "            # Call the val_step function by passing the input, target & encoder hidden state\n",
        "            val_batch_loss = val_step(inp, targ, enc_hidden)\n",
        "            #Step 7\n",
        "            total_val_loss += val_batch_loss\n",
        "\n",
        "        #Step 8\n",
        "        if (epoch + 1) % 2 == 0:\n",
        "            checkpoint.save(file_prefix = checkpoint_prefix)\n",
        "        \n",
        "        #Step 9\n",
        "        # Print the average training loss for the epoch\n",
        "        print('Total training loss is {}'.format(total_train_loss / steps_per_epoch))\n",
        "\n",
        "        # Print the average validation loss for the epoch\n",
        "        print('Total validation loss is {}'.format( total_val_loss / val_steps_per_epoch))\n",
        "\n",
        "        #Print the total time taken for each batch\n",
        "        print('Time taken for 1 epoch {} sec\\n'.format(time.time() - start))\n"
      ]
    },
    {
      "cell_type": "code",
      "source": [
        "train_and_validate(train_dataset,val_dataset)"
      ],
      "metadata": {
        "colab": {
          "base_uri": "https://localhost:8080/"
        },
        "id": "DOEc_wkCTDKY",
        "outputId": "b8513af3-8ffd-4781-ac04-2364dfa9633c"
      },
      "execution_count": 44,
      "outputs": [
        {
          "output_type": "stream",
          "name": "stdout",
          "text": [
            "Epoch 1 Batch 0 Loss [4.5605316 4.6362567 5.7546706 5.343581  5.69621   4.204941  5.9820404\n",
            " 5.651246  6.060916  5.4351444 4.391182  5.6806784 4.4824476 5.832553\n",
            " 6.1562624 5.4166946 5.8253174 6.790147  4.553647  6.5858984 6.265651\n",
            " 4.1493597 5.1118226 4.7952    5.8899994 6.895035  4.6266985 5.7773733\n",
            " 5.593456  4.232843  4.57948   6.1109138 5.8787665 4.444893  5.449135\n",
            " 5.6532745 5.7279563 5.913297  4.6838737 4.7348294 7.1589813 3.8334148\n",
            " 4.181792  4.6665297 4.2941194 4.000911  4.694196  5.034717  7.0560017\n",
            " 3.6958587 5.7322783 5.4224596 5.2515974 5.721491  4.4613433 6.704538\n",
            " 3.3997035 5.8847485 4.2807508 7.3076124 5.9916763 4.8381815 4.823108\n",
            " 4.1763096]\n",
            "Epoch 1 Batch 100 Loss [3.0722957 2.9069412 4.993599  2.7941222 4.353006  5.1042547 1.7295994\n",
            " 2.9208503 4.197645  1.9453491 3.9379783 1.5643781 3.8657975 3.773114\n",
            " 6.101551  3.7516687 5.0364585 2.9450061 3.8901718 1.8284397 2.920224\n",
            " 4.3077254 2.6121101 7.8219633 2.6565037 5.083785  3.985503  2.8863037\n",
            " 3.8640976 4.996732  4.9494357 2.5889144 3.835716  4.5078807 4.226427\n",
            " 3.901441  2.9212723 4.221907  4.9198303 2.8543434 6.0565863 4.0637774\n",
            " 3.8542295 4.032243  2.5159376 4.020521  4.943591  4.2911844 2.9844987\n",
            " 3.9193168 4.8176565 2.674729  3.7310998 3.9030418 2.9575005 2.8814476\n",
            " 3.0819614 2.6588798 3.732027  5.1612053 2.831866  4.0000486 4.3070116\n",
            " 3.78872  ]\n",
            "Epoch 1 Batch 200 Loss [3.0328813 1.6386278 5.0723696 3.6012378 4.756584  1.845124  3.1738095\n",
            " 2.1075292 4.7539988 4.724905  4.697366  4.5109935 3.8427284 4.8556643\n",
            " 3.196299  4.1614695 2.7993922 3.2040787 2.8294437 1.6546407 3.9442117\n",
            " 4.4859614 4.922206  3.6693807 3.4025412 6.0283146 4.911716  4.1381235\n",
            " 3.7837238 3.1048274 2.8438315 2.3478646 1.8988193 1.7478693 3.311983\n",
            " 3.602106  5.311159  3.868269  3.9440296 3.493586  3.08819   4.4420605\n",
            " 2.7239528 3.8082378 4.2921886 4.369384  4.7700014 5.0044384 2.644594\n",
            " 1.3161443 3.4309134 2.9081256 4.4138412 4.4493437 2.6752715 3.5839972\n",
            " 2.4084806 4.3420386 2.9801111 3.492916  2.3392625 4.2433925 2.5405717\n",
            " 4.0044327]\n",
            "Epoch 1 Batch 300 Loss [2.8150852 2.1813626 2.982689  2.5900054 3.3526275 1.6043882 3.4233673\n",
            " 3.3620238 2.1828918 2.1813629 4.9330225 2.907106  4.358593  2.908834\n",
            " 4.358593  3.6328495 4.488646  3.6328492 4.4279914 4.740794  2.9158046\n",
            " 3.9376686 4.7407875 4.1176386 1.8811754 3.3532615 2.2334476 3.6642776\n",
            " 3.2164955 4.358593  2.9087567 5.0843363 2.181363  4.017106  1.590535\n",
            " 3.066135  5.455728  2.1816413 2.9071612 4.0151243 3.6348548 5.44477\n",
            " 3.9078453 3.6328495 2.9071054 3.3318    1.4981999 4.740861  3.6328495\n",
            " 4.092591  4.844432  2.5443218 2.9303875 1.4573605 5.0843363 2.9643676\n",
            " 2.2101483 4.3585925 4.7407947 2.9686553 3.878744  3.6328492 2.181418\n",
            " 4.276273 ]\n",
            "Epoch 1 Batch 400 Loss [3.4708958 2.907014  3.7361407 4.3585343 2.907014  2.907014  3.6327739\n",
            " 3.1766062 3.0047987 2.907014  2.29943   4.360253  2.3514879 3.886237\n",
            " 1.5544631 3.662868  3.7075005 4.4139104 4.3585343 3.6327744 3.6327744\n",
            " 4.358535  2.907014  3.3168616 1.4796576 2.2231388 2.1833835 3.632774\n",
            " 3.383864  2.4676147 3.0154274 2.3910325 2.9070144 2.9881248 4.358535\n",
            " 3.632774  2.181254  4.8218627 2.4182596 2.2669468 1.4586782 3.6327744\n",
            " 3.3224578 2.2219691 3.6327739 3.0170658 4.358535  3.3139515 3.6741896\n",
            " 4.3585343 4.3585343 3.39229   4.3585634 3.0218983 4.466915  3.6327739\n",
            " 3.3440711 2.3253121 3.632774  4.8436155 3.6327739 3.6328037 2.9078627\n",
            " 3.6327739]\n",
            "Total training loss is [3.5894403 3.5391085 3.6244495 3.6003008 3.6192    3.6154308 3.6033657\n",
            " 3.5435078 3.6208887 3.537865  3.5780141 3.613585  3.555422  3.5793755\n",
            " 3.6411808 3.5850627 3.577275  3.5559876 3.6833289 3.6167316 3.6389215\n",
            " 3.512545  3.5868208 3.6065366 3.5122852 3.635504  3.5667014 3.5400515\n",
            " 3.623668  3.6156824 3.5870116 3.5328956 3.5692523 3.5456076 3.5604413\n",
            " 3.5685565 3.5376415 3.6166945 3.5996766 3.6239715 3.5893207 3.58482\n",
            " 3.5545928 3.5365312 3.610978  3.6279876 3.5936215 3.6703708 3.6117587\n",
            " 3.5337448 3.637355  3.6170452 3.6395404 3.6250663 3.535434  3.6143281\n",
            " 3.5356836 3.517659  3.5964053 3.607273  3.605431  3.5079675 3.5807495\n",
            " 3.588117 ]\n",
            "Total validation loss is [3.480979  3.4466827 3.347299  3.4762657 3.3904247 3.4397535 3.4684927\n",
            " 3.5760415 3.3278892 3.5401812 3.4391    3.4107487 3.4156494 3.4263747\n",
            " 3.5061269 3.3777819 3.4899755 3.4606724 3.4034052 3.367391  3.3741229\n",
            " 3.5059936 3.5455723 3.466009  3.4365814 3.659251  3.4760697 3.5089192\n",
            " 3.463696  3.50201   3.4768536 3.485198  3.5063844 3.4520884 3.5709057\n",
            " 3.5234869 3.3015656 3.548386  3.262007  3.5187712 3.4216995 3.5678492\n",
            " 3.4616134 3.4458117 3.4457774 3.478789  3.43197   3.4046676 3.418495\n",
            " 3.4477417 3.5285554 3.4564123 3.4732683 3.5679944 3.463869  3.410891\n",
            " 3.5741577 3.3682423 3.5057678 3.4295905 3.493592  3.2565606 3.3896825\n",
            " 3.4274259]\n",
            "Time taken for 1 epoch 59.32682418823242 sec\n",
            "\n",
            "Epoch 2 Batch 0 Loss [4.0812798 3.3909433 1.5026106 2.2380168 3.6326568 2.9068725 3.969524\n",
            " 4.3584414 3.632658  2.6528277 3.6326568 4.0812187 3.6326587 2.9068735\n",
            " 2.9068732 3.632658  2.9941032 3.6584468 5.5328293 5.084224  4.3584414\n",
            " 3.6326566 2.9068727 3.031363  3.6326568 2.181091  3.6326568 4.3584404\n",
            " 2.1821897 2.3763483 1.4570632 3.6326568 4.3584404 2.992876  3.6326566\n",
            " 4.35844   3.6326587 3.6326568 3.6326566 3.6326566 2.281301  3.6326566\n",
            " 2.6072507 1.4565448 3.728587  3.1897488 2.961403  4.807075  2.9068725\n",
            " 2.1823282 4.3584404 4.3584404 3.6326566 2.1810892 3.632658  3.6326568\n",
            " 2.9578357 2.327749  3.6326568 5.084226  4.4063168 3.6338997 3.6326568\n",
            " 3.6926029]\n",
            "Epoch 2 Batch 100 Loss [3.6324458 4.13964   3.632445  3.0910149 3.3988848 3.6324458 2.9074087\n",
            " 4.1324744 4.3582687 2.1992166 2.2234342 4.3582687 3.995029  3.6331756\n",
            " 2.3873193 2.9967887 4.358269  1.4549756 4.8494697 1.4571505 3.6531677\n",
            " 2.9066226 3.632445  4.3582506 2.9066036 2.9066036 4.3582506 4.3582687\n",
            " 1.4555253 3.6324458 3.6324458 2.9413555 4.4151506 3.8602428 3.6324272\n",
            " 2.9066036 3.632427  2.906622  4.3582506 3.6324272 2.9066036 2.9890993\n",
            " 2.180799  3.69361   3.9854689 3.893933  3.632445  3.7148724 2.906622\n",
            " 3.9483542 2.2409763 3.6324458 2.208568  3.3674803 3.9991684 4.065798\n",
            " 3.632445  2.2078018 2.9947288 2.9656827 2.7843359 2.909148  2.212097\n",
            " 2.1807983]\n",
            "Epoch 2 Batch 200 Loss [1.4912475 3.632632  2.1810396 3.632632  2.216578  2.184017  3.6668081\n",
            " 4.1386466 3.8609786 2.196981  2.9068363 2.9072456 2.9836173 3.3402548\n",
            " 2.9068365 2.1810403 4.3584285 3.6326323 2.9068365 3.6328464 5.084224\n",
            " 4.358428  2.906818  2.9418838 3.632632  3.6326327 3.632632  2.1810405\n",
            " 2.1810398 2.945446  2.219023  2.24223   2.2014189 4.260593  2.9439254\n",
            " 2.9068363 2.2367628 2.9068363 2.1824377 2.910073  3.6326327 5.084224\n",
            " 3.6326323 3.632632  2.1815827 3.0944304 4.3584285 2.1810398 2.940007\n",
            " 2.2582505 2.9461524 2.9068365 3.9893348 2.906836  4.3584285 3.6326327\n",
            " 3.632632  4.358411  3.9803712 2.1851563 3.6530166 3.6326327 3.6326327\n",
            " 4.7911897]\n",
            "Epoch 2 Batch 300 Loss [2.9064872 5.084039  2.906898  3.6323376 2.9064872 3.6323376 2.1826513\n",
            " 4.358188  2.1821754 3.6323373 2.2011375 2.180637  2.1920168 3.6323376\n",
            " 3.6330361 2.1806364 3.6327455 2.1806364 2.9064393 4.358188  3.632338\n",
            " 4.358188  3.6335244 3.6323376 3.63229   3.6323376 2.1806364 2.9064872\n",
            " 3.6323376 1.4553819 2.9078956 5.0840387 4.8454914 1.5073885 2.9064872\n",
            " 2.2320182 2.9064875 3.6323376 4.358188  1.4552544 3.63229   2.9075508\n",
            " 3.6323376 2.9064872 2.9559076 4.358141  2.2155738 3.6355407 2.286742\n",
            " 3.262504  2.907133  3.63229   2.2192008 2.998063  2.9064872 2.3833303\n",
            " 4.3581886 2.1806364 1.4705704 3.63229   2.4443932 5.084039  3.6323383\n",
            " 4.3581886]\n",
            "Epoch 2 Batch 400 Loss [4.3581514 4.900816  4.3581514 4.3581514 2.9064403 4.3580856 1.4552441\n",
            " 4.3580856 4.358086  4.3581514 2.9064403 4.3581514 3.6333663 2.9070568\n",
            " 2.2559931 3.6324787 3.6322303 2.9064403 2.9127576 3.6322963 4.3581514\n",
            " 2.906374  2.9064403 2.2581613 2.1805844 2.907083  2.1805844 3.632296\n",
            " 2.2061052 4.3581514 2.9368522 2.411909  4.726597  2.9064403 3.632296\n",
            " 3.6322298 2.9064403 4.358152  5.0840073 3.632296  2.1805844 4.358086\n",
            " 3.632296  2.9064405 3.632296  3.0294337 4.3580866 3.6737952 1.4555377\n",
            " 3.6322956 2.2040575 3.7029414 3.6322956 2.1805847 2.9064403 1.4566134\n",
            " 3.6331801 2.9084587 3.1438022 4.7178535 5.599445  5.379401  4.8965445\n",
            " 2.9067454]\n",
            "Total training loss is [3.3911512 3.4881048 3.4559536 3.4101906 3.4042473 3.4661908 3.513163\n",
            " 3.5515504 3.445351  3.5068107 3.4727612 3.408001  3.4207206 3.5252187\n",
            " 3.4407887 3.443099  3.4013696 3.4743373 3.5301602 3.464894  3.435538\n",
            " 3.4126544 3.4333513 3.5073748 3.448069  3.4699032 3.5152972 3.4691935\n",
            " 3.457447  3.4812171 3.492895  3.451819  3.4561443 3.5104854 3.4581382\n",
            " 3.4686506 3.438798  3.4370618 3.413018  3.4494293 3.421706  3.4470084\n",
            " 3.4948123 3.4478087 3.4314656 3.4707143 3.3630037 3.498412  3.446926\n",
            " 3.3939786 3.4634671 3.4209762 3.469409  3.3417974 3.4012244 3.398569\n",
            " 3.4640696 3.4845688 3.4354444 3.4635344 3.5071716 3.4652371 3.4851286\n",
            " 3.362428 ]\n",
            "Total validation loss is [3.4304879 3.492253  3.3894036 3.5030062 3.3980129 3.4560575 3.4152136\n",
            " 3.6394434 3.3556893 3.5575235 3.423936  3.4556684 3.4747005 3.4712613\n",
            " 3.5123034 3.4237018 3.5596325 3.5056942 3.4552007 3.3986413 3.4378157\n",
            " 3.5848572 3.5041802 3.503141  3.4333804 3.683693  3.4966815 3.5273085\n",
            " 3.4774384 3.4816282 3.4859366 3.5411363 3.5453274 3.4905121 3.5628946\n",
            " 3.5094495 3.3529072 3.5304117 3.3042524 3.5227778 3.4583466 3.5999768\n",
            " 3.5010378 3.4543602 3.4738925 3.488832  3.4339936 3.462995  3.4369016\n",
            " 3.4689753 3.5477118 3.471776  3.5233383 3.547132  3.4584875 3.4198585\n",
            " 3.590909  3.369106  3.5161903 3.4489682 3.4925582 3.2891347 3.4770052\n",
            " 3.4505978]\n",
            "Time taken for 1 epoch 44.59469795227051 sec\n",
            "\n",
            "Epoch 3 Batch 0 Loss [4.3580575 3.632175  3.155238  2.9098296 2.9164662 5.612842  4.3580575\n",
            " 3.741115  3.632175  4.3580575 4.3580575 4.3580575 3.6321743 6.340296\n",
            " 4.3580575 2.906292  2.18041   3.6321745 2.906292  4.4209595 1.4666302\n",
            " 2.906292  4.358057  3.6321743 3.632175  4.358057  4.358057  3.6698022\n",
            " 4.358057  4.88695   2.1804094 3.6320934 4.3580575 2.1804094 2.993206\n",
            " 3.632175  5.135882  2.8242793 2.2491667 4.3580575 3.632175  2.9062927\n",
            " 2.9991431 2.906292  2.906292  2.906292  4.358057  5.08394   3.632175\n",
            " 3.6781242 2.218682  4.358057  2.1804094 2.9062107 3.6321745 2.9062924\n",
            " 3.6321745 2.9062107 3.6609752 4.3580575 2.9062107 4.358057  2.9062107\n",
            " 4.3580575]\n",
            "Epoch 3 Batch 100 Loss [4.3580112 2.9143245 3.2338395 2.9450245 2.1847882 2.1877687 1.4777899\n",
            " 5.647026  2.9310482 2.9114056 4.358011  2.2499223 4.358011  2.180337\n",
            " 2.9062285 3.6321192 5.809793  3.633984  2.9062278 2.4265113 3.6321197\n",
            " 2.180337  2.9062285 3.6469355 5.0839033 2.9062285 3.465025  4.3579187\n",
            " 2.9062285 3.6321197 3.6321197 2.1811152 5.083902  3.6321197 3.6321197\n",
            " 2.1803374 2.9062285 4.358011  2.906228  3.6837196 4.358011  4.3579187\n",
            " 5.083902  2.180245  4.837025  3.8602605 4.358011  3.6321192 2.9062285\n",
            " 2.9062285 3.7912786 3.6321197 2.180337  5.083902  3.632635  4.067798\n",
            " 4.1557093 2.9439173 2.1827502 4.3580112 4.8906713 2.180337  1.4605936\n",
            " 4.357919 ]\n",
            "Epoch 3 Batch 200 Loss [3.3395386 2.183892  4.36013   2.9092796 2.2126844 2.1839015 3.634643\n",
            " 3.6347198 2.1842263 2.183519  4.3601255 3.6347234 2.9437053 2.9093082\n",
            " 2.2982445 2.979879  4.3601146 2.9093113 3.6352642 2.9093094 2.9898841\n",
            " 3.7289455 1.4669307 2.9270859 2.9093127 4.507222  3.930307  2.9093099\n",
            " 1.4871911 4.3601336 3.6960902 2.2061803 2.9090328 4.3600583 2.9966984\n",
            " 2.4077892 4.3601327 2.9092379 3.7564304 3.5286846 4.360061  1.4616294\n",
            " 2.1839023 3.6347225 2.909396  4.3600583 3.6347225 2.9093132 3.6347225\n",
            " 3.6346989 2.9093127 3.6347237 4.360134  2.1848342 3.6347225 2.9092376\n",
            " 2.9093099 2.9638155 4.729751  4.3600616 5.085544  3.6347215 3.6346488\n",
            " 2.9090629]\n",
            "Epoch 3 Batch 300 Loss [4.3581657 3.6323085 4.3581657 4.3581657 3.632309  5.0840225 3.632309\n",
            " 2.9064522 2.9064527 4.358083  3.6323094 3.632309  3.6323018 2.9063692\n",
            " 3.632309  1.5404878 2.9064522 4.238617  4.3581657 4.683137  2.9063692\n",
            " 3.0349731 2.9064522 2.195529  4.3581657 2.2010713 2.9603362 3.6323097\n",
            " 3.632226  2.9064522 3.7176566 2.9744282 2.9559762 3.632309  2.1959095\n",
            " 1.4547523 2.906452  2.9064522 4.358083  2.1960678 2.9064527 3.632309\n",
            " 2.9064522 2.9067364 5.0839396 3.632309  4.3368063 2.9064522 3.632309\n",
            " 3.6322265 2.3436544 3.632309  3.632309  3.632309  2.9078445 3.0239277\n",
            " 3.632309  2.1805959 2.1805956 2.9064522 3.6323094 2.939877  4.3581657\n",
            " 5.08394  ]\n",
            "Epoch 3 Batch 400 Loss [4.8779526 2.27775   3.632182  3.6320477 3.6320481 2.2150273 3.6320477\n",
            " 3.6320477 4.357956  2.9769707 4.357956  4.743887  4.357957  1.455555\n",
            " 4.357956  4.357844  2.1801198 3.6320477 3.8453186 2.9060276 4.357956\n",
            " 2.910337  4.357956  4.3578444 3.6320481 1.4545922 2.205076  3.6320472\n",
            " 2.9060276 4.357957  2.9061399 5.083864  3.6320484 5.083865  2.1802313\n",
            " 2.9061399 3.6320481 5.0837526 3.6321647 2.9061399 2.90614   2.906147\n",
            " 4.357956  4.917547  4.357957  2.90614   2.1811738 4.357956  3.69326\n",
            " 3.6320477 2.9185817 2.1802316 3.6319358 4.9040155 3.6319366 3.0214167\n",
            " 2.90614   2.9060276 2.3695548 3.7217555 3.6557136 2.9061399 2.9633203\n",
            " 3.6320477]\n",
            "Total training loss is [3.5173273 3.418456  3.5143778 3.4895437 3.360481  3.5154488 3.5048249\n",
            " 3.4969375 3.5201008 3.4697888 3.5487044 3.4832761 3.4836156 3.4123647\n",
            " 3.420461  3.480814  3.4112022 3.4802728 3.4764185 3.4648376 3.435168\n",
            " 3.424966  3.4500182 3.4703698 3.5339658 3.4839628 3.514687  3.4961553\n",
            " 3.5028124 3.4404392 3.4871802 3.464334  3.4306316 3.4736383 3.4703434\n",
            " 3.5061333 3.4156983 3.5397372 3.558382  3.4779215 3.4340408 3.52973\n",
            " 3.4762232 3.496843  3.4756243 3.5076916 3.452049  3.4944687 3.433449\n",
            " 3.465325  3.4657197 3.4635363 3.4767885 3.5169692 3.4010847 3.4857523\n",
            " 3.517151  3.4214938 3.405204  3.4654794 3.494703  3.5457869 3.495431\n",
            " 3.4116988]\n",
            "Total validation loss is [3.4725485 3.484721  3.3650577 3.5165021 3.440288  3.449612  3.4710245\n",
            " 3.6605651 3.3534677 3.5705605 3.4220545 3.480532  3.489336  3.4817069\n",
            " 3.5234976 3.4287264 3.5649107 3.5044744 3.4683015 3.4288073 3.411075\n",
            " 3.6162612 3.5230427 3.466078  3.4604838 3.6811051 3.5272028 3.5412922\n",
            " 3.4646616 3.5012019 3.5129962 3.5288424 3.5841184 3.483589  3.5661662\n",
            " 3.5409663 3.3435316 3.563641  3.3145626 3.5219107 3.4707804 3.6382787\n",
            " 3.5240295 3.4528558 3.5071585 3.5239828 3.4242222 3.4546225 3.4678092\n",
            " 3.4919896 3.5379884 3.4792953 3.5251508 3.5415912 3.4371986 3.4353054\n",
            " 3.5988867 3.3855915 3.509551  3.4513564 3.4816597 3.2891905 3.4715993\n",
            " 3.457948 ]\n",
            "Time taken for 1 epoch 43.84238815307617 sec\n",
            "\n",
            "Epoch 4 Batch 0 Loss [2.9059665 2.9062672 2.906119  4.357831  3.6318984 2.2371557 2.1799102\n",
            " 2.9059672 4.35783   2.952774  4.9387503 3.7097242 4.3901405 4.050903\n",
            " 4.35783   2.9059668 2.9061525 3.6318989 2.9061184 5.0836363 3.9289472\n",
            " 2.9059672 4.357705  2.1800358 2.182821  2.9094086 3.6318989 3.6318984\n",
            " 3.1860561 2.1799102 3.6318984 3.6318984 2.9058416 2.9059668 3.6317735\n",
            " 2.9059672 2.9059665 3.6318986 4.357831  2.9234138 4.357831  4.357705\n",
            " 2.9059672 4.357705  3.6318984 2.9058418 4.3644114 3.6318989 2.9059672\n",
            " 2.9058418 4.531645  2.9151511 2.9059677 2.9058414 3.6317737 4.357705\n",
            " 3.485773  2.9060905 2.9059672 2.9336538 2.9061763 4.17616   5.083637\n",
            " 2.9058416]\n",
            "Epoch 4 Batch 100 Loss [4.570924  3.6316173 4.357572  2.2616308 2.9055629 2.9056633 3.1307392\n",
            " 4.357572  4.357572  3.6316175 3.6800175 4.357471  2.1952515 3.2552364\n",
            " 2.905664  2.9324489 3.6316175 3.6316173 4.8537836 2.9063296 2.2065084\n",
            " 2.180164  3.631517  2.9055076 4.357572  5.80948   2.9056633 4.1868634\n",
            " 4.357471  3.631618  3.631618  4.357572  4.394328  2.9180794 4.3574715\n",
            " 3.2896733 2.918117  2.1800327 3.6316173 4.357572  2.9056633 3.6316173\n",
            " 3.631517  3.631857  2.9056633 4.357471  5.083526  2.956211  3.631916\n",
            " 2.9056633 4.1230135 3.6316173 2.9072003 1.4539843 4.357572  3.6316173\n",
            " 3.6316175 2.2015767 4.357572  2.905663  3.8052554 3.6332903 3.6316173\n",
            " 4.357572 ]\n",
            "Epoch 4 Batch 200 Loss [3.752752  5.083441  2.9056728 5.0859756 3.7868557 2.1797051 3.631637\n",
            " 4.3576035 3.6351879 3.631638  4.805181  3.6316366 3.6517894 2.1815639\n",
            " 4.0604715 2.9059424 4.3576045 2.194193  2.905671  3.631638  4.3574753\n",
            " 4.4017954 2.1797051 3.631637  4.3574753 3.8284454 2.9056716 3.6404681\n",
            " 2.1797054 3.6315095 5.083569  2.9095504 4.357475  2.9056706 3.631637\n",
            " 3.6604965 4.357604  3.6316383 4.357603  4.357603  3.6316366 4.3576035\n",
            " 3.631637  4.8776493 3.377959  4.357603  4.357354  3.070539  2.1799936\n",
            " 4.357604  3.6365469 4.3576035 5.8095355 3.051846  2.9056716 3.6971283\n",
            " 3.6315095 4.941083  3.6315095 3.6316385 4.2080994 3.6316366 3.6315093\n",
            " 5.7137356]\n",
            "Epoch 4 Batch 300 Loss [2.179583  3.6315436 3.631544  2.9061084 2.922545  5.0835056 4.357525\n",
            " 2.9055629 3.6316905 4.3575244 4.357402  3.631544  3.631544  2.9055638\n",
            " 3.6315439 5.0833836 4.903182  5.083507  3.631544  1.4542397 3.6315446\n",
            " 4.357525  4.884409  2.3448436 2.179582  3.6314209 3.6314216 2.179584\n",
            " 3.631544  5.0835066 2.1796665 3.6314218 3.6315436 3.6315448 3.7011886\n",
            " 3.6315436 4.3575244 3.6315432 2.9315486 3.6314216 3.6318214 2.1795819\n",
            " 3.6314216 2.247852  3.631545  2.9257107 2.2492723 4.3574047 3.4567058\n",
            " 3.6315446 3.631544  2.9054403 4.0788727 2.4963481 2.179582  4.357525\n",
            " 3.6315436 2.1795719 4.357526  3.6312969 2.9055634 1.4537468 2.240913\n",
            " 3.6315436]\n",
            "Epoch 4 Batch 400 Loss [4.357468  2.905545  3.631625  2.905664  3.6315064 3.650973  2.9056652\n",
            " 3.6316247 4.357586  2.9057708 3.631506  2.9056644 2.9056642 4.3575864\n",
            " 3.6315067 2.9056635 3.631625  4.357467  2.9054594 2.9056644 4.721767\n",
            " 2.9186974 3.6318185 3.631625  2.9057643 2.9056735 3.728606  3.631625\n",
            " 4.3919487 4.357467  4.357467  2.9056633 2.905664  4.9167557 4.3574677\n",
            " 2.9056635 3.6315064 2.9056642 2.905664  2.1797025 3.6315067 4.3575873\n",
            " 3.6315067 3.6316247 3.631626  3.6942325 3.631507  2.1797032 1.4640913\n",
            " 2.905545  3.631625  4.3575864 2.9057796 2.9058447 2.1797254 4.357586\n",
            " 2.1797023 2.1915052 3.631625  4.357587  4.357586  2.9056644 2.905545\n",
            " 3.6316237]\n",
            "Total training loss is [3.4781823 3.4794912 3.4369533 3.5105853 3.4944797 3.4841518 3.4673533\n",
            " 3.4661613 3.5029223 3.4833267 3.497212  3.4940212 3.4731183 3.5709202\n",
            " 3.5101202 3.5349512 3.4632075 3.4986212 3.4951286 3.4726515 3.5070782\n",
            " 3.5648777 3.4794533 3.4260027 3.4914997 3.527922  3.4976604 3.4828935\n",
            " 3.5114152 3.5046575 3.530674  3.5135484 3.4363852 3.5457988 3.510678\n",
            " 3.4593859 3.5013754 3.4848692 3.5455172 3.5088546 3.5083594 3.509983\n",
            " 3.4614851 3.4546888 3.4951668 3.5026586 3.4861565 3.5331671 3.5681472\n",
            " 3.4960651 3.527426  3.4845066 3.526752  3.5027258 3.4942145 3.5551732\n",
            " 3.4907298 3.5378072 3.5514343 3.526837  3.5067537 3.5073574 3.51886\n",
            " 3.5050578]\n",
            "Total validation loss is [3.49212   3.5250394 3.3854506 3.5400655 3.448703  3.4722123 3.516561\n",
            " 3.6831686 3.3971884 3.6135924 3.466533  3.5153415 3.5261803 3.4894173\n",
            " 3.5678353 3.47218   3.5514493 3.5870864 3.5004556 3.4537346 3.424356\n",
            " 3.6251771 3.5511923 3.506042  3.476363  3.704568  3.5700397 3.5568192\n",
            " 3.4982002 3.518067  3.5670085 3.55961   3.607769  3.5449069 3.5989747\n",
            " 3.5883546 3.3829613 3.5838292 3.3403661 3.5458531 3.4892457 3.6511564\n",
            " 3.5556056 3.484094  3.5240595 3.5355005 3.447704  3.466141  3.4758983\n",
            " 3.5173025 3.5930011 3.4861574 3.566266  3.5750191 3.4674964 3.4520452\n",
            " 3.6240294 3.440818  3.5423102 3.4689255 3.5166802 3.3281019 3.5185332\n",
            " 3.511061 ]\n",
            "Time taken for 1 epoch 44.20579195022583 sec\n",
            "\n",
            "Epoch 5 Batch 0 Loss [3.63152   3.6316857 3.6436481 3.6315188 3.0607166 5.083478  4.357497\n",
            " 2.9054203 3.6315188 2.3549612 4.357497  3.6315181 3.6315181 4.874037\n",
            " 4.8073215 2.1795595 2.1795597 2.9055395 3.4413605 4.3574977 4.357499\n",
            " 2.9054203 4.3574977 2.9055393 3.6315181 4.3574977 3.6315181 3.4099956\n",
            " 2.9055393 2.9056766 3.6314006 3.6315184 2.9055393 2.4858096 3.6315181\n",
            " 2.905539  3.6315181 4.35738   4.3574977 3.8283567 1.4537233 4.167474\n",
            " 3.6315193 2.9055393 3.6315184 3.631519  2.245178  2.1796036 4.357497\n",
            " 2.9056098 3.6313999 4.357379  2.1796184 3.6315184 2.9055386 3.6315181\n",
            " 3.6315181 4.3574986 2.3454356 2.1795597 3.6315188 3.6315184 3.6313999\n",
            " 2.9053288]\n",
            "Epoch 5 Batch 100 Loss [2.19087   2.9054499 2.9054508 3.6314418 2.9054499 2.2093363 3.6314418\n",
            " 3.6314416 2.179459  2.9054518 3.631441  2.9054508 2.9054508 2.9054945\n",
            " 2.1805892 3.631442  2.9057224 3.6314425 3.6314418 3.6314416 4.357434\n",
            " 3.6314418 3.6314425 4.1154337 3.6314425 4.357433  4.357436  3.631443\n",
            " 3.6314416 3.6313264 2.9262142 4.115488  4.142324  2.9054513 3.6313267\n",
            " 4.3574347 3.6315238 2.1881337 4.357434  4.3574343 2.9054515 2.229414\n",
            " 2.1797016 3.631441  4.3574333 2.179458  3.631441  4.357433  3.6314425\n",
            " 2.9054499 3.6314418 2.1797051 4.3574333 2.9059074 2.9054499 3.6314425\n",
            " 1.4623083 3.6314418 2.1794581 3.631441  2.9054523 5.083425  4.8437667\n",
            " 4.8739705]\n",
            "Epoch 5 Batch 200 Loss [3.6313865 4.357383  5.809273  3.6312702 4.3573833 2.1792712 1.4544061\n",
            " 4.1419888 2.179383  3.6313827 4.8125715 2.905383  3.631382  3.6313853\n",
            " 3.6313827 2.1794677 2.9052691 2.9053817 2.9053829 4.3573856 2.1794405\n",
            " 4.357383  2.9053826 5.083272  4.3573833 3.795023  2.9052696 3.6313827\n",
            " 2.9053822 3.6313848 3.6313827 5.560264  4.3572702 3.6312702 3.6313827\n",
            " 3.6313834 3.631382  4.3573875 2.9053845 3.631271  3.631384  5.594806\n",
            " 2.905383  4.4159317 4.357385  3.6313834 4.4141207 3.631382  3.631384\n",
            " 3.6313825 3.6313827 2.9052691 2.9639406 2.937331  2.905382  4.357271\n",
            " 3.63127   2.1793842 3.631382  3.631383  3.6313825 3.6313844 4.357383\n",
            " 2.196905 ]\n",
            "Epoch 5 Batch 300 Loss [2.905424  2.9053411 3.6315124 2.9055347 2.9056387 2.9056911 2.179553\n",
            " 4.3574915 3.6315117 2.1796293 4.3574924 2.1796432 2.1969783 3.6314006\n",
            " 5.6023254 3.631513  5.0833564 2.9061153 5.0834675 4.357491  2.9055367\n",
            " 2.9379869 4.3574915 3.631513  3.631513  4.3574934 2.905539  3.6315124\n",
            " 5.0834694 3.6316223 3.631513  2.1795557 4.3574905 3.6315117 5.0834675\n",
            " 3.6315145 2.9055345 2.9054947 2.9055355 2.9055371 2.9055362 4.357378\n",
            " 3.631515  2.9056773 3.6315112 4.357379  2.179556  4.3574924 4.3574934\n",
            " 3.631514  3.6315122 3.631514  3.4445395 5.083467  2.9055347 4.3574905\n",
            " 4.35749   3.6315174 3.6315162 3.6315114 2.9086444 3.6315143 4.8896303\n",
            " 3.6314015]\n",
            "Epoch 5 Batch 400 Loss [2.9055736 4.135465  4.3575287 3.6315506 2.9271755 3.6460671 3.6315384\n",
            " 2.9130034 4.357526  4.3575263 3.6317098 4.3575697 3.683083  4.357519\n",
            " 3.6315362 2.1951911 2.1795578 3.6313868 3.6313891 2.9965122 2.909849\n",
            " 2.9055297 1.4536307 2.9056354 3.631541  3.6315289 4.3573875 2.9055517\n",
            " 3.6315665 3.631537  4.3575225 3.631538  4.357383  3.6315422 4.35738\n",
            " 2.9052405 2.1795757 2.9055572 2.905545  4.3575244 3.6686924 4.3575497\n",
            " 2.1795483 2.9055412 4.357577  2.9055405 3.631525  3.2856517 2.9055634\n",
            " 2.905571  2.9055552 2.9055996 3.6315365 3.6315303 2.905547  3.631526\n",
            " 3.6315212 3.6315258 4.128149  2.9055457 3.4106631 3.6315668 3.6316218\n",
            " 2.9055488]\n",
            "Total training loss is [3.557113  3.5708835 3.5575566 3.5325325 3.501047  3.5077484 3.4980185\n",
            " 3.4567356 3.5134206 3.515127  3.5068233 3.4954152 3.4654267 3.531106\n",
            " 3.5066128 3.5676374 3.5121217 3.516407  3.5211012 3.5215986 3.5768836\n",
            " 3.5173604 3.5155962 3.5638547 3.513308  3.5512953 3.4993968 3.5679736\n",
            " 3.4960144 3.5795858 3.4543326 3.5391421 3.5361457 3.5208712 3.5270033\n",
            " 3.4898586 3.490797  3.552446  3.4878817 3.5432935 3.5548725 3.5447068\n",
            " 3.525678  3.518226  3.501547  3.4821413 3.5192873 3.5146759 3.4682915\n",
            " 3.4726446 3.4855862 3.4764426 3.4968472 3.543246  3.5065086 3.5078726\n",
            " 3.5614812 3.5823069 3.49725   3.5316963 3.475148  3.5204031 3.5168219\n",
            " 3.5375893]\n",
            "Total validation loss is [3.5411584 3.5463789 3.411092  3.5731447 3.4888835 3.4888906 3.538059\n",
            " 3.7268054 3.4220304 3.6293402 3.476623  3.5135875 3.5440035 3.50838\n",
            " 3.5777159 3.458667  3.5616798 3.6096196 3.537588  3.4690816 3.435036\n",
            " 3.6091008 3.5936406 3.515527  3.4999197 3.7170134 3.582612  3.5684097\n",
            " 3.5236278 3.538372  3.5943975 3.5725548 3.6495543 3.5591543 3.6212213\n",
            " 3.6008544 3.3814864 3.6065748 3.37675   3.558193  3.4984598 3.6661448\n",
            " 3.5364704 3.5376716 3.5430808 3.5812345 3.4808493 3.4934866 3.4867861\n",
            " 3.5365846 3.6112268 3.519163  3.5637865 3.6026242 3.5172012 3.4681277\n",
            " 3.654898  3.4402769 3.5553443 3.5153008 3.5448453 3.3170483 3.5172176\n",
            " 3.5238993]\n",
            "Time taken for 1 epoch 44.21054220199585 sec\n",
            "\n",
            "Epoch 6 Batch 0 Loss [3.6313446 2.1794956 3.6315022 5.0834894 3.631485  4.357338  3.6315134\n",
            " 3.631485  5.0834846 3.6313446 2.1796558 4.357479  4.357351  2.179655\n",
            " 2.9054794 2.179512  3.6315238 2.905547  2.905521  1.4534869 2.9468324\n",
            " 3.631473  2.905498  2.179482  4.357215  4.357481  5.0835104 3.6312084\n",
            " 3.631515  2.1794877 5.0833354 5.083471  2.2077956 2.905503  3.6313434\n",
            " 2.1803994 4.3574896 3.6422434 3.6315565 3.6314788 2.1802278 3.6315074\n",
            " 2.9054897 3.631484  4.3574862 4.3574767 4.3574743 3.631494  2.1954203\n",
            " 4.357505  2.9054942 2.9055736 4.357474  4.3574896 2.9056787 2.905508\n",
            " 2.9053473 4.3574896 2.9053695 4.357475  3.6314857 4.3575325 4.357332\n",
            " 2.1954803]\n",
            "Epoch 6 Batch 100 Loss [2.9053779 3.631379  4.3574047 2.9052513 3.6314158 2.1793675 2.9052486\n",
            " 4.357402  5.083419  2.9053743 2.9053721 3.8584533 4.3573914 4.3573823\n",
            " 2.1795883 2.9053707 4.3574095 3.6313875 2.9054737 4.357383  3.6313853\n",
            " 2.9053884 3.6313915 2.9053664 4.079755  3.6313837 2.9053733 4.3573923\n",
            " 3.6313949 3.6312494 4.3573837 2.905378  5.083394  3.6636786 2.1795669\n",
            " 2.9053893 4.357393  4.357406  2.9053674 5.0833945 3.6560621 2.9053762\n",
            " 2.9053867 1.4534333 3.6313772 3.6812952 4.3573866 3.631377  2.905239\n",
            " 4.3573895 2.9053855 2.179376  3.631379  2.17945   2.9053695 2.1794562\n",
            " 4.357401  4.3574066 5.08327   4.3573947 2.905131  2.9054713 2.905374\n",
            " 3.6313932]\n",
            "Epoch 6 Batch 200 Loss [4.742403  4.3574266 2.1793094 4.357337  4.7852073 3.631206  4.357354\n",
            " 3.6313293 3.6313381 3.6313257 4.3573685 3.6313503 2.9053268 2.1793218\n",
            " 3.6312084 2.9053524 2.1793017 3.6313283 5.083347  2.9051929 5.0833507\n",
            " 3.6312146 4.357356  4.357369  2.179305  2.9080856 2.1793036 3.6313248\n",
            " 4.35734   2.905386  4.357235  3.6313474 2.905319  3.6312053 3.631337\n",
            " 4.042304  2.905317  2.9053283 3.6313477 4.3573494 3.676419  3.6313539\n",
            " 4.357354  2.1793113 3.63134   3.6313515 3.63134   3.6312065 5.809389\n",
            " 3.6313338 2.9055061 2.9053206 3.6313396 5.083361  2.1793084 2.9053226\n",
            " 2.910834  3.6313388 3.6313477 3.631337  3.631211  2.9053197 5.083351\n",
            " 3.3384387]\n",
            "Epoch 6 Batch 300 Loss [3.28081   2.179522  5.083258  2.90555   3.6311774 3.6314244 2.9052625\n",
            " 4.3573895 2.905362  4.357396  2.9052598 2.1794872 3.631372  4.3573704\n",
            " 2.9053702 2.9054    4.357398  2.9053798 4.35737   2.9053733 2.9053934\n",
            " 2.1794655 2.9053707 3.631393  2.9056926 5.083392  5.0832663 5.083393\n",
            " 3.631391  3.6313777 4.3574142 2.179387  4.3573885 4.357261  4.357373\n",
            " 2.9051757 3.6312752 3.787239  4.3573756 4.3574166 2.9053993 1.4536183\n",
            " 4.357384  4.3573914 3.631379  2.905379  4.3573675 2.9052553 3.6313903\n",
            " 3.6313856 3.631177  2.1793602 2.905253  3.631382  3.631256  3.6313653\n",
            " 3.6312594 3.6312551 3.6313694 2.90536   2.9058266 2.905252  2.1794624\n",
            " 1.4534626]\n",
            "Epoch 6 Batch 400 Loss [4.357297  2.1792598 2.905285  4.3573055 3.631279  3.6312835 3.6313052\n",
            " 2.905283  2.929881  2.9052942 4.357301  2.1792479 3.6313884 3.6312873\n",
            " 3.6312866 2.905276  2.179547  2.179261  5.083314  5.08333   2.9052787\n",
            " 3.6312847 4.3573227 5.0833263 3.6312847 2.9052787 4.3573084 3.6312838\n",
            " 1.4533685 4.357188  3.6312835 3.631279  4.3573127 2.1792877 2.905282\n",
            " 4.357301  4.3572993 3.6312852 4.357301  4.3573112 3.6313019 2.9051552\n",
            " 3.631171  3.6312919 3.6312854 2.179249  3.0339735 4.200507  4.3573027\n",
            " 4.3573027 4.357193  3.63129   5.083333  2.1793916 2.9052677 5.0832043\n",
            " 3.6312816 2.1792526 2.9052792 4.3573155 3.6312943 3.6312943 3.6312943\n",
            " 3.631457 ]\n",
            "Total training loss is [3.5805764 3.5002482 3.5667305 3.5546446 3.5525231 3.5224342 3.547259\n",
            " 3.5511005 3.4740276 3.521839  3.5929692 3.57666   3.5289419 3.5224895\n",
            " 3.620628  3.510213  3.5818813 3.458582  3.5442965 3.5433476 3.542404\n",
            " 3.564858  3.4855285 3.5344737 3.517606  3.5884867 3.567329  3.5964756\n",
            " 3.5266964 3.5339792 3.524225  3.583792  3.5926304 3.5591056 3.625481\n",
            " 3.5464237 3.5026646 3.549717  3.5132136 3.5120695 3.5304637 3.5125754\n",
            " 3.56281   3.517526  3.5982287 3.523035  3.4794137 3.5048437 3.574463\n",
            " 3.525389  3.5099204 3.556174  3.5626185 3.5826626 3.5119214 3.5244694\n",
            " 3.5127573 3.5109603 3.5416532 3.5697243 3.5198877 3.550391  3.5414586\n",
            " 3.5434728]\n",
            "Total validation loss is [3.5780237 3.5417562 3.4207573 3.5828443 3.4998248 3.5022037 3.5387754\n",
            " 3.7294836 3.4356709 3.6692646 3.4599972 3.5120811 3.5647461 3.5339148\n",
            " 3.5838885 3.464869  3.5943534 3.623132  3.53562   3.4807832 3.445154\n",
            " 3.615962  3.6038573 3.5374641 3.5251348 3.7408223 3.6011636 3.585517\n",
            " 3.5394394 3.5414052 3.6146064 3.5923998 3.6746995 3.5573647 3.6360974\n",
            " 3.594337  3.3932161 3.6233017 3.3925788 3.5741067 3.5055735 3.6923814\n",
            " 3.5604894 3.5553172 3.5379257 3.582432  3.525251  3.5065808 3.499693\n",
            " 3.5442595 3.6068337 3.5504975 3.5970497 3.6128209 3.5242066 3.489851\n",
            " 3.6721396 3.4390042 3.5549066 3.518269  3.5584188 3.3489957 3.5189114\n",
            " 3.5438566]\n",
            "Time taken for 1 epoch 44.2466025352478 sec\n",
            "\n",
            "Epoch 7 Batch 0 Loss [3.6312416 4.357291  2.1796412 4.357156  5.8092074 3.6312444 3.6310298\n",
            " 4.357258  4.357259  4.3571553 2.9869332 3.6310432 2.179391  5.0832977\n",
            " 3.6312447 2.929468  2.1791925 4.357276  4.3572645 3.6313343 3.6312385\n",
            " 4.3571544 2.1791897 4.3572807 2.1791887 2.9052162 2.1792984 4.3572702\n",
            " 2.9052265 3.6311347 2.9052474 2.1793725 3.6312454 5.083182  2.1793432\n",
            " 3.631249  4.3572693 2.9052112 2.179192  3.631235  5.083177  2.9052083\n",
            " 2.9052067 4.357063  3.6311316 1.4532827 3.6312473 3.6311328 3.631251\n",
            " 2.9052198 4.3571577 4.3572936 3.631254  4.3572683 2.1792035 3.6312358\n",
            " 4.357278  4.3572655 5.083284  2.9051197 3.631127  2.9052248 4.3572636\n",
            " 2.90521  ]\n",
            "Epoch 7 Batch 100 Loss [2.9054728 1.4535536 1.4533919 5.0833116 3.6314209 2.1793518 4.3575\n",
            " 3.6313522 2.1793747 3.631414  4.357296  3.631413  2.9056053 3.6313872\n",
            " 5.083301  4.3573976 2.9053714 3.6313705 2.9056165 4.11022   4.3573413\n",
            " 2.9054468 3.631353  2.1794357 2.9054432 3.6314075 2.905325  2.9054775\n",
            " 3.631442  5.0834136 3.6314206 3.6313286 2.179397  2.1795168 2.9053926\n",
            " 3.6313846 2.179377  3.6314056 2.1793191 5.083452  4.3574066 2.9055347\n",
            " 3.6313815 2.9054458 4.3573294 3.6313124 2.9053478 2.9053187 3.6312804\n",
            " 1.453799  2.1796608 4.3574286 4.3573585 2.1793225 2.179335  4.357397\n",
            " 4.357415  2.1792755 2.9054077 2.905381  5.083326  3.6314602 2.905466\n",
            " 3.6313858]\n",
            "Epoch 7 Batch 200 Loss [4.357236  4.514383  4.3571424 3.6312168 3.6312137 3.6312122 4.357238\n",
            " 3.6312158 5.083255  4.357234  3.631213  4.357235  3.6312158 2.905192\n",
            " 4.357236  1.4533937 4.3572326 3.6312118 2.1792698 2.9051929 4.3572316\n",
            " 2.1793828 2.9051912 2.9051902 2.9052837 3.6312118 2.9053245 4.3571415\n",
            " 4.357234  2.9052951 3.6311195 3.6312122 2.905191  3.631351  4.357236\n",
            " 2.905193  2.9051952 2.9052997 3.631216  3.631216  2.9051924 3.631216\n",
            " 2.905191  3.6312137 3.6312141 2.9051914 2.905313  4.3572364 3.6312122\n",
            " 3.6312137 2.9051921 3.6311188 3.631212  3.6312149 3.631213  2.905194\n",
            " 2.179301  3.6312149 2.9462097 4.357237  5.0831633 1.4531492 4.357236\n",
            " 4.357235 ]\n",
            "Epoch 7 Batch 300 Loss [2.90515   2.1791592 4.3572    2.9051464 2.9051445 2.179385  4.357044\n",
            " 5.0832295 4.3572035 4.3571076 3.6310806 2.905054  2.1791184 3.6310806\n",
            " 3.631174  3.6311748 2.9051485 3.6310813 3.6313198 4.3572    3.6311748\n",
            " 4.3571997 2.1791172 4.357202  4.3572    2.9051454 3.6311722 4.3572006\n",
            " 5.0832286 4.357202  3.631174  2.1792483 2.9051456 2.1791952 2.9051442\n",
            " 3.631083  3.6311717 4.357108  1.4532397 2.1794329 4.3572006 4.3571987\n",
            " 4.3572006 3.6310802 3.6311731 2.184812  3.631172  2.1793303 2.9051442\n",
            " 3.6311717 4.357202  3.631174  4.357108  5.083133  4.357198  3.6311736\n",
            " 4.3572016 3.631848  3.631173  2.1791182 2.1791177 3.6311722 5.083227\n",
            " 3.631174 ]\n",
            "Epoch 7 Batch 400 Loss [3.631192  3.631068  4.357216  2.9051533 2.9051533 4.357215  3.631185\n",
            " 3.631186  3.631186  2.905037  4.357217  4.357099  4.357215  3.6311827\n",
            " 5.0831337 4.3570986 3.6311812 2.9051495 3.6311798 2.905149  3.6311889\n",
            " 3.631184  3.631184  5.0831337 2.179118  3.6311815 3.6311798 2.9051495\n",
            " 3.6310673 5.083251  2.905149  2.905318  3.6311815 2.9051528 4.3570995\n",
            " 2.905338  3.631185  2.9049525 2.905149  2.905151  5.0832434 2.9051483\n",
            " 3.6311827 3.6311815 3.6311822 2.1791167 3.6311798 4.3572135 1.453235\n",
            " 3.6311808 3.6311862 2.1793628 2.1791162 2.1792126 5.0831313 3.631185\n",
            " 3.6311822 4.357213  2.1791186 2.1793861 2.1969957 3.6311824 4.3572154\n",
            " 4.3572135]\n",
            "Total training loss is [3.631438  3.577036  3.575218  3.5911727 3.5666661 3.538687  3.534876\n",
            " 3.5873306 3.5768535 3.5182583 3.484775  3.5344439 3.5250793 3.5695908\n",
            " 3.556957  3.596711  3.5173051 3.522717  3.544838  3.5113955 3.5692036\n",
            " 3.5953567 3.5639398 3.5434859 3.505342  3.4985964 3.5420475 3.5739183\n",
            " 3.532385  3.5616345 3.5610952 3.511739  3.5353825 3.5451503 3.5570452\n",
            " 3.568332  3.5418687 3.5111918 3.5375865 3.554434  3.5542939 3.58786\n",
            " 3.5918376 3.6049688 3.5897405 3.4914305 3.5445604 3.5608075 3.5958352\n",
            " 3.5755432 3.4833434 3.6142187 3.5323071 3.5244355 3.5699682 3.577563\n",
            " 3.5511057 3.4988368 3.5018904 3.5765822 3.5450222 3.537812  3.586839\n",
            " 3.4969099]\n",
            "Total validation loss is [3.5602596 3.5536776 3.4353461 3.5684488 3.494149  3.4983563 3.557343\n",
            " 3.726213  3.42357   3.6577506 3.4681067 3.5222344 3.5663347 3.5314221\n",
            " 3.5965211 3.4741614 3.5930552 3.614998  3.5293736 3.4787784 3.453841\n",
            " 3.6140954 3.6198509 3.539233  3.5319252 3.7336833 3.594127  3.5848382\n",
            " 3.5404475 3.5424666 3.6248791 3.605864  3.6812484 3.5651731 3.6273103\n",
            " 3.5917516 3.401165  3.6244376 3.394905  3.5765076 3.5121427 3.6840353\n",
            " 3.576161  3.553694  3.5371175 3.5909076 3.5219893 3.5023367 3.501588\n",
            " 3.5418112 3.6195962 3.5630624 3.5898716 3.6331973 3.5441217 3.4928603\n",
            " 3.6721103 3.4446256 3.5679862 3.5109587 3.5728197 3.3452742 3.512817\n",
            " 3.544324 ]\n",
            "Time taken for 1 epoch 43.725027084350586 sec\n",
            "\n",
            "Epoch 8 Batch 0 Loss [4.357182  4.3571796 3.631145  4.3571787 4.3571815 3.6311424 4.357179\n",
            " 3.6311479 3.6311471 2.9050026 3.6311529 2.179075  3.6311443 3.6311455\n",
            " 2.179069  4.357073  2.9051075 2.905109  3.6311493 3.6311462 2.9051075\n",
            " 2.905109  2.9051082 3.6311443 4.3571815 1.4531893 2.1790748 3.631148\n",
            " 3.6311474 3.6310422 3.6311498 3.6311488 3.631147  5.0832257 2.9051108\n",
            " 4.3571825 2.1790745 4.3571854 4.3570747 5.0832205 2.9908304 3.6310387\n",
            " 2.1792183 4.3570766 3.630958  4.3571825 2.9051118 3.631143  4.3571825\n",
            " 2.9051127 2.1802263 2.9053497 3.6311433 3.6311455 2.1790724 4.3570747\n",
            " 5.083229  2.9050033 2.9051757 4.357179  3.6311488 3.631147  2.905111\n",
            " 5.0832195]\n",
            "Epoch 8 Batch 100 Loss [5.0833273 3.6313207 4.3573227 3.631321  4.357311  2.9053676 2.179362\n",
            " 4.3573284 2.9053173 4.3573327 2.9053116 4.3573236 2.9053268 2.9051905\n",
            " 1.4536281 2.179395  3.6313343 4.3573337 2.905418  4.357333  3.631374\n",
            " 2.9053276 2.9054317 2.9053154 2.9053285 2.9051924 3.63133   3.6313283\n",
            " 3.6313121 2.9053173 3.6313224 4.357336  2.9092798 3.631191  3.6311958\n",
            " 3.6311889 1.5601982 3.6313286 3.6313386 4.3573284 2.9053264 4.3573246\n",
            " 3.6313243 4.3571963 4.3573313 3.6313305 3.6311872 4.357311  5.0833273\n",
            " 4.357173  3.631328  5.0833325 2.9053302 4.3573265 2.9053235 3.6313198\n",
            " 2.9053478 2.1794024 3.631317  4.076005  2.9053254 3.6313236 3.6311784\n",
            " 4.3573294]\n",
            "Epoch 8 Batch 200 Loss [3.6312664 3.631258  1.4531908 3.6312587 5.0833054 1.4532697 3.6313052\n",
            " 1.4532773 3.6313047 3.631246  2.9052434 4.3572702 2.9052258 2.9052358\n",
            " 2.90525   4.3572626 4.357278  3.6312435 2.9052315 4.3572936 2.1792092\n",
            " 2.9052339 3.6312509 2.179268  3.6312475 3.6312518 2.9052246 4.357274\n",
            " 4.3572974 3.6312504 2.1881056 2.909883  5.0832763 4.3572707 2.9052277\n",
            " 5.0832253 2.179278  3.6312456 5.0832787 2.905264  3.631248  3.6312509\n",
            " 4.3572726 4.621082  4.357274  2.1792164 3.6312435 4.3572555 4.3572693\n",
            " 3.6313179 2.9053159 3.63137   3.6312537 2.9052258 2.9057415 4.357258\n",
            " 4.3572702 2.1793191 4.3572874 2.9052377 3.6312542 2.179208  2.9053094\n",
            " 3.6312408]\n",
            "Epoch 8 Batch 300 Loss [4.3570895 3.6311378 5.0832005 3.6311405 4.3570952 3.6311355 3.631134\n",
            " 3.631135  4.357088  3.6312346 3.6310601 4.357172  5.0832005 3.6311412\n",
            " 3.6311274 2.1791534 4.3571825 3.6311374 3.6311393 5.0831203 4.35717\n",
            " 4.3571715 4.3570833 3.6311374 4.357173  2.905105  4.3571644 2.905027\n",
            " 2.1790767 4.357178  2.9051015 3.6311386 3.6311283 3.6312885 5.083123\n",
            " 3.6311388 3.6311958 2.907311  4.3571734 4.3571734 2.905099  3.6311417\n",
            " 2.9050307 2.9054852 2.9051006 4.357175  4.357175  4.357089  4.357166\n",
            " 3.6311374 2.9051025 4.357168  2.9050994 4.357087  4.3570976 3.6311347\n",
            " 2.9050996 2.1789947 2.1790693 3.6310585 2.9050243 2.9051056 3.6311374\n",
            " 2.1791828]\n",
            "Epoch 8 Batch 400 Loss [3.631092  4.357122  3.6310139 3.6312532 2.9050434 3.631083  2.9050426\n",
            " 3.631083  2.9059787 2.9051542 4.35713   4.3571196 4.3570476 3.6310062\n",
            " 2.9050465 4.357137  2.1791816 4.3569717 3.6310806 3.6310863 5.083172\n",
            " 4.357129  3.6310825 3.6310108 2.179162  2.179074  3.6310883 4.357135\n",
            " 2.179009  2.9052463 4.357129  3.6310823 3.6310794 2.9050426 4.35713\n",
            " 2.905044  2.905048  2.9051108 2.9050415 4.357126  3.6310897 2.9050453\n",
            " 5.083088  2.905048  3.6310916 3.6310859 3.6310873 5.083178  3.631082\n",
            " 2.9050446 3.6310852 3.631089  5.083175  3.6310842 2.905047  2.9049642\n",
            " 2.9048972 3.6310096 3.631087  2.9050415 3.6310928 4.357132  4.357128\n",
            " 2.9050443]\n",
            "Total training loss is [3.5790174 3.628543  3.528855  3.582002  3.5380363 3.594927  3.4882417\n",
            " 3.5330682 3.4754045 3.5738776 3.5294104 3.5354192 3.5192153 3.578631\n",
            " 3.5633879 3.5433617 3.5761695 3.5772989 3.5751011 3.560875  3.5396876\n",
            " 3.6015391 3.52863   3.4421291 3.570547  3.5464184 3.548689  3.5206325\n",
            " 3.5597432 3.5545142 3.5150673 3.5650659 3.5595806 3.5946128 3.5829008\n",
            " 3.5491793 3.6082754 3.443862  3.491851  3.521729  3.4883604 3.58101\n",
            " 3.544263  3.5040681 3.5408192 3.5619135 3.595791  3.6042871 3.5112264\n",
            " 3.5910852 3.519996  3.570012  3.4871502 3.5740478 3.5946128 3.6087306\n",
            " 3.5174336 3.5579674 3.587787  3.5561903 3.5658748 3.5623517 3.5569248\n",
            " 3.6275823]\n",
            "Total validation loss is [3.550114  3.539621  3.4346504 3.5560598 3.491261  3.5051367 3.5491405\n",
            " 3.7257545 3.4275043 3.6276953 3.484819  3.533823  3.5602105 3.5471277\n",
            " 3.5948026 3.4729028 3.5867178 3.6170225 3.534058  3.4834046 3.4449942\n",
            " 3.6183164 3.6121647 3.546613  3.524557  3.719734  3.622711  3.5863643\n",
            " 3.5487533 3.5360591 3.622207  3.596691  3.6683643 3.5571394 3.6307173\n",
            " 3.5978131 3.4038014 3.6160364 3.395058  3.5590777 3.5285416 3.6951616\n",
            " 3.5652137 3.5368824 3.5270262 3.589371  3.5121212 3.5183406 3.4981074\n",
            " 3.5513523 3.617978  3.559926  3.5943518 3.6368313 3.5520208 3.5175025\n",
            " 3.6751068 3.455824  3.5629    3.5142994 3.5582101 3.3412662 3.5168257\n",
            " 3.5459259]\n",
            "Time taken for 1 epoch 44.44037079811096 sec\n",
            "\n",
            "Epoch 9 Batch 0 Loss [3.6310525 2.904933  3.6309757 3.6309724 2.9049346 3.6309786 2.9050126\n",
            " 3.6310582 2.905014  2.9050128 5.0830693 3.6310496 3.631061  2.9050128\n",
            " 3.6310592 3.6310573 3.6310525 2.9050145 2.9050074 3.6310604 5.083144\n",
            " 2.1792078 2.9051476 2.9246197 2.178968  2.905012  4.357105  3.6310587\n",
            " 2.9097135 3.6310585 4.357101  3.6310606 4.3570232 2.9050155 3.6309783\n",
            " 3.6310537 2.1789641 4.3570986 2.9050128 4.3570976 3.6310568 3.6309764\n",
            " 3.6309776 4.357106  3.6309776 4.357101  5.0831447 3.6310604 3.6310556\n",
            " 2.9050083 4.3571053 4.3571005 3.6309764 4.3571    4.357028  3.6309814\n",
            " 3.631054  2.179144  2.9050102 4.357104  4.357107  3.6310558 3.6310573\n",
            " 5.083066 ]\n",
            "Epoch 9 Batch 100 Loss [3.6310375 3.6310377 3.6310368 2.9049911 3.6310382 4.3570147 4.3570843\n",
            " 3.6310382 4.558597  2.9049907 3.6310382 4.3570166 2.9049919 2.904991\n",
            " 4.3570848 5.0831323 2.178987  4.3570843 4.357084  4.357084  2.904991\n",
            " 2.90492   4.357084  4.3570147 2.9049911 3.6310375 2.1789458 4.3570843\n",
            " 3.6310375 2.9050503 5.0831313 2.1789443 4.357084  2.9049902 4.3570857\n",
            " 3.6310382 3.6310382 2.178944  3.6310382 2.1789446 2.1789443 4.357085\n",
            " 4.3570833 3.6309657 4.3570156 3.6310368 3.6310387 2.1790566 4.3570185\n",
            " 4.357017  2.9049919 2.9050617 2.9051628 3.6309688 2.9049194 2.9049282\n",
            " 4.3570247 3.6310375 3.6308894 6.3366146 2.9049911 3.6313725 2.1789446\n",
            " 3.6309738]\n",
            "Epoch 9 Batch 200 Loss [2.232092  4.3570623 3.6310139 3.631013  3.630942  2.9049625 2.9051158\n",
            " 3.6310127 4.3570623 4.8827333 3.6311681 2.9049633 3.6310127 5.0831137\n",
            " 4.3570633 2.9049633 3.6310134 2.9049633 3.6310134 2.1789136 3.6310139\n",
            " 3.631013  2.9049633 4.3570633 3.631013  4.3570633 3.6310124 2.9049625\n",
            " 4.356992  2.9049633 3.6310127 4.3570623 3.6310127 2.904819  2.9048183\n",
            " 3.6310127 2.904962  4.357063  4.3570623 4.356992  3.6310134 4.3570633\n",
            " 3.631012  3.6312711 2.9049625 2.904962  5.083042  2.9049633 2.9050865\n",
            " 4.3570623 3.631013  2.904963  4.357063  4.881414  2.9049633 2.9048927\n",
            " 3.6310127 2.9049633 1.4530039 2.1789138 3.631013  3.6312022 4.3569183\n",
            " 5.0831127]\n",
            "Epoch 9 Batch 300 Loss [3.630999  3.6309986 3.6309986 3.6309981 4.357051  4.356978  4.3569775\n",
            " 4.3570523 3.630925  2.905087  4.3570514 3.7469764 5.08303   2.904947\n",
            " 2.904946  4.3569775 3.6309986 2.904946  3.6309247 2.9051414 3.6309981\n",
            " 5.0830297 2.1790254 4.357052  4.3569775 2.9049468 3.6309981 4.357052\n",
            " 4.3569775 3.6311176 4.357051  4.3569775 2.9049463 2.9049459 2.904946\n",
            " 2.178893  3.631     3.630999  2.904946  3.6309986 3.6309981 3.6308517\n",
            " 3.630925  4.357051  4.356977  3.6309977 2.9050522 3.630925  5.0831027\n",
            " 4.356977  4.3570514 2.9051266 4.356978  3.6309981 4.3570514 3.4731386\n",
            " 3.6309974 3.6309986 3.631     3.6309977 4.3569775 3.6309993 3.293363\n",
            " 4.3570533]\n",
            "Epoch 9 Batch 400 Loss [2.9049454 2.904946  3.630925  5.0831    3.6311646 3.6309974 5.0830994\n",
            " 5.0830994 2.9049463 3.630925  2.9048743 3.6309974 4.3569765 2.9049454\n",
            " 3.6484637 2.904946  3.6309981 4.357049  4.3570485 2.905048  4.357049\n",
            " 4.356977  3.6309967 2.9050746 3.6309981 2.9052176 3.6309974 2.904873\n",
            " 3.6309257 4.357049  4.3570485 2.904946  3.6309967 3.630925  3.6489472\n",
            " 2.9049468 2.9048088 4.3569775 2.9049454 2.9049454 2.1788948 3.6309974\n",
            " 2.1788945 1.4530305 2.9049473 3.6309967 3.6309257 2.905151  2.9051852\n",
            " 4.3570485 3.6309977 2.90507   3.6309252 2.9048076 4.35705   2.9049451\n",
            " 4.357049  2.1788945 2.9231987 2.9049454 3.6309974 4.35705   3.6309962\n",
            " 2.1788945]\n",
            "Total training loss is [3.562508  3.615648  3.4862785 3.5378284 3.5528815 3.5672903 3.516833\n",
            " 3.55864   3.5797942 3.5135422 3.518258  3.5332491 3.4792223 3.515724\n",
            " 3.6039195 3.5537055 3.5452983 3.544707  3.5930905 3.5436718 3.618589\n",
            " 3.5824568 3.4741113 3.5512104 3.5820591 3.601651  3.5901868 3.5915263\n",
            " 3.543668  3.5962334 3.5977497 3.490213  3.5414279 3.5776145 3.5318797\n",
            " 3.5300345 3.5969226 3.5122173 3.541075  3.5419092 3.614974  3.591125\n",
            " 3.5057633 3.5274508 3.5586302 3.5866988 3.597271  3.5642958 3.5424478\n",
            " 3.595886  3.4981697 3.5283012 3.5255835 3.4898157 3.6162128 3.5115268\n",
            " 3.5985029 3.5839424 3.5424075 3.5807078 3.6225119 3.5123465 3.543708\n",
            " 3.559348 ]\n",
            "Total validation loss is [3.564958  3.5520897 3.4509432 3.5926516 3.511884  3.5088072 3.5437603\n",
            " 3.7413611 3.436936  3.6559622 3.5106905 3.5296159 3.5593562 3.547748\n",
            " 3.6087124 3.490231  3.6183498 3.6168265 3.5409267 3.4966345 3.4637008\n",
            " 3.613643  3.6138477 3.5485525 3.5201337 3.7382226 3.6157563 3.5995355\n",
            " 3.5493095 3.534173  3.6349247 3.6078427 3.6828446 3.5815656 3.6362178\n",
            " 3.609669  3.4232676 3.630585  3.4077687 3.5726888 3.5298166 3.6954014\n",
            " 3.5887651 3.5508392 3.53657   3.6117806 3.5249658 3.5210938 3.5011616\n",
            " 3.5627367 3.6160693 3.5568318 3.5790238 3.6370242 3.5621274 3.5287402\n",
            " 3.6805859 3.443592  3.5845587 3.522695  3.5767436 3.3705692 3.5231924\n",
            " 3.5529203]\n",
            "Time taken for 1 epoch 43.19599509239197 sec\n",
            "\n",
            "Epoch 10 Batch 0 Loss [3.630993  3.642023  4.357047  4.357047  4.357047  4.3570476 2.9048612\n",
            " 3.630992  2.1789985 4.356968  2.9049377 4.356969  2.1788847 4.356968\n",
            " 2.1788845 4.356969  5.0831003 3.630843  3.6309946 3.6309934 2.9049392\n",
            " 3.630993  2.9051216 4.357047  3.6309946 2.9049392 3.6309924 3.6309927\n",
            " 3.630993  3.630993  2.178975  2.1788852 1.4530599 4.3569694 2.9049404\n",
            " 4.357047  3.630843  3.6309152 2.1788845 2.9049397 2.1790633 2.9049397\n",
            " 2.90512   4.356969  3.6309962 3.630993  2.9049387 2.9049404 2.9049382\n",
            " 4.3570476 4.3570457 1.4530977 3.6309938 3.6309147 4.357046  5.083021\n",
            " 3.6309934 3.6309948 4.3569674 4.357046  3.6309924 2.9049394 3.630993\n",
            " 2.905208 ]\n",
            "Epoch 10 Batch 100 Loss [2.9048526 3.631175  2.9049277 4.357034  4.3570356 5.0830874 3.6309803\n",
            " 4.35696   2.904928  2.9049277 4.3570356 3.6309803 3.6309795 5.083089\n",
            " 3.6309812 5.0830145 4.3569603 3.630907  3.6309803 3.6309822 2.904927\n",
            " 3.6309066 3.6309803 4.35696   3.6309814 4.357036  3.6309803 3.6309822\n",
            " 4.357034  2.904928  2.904926  2.9049277 4.3569613 1.4529514 3.6309803\n",
            " 2.9049263 5.0830894 4.357034  2.9049268 3.630981  2.9049277 3.6309822\n",
            " 2.9049268 3.6309803 3.6309795 2.9052691 3.642682  2.9048533 2.904927\n",
            " 5.083015  3.6309814 3.6309822 3.6309814 2.904927  5.0830135 2.905051\n",
            " 4.357034  1.4529895 1.4529333 2.904927  3.6315696 3.630907  2.9051228\n",
            " 4.3570337]\n",
            "Epoch 10 Batch 200 Loss [5.083076  4.3570223 2.9049144 3.6308994 2.1859632 3.6309688 3.6309698\n",
            " 3.63097   3.6309686 3.6312606 4.3569536 3.6311836 2.9205604 2.9051483\n",
            " 4.3570223 3.6309001 4.3570223 2.1790323 3.6309    3.6309686 2.905032\n",
            " 2.9222953 2.9048457 4.357023  4.3570213 3.630969  4.3570232 4.3570232\n",
            " 4.357149  2.9049144 2.9048457 3.6309848 2.9049149 2.904846  3.6309688\n",
            " 2.904846  2.9049153 2.9048462 3.6308994 3.6308994 4.3569527 3.630969\n",
            " 2.9049149 5.0830793 3.6309695 2.1789625 2.9049149 2.9049156 3.6309688\n",
            " 3.6308403 3.6309688 3.6309688 2.1790712 3.6308994 3.6308403 4.3569536\n",
            " 3.6309695 4.357023  4.3569527 2.9049149 3.6309686 3.63097   3.6308403\n",
            " 3.6309695]\n",
            "Epoch 10 Batch 300 Loss [3.6309898 3.630989  3.630989  3.630989  2.9049366 2.9056964 3.630991\n",
            " 5.0830145 3.63099   3.6308389 3.630989  2.904934  4.357044  5.083102\n",
            " 4.3570423 2.9049346 5.0830994 2.9049363 2.9049358 3.630993  2.9050949\n",
            " 3.6309915 2.9049354 5.0831003 2.179243  3.630989  3.6309917 3.630907\n",
            " 3.6309886 3.630991  4.357046  2.1788805 3.630988  2.9051156 3.63099\n",
            " 2.904934  3.4697976 2.9049354 2.9049346 4.3570433 4.3570414 1.4529321\n",
            " 3.6309066 4.3570423 2.1791523 4.3569613 2.9049358 2.9049366 4.357045\n",
            " 3.630989  2.9049346 2.9050498 2.1788797 3.6309905 4.3569603 5.083015\n",
            " 4.3570423 4.3570414 2.904934  3.6309898 3.6309059 3.630988  3.6309872\n",
            " 2.9049346]\n",
            "Epoch 10 Batch 400 Loss [3.630902  2.9048488 4.3569546 5.083093  3.630902  2.9049315 5.0830097\n",
            " 3.6309829 4.3570395 2.178875  3.6309834 4.35704   4.3570385 3.6309032\n",
            " 3.630984  3.6309838 3.6309848 3.6309013 3.630902  2.1790428 2.9051292\n",
            " 4.357038  2.904929  3.630984  3.630986  4.3570375 3.630985  4.3569555\n",
            " 2.9049296 4.3570366 5.083091  4.356891  3.630902  4.3570385 3.630902\n",
            " 3.6309829 3.630986  2.1789606 3.6309867 3.6309829 2.1788745 2.9049287\n",
            " 3.6309848 3.630988  2.9048479 4.3569565 4.357036  3.6309848 2.9049296\n",
            " 3.6309829 3.6309848 4.3570375 3.630984  4.3570366 3.630984  1.4529164\n",
            " 2.178993  3.6309834 4.35704   3.6309032 4.357038  2.1788754 3.630986\n",
            " 3.6309848]\n",
            "Total training loss is [3.5585425 3.5374033 3.498615  3.5660474 3.5443833 3.5364048 3.5694458\n",
            " 3.5518231 3.5854414 3.5584438 3.6006482 3.5508096 3.5626767 3.5268533\n",
            " 3.5835118 3.5808547 3.5914261 3.5807753 3.5606313 3.597608  3.5867817\n",
            " 3.5705602 3.553058  3.5886376 3.5936558 3.5970135 3.549576  3.5799487\n",
            " 3.6313312 3.5366101 3.5186377 3.533405  3.5993211 3.584269  3.5627346\n",
            " 3.5623987 3.5463738 3.5338402 3.5715897 3.561471  3.5791686 3.5382197\n",
            " 3.559387  3.6230557 3.5042741 3.5016203 3.5805743 3.4841645 3.56326\n",
            " 3.5690136 3.5441062 3.5251248 3.5498717 3.5779243 3.619587  3.5601852\n",
            " 3.6550655 3.6214046 3.5593038 3.5518632 3.5570052 3.541831  3.546975\n",
            " 3.5331016]\n",
            "Total validation loss is [3.576946  3.5699577 3.4584417 3.5950422 3.5129018 3.5112786 3.5516648\n",
            " 3.74621   3.4359784 3.6542237 3.5107703 3.5284483 3.5603285 3.5526216\n",
            " 3.611001  3.4976366 3.6128244 3.6251686 3.5435967 3.5033607 3.4681036\n",
            " 3.631378  3.6118615 3.5461154 3.522811  3.7431226 3.626301  3.6046634\n",
            " 3.5478423 3.527687  3.640245  3.6067758 3.6830287 3.5887575 3.6401677\n",
            " 3.6136744 3.41999   3.6344454 3.4071903 3.5733206 3.534435  3.6948242\n",
            " 3.592153  3.5477962 3.5331352 3.6080465 3.5224752 3.537704  3.515089\n",
            " 3.56098   3.6138802 3.5659246 3.5998695 3.6367602 3.5839546 3.5332224\n",
            " 3.6738703 3.466611  3.5977323 3.535014  3.573518  3.3889017 3.5288541\n",
            " 3.5556428]\n",
            "Time taken for 1 epoch 43.932738304138184 sec\n",
            "\n"
          ]
        }
      ]
    },
    {
      "cell_type": "markdown",
      "source": [
        "# **Prediction using Greedy Search**\n",
        "\n",
        "During inference i.e during testing, we change the prediction process slightly.\n",
        "The code evaluate(sentence) defines a function that takes a sentence as input and returns the translated result along with the original sentence and an attention plot. Here's how the code performs these steps:\n",
        "\n",
        "1. Initialize the attention plot with zeros, with shape (max_length_tgt, max_length_src).\n",
        "2. Preprocess the input sentence by splitting it into words and converting each word into its corresponding index in the source tokenizer vocabulary.\n",
        "3. Pad the input sequence with zeros to a fixed length max_length_src.\n",
        "4. Convert the input sequence into a tensor.\n",
        "5. Initialize the hidden state of the encoder with zeros.\n",
        "6. Pass the input sequence through the encoder and get the output and the final hidden state.\n",
        "7. Initialize the hidden state of the decoder with the final hidden state of the encoder.\n",
        "8. Initialize the decoder input with the index of the special symbol <sos>.\n",
        "9. For t in range(max_length_tgt):\n",
        ">* Pass the decoder input, hidden state and the encoder output through the decoder and get the predictions and attention weights.\n",
        ">* Add the attention weights to the attention plot.\n",
        ">* Get the index of the word with the highest predicted probability and add it to the result string.\n",
        ">* If the word is the special symbol <eos>, return the result, the original sentence, and the attention plot.\n",
        ">* Set the decoder input to be the index of the word with the highest predicted probability.\n",
        "10. Return the result, the original sentence, and the attention plot."
      ],
      "metadata": {
        "id": "ckOQkP8-PSDO"
      }
    },
    {
      "cell_type": "markdown",
      "source": [
        "##### Attention plot\n",
        "\n",
        "The function for plotting the attention weights that takes three arguments: **attention, sentence, and predicted_sentence.**\n",
        "* Create a figure and set its size to 10 x 10 using plt.figure(figsize=(10, 10)).\n",
        "* Add a subplot of 1 x 1 grid and select the first subplot using fig.add_subplot(1, 1, 1).\n",
        "* Display the attention weights with a heatmap using ax.matshow(attention, cmap='viridis').\n",
        "* Create a font dictionary to set the font size of the tick labels to 14.\n",
        "* Set the x-axis tick labels to sentence and the y-axis tick labels to predicted_sentence with a font size of 14.\n",
        "* Set the x-axis major locator to tick every 1 and the y-axis major locator to tick every 1 using ax.xaxis.set_major_locator(ticker.MultipleLocator(1)) and ax.yaxis.set_major_locator(ticker.MultipleLocator(1)).\n",
        "* Display the plot using plt.show()."
      ],
      "metadata": {
        "id": "XtHI6-c3Qtjj"
      }
    },
    {
      "cell_type": "code",
      "source": [
        "def plot_attention(attention, sentence, predicted_sentence):\n",
        "  # create a figure and set the figsize to 10 x 10\n",
        "  fig = plt.figure(figsize=(10, 10))\n",
        "\n",
        "  # add a subplot of 1x1 grid, and select the first subplot\n",
        "  ax = fig.add_subplot(1, 1, 1)\n",
        "\n",
        "  # display the attention weights with a heatmap using matshow\n",
        "  ax.matshow(attention, cmap='viridis')\n",
        "\n",
        "  # create a fontdict to set font size\n",
        "  fontdict = {'fontsize': 14}\n",
        "\n",
        "  # set the x axis tick labels to the sentence, with a font size of 14\n",
        "  ax.set_xticklabels([''] + sentence, fontdict=fontdict, rotation=90)\n",
        "\n",
        "  # set the y axis tick labels to the predicted sentence, with a font size of 14\n",
        "  ax.set_yticklabels([''] + predicted_sentence, fontdict=fontdict)\n",
        "\n",
        "  # set the x axis major locator to tick every 1\n",
        "  ax.xaxis.set_major_locator(ticker.MultipleLocator(1))\n",
        "\n",
        "  # set the y axis major locator to tick every 1\n",
        "  ax.yaxis.set_major_locator(ticker.MultipleLocator(1))\n",
        "\n",
        "  # display the plot\n",
        "  plt.show()\n"
      ],
      "metadata": {
        "id": "FSUOoyM0jcU8"
      },
      "execution_count": 45,
      "outputs": []
    },
    {
      "cell_type": "code",
      "source": [
        "# Define the evaluate function\n",
        "def evaluate(sentence):\n",
        "    #Initialize the attention plot with zeros\n",
        "    attention_plot = np.zeros((max_length_trg, max_length_src))\n",
        "    # Preprocess the input sentence\n",
        "    sentence = preprocess_sentence(sentence)\n",
        "    # Convert the sentence into a list of word indices\n",
        "    inputs = [src_lang_tokenizer.word_index[i] for i in sentence.split(' ')]\n",
        "    # Pad the list of word indices to make it equal to max_length_src\n",
        "    inputs = pad_sequences([inputs],\n",
        "                          maxlen=max_length_src,\n",
        "                          padding='post')\n",
        "    # Convert the inputs to a tensor\n",
        "    inputs = tf.convert_to_tensor(inputs)\n",
        "\n",
        "    result = ''\n",
        "    # Initialize the hidden state of the encoder\n",
        "    hidden = [tf.zeros((1, units))]\n",
        "    # Pass the inputs and hidden state through the encoder\n",
        "    enc_out, enc_hidden = encoder(inputs, hidden)\n",
        "    # Set the decoder's hidden state to the encoder's hidden state\n",
        "    dec_hidden = enc_hidden\n",
        "    # Initialize the input to the decoder as the start-of-sentence token\n",
        "    dec_input = tf.expand_dims([tgt_lang_tokenizer.word_index['<sos>']], 0)\n",
        "\n",
        "    # Loop for max_length_tgt steps\n",
        "    for t in range(max_length_trg):\n",
        "        # Pass the decoder input, hidden state, and encoder output through the decoder\n",
        "        predictions, dec_hidden, attention_weights = decoder(dec_input,\n",
        "                                                         dec_hidden,\n",
        "                                                         enc_out)\n",
        "        # Reshape the attention weights\n",
        "        attention_weights = tf.reshape(attention_weights, (-1, ))\n",
        "        # Store the attention weights for plotting\n",
        "        attention_plot[t] = attention_weights.numpy()\n",
        "        # Get the index of the predicted word\n",
        "        predicted_id = tf.argmax(predictions[0]).numpy()\n",
        "        # Concatenate the predicted word to the result string\n",
        "        result += max_length_trg.index_word[predicted_id] + ' '\n",
        "\n",
        "        # If the predicted word is the end-of-sentence token, return the result\n",
        "        if tgt_lang_tokenizer.index_word[predicted_id] == '<eos>':\n",
        "            return result, sentence, attention_plot\n",
        "        # Set the input to the decoder to be the predicted word\n",
        "        dec_input = tf.expand_dims([predicted_id], 0)\n",
        "\n",
        "    return result, sentence, attention_plot\n"
      ],
      "metadata": {
        "id": "oK7DGhMw-ils"
      },
      "execution_count": 54,
      "outputs": []
    },
    {
      "cell_type": "code",
      "source": [
        "sentence_sample_1 = \"estoy levantado .\"\n",
        "\n",
        "sentence_1 = preprocess_sentence(sentence_sample_1)\n"
      ],
      "metadata": {
        "id": "woUs3JSnbLKq"
      },
      "execution_count": 64,
      "outputs": []
    },
    {
      "cell_type": "code",
      "source": [
        "type(sentence_1)"
      ],
      "metadata": {
        "colab": {
          "base_uri": "https://localhost:8080/"
        },
        "id": "uhzMFhr8bcZJ",
        "outputId": "2c48f517-661e-4c19-defb-8cf9fdc1bea8"
      },
      "execution_count": 75,
      "outputs": [
        {
          "output_type": "execute_result",
          "data": {
            "text/plain": [
              "str"
            ]
          },
          "metadata": {},
          "execution_count": 75
        }
      ]
    },
    {
      "cell_type": "code",
      "source": [
        "sentence_sample = src_sentences[50].numpy().decode('utf8')"
      ],
      "metadata": {
        "id": "kj-l1xNHXwFd"
      },
      "execution_count": 77,
      "outputs": []
    },
    {
      "cell_type": "code",
      "source": [
        "type(sentence_sample)"
      ],
      "metadata": {
        "colab": {
          "base_uri": "https://localhost:8080/"
        },
        "id": "zx4IuDcUZQyg",
        "outputId": "27208269-b634-4ce9-d05f-16ed3eb1299d"
      },
      "execution_count": 78,
      "outputs": [
        {
          "output_type": "execute_result",
          "data": {
            "text/plain": [
              "str"
            ]
          },
          "metadata": {},
          "execution_count": 78
        }
      ]
    },
    {
      "cell_type": "code",
      "source": [
        "inputs = [src_lang_tokenizer.word_index[i] for i in sentence_sample.split(' ')]"
      ],
      "metadata": {
        "id": "W1JfrqWKYyI0"
      },
      "execution_count": 79,
      "outputs": []
    },
    {
      "cell_type": "code",
      "source": [
        "print(inputs)"
      ],
      "metadata": {
        "colab": {
          "base_uri": "https://localhost:8080/"
        },
        "id": "jh7nKyf9WjUh",
        "outputId": "6977fb11-29cd-4bd5-9d11-117854e9b0d0"
      },
      "execution_count": 80,
      "outputs": [
        {
          "output_type": "stream",
          "name": "stdout",
          "text": [
            "[1, 27, 1736, 3, 2]\n"
          ]
        }
      ]
    },
    {
      "cell_type": "code",
      "source": [
        "evaluate('sentence_sample')"
      ],
      "metadata": {
        "colab": {
          "base_uri": "https://localhost:8080/",
          "height": 311
        },
        "id": "OumsxeJPZPr4",
        "outputId": "6cea9a25-d6e3-485a-d36e-28dced63c67b"
      },
      "execution_count": 81,
      "outputs": [
        {
          "output_type": "error",
          "ename": "KeyError",
          "evalue": "ignored",
          "traceback": [
            "\u001b[0;31m---------------------------------------------------------------------------\u001b[0m",
            "\u001b[0;31mKeyError\u001b[0m                                  Traceback (most recent call last)",
            "\u001b[0;32m<ipython-input-81-23885f322c32>\u001b[0m in \u001b[0;36m<module>\u001b[0;34m\u001b[0m\n\u001b[0;32m----> 1\u001b[0;31m \u001b[0mevaluate\u001b[0m\u001b[0;34m(\u001b[0m\u001b[0;34m'sentence_sample'\u001b[0m\u001b[0;34m)\u001b[0m\u001b[0;34m\u001b[0m\u001b[0;34m\u001b[0m\u001b[0m\n\u001b[0m",
            "\u001b[0;32m<ipython-input-54-ec4c5137cf9d>\u001b[0m in \u001b[0;36mevaluate\u001b[0;34m(sentence)\u001b[0m\n\u001b[1;32m      6\u001b[0m     \u001b[0msentence\u001b[0m \u001b[0;34m=\u001b[0m \u001b[0mpreprocess_sentence\u001b[0m\u001b[0;34m(\u001b[0m\u001b[0msentence\u001b[0m\u001b[0;34m)\u001b[0m\u001b[0;34m\u001b[0m\u001b[0;34m\u001b[0m\u001b[0m\n\u001b[1;32m      7\u001b[0m     \u001b[0;31m# Convert the sentence into a list of word indices\u001b[0m\u001b[0;34m\u001b[0m\u001b[0;34m\u001b[0m\u001b[0m\n\u001b[0;32m----> 8\u001b[0;31m     \u001b[0minputs\u001b[0m \u001b[0;34m=\u001b[0m \u001b[0;34m[\u001b[0m\u001b[0msrc_lang_tokenizer\u001b[0m\u001b[0;34m.\u001b[0m\u001b[0mword_index\u001b[0m\u001b[0;34m[\u001b[0m\u001b[0mi\u001b[0m\u001b[0;34m]\u001b[0m \u001b[0;32mfor\u001b[0m \u001b[0mi\u001b[0m \u001b[0;32min\u001b[0m \u001b[0msentence\u001b[0m\u001b[0;34m.\u001b[0m\u001b[0msplit\u001b[0m\u001b[0;34m(\u001b[0m\u001b[0;34m' '\u001b[0m\u001b[0;34m)\u001b[0m\u001b[0;34m]\u001b[0m\u001b[0;34m\u001b[0m\u001b[0;34m\u001b[0m\u001b[0m\n\u001b[0m\u001b[1;32m      9\u001b[0m     \u001b[0;31m# Pad the list of word indices to make it equal to max_length_src\u001b[0m\u001b[0;34m\u001b[0m\u001b[0;34m\u001b[0m\u001b[0m\n\u001b[1;32m     10\u001b[0m     inputs = pad_sequences([inputs],\n",
            "\u001b[0;32m<ipython-input-54-ec4c5137cf9d>\u001b[0m in \u001b[0;36m<listcomp>\u001b[0;34m(.0)\u001b[0m\n\u001b[1;32m      6\u001b[0m     \u001b[0msentence\u001b[0m \u001b[0;34m=\u001b[0m \u001b[0mpreprocess_sentence\u001b[0m\u001b[0;34m(\u001b[0m\u001b[0msentence\u001b[0m\u001b[0;34m)\u001b[0m\u001b[0;34m\u001b[0m\u001b[0;34m\u001b[0m\u001b[0m\n\u001b[1;32m      7\u001b[0m     \u001b[0;31m# Convert the sentence into a list of word indices\u001b[0m\u001b[0;34m\u001b[0m\u001b[0;34m\u001b[0m\u001b[0m\n\u001b[0;32m----> 8\u001b[0;31m     \u001b[0minputs\u001b[0m \u001b[0;34m=\u001b[0m \u001b[0;34m[\u001b[0m\u001b[0msrc_lang_tokenizer\u001b[0m\u001b[0;34m.\u001b[0m\u001b[0mword_index\u001b[0m\u001b[0;34m[\u001b[0m\u001b[0mi\u001b[0m\u001b[0;34m]\u001b[0m \u001b[0;32mfor\u001b[0m \u001b[0mi\u001b[0m \u001b[0;32min\u001b[0m \u001b[0msentence\u001b[0m\u001b[0;34m.\u001b[0m\u001b[0msplit\u001b[0m\u001b[0;34m(\u001b[0m\u001b[0;34m' '\u001b[0m\u001b[0;34m)\u001b[0m\u001b[0;34m]\u001b[0m\u001b[0;34m\u001b[0m\u001b[0;34m\u001b[0m\u001b[0m\n\u001b[0m\u001b[1;32m      9\u001b[0m     \u001b[0;31m# Pad the list of word indices to make it equal to max_length_src\u001b[0m\u001b[0;34m\u001b[0m\u001b[0;34m\u001b[0m\u001b[0m\n\u001b[1;32m     10\u001b[0m     inputs = pad_sequences([inputs],\n",
            "\u001b[0;31mKeyError\u001b[0m: 'sentence_sample'"
          ]
        }
      ]
    },
    {
      "cell_type": "code",
      "source": [
        "def translate(sentence):\n",
        "  result, sentence, attention_plot = evaluate(sentence)\n",
        "\n",
        "  print('Input:', sentence)\n",
        "  print('Predicted Translation:', result)\n",
        "\n",
        "  attention_plot = attention_plot[:len(result.split(' ')),\n",
        "                                  :len(sentence.split(' '))]\n",
        "  plot_attention(attention_plot, sentence.split(' '), result.split(' '))"
      ],
      "metadata": {
        "id": "OEhNSRtDjeYd"
      },
      "execution_count": null,
      "outputs": []
    },
    {
      "cell_type": "code",
      "source": [
        "checkpoint.restore(tf.train.latest_checkpoint(checkpoint_dir))"
      ],
      "metadata": {
        "id": "q3yIIN-Qjhoh"
      },
      "execution_count": null,
      "outputs": []
    },
    {
      "cell_type": "code",
      "source": [
        "translate(u'hace mucho frío aquí.')"
      ],
      "metadata": {
        "id": "4EFg5iVOjjZy"
      },
      "execution_count": null,
      "outputs": []
    },
    {
      "cell_type": "code",
      "source": [
        "translate(u'trata de averiguarlo.')"
      ],
      "metadata": {
        "id": "ypJCFWmFPevu"
      },
      "execution_count": null,
      "outputs": []
    },
    {
      "cell_type": "code",
      "source": [
        "translate(u'¿todavía están en casa?')"
      ],
      "metadata": {
        "id": "b7NQO77Tm0B6"
      },
      "execution_count": null,
      "outputs": []
    }
  ],
  "metadata": {
    "accelerator": "GPU",
    "colab": {
      "provenance": [],
      "toc_visible": true,
      "include_colab_link": true
    },
    "gpuClass": "standard",
    "kernelspec": {
      "display_name": "Python 3",
      "name": "python3"
    },
    "language_info": {
      "name": "python"
    }
  },
  "nbformat": 4,
  "nbformat_minor": 0
}