{
  "nbformat": 4,
  "nbformat_minor": 0,
  "metadata": {
    "colab": {
      "name": "PoS-Sample.ipynb",
      "provenance": [],
      "authorship_tag": "ABX9TyNmwCvP4T6nuGt8JsmgQvZX",
      "include_colab_link": true
    },
    "kernelspec": {
      "name": "python3",
      "display_name": "Python 3"
    },
    "language_info": {
      "name": "python"
    }
  },
  "cells": [
    {
      "cell_type": "markdown",
      "metadata": {
        "id": "view-in-github",
        "colab_type": "text"
      },
      "source": [
        "<a href=\"https://colab.research.google.com/github/JamshedAhsan/Course/blob/master/PoS_Sample.ipynb\" target=\"_parent\"><img src=\"https://colab.research.google.com/assets/colab-badge.svg\" alt=\"Open In Colab\"/></a>"
      ]
    },
    {
      "cell_type": "code",
      "execution_count": 1,
      "metadata": {
        "colab": {
          "base_uri": "https://localhost:8080/"
        },
        "id": "Tl-zFPnvNS11",
        "outputId": "ad866f98-90b9-412a-9bb5-eaa402867a82"
      },
      "outputs": [
        {
          "output_type": "stream",
          "name": "stdout",
          "text": [
            "upGrad PROPN NNP\n",
            "is AUX VBZ\n",
            "teaching VERB VBG\n",
            "Data PROPN NNP\n",
            "Science PROPN NNP\n",
            "courses NOUN NNS\n",
            "to ADP IN\n",
            "the DET DT\n",
            "working VERB VBG\n",
            "professionals NOUN NNS\n",
            ". PUNCT .\n"
          ]
        }
      ],
      "source": [
        "import spacy\n",
        "nlp = spacy.load(\"en_core_web_sm\")\n",
        "doc = nlp(\"upGrad is teaching Data Science courses to the working professionals.\")\n",
        "for token in doc:\n",
        "    print(token.text, token.pos_, token.tag_)"
      ]
    },
    {
      "cell_type": "code",
      "source": [
        ""
      ],
      "metadata": {
        "id": "Ad64P6ZnNXb1"
      },
      "execution_count": null,
      "outputs": []
    }
  ]
}